{
  "cells": [
    {
      "cell_type": "markdown",
      "id": "7d666a34",
      "metadata": {
        "id": "7d666a34"
      },
      "source": [
        "# 8.그래프"
      ]
    },
    {
      "cell_type": "markdown",
      "source": [
        "- (코랩) 그래프에서 한글 폰트 사용 (실행 후-> 런타임 ->세션 다시 시작)"
      ],
      "metadata": {
        "id": "2aLEFcaiK44F"
      },
      "id": "2aLEFcaiK44F"
    },
    {
      "cell_type": "code",
      "source": [
        "!sudo apt-get install -y fonts-nanum\n",
        "!sudo fc-cache -fv\n",
        "!rm ~/.cache/matplotlib -rf"
      ],
      "metadata": {
        "collapsed": true,
        "id": "nqxZjo2nLB5P"
      },
      "id": "nqxZjo2nLB5P",
      "execution_count": null,
      "outputs": []
    },
    {
      "cell_type": "markdown",
      "source": [
        "- 공통 라이브러리"
      ],
      "metadata": {
        "id": "HpL3YSM7iIG-"
      },
      "id": "HpL3YSM7iIG-"
    },
    {
      "cell_type": "code",
      "source": [
        "import networkx as nx\n",
        "import matplotlib.pyplot as plt\n",
        "plt.rcParams['figure.figsize'] = (5,3)\n",
        "plt.rc('font', family='NanumGothic')       # (코랩)한글 폰트\n"
      ],
      "metadata": {
        "id": "uCBcneBIh_OX"
      },
      "id": "uCBcneBIh_OX",
      "execution_count": null,
      "outputs": []
    },
    {
      "cell_type": "markdown",
      "id": "70ea4f43",
      "metadata": {
        "id": "70ea4f43"
      },
      "source": [
        "## 다양한 그래프 표현\n",
        "- @pydot 그래프"
      ]
    },
    {
      "cell_type": "code",
      "execution_count": null,
      "id": "99380751",
      "metadata": {
        "id": "99380751"
      },
      "outputs": [],
      "source": [
        "# pydot 그래프 모듈설치\n",
        "!pip install pydot"
      ]
    },
    {
      "cell_type": "code",
      "execution_count": null,
      "id": "b0697203",
      "metadata": {
        "jupyter": {
          "outputs_hidden": true
        },
        "id": "b0697203"
      },
      "outputs": [],
      "source": [
        "# graphviz 그래프 모듈설치\n",
        "!pip install graphviz"
      ]
    },
    {
      "cell_type": "markdown",
      "id": "f6af8427",
      "metadata": {
        "id": "f6af8427"
      },
      "source": [
        "- pydot그래프: 가로 방향 유향 그래프"
      ]
    },
    {
      "cell_type": "code",
      "execution_count": null,
      "id": "cb3c35df",
      "metadata": {
        "id": "cb3c35df"
      },
      "outputs": [],
      "source": [
        "from IPython.core.display import Image\n",
        "\n",
        "V = {1,2,3,4}\n",
        "E = {(1,2),(1,3),(1,4),(2,3),(2,4),(3,4)}\n",
        "\n",
        "# G = nx.Graph() # Graph(무향 그래프)\n",
        "G = nx.DiGraph() # DirectedGraph(유향 그래프)\n",
        "\n",
        "G.add_nodes_from(V) # 점 추가\n",
        "G.add_edges_from(E) # 간선 추가\n",
        "\n",
        "d1 = nx.drawing.nx_pydot.to_pydot(G)  #  pydot graph\n",
        "d1.set_dpi(300)        # 도화지의 크기, 1인치에 넣을 dots의 개수\n",
        "d1.set_rankdir(\"LR\")   # 수평방향 --> 이 코드 없으면 수직방향\n",
        "d1.set_margin(1)\n",
        "Image(d1.create_png(), width=500)"
      ]
    },
    {
      "cell_type": "markdown",
      "id": "9691972a",
      "metadata": {
        "id": "9691972a"
      },
      "source": [
        "- pydot그래프: 세로 방향 무향 그래프"
      ]
    },
    {
      "cell_type": "code",
      "execution_count": null,
      "id": "9b7e4aba",
      "metadata": {
        "scrolled": true,
        "id": "9b7e4aba"
      },
      "outputs": [],
      "source": [
        "V = {1,2,3,4}\n",
        "E = {(1,2),(1,3),(1,4),(2,3),(2,4),(3,4)}\n",
        "\n",
        "G = nx.Graph() # Graph(무향 그래프)\n",
        "\n",
        "G.add_nodes_from(V) # 점 추가\n",
        "G.add_edges_from(E) # 간선 추가\n",
        "\n",
        "d1 = nx.drawing.nx_pydot.to_pydot(G)  #  pydot graph\n",
        "d1.set_dpi(300)        # 도화지의 크기, 1인치에 넣을 dots의 개수\n",
        "d1.set_margin(1)\n",
        "Image(d1.create_png(), width=300)"
      ]
    },
    {
      "cell_type": "markdown",
      "source": [
        "- 곡선 표현: 위치(pos) 자동지정"
      ],
      "metadata": {
        "id": "TOmrqYYnufSu"
      },
      "id": "TOmrqYYnufSu"
    },
    {
      "cell_type": "code",
      "source": [
        "# 그래프 생성\n",
        "G = nx.DiGraph()\n",
        "G.add_edges_from([(1, 2), (1, 3), (2, 3), (3, 1)])\n",
        "\n",
        "# 위치 설정\n",
        "pos = nx.circular_layout(G)  # 원형 레이아웃\n",
        "\n",
        "# 간선을 곡선으로 표시\n",
        "nx.draw(G, pos, with_labels=True, connectionstyle=\"arc3,rad=0.2\")\n",
        "plt.show()\n"
      ],
      "metadata": {
        "id": "wzmYgTDhtF12"
      },
      "id": "wzmYgTDhtF12",
      "execution_count": null,
      "outputs": []
    },
    {
      "cell_type": "markdown",
      "source": [
        "- 곡선 표현: 위(pos) 좌표 지정"
      ],
      "metadata": {
        "id": "aktLw3xYu54i"
      },
      "id": "aktLw3xYu54i"
    },
    {
      "cell_type": "code",
      "source": [
        "# 그래프 생성\n",
        "G = nx.DiGraph()\n",
        "G.add_edges_from([(1, 2), (1, 3), (2, 3), (3, 1)])\n",
        "\n",
        "# 위치 설정\n",
        "pos = {1:(-1,0), 2:(1,0), 3:(0,1)}\n",
        "\n",
        "# 간선을 곡선으로 표시\n",
        "nx.draw(G, pos, with_labels=True, connectionstyle=\"arc3,rad=0.2\")\n",
        "plt.show()"
      ],
      "metadata": {
        "id": "LR9KHXbnvArx"
      },
      "id": "LR9KHXbnvArx",
      "execution_count": null,
      "outputs": []
    },
    {
      "cell_type": "markdown",
      "source": [
        "\n",
        "\n",
        "---\n",
        "\n"
      ],
      "metadata": {
        "id": "iN-uYNS1lRzP"
      },
      "id": "iN-uYNS1lRzP"
    },
    {
      "cell_type": "markdown",
      "id": "ea773fd5",
      "metadata": {
        "id": "ea773fd5"
      },
      "source": [
        "## 8-1. 그래프의 기본 개념"
      ]
    },
    {
      "cell_type": "markdown",
      "id": "035610b3",
      "metadata": {
        "id": "035610b3"
      },
      "source": [
        "### [예제 8-1] 무향 그래프와 유향 그래프 그리기\n",
        "- networkx 기본 그래프 사용"
      ]
    },
    {
      "cell_type": "code",
      "execution_count": null,
      "id": "6d7aee31",
      "metadata": {
        "id": "6d7aee31"
      },
      "outputs": [],
      "source": [
        "# 유향 그래프 그리기\n",
        "def draw_digraph(V, E, pos=False):\n",
        "    G = nx.DiGraph()    # DirectedGraph(유향 그래프)\n",
        "    G.add_nodes_from(V) # 노드 추가\n",
        "    G.add_edges_from(E) # 간선 추가\n",
        "\n",
        "    if not pos : pos = nx.spring_layout(G)\n",
        "    nx.draw(G, pos, with_labels=True, node_size=300, node_color='black',\n",
        "            font_size=7, font_weight='bold', font_color='white', alpha=0.7)\n",
        "    plt.title(\"Directed Graph\")\n",
        "    plt.show()\n",
        "\n",
        "# 무향 그래프 그리기\n",
        "def draw_graph(V, E, pos=False):\n",
        "    G = nx.Graph()      # UndirectedGraph(무향 그래프)\n",
        "    G.add_nodes_from(V) # 노드 추가\n",
        "    G.add_edges_from(E) # 간선 추가\n",
        "\n",
        "    if not pos : pos = nx.spring_layout(G)\n",
        "    nx.draw(G, pos, with_labels=True, node_size=300, node_color='black',\n",
        "            font_size=7, font_weight='bold', font_color='white', alpha=0.7)\n",
        "    plt.title(\"Undirected Graph\")\n",
        "    plt.show()\n",
        "\n",
        "V = {1,2,3,4}\n",
        "E = {(1,2),(1,3),(1,4),(2,3),(2,4),(3,4)}\n",
        "pos = { 1: (0,1), 2: (-1,0), 3: (1,0), 4: (0,-1)}\n",
        "draw_digraph(V, E, pos)  # 무향 그래프 만들기\n",
        "draw_graph(V, E, pos)  # 유향 그래프 만들기\n"
      ]
    },
    {
      "cell_type": "markdown",
      "source": [
        "- pydot 그래프 사용"
      ],
      "metadata": {
        "id": "a-WCQ-Hzia60"
      },
      "id": "a-WCQ-Hzia60"
    },
    {
      "cell_type": "code",
      "execution_count": null,
      "id": "c88dd06f",
      "metadata": {
        "scrolled": true,
        "id": "c88dd06f"
      },
      "outputs": [],
      "source": [
        "V = {1,2,3,4}\n",
        "E = {(1,2),(1,3),(1,4),(2,3),(2,4),(3,4)}\n",
        "\n",
        "G = nx.DiGraph()\n",
        "G.add_nodes_from(V)\n",
        "G.add_edges_from(E)\n",
        "\n",
        "d1 = nx.drawing.nx_pydot.to_pydot(G)  #  pydot graph\n",
        "d1.set_dpi(300)        # 도화지의 크기, 1인치에 넣을 dots의 개수\n",
        "# d1.set_rankdir(\"LR\") # 수평방향\n",
        "d1.set_margin(1)\n",
        "Image(d1.create_png(), width=300)\n"
      ]
    },
    {
      "cell_type": "markdown",
      "source": [
        "### [예제 8-2] 유향 그래프 정점의 차수\n",
        "- 내차수:in-degree & 외차수:out-degree\n"
      ],
      "metadata": {
        "id": "ff-xKyWqoMBA"
      },
      "id": "ff-xKyWqoMBA"
    },
    {
      "cell_type": "code",
      "source": [
        "def degree_digraph(V, E):\n",
        "    G = nx.DiGraph()  # 유향그래프\n",
        "    G.add_nodes_from(V)   # 노드 추가\n",
        "    G.add_edges_from(E)   # 간선 추가\n",
        "\n",
        "    in_degree = { node : G.in_degree(node) for node in G.nodes }   # 내차수\n",
        "    out_degree = { node : G.out_degree(node) for node in G.nodes } # 외차수\n",
        "\n",
        "    return in_degree, out_degree\n",
        "\n",
        "def draw_digraph_curve(V, E, pos=False):\n",
        "    G = nx.DiGraph()    # DirectedGraph(유향 그래프)\n",
        "    G.add_nodes_from(V) # 노드 추가\n",
        "    G.add_edges_from(E) # 간선 추가\n",
        "\n",
        "    if not pos : pos = nx.spring_layout(G)\n",
        "\n",
        "    # 특정 곡선으로 표시할 간선 정의\n",
        "    curved_edge = ('c', 'e')\n",
        "    straight_edges = [edge for edge in E if edge != curved_edge]\n",
        "\n",
        "    # 직선 간선 그리기\n",
        "    nx.draw_networkx_edges(G, pos, edgelist=straight_edges)\n",
        "\n",
        "    # 곡선 간선 그리기(rad값: 양수(위로 볼록), 음수(아래로 볼록))\n",
        "    nx.draw(G, pos, with_labels=True, node_size=300, node_color='black',\n",
        "            font_size=7, font_weight='bold', font_color='white', alpha=0.7,\n",
        "            edgelist=[curved_edge], connectionstyle=\"arc3,rad=-0.3\")\n",
        "\n",
        "    # 그래프 제목 및 시각화\n",
        "    plt.title(\"Directed Graph with Curved Edge ('c', 'e')\")\n",
        "    plt.axis('off')\n",
        "    plt.show()\n",
        "\n",
        "V = {'a','b','c','d','e'}\n",
        "E = {('a','b'),('a','d'),('b','c'),('b','d'),('b','e'),\n",
        "     ('c','a'),('c','e'),('d','c') }\n",
        "\n",
        "pos = {'a':(0,1), 'b':(-1,0), 'c':(1,0), 'd':(0,-1), 'e':(-1,-2)}\n",
        "\n",
        "# 그래프 그리기\n",
        "draw_digraph_curve(V, E, pos)\n",
        "\n",
        "# 차수 구하기\n",
        "in_degree, out_degree = degree_digraph(V, E)\n",
        "for node in V:\n",
        "    print(f'정점 {node}의 내차수: {in_degree[node]}, 외차수: {out_degree[node]}')\n"
      ],
      "metadata": {
        "id": "SVlCJ_J5oMRh"
      },
      "id": "SVlCJ_J5oMRh",
      "execution_count": null,
      "outputs": []
    },
    {
      "cell_type": "markdown",
      "source": [
        "### [예제 8-3] 무향 그래프 정점의 차수\n",
        "- 연결된 간선의 수\n",
        "- 순환을 가지는 경우 그 정점의 차수는 2"
      ],
      "metadata": {
        "id": "QIOw9D8rr8UU"
      },
      "id": "QIOw9D8rr8UU"
    },
    {
      "cell_type": "code",
      "source": [
        "def degree_graph(V, E):\n",
        "    G = nx.Graph()  # 유향그래프\n",
        "    G.add_nodes_from(V)   # 노드 추가\n",
        "    G.add_edges_from(E)   # 간선 추가\n",
        "\n",
        "    degrees = G.degree()  # 모든 정점의 차수를 반환\n",
        "\n",
        "    return degrees\n",
        "\n",
        "V = {'A','B','C','D','E'}\n",
        "E = {('A','B'),('A','C'),('A','D'),('A','E'),\n",
        "     ('B','C'),('B','D'),('C','C'),('D','E') }\n",
        "\n",
        "# 그래프 그리기\n",
        "pos = {'A':(-1, 1), 'B':(2,1), 'C':(2,0), 'D':(0,-1), 'E':(-2,0)}\n",
        "draw_graph(V, E, pos)\n",
        "\n",
        "# 차수 구하기\n",
        "degrees = degree_graph(V, E)\n",
        "for node, degree in degrees:\n",
        "    print(f\"정점 {node}: 차수 {degree}\")"
      ],
      "metadata": {
        "id": "aI2id5mtr8fz"
      },
      "id": "aI2id5mtr8fz",
      "execution_count": null,
      "outputs": []
    },
    {
      "cell_type": "markdown",
      "source": [
        "### @그래프의 표현 방법"
      ],
      "metadata": {
        "id": "xNRCs-GTu46v"
      },
      "id": "xNRCs-GTu46v"
    },
    {
      "cell_type": "markdown",
      "id": "7e0732a8",
      "metadata": {
        "id": "7e0732a8"
      },
      "source": [
        "### [예제 8-4] 인접 행렬(adjacency matrix)로 나타내기\n",
        "- $ V = {1, 2, 3, 4} $\n",
        "- $ E = \\{(1, 2), (1, 3), (1, 4), (2, 3), (2, 4), (3, 4)\\} $"
      ]
    },
    {
      "cell_type": "code",
      "source": [
        "import numpy as np\n",
        "\n",
        "# 유향 그래프의 인접행렬 생성\n",
        "def create_directed_adjacency_matrix(V, E):\n",
        "    n = len(V)  # 정점의 개수\n",
        "    adjacency_matrix = np.zeros((n, n), dtype=int)  # n x n 행렬 초기화\n",
        "\n",
        "    for u, v in E:\n",
        "        adjacency_matrix[u - 1][v - 1] = 1  # 유향 그래프는 한 방향만 기록\n",
        "\n",
        "    return adjacency_matrix\n",
        "\n",
        "\n",
        "# 무향 그래프의 인접행렬 생성\n",
        "def create_undirected_adjacency_matrix(V, E):\n",
        "    n = len(V)  # 정점의 개수\n",
        "    adjacency_matrix = np.zeros((n, n), dtype=int)  # n x n 행렬 초기화\n",
        "\n",
        "    for u, v in E:\n",
        "        adjacency_matrix[u - 1][v - 1] = 1\n",
        "        adjacency_matrix[v - 1][u - 1] = 1  # 무향 그래프는 대칭\n",
        "\n",
        "    return adjacency_matrix\n",
        "\n",
        "\n",
        "# 정점과 간선 정의\n",
        "V = {1, 2, 3, 4}\n",
        "E = {(1, 2), (1, 3), (1, 4), (2, 3), (2, 4), (3, 4)}\n",
        "\n",
        "pos = { 1: (0,1), 2: (-1,0), 3: (1,0), 4: (0,-1)}\n",
        "\n",
        "draw_graph(V, E, pos)  # 유향 그래프 만들기\n",
        "# 무향 그래프 인접행렬\n",
        "undirected_adj_matrix = create_undirected_adjacency_matrix(V, E)\n",
        "print(\"무향 그래프의 인접행렬:\")\n",
        "print(undirected_adj_matrix)\n",
        "\n",
        "draw_digraph(V, E, pos)  # 무향 그래프 만들기\n",
        "# 유향 그래프 인접행렬\n",
        "directed_adj_matrix = create_directed_adjacency_matrix(V, E)\n",
        "print(\"\\n유향 그래프의 인접행렬:\")\n",
        "print(directed_adj_matrix)\n"
      ],
      "metadata": {
        "id": "ePKl0mVBxZVg"
      },
      "id": "ePKl0mVBxZVg",
      "execution_count": null,
      "outputs": []
    },
    {
      "cell_type": "markdown",
      "source": [
        "### [예제 8-5] 인접 리스트(adjacency list)로 나타내기"
      ],
      "metadata": {
        "id": "1_XpP2HFy8Gv"
      },
      "id": "1_XpP2HFy8Gv"
    },
    {
      "cell_type": "code",
      "source": [
        "# 유향 그래프의 인접 리스트 생성\n",
        "def create_directed_adjacency_list(V, E):\n",
        "    adjacency_list = {v: [] for v in V}  # 정점별 빈 리스트 초기화\n",
        "    for u, v in E:\n",
        "        adjacency_list[u].append(v)  # 유향 그래프는 한 방향만 추가\n",
        "    return adjacency_list\n",
        "\n",
        "\n",
        "# 무향 그래프의 인접 리스트 생성\n",
        "def create_undirected_adjacency_list(V, E):\n",
        "    adjacency_list = {v: [] for v in V}  # 정점별 빈 리스트 초기화\n",
        "    for u, v in E:\n",
        "        adjacency_list[u].append(v)\n",
        "        adjacency_list[v].append(u)  # 무향 그래프는 양방향 추가\n",
        "    return adjacency_list\n",
        "\n",
        "\n",
        "# 정점과 간선 정의\n",
        "V = {1, 2, 3, 4}\n",
        "E = {(1, 2), (1, 3), (1, 4), (2, 3), (2, 4), (3, 4)}\n",
        "\n",
        "# 무향 그래프 인접 리스트\n",
        "undirected_adj_list = create_undirected_adjacency_list(V, E)\n",
        "print(\"무향 그래프의 인접 리스트:\")\n",
        "print(undirected_adj_list)\n",
        "\n",
        "# 유향 그래프 인접 리스트\n",
        "directed_adj_list = create_directed_adjacency_list(V, E)\n",
        "print(\"\\n유향 그래프의 인접 리스트:\")\n",
        "print(directed_adj_list)\n"
      ],
      "metadata": {
        "id": "Jg5J0WgZy8R9"
      },
      "id": "Jg5J0WgZy8R9",
      "execution_count": null,
      "outputs": []
    },
    {
      "cell_type": "markdown",
      "source": [
        "### @여러 가지 경로\n",
        "- **개경로(open path)**: 출발점과 도착점이 다른 경로.\n",
        "- **루프(loop) or 회로(circuit)**: 시작점과 끝점이 동일한 경로.\n",
        "- **고유 경로(proper path)**: 그래프 내에서 중복 없이 한 번씩 방문하는 경로.\n",
        "- **순환(cycle**): 닫힌 루프 형태를 이루며, 특정 정점을 재방문하는 경로"
      ],
      "metadata": {
        "id": "loXIRDLzWynZ"
      },
      "id": "loXIRDLzWynZ"
    },
    {
      "cell_type": "markdown",
      "source": [
        "### [예제 8-6] 여러 가지 경로\n",
        "- 값이 여러 개 일 수 있다."
      ],
      "metadata": {
        "id": "XvTXTfuAWrqd"
      },
      "id": "XvTXTfuAWrqd"
    },
    {
      "cell_type": "code",
      "source": [
        "import networkx as nx\n",
        "import matplotlib.pyplot as plt\n",
        "\n",
        "# 노드와 간선 정의\n",
        "nodes = [\"v1\", \"v2\", \"v3\", \"v4\", \"v5\", \"v6\", \"v7\", \"v8\", \"v9\"]\n",
        "edges = [\n",
        "    (\"v1\", \"v2\"), (\"v2\", \"v3\"), (\"v3\", \"v4\"), (\"v4\", \"v5\"),\n",
        "    (\"v5\", \"v6\"), (\"v6\", \"v7\"), (\"v7\", \"v8\"), (\"v8\", \"v9\"),\n",
        "    (\"v2\", \"v7\"), (\"v3\", \"v7\"), (\"v3\", \"v6\"), (\"v3\", \"v5\"),\n",
        "    (\"v9\", \"v6\"), (\"v1\", \"v8\")\n",
        "]\n",
        "\n",
        "# 그래프 생성\n",
        "G = nx.Graph()\n",
        "G.add_nodes_from(nodes)\n",
        "G.add_edges_from(edges)\n",
        "\n",
        "pos = nx.spring_layout(G)\n",
        "pos = {\"v1\":(-3,2), \"v2\":(-1,2), \"v3\":(1,2), \"v4\":(3,2),\n",
        "       \"v5\":(3,0), \"v6\":(1,0), \"v7\":(-1,0), \"v8\":(-3,0), \"v9\":(0,-2) }\n",
        "nx.draw(G, pos, with_labels=True, node_color=\"lightblue\", node_size=500, font_size=10)\n",
        "plt.show()"
      ],
      "metadata": {
        "id": "0379e40rwr8E"
      },
      "id": "0379e40rwr8E",
      "execution_count": null,
      "outputs": []
    },
    {
      "cell_type": "markdown",
      "source": [
        "- **개경로(Open Path)**: 시작점과 끝점이 다른 경로"
      ],
      "metadata": {
        "id": "CAd-RQu77dlc"
      },
      "id": "CAd-RQu77dlc"
    },
    {
      "cell_type": "code",
      "source": [
        "# 모든 경로 탐색 함수\n",
        "def find_all_paths(graph, start, end, path=[]):\n",
        "    path = path + [start]\n",
        "    if start == end:\n",
        "        return [path]\n",
        "    paths = []\n",
        "    for node in graph.neighbors(start):\n",
        "        if node not in path or node == end:\n",
        "            new_paths = find_all_paths(graph, node, end, path)\n",
        "            for p in new_paths:\n",
        "                paths.append(p)\n",
        "    return paths\n",
        "\n",
        "# 개경로(Open Path): 시작점과 끝점이 다른 경로\n",
        "open_paths = []\n",
        "for start in G.nodes:\n",
        "    for end in G.nodes:\n",
        "        if start != end:\n",
        "            paths = find_all_paths(G, start, end)\n",
        "            for path in paths:\n",
        "                if path not in open_paths:\n",
        "                    open_paths.append(path)\n",
        "# 결과 출력\n",
        "print(\"개경로 (Open Paths):\")\n",
        "for path in open_paths:\n",
        "    print(\" → \".join(path))"
      ],
      "metadata": {
        "id": "aOYskgivw2cr",
        "collapsed": true
      },
      "id": "aOYskgivw2cr",
      "execution_count": null,
      "outputs": []
    },
    {
      "cell_type": "markdown",
      "source": [
        "- **루프(Loop)**: 시작점과 끝점이 같은 경로\n",
        "- 경로 길이가 n인 루프(사이클)를 찾으려면, NetworkX의 simple_cycles 또는 깊이 우선 탐색(DFS)을 활용"
      ],
      "metadata": {
        "id": "FLaKI0oE7SGe"
      },
      "id": "FLaKI0oE7SGe"
    },
    {
      "cell_type": "code",
      "source": [
        "# 루프(Loop): 시작점과 끝점이 같은 경로\n",
        "from itertools import permutations\n",
        "\n",
        "# 경로 길이가 n인 루프(사이클) 찾기 함수\n",
        "def find_loops_of_length_n(G, n):\n",
        "    cycles = []\n",
        "\n",
        "    # 모든 노드에서 시작\n",
        "    for start_node in G.nodes:\n",
        "        # DFS로 모든 경로 탐색\n",
        "        stack = [(start_node, [start_node])]  # (현재 노드, 경로)\n",
        "        while stack:\n",
        "            current, path = stack.pop()\n",
        "            if len(path) > n:  # 경로가 길이를 초과하면 중단\n",
        "                continue\n",
        "            for neighbor in G.neighbors(current):\n",
        "                if neighbor == start_node and len(path) == n:  # 루프 확인\n",
        "                    cycles.append(path + [start_node])\n",
        "                elif neighbor not in path:  # 경로에 없는 노드만 탐색\n",
        "                    stack.append((neighbor, path + [neighbor]))\n",
        "\n",
        "    return cycles\n",
        "\n",
        "# 루프 길이 설정\n",
        "n = 7  # 원하는 경로 길이\n",
        "\n",
        "# 경로 길이가 n인 루프 찾기\n",
        "loops = find_loops_of_length_n(G, n)\n",
        "\n",
        "# 결과 출력\n",
        "print(f\"경로 길이가 {n}인 루프:\")\n",
        "for loop in loops:\n",
        "    print(\" -> \".join(loop))\n"
      ],
      "metadata": {
        "collapsed": true,
        "id": "4QeNgzdS50mN"
      },
      "id": "4QeNgzdS50mN",
      "execution_count": null,
      "outputs": []
    },
    {
      "cell_type": "markdown",
      "source": [
        "- **고유 경로(proper path)**: 그래프 내에서 중복 없이 한 번씩 방문하는 경로"
      ],
      "metadata": {
        "id": "XjW3KnUV7k98"
      },
      "id": "XjW3KnUV7k98"
    },
    {
      "cell_type": "code",
      "source": [
        "# 고유 경로(Unique Path): 중복 없이 방문하는 경로\n",
        "unique_paths = [path for path in open_paths if len(path) == len(set(path))]\n",
        "\n",
        "print(\"\\n고유 경로 (Unique Paths):\")\n",
        "for path in unique_paths:\n",
        "    print(\" → \".join(path))"
      ],
      "metadata": {
        "id": "xoqaf2KPw2jc",
        "collapsed": true
      },
      "id": "xoqaf2KPw2jc",
      "execution_count": null,
      "outputs": []
    },
    {
      "cell_type": "markdown",
      "source": [
        "- **순환(cycle)**: 닫힌 루프 형태를 이루며, 특정 정점을 재방문하는 경로"
      ],
      "metadata": {
        "id": "fA95OYpG7qC0"
      },
      "id": "fA95OYpG7qC0"
    },
    {
      "cell_type": "code",
      "source": [
        "# 순환(Cycle): 닫힌 루프 형태의 경로\n",
        "cycles = []\n",
        "for cycle in nx.cycle_basis(G):\n",
        "    cycles.append(cycle + [cycle[0]])  # 순환 경로 닫기\n",
        "\n",
        "print(\"\\n순환 (Cycles):\")\n",
        "for cycle in cycles:\n",
        "    print(\" → \".join(cycle))"
      ],
      "metadata": {
        "id": "mi6Hme28w2nM",
        "collapsed": true
      },
      "id": "mi6Hme28w2nM",
      "execution_count": null,
      "outputs": []
    },
    {
      "cell_type": "markdown",
      "source": [
        "### [예제 8-8] 강하게 연결(strongly connected) 여부\n",
        "- nx.is_strongly_connected(G)\n",
        "- $E$ =  a->b, b->c, c->a"
      ],
      "metadata": {
        "id": "LVSWp2OG73VO"
      },
      "id": "LVSWp2OG73VO"
    },
    {
      "cell_type": "code",
      "source": [
        "# 강하게 연결되었는지 확인\n",
        "def is_strongly_connected(V, E):\n",
        "    G = nx.DiGraph()\n",
        "    G.add_nodes_from(V)\n",
        "    G.add_edges_from(E)\n",
        "\n",
        "    return nx.is_strongly_connected(G)\n",
        "\n",
        "\n",
        "V = {'a','b','c'}\n",
        "E = {('a','b'),('b','c'),('c','a')}\n",
        "\n",
        "draw_digraph(V, E)\n",
        "\n",
        "if is_strongly_connected(V, E):\n",
        "    print('그래프는 강하게 연결되어 있습니다.')\n",
        "else:\n",
        "    print('그래프는 강하게 연결되어 있지 않습니다.')\n"
      ],
      "metadata": {
        "id": "YeKzklXj8Gqs"
      },
      "id": "YeKzklXj8Gqs",
      "execution_count": null,
      "outputs": []
    },
    {
      "cell_type": "markdown",
      "id": "355beca4",
      "metadata": {
        "id": "355beca4"
      },
      "source": [
        "---------------------"
      ]
    },
    {
      "cell_type": "markdown",
      "id": "37d56b3a",
      "metadata": {
        "id": "37d56b3a"
      },
      "source": [
        "## 8-2. 여러 가지 그래프\n",
        "- 완전 그래프(complete graph)\n",
        "- 정규 그래프(regular graph)\n",
        "- 동형 그래프, 준동형 그래프(isomorphic graph, homomorphism graph)\n",
        "- 부분 그래프, 스패닝 그래프 (subgraph, spanning graph)\n",
        "- 이분 그래프, 완전 이분 그래프(bipartite graph, complete bipartite graph)\n",
        "- 희소 그래프, 밀집 그래프(sparse graph, dense graph)\n",
        "- 가중치 그래프(weighted graph)\n",
        "- 오일러 루프, 오일러 그래프(Euler loop, Euler graph)\n",
        "- 해밀턴 순환, 해밀턴 그래프(Hamilton cycle, Hamilton Graph)\n"
      ]
    },
    {
      "cell_type": "markdown",
      "source": [
        "### @정규 그래프(regular graph)\n",
        "- 모든 정점의 차수가 같은 그래프: n차 정규 그래프\n",
        "- nx.random_regular_graph(차수, 노드수)"
      ],
      "metadata": {
        "id": "O89U0TN6MFYr"
      },
      "id": "O89U0TN6MFYr"
    },
    {
      "cell_type": "code",
      "source": [
        "# k-정규 그래프 생성 함수\n",
        "def create_k_regular_graph(num_nodes, degree):\n",
        "    # num_nodes: 노드 개수\n",
        "    # degree: 각 노드의 차수 (k)\n",
        "    if num_nodes * degree % 2 != 0:\n",
        "        raise ValueError(\"k차-정규 그래프를 생성하려면 노드 수 * 차수가 짝수여야 합니다.\")\n",
        "\n",
        "    # k-정규 그래프 생성\n",
        "    G = nx.random_regular_graph(d=degree, n=num_nodes)\n",
        "    return G\n",
        "\n",
        "\n",
        "# 실생활 예시: 데이터 센터 네트워크 모델링\n",
        "num_nodes = 10  # 서버(노드)의 개수\n",
        "degree = 3      # 각 서버가 연결할 다른 서버의 개수\n",
        "\n",
        "# k-정규 그래프 생성\n",
        "G = create_k_regular_graph(num_nodes, degree)\n",
        "\n",
        "# 그래프 시각화\n",
        "pos = nx.spring_layout(G)  # 위치 설정 (Spring Layout)\n",
        "nx.draw(\n",
        "    G, pos, with_labels=True, node_color=\"lightblue\", node_size=700,\n",
        "    edge_color=\"gray\", font_size=10, font_weight=\"bold\"\n",
        ")\n",
        "plt.title(f\"{degree}차-정규 그래프 (서버 네트워크)\")\n",
        "plt.show()\n",
        "\n",
        "# 네트워크 정보 출력\n",
        "print(f\"노드 수: {len(G.nodes)}\")\n",
        "print(f\"간선 수: {len(G.edges)}\")\n",
        "print(\"노드별 연결:\")\n",
        "for node in G.nodes:\n",
        "    print(f\"노드 {node}: 연결된 노드 -> {list(G.neighbors(node))}\")\n"
      ],
      "metadata": {
        "id": "TXpqewa8KwBm"
      },
      "id": "TXpqewa8KwBm",
      "execution_count": null,
      "outputs": []
    },
    {
      "cell_type": "markdown",
      "source": [
        "### @이분 그래프, 완전 이분 그래프\n",
        "- nx.is_bipartite(G) : 이분 그래프 여부\n",
        "- nx.bipartite_layout() : 이분 그래프 형태로 위치 설정\n",
        "- 이분 그래프"
      ],
      "metadata": {
        "id": "cG0QoxHTXIj_"
      },
      "id": "cG0QoxHTXIj_"
    },
    {
      "cell_type": "code",
      "source": [
        "import networkx as nx\n",
        "import matplotlib.pyplot as plt\n",
        "\n",
        "# 이분 그래프 데이터 정의\n",
        "students = [\"Alice\", \"Bob\", \"Charlie\", \"Diana\"]\n",
        "courses = [\"Math\", \"Physics\", \"History\", \"Art\"]\n",
        "\n",
        "# 학생과 교과목 간의 관계 (간선)\n",
        "edges = [\n",
        "    (\"Alice\", \"Math\"),\n",
        "    (\"Alice\", \"Physics\"),\n",
        "    (\"Bob\", \"History\"),\n",
        "    (\"Charlie\", \"Math\"),\n",
        "    (\"Charlie\", \"Art\"),\n",
        "    (\"Diana\", \"Art\"),\n",
        "    (\"Diana\", \"History\")\n",
        "]\n",
        "\n",
        "# 이분 그래프 생성\n",
        "B = nx.Graph()\n",
        "B.add_nodes_from(students, bipartite=0)  # 학생 노드\n",
        "B.add_nodes_from(courses, bipartite=1)  # 교과목 노드\n",
        "B.add_edges_from(edges)  # 간선 추가\n",
        "\n",
        "# 노드 위치 설정 (이분 레이아웃)\n",
        "pos = nx.bipartite_layout(B, students)\n",
        "\n",
        "# 그래프 그리기\n",
        "plt.figure(figsize=(3, 3))\n",
        "nx.draw(\n",
        "    B, pos, with_labels=True, node_color=[\"lightblue\" if node in students else \"lightgreen\" for node in B.nodes],\n",
        "    node_size=800, font_size=10, font_weight=\"bold\", edge_color=\"gray\"\n",
        ")\n",
        "plt.title(\"Bipartite Graph of Students and Courses\")\n",
        "plt.show()\n"
      ],
      "metadata": {
        "id": "jxh1Nk7LXIsa"
      },
      "id": "jxh1Nk7LXIsa",
      "execution_count": null,
      "outputs": []
    },
    {
      "cell_type": "markdown",
      "source": [
        "- 완전 이분 그래프"
      ],
      "metadata": {
        "id": "SFRaxs5XXkgJ"
      },
      "id": "SFRaxs5XXkgJ"
    },
    {
      "cell_type": "code",
      "source": [
        "import networkx as nx\n",
        "import matplotlib.pyplot as plt\n",
        "\n",
        "# 완전 이분 그래프 정의\n",
        "students = [\"Alice\", \"Bob\", \"Charlie\"]\n",
        "courses = [\"Math\", \"Physics\"]\n",
        "\n",
        "# 완전 이분 그래프의 간선 생성\n",
        "edges = [(student, course) for student in students for course in courses]\n",
        "\n",
        "# 그래프 생성\n",
        "B = nx.Graph()\n",
        "B.add_nodes_from(students, bipartite=0)  # 학생 노드\n",
        "B.add_nodes_from(courses, bipartite=1)  # 교과목 노드\n",
        "B.add_edges_from(edges)  # 완전 이분 간선 추가\n",
        "\n",
        "# 노드 위치 설정 (이분 레이아웃)\n",
        "pos = nx.bipartite_layout(B, students)\n",
        "\n",
        "# 그래프 그리기\n",
        "plt.figure(figsize=(5, 3))\n",
        "nx.draw(\n",
        "    B, pos, with_labels=True, node_color=[\"lightblue\" if node in students else \"lightgreen\" for node in B.nodes],\n",
        "    node_size=800, font_size=10, font_weight=\"bold\", edge_color=\"gray\"\n",
        ")\n",
        "plt.title(\"Complete Bipartite Graph K(3,2)\")\n",
        "plt.show()\n",
        "\n"
      ],
      "metadata": {
        "id": "98JcrzhEXl43"
      },
      "id": "98JcrzhEXl43",
      "execution_count": null,
      "outputs": []
    },
    {
      "cell_type": "markdown",
      "source": [
        "### [예제 8-14] 완전 이분 그래프 판별"
      ],
      "metadata": {
        "id": "ygIepmRVcaId"
      },
      "id": "ygIepmRVcaId"
    },
    {
      "cell_type": "code",
      "source": [
        "# 완전 이분 그래프 판단 함수\n",
        "def is_complete_bipartite_graph(G):\n",
        "    # 이분 그래프인지 확인\n",
        "    if not nx.is_bipartite(G):\n",
        "        return False\n",
        "\n",
        "    # 이분 그래프의 두 집합 추출\n",
        "    sets = nx.bipartite.sets(G)\n",
        "    U, V = sets\n",
        "\n",
        "    # 두 집합의 모든 정점 간 연결 확인\n",
        "    for u in U:\n",
        "        for v in V:\n",
        "            if not G.has_edge(u, v):\n",
        "                return False\n",
        "    return True\n",
        "\n",
        "def bipartite_graph(name, U, V, E):\n",
        "    G = nx.Graph()\n",
        "    G.add_nodes_from(U, bipartite=0)\n",
        "    G.add_nodes_from(V, bipartite=1)\n",
        "    G.add_edges_from(E)\n",
        "\n",
        "    if is_complete_bipartite_graph(G):\n",
        "        print(f\"그래프 {name}는 완전 이분 그래프입니다.\")\n",
        "    else:\n",
        "        print(f\"그래프 {name}는 완전 이분 그래프가 아닙니다.\")\n",
        "\n",
        "    return G\n",
        "\n",
        "# 그래프 (a) 정의\n",
        "U = {\"a\", \"b\", \"c\"}\n",
        "V = {\"d\", \"e\", \"f\"}\n",
        "E = [(\"a\", \"d\"), (\"a\", \"e\"), (\"b\", \"e\"), (\"b\", \"f\"), (\"c\", \"f\")]\n",
        "G = bipartite_graph('a', U, V, E)\n",
        "\n",
        "# 그래프 (b) 정의\n",
        "U = {\"a\", \"b\", \"c\"}\n",
        "V = {\"d\", \"e\", \"f\"}\n",
        "E = [\n",
        "    (\"a\", \"d\"), (\"a\", \"e\"), (\"a\", \"f\"),\n",
        "    (\"b\", \"d\"), (\"b\", \"e\"), (\"b\", \"f\"),\n",
        "    (\"c\", \"d\"), (\"c\", \"e\"), (\"c\", \"f\")\n",
        "]\n",
        "G = bipartite_graph('b', U, V, E)\n",
        "\n",
        "# 그래프 (c) 정의\n",
        "U = {\"a\", \"b\", \"c\"}\n",
        "V = {\"d\", \"e\", \"f\"}\n",
        "E = [\n",
        "    (\"a\", \"d\"), (\"a\", \"e\"), (\"b\", \"d\"), (\"b\", \"f\"),\n",
        "    (\"c\", \"e\"), (\"c\", \"f\")\n",
        "]\n",
        "G = bipartite_graph('c', U, V, E)\n"
      ],
      "metadata": {
        "id": "yu64e9q7caTO"
      },
      "id": "yu64e9q7caTO",
      "execution_count": null,
      "outputs": []
    },
    {
      "cell_type": "markdown",
      "id": "f8b52dbc",
      "metadata": {
        "id": "f8b52dbc"
      },
      "source": [
        "### @가중치 그래프\n",
        "- 간선에 음수가 아닌 가중치 할당한 그래프\n",
        "- 방법\n",
        "    - G.add_weighted_edges_from([('B','C',13),('C','F',21),('C','E',25)])\n",
        "    - G.add_edges_from([('B','C',{'weight':13}),('C','F',{'weight':21}),('C','E',{'weight':25})]"
      ]
    },
    {
      "cell_type": "markdown",
      "source": [
        "### [예제 8-15] 가중치 합이 가장 작은 경로 찾기"
      ],
      "metadata": {
        "id": "GMV62VAfiscp"
      },
      "id": "GMV62VAfiscp"
    },
    {
      "cell_type": "code",
      "source": [
        "# 가중치를 이용하여 최단 경로와 거리 계산(다익스트라 알고리즘 사용)\n",
        "def find_shortest_path(edges, start, end):\n",
        "    # 그래프 생성\n",
        "    G = nx.Graph()\n",
        "    G.add_weighted_edges_from(edges)\n",
        "\n",
        "    # 다익스트라 알고리즘 실행\n",
        "    shortest_path = nx.dijkstra_path(G, source=start, target=end, weight='weight')\n",
        "    shortest_distance = nx.dijkstra_path_length(G, source=start, target=end, weight='weight')\n",
        "\n",
        "    return G, shortest_path, shortest_distance\n",
        "\n",
        "\n",
        "# 가중치 그래프를 시각화하며\n",
        "def draw_weighted_graph(G, pos=False):\n",
        "    if not pos:\n",
        "        pos = nx.spring_layout(G)  # 노드 위치 설정 (Spring Layout)\n",
        "\n",
        "    # 그래프 그리기\n",
        "    nx.draw(G, pos, with_labels=True, node_color=\"lightblue\", node_size=800, font_size=10)\n",
        "    edge_labels = nx.get_edge_attributes(G, 'weight')  # 간선의 가중치 가져오기\n",
        "\n",
        "    # 간선 가중치 파란색으로 표시\n",
        "    nx.draw_networkx_edge_labels(G, pos, edge_labels=edge_labels, font_color='blue', font_size=9)\n",
        "\n",
        "    return G\n",
        "\n",
        "\n",
        "# 가중치 그래프에 최단 경로 다른 색상으로 지정\n",
        "def draw_weighted_graph_shortest_path(G, pos=False, shortest_path=None):\n",
        "    if not pos:\n",
        "        pos = nx.spring_layout(G)  # 노드 위치 설정 (Spring Layout)\n",
        "\n",
        "    # 최단 경로 강조\n",
        "    if shortest_path:\n",
        "        path_edges = list(zip(shortest_path, shortest_path[1:]))  # 최단 경로의 간선 생성\n",
        "        nx.draw_networkx_edges(G, pos, edgelist=path_edges, edge_color=\"red\", width=2.5)\n",
        "\n",
        "    plt.title(\"Weighted Graph & Short path\")\n",
        "    plt.show()\n",
        "\n",
        "\n",
        "\n",
        "# 간선 정의 (노드1, 노드2, 가중치)\n",
        "edges = [\n",
        "    (1, 2, 2),\n",
        "    (1, 3, 14),\n",
        "    (1, 4, 5),\n",
        "    (2, 3, 34),\n",
        "    (2, 4, 5),\n",
        "    (2, 5, 4),\n",
        "    (3, 5, 34),\n",
        "    (4, 5, 58)\n",
        "]\n",
        "\n",
        "# 시작점과 끝점 정의\n",
        "start, end = 1, 5\n",
        "\n",
        "# 가장 짧은 경로(가중치 합이 최소) 함수 호출\n",
        "G, shortest_path, shortest_distance = find_shortest_path(edges, start, end)\n",
        "print(f\"정점 {start}에서 정점 {end}로 가는 최단 경로: {shortest_path}\")\n",
        "print(f\"가중치의 합 (최단 거리): {shortest_distance}\")\n",
        "\n",
        "\n",
        "# 그래프 시각화\n",
        "pos = {1:(-1,1), 2:(0,0), 3:(-1, -1), 4:(1,1), 5:(1,-1)}\n",
        "draw_weighted_graph(G, pos)  # 가중치 그래프\n",
        "draw_weighted_graph_shortest_path(G, pos, shortest_path)  # 최단 경로 색칠하기\n"
      ],
      "metadata": {
        "id": "gl0FYbqgigwq"
      },
      "id": "gl0FYbqgigwq",
      "execution_count": null,
      "outputs": []
    },
    {
      "cell_type": "markdown",
      "source": [
        "- [방법1] 가중치 그래프 인접행렬로 표현"
      ],
      "metadata": {
        "id": "gM2ctNGgqr2_"
      },
      "id": "gM2ctNGgqr2_"
    },
    {
      "cell_type": "code",
      "source": [
        "def create_weighted_adjacency_matrix(edges):\n",
        "    # 노드 추출 및 정렬\n",
        "    nodes = set()\n",
        "    for edge in edges:\n",
        "        nodes.update(edge[:2])\n",
        "    nodes = sorted(nodes)  # 노드를 정렬\n",
        "    node_to_index = {node: i for i, node in enumerate(nodes)}  # 노드 번호를 인덱스로 매핑\n",
        "\n",
        "    # 노드 수에 따라 인접 행렬 초기화\n",
        "    n = len(nodes)\n",
        "    adjacency_matrix = [[0] * n for _ in range(n)]  # n x n 크기의 2D 리스트 초기화\n",
        "\n",
        "    # 간선 데이터를 통해 인접 행렬 채우기\n",
        "    for u, v, weight in edges:\n",
        "        i, j = node_to_index[u], node_to_index[v]\n",
        "        adjacency_matrix[i][j] = weight\n",
        "        adjacency_matrix[j][i] = weight  # 무방향 그래프이므로 대칭\n",
        "\n",
        "    # 행렬 출력\n",
        "    print(\"가중치 그래프의 인접 행렬:\")\n",
        "    print(\"   \", \"  \".join(map(str, nodes)))  # 컬럼 헤더 출력\n",
        "    for i, row in enumerate(adjacency_matrix):\n",
        "        print(f\"{nodes[i]}  {'  '.join(map(str, row))}\")  # 행 번호와 행 데이터 출력\n",
        "\n",
        "    return adjacency_matrix\n",
        "\n",
        "\n",
        "# 가중치 그래프 인접행렬 생성 함수 호출\n",
        "adjacency_matrix = create_weighted_adjacency_matrix(edges)"
      ],
      "metadata": {
        "id": "Hohjp7OYqsA0"
      },
      "id": "Hohjp7OYqsA0",
      "execution_count": null,
      "outputs": []
    },
    {
      "cell_type": "markdown",
      "source": [
        "- [방법2] 가중치 그래프 인접행렬로 표현 : nx.Graph() 이용"
      ],
      "metadata": {
        "id": "QHBwCrq6rkBR"
      },
      "id": "QHBwCrq6rkBR"
    },
    {
      "cell_type": "code",
      "source": [
        "import numpy as np\n",
        "\n",
        "def create_weighted_adjacency_matrix2(edges):\n",
        "    # 그래프 생성\n",
        "    G = nx.Graph()\n",
        "    G.add_weighted_edges_from(edges)  # 간선 추가 (가중치 포함)\n",
        "\n",
        "    # 인접 행렬 생성 (NumPy Matrix)\n",
        "    adjacency_matrix = nx.to_numpy_array(G, weight='weight', dtype=int)\n",
        "    nodes = list(G.nodes)\n",
        "\n",
        "    # 행렬 출력\n",
        "    print(\"가중치 그래프의 인접 행렬:\")\n",
        "    print(\"   \", \"  \".join(map(str, nodes)))  # 컬럼 헤더 출력\n",
        "    for i, row in enumerate(adjacency_matrix):\n",
        "        print(f\"{nodes[i]}  {'  '.join(map(str, row))}\")  # 행 번호와 행 데이터 출력\n",
        "\n",
        "    return adjacency_matrix\n",
        "\n",
        "\n",
        "\n",
        "# 가중치 그래프 인접행렬 생성 함수 호출\n",
        "adjacency_matrix = create_weighted_adjacency_matrix2(edges)"
      ],
      "metadata": {
        "id": "GKTnLZ1PrlBg"
      },
      "id": "GKTnLZ1PrlBg",
      "execution_count": null,
      "outputs": []
    },
    {
      "cell_type": "markdown",
      "source": [
        "### @영향력 그래프"
      ],
      "metadata": {
        "id": "4pvve-6HrpHB"
      },
      "id": "4pvve-6HrpHB"
    },
    {
      "cell_type": "code",
      "source": [
        "# (SNS 데이터)영향력 그래프 생성\n",
        "def create_influence_graph(data):\n",
        "    # 그래프 생성\n",
        "    G = nx.DiGraph()  # 방향 그래프\n",
        "    G.add_weighted_edges_from(data)  # 데이터로부터 간선 추가\n",
        "\n",
        "    return G\n",
        "\n",
        "\n",
        "# 영향력 그래프 시각화\n",
        "def draw_influence_graph(G):\n",
        "    pos = nx.spring_layout(G)  # 그래프 레이아웃 설정\n",
        "\n",
        "    # 노드와 간선 그리기\n",
        "    nx.draw(\n",
        "        G, pos, with_labels=True, node_color=\"lightblue\", node_size=800,\n",
        "        font_size=10, edge_color=\"gray\", arrowsize=20\n",
        "    )\n",
        "\n",
        "    # 간선 가중치 라벨 추가\n",
        "    edge_labels = nx.get_edge_attributes(G, \"weight\")\n",
        "    nx.draw_networkx_edge_labels(G, pos, edge_labels=edge_labels, font_color=\"red\")\n",
        "\n",
        "    plt.title(\"Influence Graph (SNS)\")\n",
        "    plt.show()\n",
        "\n",
        "\n",
        "# SNS 데이터 예시 (user1, user2, interaction_weight)\n",
        "sns_data = [\n",
        "    (\"Alice\", \"Bob\", 5),    # Alice가 Bob에게 5번 상호작용\n",
        "    (\"Bob\", \"Charlie\", 3),  # Bob이 Charlie에게 3번 상호작용\n",
        "    (\"Charlie\", \"Alice\", 2),# Charlie가 Alice에게 2번 상호작용\n",
        "    (\"Alice\", \"Diana\", 4),  # Alice가 Diana에게 4번 상호작용\n",
        "    (\"Diana\", \"Bob\", 1),    # Diana가 Bob에게 1번 상호작용\n",
        "    (\"Charlie\", \"Diana\", 6) # Charlie가 Diana에게 6번 상호작용\n",
        "]\n",
        "\n",
        "# 영향력 그래프 생성\n",
        "G = create_influence_graph(sns_data)\n",
        "\n",
        "# 영향력 그래프 시각화\n",
        "draw_influence_graph(G)\n"
      ],
      "metadata": {
        "id": "xIAgFIyBtuVy"
      },
      "id": "xIAgFIyBtuVy",
      "execution_count": null,
      "outputs": []
    },
    {
      "cell_type": "markdown",
      "source": [
        "### @오일러 루프, 오일러 그래프\n",
        "- 한 정점에서 시작하여 붓을 떼지 않고 모든 간선을 딱 한 번씩만 지나서 다시 자기 자신으로 돌아오는 그래프\n",
        "- 오일러 루프 조건 (탐색을 이용해야한다.)\n",
        "    - 간선을 한번만 지난다\n",
        "    - 시작점과 종점이 같은 루프    \n",
        "- 오일러 그래프 조건\n",
        "    - 정점의 차수가 모두 짝수여야한다"
      ],
      "metadata": {
        "id": "KLLNzxdrro3Z"
      },
      "id": "KLLNzxdrro3Z"
    },
    {
      "cell_type": "markdown",
      "source": [
        "### [예제 8-16] 오일러 루프인지 판단"
      ],
      "metadata": {
        "id": "p8MGdyBQyrfX"
      },
      "id": "p8MGdyBQyrfX"
    },
    {
      "cell_type": "code",
      "source": [
        "# 오일로 루프인지 판단\n",
        "def is_eulerian_loop(G, path):\n",
        "    # 그래프의 모든 간선을 세트로 저장\n",
        "    all_edges = set(G.edges())\n",
        "    visited_edges = set()\n",
        "\n",
        "    # 경로의 간선 추출 및 방문 체크\n",
        "    for i in range(len(path) - 1):\n",
        "        edge = (path[i], path[i + 1])\n",
        "        reverse_edge = (path[i + 1], path[i])  # 무방향 그래프이므로 대칭 확인\n",
        "        if edge in all_edges:\n",
        "            visited_edges.add(edge)\n",
        "        elif reverse_edge in all_edges:\n",
        "            visited_edges.add(reverse_edge)\n",
        "        else:\n",
        "            return False  # 경로에 없는 간선 포함 시 False 반환\n",
        "\n",
        "    # 오일러 루프 조건: 모든 간선이 정확히 한 번씩 방문되어야 함 & 시작점과 종점이 같다.(순환)\n",
        "    return visited_edges == all_edges and path[0] == path[-1]\n",
        "\n",
        "\n",
        "# 그래프 생성\n",
        "G = nx.Graph()\n",
        "\n",
        "# 정점 및 간선 추가\n",
        "nodes = [\"v1\", \"v2\", \"v3\", \"v4\", \"v5\"]\n",
        "edges = [\n",
        "    (\"v1\", \"v2\"), (\"v1\", \"v3\"), (\"v1\", \"v4\"), (\"v1\", \"v5\"),\n",
        "    (\"v2\", \"v3\"), (\"v2\", \"v4\"), (\"v2\", \"v5\"),\n",
        "    (\"v3\", \"v4\"), (\"v3\", \"v5\"),\n",
        "    (\"v4\", \"v5\")\n",
        "]\n",
        "G.add_nodes_from(nodes)\n",
        "G.add_edges_from(edges)\n",
        "\n",
        "# 주어진 경로\n",
        "path = [\"v1\", \"v2\", \"v4\", \"v5\", \"v3\", \"v2\", \"v5\", \"v1\", \"v4\", \"v3\", \"v1\"]\n",
        "\n",
        "# 오일러 루프 판단\n",
        "if is_eulerian_loop(G, path):\n",
        "    print(\"주어진 경로는 오일러 루프입니다.\")\n",
        "else:\n",
        "    print(\"주어진 경로는 오일러 루프가 아닙니다.\")\n"
      ],
      "metadata": {
        "id": "ou7ZsNk-yq3V"
      },
      "id": "ou7ZsNk-yq3V",
      "execution_count": null,
      "outputs": []
    },
    {
      "cell_type": "markdown",
      "source": [
        "### @해밀턴 순환(Hamilton cycle), 해밀턴 그래프(Hamiltopn graph)\n",
        "- 해밀턴 순환: 어떤 정점에서 시작하여 모든 정점을 딱 한번만 지나서 다시 시작 정점까지 돌아오는 순환\n",
        "    - 완전 그래프: 서로 다른 임의의 두 정점 사이에 간선이 존재하는 무향 그래프\n",
        "- 해밀턴 그래프: 해밀턴 순환을 갖는 그래프\n",
        "- 판매원 탐방 문제:TSP(Traveling Salesman Problem)\n",
        "- 출처: https://networkx.org/documentation/stable/auto_examples/drawing/plot_tsp.html#sphx-glr-auto-examples-drawing-plot-tsp-py"
      ],
      "metadata": {
        "id": "3-Jof7KA05to"
      },
      "id": "3-Jof7KA05to"
    },
    {
      "cell_type": "markdown",
      "source": [
        "### [예제 8-17] 해밀턴 그래프인지 판단"
      ],
      "metadata": {
        "id": "BgkzBCJK1ZaH"
      },
      "id": "BgkzBCJK1ZaH"
    },
    {
      "cell_type": "code",
      "source": [
        "import itertools\n",
        "\n",
        "# 해밀턴 순환을 갖는지 판단\n",
        "def is_hamiltonian_graph(graph):\n",
        "    nodes = list(graph.nodes)\n",
        "    n = len(nodes)\n",
        "\n",
        "    # 모든 순열을 생성하여 해밀턴 경로가 존재하는지 확인\n",
        "    for perm in itertools.permutations(nodes):\n",
        "        is_hamiltonian = True\n",
        "        for i in range(n - 1):\n",
        "            # 순열에 포함된 두 정점 간 간선이 존재해야 함\n",
        "            # - 완전 그래프인지 확인: 모든 정점 사이에 간선이 존재함\n",
        "            if not graph.has_edge(perm[i], perm[i + 1]):\n",
        "                is_hamiltonian = False\n",
        "                break\n",
        "        if is_hamiltonian:\n",
        "            return True  # 해밀턴 경로를 찾으면 True 반환\n",
        "\n",
        "    return False  # 모든 순열을 확인했지만 경로를 못 찾으면 False\n",
        "\n",
        "\n",
        "# 그래프 생성\n",
        "G = nx.Graph()\n",
        "\n",
        "# 정점 및 간선 추가 (이미지 기반)\n",
        "nodes = [\"a\", \"b\", \"c\", \"d\", \"e\"]\n",
        "edges = [\n",
        "    (\"a\", \"b\"), (\"a\", \"c\"), (\"a\", \"e\"),\n",
        "    (\"b\", \"c\"), (\"b\", \"d\"),\n",
        "    (\"c\", \"d\"), (\"c\", \"e\"),\n",
        "    (\"d\", \"e\")\n",
        "]\n",
        "G.add_nodes_from(nodes)\n",
        "G.add_edges_from(edges)\n",
        "\n",
        "# 해밀턴 그래프 여부 판단\n",
        "if is_hamiltonian_graph(G):\n",
        "    print(\"이 그래프는 해밀턴 그래프입니다.\")\n",
        "else:\n",
        "    print(\"이 그래프는 해밀턴 그래프가 아닙니다.\")"
      ],
      "metadata": {
        "id": "SQClQnsw1Zii"
      },
      "id": "SQClQnsw1Zii",
      "execution_count": null,
      "outputs": []
    },
    {
      "cell_type": "markdown",
      "source": [
        "### @판매원 탐방 문제(traveling salesperson problem)\n",
        "- 판매원이 어느 도시를 출발하여 각 도시를 한 번만 방문하여 출발지로 다시 돌아오는 최소 거리의 순환을 찾는 문제\n",
        "- 완전 그래프에서 전체 가중치가 가장 적은 해밀턴 순환을 찾는 문제\n",
        "- **다양한 알고리즘 존재함**\n",
        "    - 완전 탐색 (Brute Force): 모든 가능한 경로(순열)를 생성하여 최적의 경로를 찾는 방법\n",
        "    - **동적 계획법 (Dynamic Programming): 각 상태를 서브셋과 마지막 노드로 정의하고 DP 테이블을 사용해 최소 비용을 계산\n",
        "    - 근사 알고리즘 (Approximation Algorithm): 최소 신장 트리(MST)를 기반으로 경로를 생성\n",
        "    - 등 다수 방법 존재\n"
      ],
      "metadata": {
        "id": "FO9yzG6cJxjl"
      },
      "id": "FO9yzG6cJxjl"
    },
    {
      "cell_type": "markdown",
      "source": [
        "### [예제 8-19] 판매원 탐방 문제\n",
        "- 해밀턴 순환은 여러 개가 존재하지만 가중치의 합이 최소가 되는 최소 길이 해밀턴 순환을 찾이라!"
      ],
      "metadata": {
        "id": "LA3Ir_ziKOAL"
      },
      "id": "LA3Ir_ziKOAL"
    },
    {
      "cell_type": "code",
      "source": [
        "import networkx as nx\n",
        "import matplotlib.pyplot as plt\n",
        "import itertools\n",
        "\n",
        "# 판매원 탐방 문제 해결 함수 (브루트포스 방식: 완전 탐색)\n",
        "def traveling_salesman_problem(G, start_node):\n",
        "    nodes = list(G.nodes)\n",
        "    nodes.remove(start_node)  # 시작 정점을 제외한 모든 정점\n",
        "\n",
        "    min_cost = float('inf')  # 최소 비용 초기화\n",
        "    min_path = None  # 최소 비용 경로 초기화\n",
        "\n",
        "    # 모든 순열을 생성하여 최소 비용 계산\n",
        "    for perm in itertools.permutations(nodes):\n",
        "        current_path = [start_node] + list(perm) + [start_node]  # 순환 경로 생성\n",
        "        current_cost = 0  # 현재 경로의 비용 계산\n",
        "\n",
        "        for i in range(len(current_path) - 1):\n",
        "            u, v = current_path[i], current_path[i + 1]\n",
        "            if G.has_edge(u, v):\n",
        "                current_cost += G[u][v]['weight']\n",
        "            else:\n",
        "                current_cost = float('inf')  # 간선이 없으면 무한 비용 처리\n",
        "                break\n",
        "\n",
        "        # 최소 비용 갱신\n",
        "        if current_cost < min_cost:\n",
        "            min_cost = current_cost\n",
        "            min_path = current_path\n",
        "\n",
        "    return min_cost, min_path  # 최소 비용, 최소 비용 경로\n",
        "\n",
        "def weighted_digraph(nodes, edges):\n",
        "    # 방향 가중치 그래프 생성\n",
        "    G = nx.DiGraph()\n",
        "    G.add_nodes_from(nodes)\n",
        "    G.add_weighted_edges_from(edges)\n",
        "    return G\n",
        "\n",
        "# 가중치 그래프 시각화 함수\n",
        "def draw_weighted_graph(G, pos, shortest_path=None):\n",
        "    \"\"\"\n",
        "    가중치 그래프 시각화 (간선을 곡선으로 표현)\n",
        "    \"\"\"\n",
        "    # 간선을 곡선으로 표시\n",
        "    nx.draw(G, pos, with_labels=True, connectionstyle=\"arc3,rad=0.1\")\n",
        "\n",
        "    # 간선 가중치 라벨 추가\n",
        "    weight = nx.get_edge_attributes(G, \"weight\")\n",
        "    nx.draw_networkx_edge_labels(G, pos, edge_labels=weight, connectionstyle=\"arc3,rad=0.1\", font_color=\"red\")\n",
        "\n",
        "    # 최단 경로 강조 (빨간색)\n",
        "    if shortest_path:\n",
        "        path_edges = list(zip(shortest_path, shortest_path[1:]))\n",
        "        nx.draw_networkx_edges(\n",
        "            G, pos, edgelist=path_edges, edge_color=\"red\", width=2.5, connectionstyle=\"arc3,rad=0.1\"\n",
        "        )\n",
        "\n",
        "    plt.title(\"Weighted Graph with Curved Edges\")\n",
        "    plt.show()\n",
        "\n",
        "# 정점 및 가중치 간선 정의\n",
        "nodes = [\"v1\", \"v2\", \"v3\", \"v4\"]\n",
        "edges = [\n",
        "    (\"v1\", \"v2\", 1), (\"v2\", \"v1\", 2),\n",
        "    (\"v2\", \"v3\", 6), (\"v3\", \"v2\", 7),\n",
        "    (\"v3\", \"v4\", 8), (\"v4\", \"v1\", 6),\n",
        "    (\"v1\", \"v3\", 9), (\"v2\", \"v4\", 4),\n",
        "    (\"v4\", \"v2\", 3)\n",
        "]\n",
        "\n",
        "# 그래프 생성\n",
        "G = weighted_digraph(nodes, edges)\n",
        "\n",
        "# 판매원 탐방 문제 해결\n",
        "start_node = \"v1\"\n",
        "min_cost, min_path = traveling_salesman_problem(G, start_node)\n",
        "\n",
        "# 결과 출력\n",
        "print(f\"최소 비용: {min_cost}\")\n",
        "print(f\"최소 비용 경로: {min_path}\")\n",
        "\n",
        "# 그래프 시각화\n",
        "pos = {'v1': (-1, 1), 'v2': (1, 1), 'v3': (-1, -1), 'v4': (1, -1)}\n",
        "draw_weighted_graph(G, pos, shortest_path=min_path)\n"
      ],
      "metadata": {
        "id": "QcAE4AqVKOSO"
      },
      "id": "QcAE4AqVKOSO",
      "execution_count": null,
      "outputs": []
    },
    {
      "cell_type": "markdown",
      "id": "8a6c83d0",
      "metadata": {
        "id": "8a6c83d0"
      },
      "source": [
        "-----------------------------"
      ]
    },
    {
      "cell_type": "markdown",
      "source": [
        "## 8-3.그래프 탐색과 최단 경로"
      ],
      "metadata": {
        "id": "rWmagX4b8iAv"
      },
      "id": "rWmagX4b8iAv"
    },
    {
      "cell_type": "markdown",
      "id": "786e2541",
      "metadata": {
        "id": "786e2541"
      },
      "source": [
        "### @그래프 탐색\n",
        "- 그래프의 각 정점을 한번씩만 방문하는 방법\n",
        "- 그래프의 탐색:\n",
        "    - 깊이 우선 탐색(depth first search : DFS)\n",
        "    - 너비 우선 탐색(breadth first search : BFS)\n",
        "    - 최단 경로"
      ]
    },
    {
      "cell_type": "markdown",
      "id": "d6270f3c",
      "metadata": {
        "id": "d6270f3c"
      },
      "source": [
        "### [예제 8-20] 그래프 탐색\n",
        "- 깊이 우선 탐색(depth first search : DFS)\n",
        "- 너비 우선 탐색(breadth first search : BFS)"
      ]
    },
    {
      "cell_type": "code",
      "source": [
        "from collections import deque\n",
        "\n",
        "# 깊이우선탐색 (DFS) 함수\n",
        "def depth_first_search(graph, start_node):\n",
        "\n",
        "    visited = []  # 방문한 노드를 저장할 리스트\n",
        "    stack = [start_node]  # 스택 초기화 (시작 정점)\n",
        "\n",
        "    while stack:\n",
        "        print(f'visited: {visited}')\n",
        "        print(f'stack  : {stack}')\n",
        "        node = stack.pop()  # 스택의 마지막 노드 꺼내기\n",
        "        print(f'current node: {node}')\n",
        "        if node not in visited:  # 아직 방문하지 않은 노드라면\n",
        "            visited.append(node)  # 방문 처리\n",
        "            # 인접 노드를 스택에 추가 (역순으로 처리)\n",
        "            stack.extend(reversed(list(graph.neighbors(node))))\n",
        "        print('-----------------')\n",
        "    return visited\n",
        "\n",
        "\n",
        "# 너비우선탐색 (BFS) 함수\n",
        "def breadth_first_search(graph, start_node):\n",
        "\n",
        "    visited = []  # 방문한 노드를 저장할 리스트\n",
        "    queue = deque([start_node])  # 큐 초기화 (시작 정점)\n",
        "\n",
        "    while queue:\n",
        "        node = queue.popleft()  # 큐의 첫 번째 노드 꺼내기\n",
        "        if node not in visited:  # 아직 방문하지 않은 노드라면\n",
        "            visited.append(node)  # 방문 처리\n",
        "            # 인접 노드를 큐에 추가\n",
        "            queue.extend(graph.neighbors(node))\n",
        "\n",
        "    return visited\n",
        "\n",
        "\n",
        "# 그래프 생성\n",
        "G = nx.DiGraph()  # 방향성 그래프\n",
        "nodes = [\"v1\", \"v2\", \"v3\", \"v4\", \"v5\", \"v6\", \"v7\", \"v8\"]\n",
        "edges = [\n",
        "    (\"v1\", \"v2\"), (\"v1\", \"v3\"), (\"v2\", \"v4\"), (\"v2\", \"v5\"),\n",
        "    (\"v3\", \"v6\"), (\"v3\", \"v7\"), (\"v4\", \"v8\"), (\"v5\", \"v8\"),\n",
        "    (\"v6\", \"v8\"), (\"v7\", \"v8\")\n",
        "]\n",
        "G.add_nodes_from(nodes)\n",
        "G.add_edges_from(edges)\n",
        "\n",
        "# 탐색 실행\n",
        "start_node = \"v1\"\n",
        "\n",
        "dfs_result = depth_first_search(G, start_node)\n",
        "bfs_result = breadth_first_search(G, start_node)\n",
        "\n",
        "# 결과 출력\n",
        "print(f\"깊이우선탐색 (DFS) 결과: {dfs_result}\")\n",
        "print(f\"너비우선탐색 (BFS) 결과: {bfs_result}\")"
      ],
      "metadata": {
        "id": "EzCRNhlBkFmu"
      },
      "id": "EzCRNhlBkFmu",
      "execution_count": null,
      "outputs": []
    },
    {
      "cell_type": "markdown",
      "source": [
        "### @최단 경로\n",
        "- **다익스트라 알고리즘**: 하나의 정점에서 다른 정점까지의 최단 경로를 구하는 방법\n",
        "- 플로이드Floyd 알고리즘: 모든 정점의 쌍 사이에 대해 최단 거리를 구하는 방법"
      ],
      "metadata": {
        "id": "YZcbfPdOpiNU"
      },
      "id": "YZcbfPdOpiNU"
    },
    {
      "cell_type": "markdown",
      "source": [
        "### [예제 8-22] 다익스트라 알고리즘"
      ],
      "metadata": {
        "id": "J9n94vnPuC8q"
      },
      "id": "J9n94vnPuC8q"
    },
    {
      "cell_type": "code",
      "source": [
        "# 다익스트라 알고리즘으로 최단 경로 계산\n",
        "def dijkstra_shortest_path(graph, start_node):\n",
        "    \"\"\"\n",
        "    Returns:\n",
        "    - distances: 시작 정점에서 각 정점까지의 최단 거리 딕셔너리\n",
        "    - paths: 시작 정점에서 각 정점까지의 최단 경로 딕셔너리\n",
        "    \"\"\"\n",
        "    # NetworkX 다익스트라 알고리즘 사용\n",
        "    distances, paths = nx.single_source_dijkstra(graph, source=start_node)\n",
        "    return distances, paths\n",
        "\n",
        "\n",
        "# 그래프 생성\n",
        "G = nx.Graph()\n",
        "\n",
        "# 정점 및 간선 추가\n",
        "nodes = [\"A\", \"B\", \"C\", \"D\", \"E\", \"F\", \"G\", \"H\"]\n",
        "edges = [\n",
        "    (\"A\", \"B\", 6), (\"A\", \"C\", 3), (\"A\", \"H\", 4),\n",
        "    (\"B\", \"C\", 1), (\"B\", \"E\", 5),\n",
        "    (\"C\", \"D\", 9), (\"C\", \"G\", 2),\n",
        "    (\"D\", \"E\", 1), (\"D\", \"F\", 8),\n",
        "    (\"E\", \"F\", 1),\n",
        "    (\"F\", \"G\", 3),\n",
        "    (\"G\", \"H\", 7), (\"H\", \"A\", 10)\n",
        "]\n",
        "G.add_nodes_from(nodes)\n",
        "G.add_weighted_edges_from(edges)\n",
        "\n",
        "# 다익스트라 알고리즘 실행\n",
        "start_node = \"A\"\n",
        "distances, paths = dijkstra_shortest_path(G, start_node)\n",
        "\n",
        "# 결과 출력\n",
        "# print(f\"정점 {start_node}로부터의 최단 거리:\")\n",
        "# for node, distance in distances.items():\n",
        "#     print(f\"{start_node} -> {node}: {distance}\")\n",
        "\n",
        "print(\"\\n정점 {start_node}로부터의 최단 경로 (최단 거리)\")\n",
        "for node, path in paths.items():\n",
        "    print(f\"{start_node} -> {node} ({distances[node]:2}) : {' -> '.join(path)} \")\n",
        "\n",
        "# 다익스트라 경로 출력\n",
        "print('-------------------------')\n",
        "print(f\"A -> F 최단 경로    : {nx.shortest_path(G, source='A', target='F', method='dijkstra')}\")\n",
        "print(f\"A -> F dijkstra 경로: {nx.dijkstra_path(G, source='A', target='F')}\")\n",
        "print(f\"A -> F dijkstra 거리: {nx.dijkstra_path_length(G, source='A', target='F')} \")\n"
      ],
      "metadata": {
        "id": "6wuEHTaJuDI9"
      },
      "id": "6wuEHTaJuDI9",
      "execution_count": null,
      "outputs": []
    },
    {
      "cell_type": "markdown",
      "id": "07b18509",
      "metadata": {
        "id": "07b18509"
      },
      "source": [
        "-------------------------------"
      ]
    },
    {
      "cell_type": "markdown",
      "id": "cba83ba2",
      "metadata": {
        "id": "cba83ba2"
      },
      "source": [
        "## 8-4. 평면 그래프와 그래프 착색"
      ]
    },
    {
      "cell_type": "markdown",
      "id": "3312e086",
      "metadata": {
        "id": "3312e086"
      },
      "source": [
        "### [예제 8-23] 평면 그래프 판별"
      ]
    },
    {
      "cell_type": "code",
      "execution_count": null,
      "id": "1543fdc0",
      "metadata": {
        "id": "1543fdc0"
      },
      "outputs": [],
      "source": [
        "# 평면 그래프 판별\n",
        "def is_planar_graph(nodes, edges):\n",
        "    G = nx.Graph(edges)\n",
        "    is_planar, P = nx.check_planarity(G)\n",
        "\n",
        "    return is_planar, P\n",
        "\n",
        "\n",
        "# 평면 그래프그리기\n",
        "def draw_planar_graph(nodes,edges):\n",
        "    # 그래프 생성\n",
        "    G = nx.Graph()\n",
        "    G.add_nodes_from(nodes)\n",
        "    G.add_edges_from(edges)\n",
        "\n",
        "    # 평면 레이아웃 설정\n",
        "    try:\n",
        "        pos = nx.planar_layout(G)  # 평면 그래프 레이아웃\n",
        "        nx.draw(\n",
        "            G, pos, with_labels=True, node_size=300, node_color='black',\n",
        "            font_size=7, font_weight='bold', font_color='white', alpha=0.7\n",
        "        )\n",
        "        plt.title(\"Planar Graph\")\n",
        "        plt.show()\n",
        "    except nx.NetworkXException:\n",
        "        print(\"주어진 그래프는 평면 그래프가 아닙니다.\")\n",
        "\n",
        "    return G\n",
        "\n",
        "# (a) 그래프\n",
        "nodes = ['v1','v2','v3','v4','v5','v6']\n",
        "edges = [('v1','v3'),('v1','v4'),('v1','v5'),\n",
        "         ('v2','v4'),('v2','v5'),('v2','v6'),\n",
        "         ('v3','v5'),('v3','v6'),('v4','v6')]\n",
        "\n",
        "# 그래프 그리기\n",
        "draw_graph(nodes, edges)\n",
        "\n",
        "is_planar, P = is_planar_graph(nodes, edges)\n",
        "if is_planar:\n",
        "    print('그래프 (a)는 평면 그래프가 맞습니다.')\n",
        "    # 평면 그래프 그리기\n",
        "    G = draw_planar_graph(nodes,edges)\n",
        "else:\n",
        "    print('그래프 (a)는 평면 그래프가 아닙니다.')\n"
      ]
    },
    {
      "cell_type": "markdown",
      "id": "22647492",
      "metadata": {
        "id": "22647492"
      },
      "source": [
        "### @그래프 착색(graph coloring)\n",
        "- 인접된 정점이 서로 다른 색을 가지도록 G의 정점들에 색을 할당하는 것\n",
        "- n가지의 색으로 G의 착색이 가능하면 G는 n-색 가능(n-colorable)이라고 하며, G를 착색하는데 필요한 최소의 색의 가지 수를 G의 착색수chromatic number라 하고 χ(G)로 표시한다.\n",
        "- 정점의 착색은 레지스터 할당 문제, 주파수 할당 등에 응용된다"
      ]
    },
    {
      "cell_type": "markdown",
      "id": "ff9c5dd5",
      "metadata": {
        "id": "ff9c5dd5"
      },
      "source": [
        "#### [[Welch-Powell 알고리즘]]\n",
        "- **[사전 필요 정보]**\n",
        "1. 그래프의 정점의 차수 계산\n",
        "2. 정점의 인접 리스트 만들기\n",
        "- **[알고리즘]**\n",
        "1. 그래프 𝐺의 정점의 차수가 내림차순 배열 정렬\n",
        "2. 배열의 첫 번째 정점은 첫 번째 색으로 착색하고 배열의 순서대로 이미 착색된 정점과 인접하지 않은 정점을 모두 같은 색으로 착색\n",
        "3. 배열에서 먼저 나타나는 착색되지 않은 정점을 두 번째 색으로 착색하고 2와 동일한 처리\n",
        "4. 모든 정점이 착색되도록 반복"
      ]
    },
    {
      "cell_type": "markdown",
      "source": [
        "### [예제 8-24] Welch-Powell 알고리즘으로 그래프 착색하기"
      ],
      "metadata": {
        "id": "Efj7qytD9gni"
      },
      "id": "Efj7qytD9gni"
    },
    {
      "cell_type": "code",
      "source": [
        "import networkx as nx\n",
        "import matplotlib.pyplot as plt\n",
        "\n",
        "# 웰치-포웰 알고리즘을 사용하여 그래프를 착색하는 함수\n",
        "def welsh_powell_coloring(graph):\n",
        "    \"\"\"\n",
        "    Returns:\n",
        "    - coloring: 딕셔너리 형태로 각 노드와 해당 색상 매핑\n",
        "    \"\"\"\n",
        "    # 각 노드의 차수를 기준으로 내림차순 정렬\n",
        "    nodes_sorted_by_degree = sorted(graph.degree, key=lambda x: x[1], reverse=True)\n",
        "    sorted_nodes = [node for node, degree in nodes_sorted_by_degree]\n",
        "\n",
        "    # 색상 매핑 초기화\n",
        "    coloring = {}\n",
        "    current_color = 0\n",
        "\n",
        "    # 웰치-포웰 알고리즘 실행\n",
        "    for node in sorted_nodes:\n",
        "        if node not in coloring:  # 노드가 아직 색칠되지 않은 경우\n",
        "            current_color += 1   # 새로운 색상 할당\n",
        "            coloring[node] = current_color\n",
        "\n",
        "            # 현재 색상과 충돌하지 않는 노드들을 색칠\n",
        "            for other_node in sorted_nodes:\n",
        "                if other_node not in coloring:\n",
        "                    # 인접하지 않은 노드만 현재 색상으로 색칠\n",
        "                    if all(coloring.get(neighbor) != current_color for neighbor in graph.neighbors(other_node)):\n",
        "                        coloring[other_node] = current_color\n",
        "\n",
        "    return coloring\n",
        "\n",
        "\n",
        "# 그래프를 착색하여 시각화\n",
        "def draw_colored_graph(graph, coloring, pos=False):\n",
        "\n",
        "    # 색상을 노드 속성으로 변환\n",
        "    colors = [coloring[node] for node in graph.nodes]\n",
        "\n",
        "    # 그래프 그리기\n",
        "    if not pos:\n",
        "        pos = nx.spring_layout(graph)  # 그래프 레이아웃\n",
        "\n",
        "    nx.draw(\n",
        "        graph, pos, with_labels=True, node_color=colors,\n",
        "        node_size=800, font_size=10, cmap=plt.cm.rainbow, edge_color=\"black\"\n",
        "    )\n",
        "    plt.title(\"Graph Coloring with Welsh-Powell Algorithm\")\n",
        "    plt.show()\n",
        "\n",
        "\n",
        "# 그래프 생성\n",
        "nodes = [\"A1\", \"A2\", \"A3\", \"A4\", \"A5\", \"A6\", \"A7\", \"A8\"]\n",
        "edges = [\n",
        "    (\"A1\", \"A2\"), (\"A1\", \"A4\"), (\"A1\", \"A3\"),(\"A1\", \"A7\"),\n",
        "    (\"A2\", \"A3\"), (\"A2\", \"A4\"), (\"A2\", \"A5\"),\n",
        "    (\"A3\", \"A5\"), (\"A3\", \"A6\"), (\"A3\", \"A7\"),\n",
        "    (\"A4\", \"A5\"), (\"A4\", \"A7\"),\n",
        "    (\"A5\", \"A6\"), (\"A5\", \"A7\"), (\"A5\", \"A8\"),\n",
        "    (\"A6\", \"A8\"),\n",
        "    (\"A7\", \"A8\")\n",
        "]\n",
        "\n",
        "G = nx.Graph()\n",
        "G.add_nodes_from(nodes)\n",
        "G.add_edges_from(edges)\n",
        "\n",
        "# 웰치-포웰 알고리즘 실행\n",
        "coloring = welsh_powell_coloring(G)\n",
        "\n",
        "# 결과 출력\n",
        "print(\"그래프 착색 결과:\")\n",
        "for node, color in coloring.items():\n",
        "    print(f\"{node}: 색상 {color}\")\n",
        "\n",
        "# 그래프 시각화\n",
        "pos = {'A1':(-2,1),'A2':(0,1),'A3':(2,1),'A4':(-2,0),\n",
        "    'A5':(0,0),'A6':(2,0),'A7':(-1,-1),'A8':(1,-1),}\n",
        "draw_colored_graph(G, coloring, pos)\n"
      ],
      "metadata": {
        "id": "RrkUs1NH9hDG"
      },
      "id": "RrkUs1NH9hDG",
      "execution_count": null,
      "outputs": []
    },
    {
      "cell_type": "markdown",
      "source": [
        "\n",
        "\n",
        "---\n",
        "\n"
      ],
      "metadata": {
        "id": "3Qbkl6PQDoaa"
      },
      "id": "3Qbkl6PQDoaa"
    },
    {
      "cell_type": "markdown",
      "id": "8baf9cc4",
      "metadata": {
        "id": "8baf9cc4"
      },
      "source": [
        "THE END"
      ]
    }
  ],
  "metadata": {
    "kernelspec": {
      "display_name": "Python 3 (ipykernel)",
      "language": "python",
      "name": "python3"
    },
    "language_info": {
      "codemirror_mode": {
        "name": "ipython",
        "version": 3
      },
      "file_extension": ".py",
      "mimetype": "text/x-python",
      "name": "python",
      "nbconvert_exporter": "python",
      "pygments_lexer": "ipython3",
      "version": "3.12.1"
    },
    "vscode": {
      "interpreter": {
        "hash": "b41e41bff03a930185ac2cbea60ce521f7c8c2f5401ceb5c30214081f77ab4f5"
      }
    },
    "colab": {
      "provenance": [],
      "toc_visible": true
    }
  },
  "nbformat": 4,
  "nbformat_minor": 5
}
{
  "cells": [
    {
      "cell_type": "markdown",
      "metadata": {
        "id": "view-in-github",
        "colab_type": "text"
      },
      "source": [
        "<a href=\"https://colab.research.google.com/github/Joyschool/gachon-discretemath/blob/main/12%EC%A3%BC%EC%B0%A8_%EA%B2%BD%EC%9A%B0%EC%9D%98%EC%88%98%EC%84%B8%EA%B8%B0%EC%99%80%ED%99%95%EB%A5%A0_%EC%99%84%EC%84%B1.ipynb\" target=\"_parent\"><img src=\"https://colab.research.google.com/assets/colab-badge.svg\" alt=\"Open In Colab\"/></a>"
      ]
    },
    {
      "cell_type": "markdown",
      "id": "5da88f78",
      "metadata": {
        "id": "5da88f78"
      },
      "source": [
        "# 10.경우의 수 세기와 확률"
      ]
    },
    {
      "cell_type": "markdown",
      "metadata": {
        "id": "80edc5ab"
      },
      "source": [
        "- (코랩) 그래프에서 한글 폰트 사용 (실행 후-> 런타임 ->세션 다시 시작)"
      ],
      "id": "80edc5ab"
    },
    {
      "cell_type": "code",
      "execution_count": null,
      "metadata": {
        "collapsed": true,
        "id": "8186650a"
      },
      "outputs": [],
      "source": [
        "!sudo apt-get install -y fonts-nanum\n",
        "!sudo fc-cache -fv\n",
        "!rm ~/.cache/matplotlib -rf"
      ],
      "id": "8186650a"
    },
    {
      "cell_type": "markdown",
      "source": [
        "- 공통 라이브러리"
      ],
      "metadata": {
        "id": "Sd8X-EQK482B"
      },
      "id": "Sd8X-EQK482B"
    },
    {
      "cell_type": "code",
      "source": [
        "# pydot 그래프 모듈설치(이미 설치되었으면 skip)\n",
        "!pip install pydot"
      ],
      "metadata": {
        "id": "K907Vdk0SwId"
      },
      "execution_count": null,
      "outputs": [],
      "id": "K907Vdk0SwId"
    },
    {
      "cell_type": "code",
      "source": [
        "# graphviz 그래프 모듈설치(이미 설치되었으면 skip)\n",
        "!pip install graphviz"
      ],
      "metadata": {
        "id": "BmON38UE0bjL"
      },
      "execution_count": null,
      "outputs": [],
      "id": "BmON38UE0bjL"
    },
    {
      "cell_type": "code",
      "execution_count": null,
      "metadata": {
        "collapsed": true,
        "jupyter": {
          "outputs_hidden": true
        },
        "id": "567c41b6"
      },
      "outputs": [],
      "source": [
        "# anytree - 트리를 쉽게 표현하는 라이브러리(이미 설치되었으면 skip)\n",
        "!pip install anytree"
      ],
      "id": "567c41b6"
    },
    {
      "cell_type": "code",
      "source": [
        "import networkx as nx\n",
        "import matplotlib.pyplot as plt\n",
        "fontname = 'NanumGothic'          # (코랩)한글 폰트\n",
        "plt.rc('figure', figsize = (6,4))\n",
        "plt.rc('font', family=fontname)"
      ],
      "metadata": {
        "id": "69uWmyw54-A6"
      },
      "execution_count": null,
      "outputs": [],
      "id": "69uWmyw54-A6"
    },
    {
      "cell_type": "code",
      "source": [
        "# 트리 구조 만들기\n",
        "from anytree import Node, RenderTree\n",
        "from anytree.exporter import DotExporter\n",
        "from IPython.display import Image, display"
      ],
      "metadata": {
        "id": "M9H8NTM9p-eT"
      },
      "id": "M9H8NTM9p-eT",
      "execution_count": null,
      "outputs": []
    },
    {
      "cell_type": "markdown",
      "source": [
        "\n",
        "\n",
        "---\n",
        "\n"
      ],
      "metadata": {
        "id": "EXTGT22QpMHc"
      },
      "id": "EXTGT22QpMHc"
    },
    {
      "cell_type": "markdown",
      "id": "c1da108a",
      "metadata": {
        "id": "c1da108a"
      },
      "source": [
        "## 10-1.세기의 기본 원리"
      ]
    },
    {
      "cell_type": "markdown",
      "source": [
        "### 용어\n",
        "- **세기(Counting)** : 어떤 사건이나 경우의 수를 센다\n",
        "- **경우의 수(number of case)** : 일어날 수 있는 모든 사건의 수\n",
        "- 경우의 수를 세는 방법\n",
        "    - **합의 법칙(rule of sum)** : 두 사건 중 하나가 발생할 경우의 수 = (m + n)가지\n",
        "    - **곱의 법칙(rule of product)** : 두 사건이 동시에 발생할 경우의 수 = (m x n)가지"
      ],
      "metadata": {
        "id": "CppAEhdypNYg"
      },
      "id": "CppAEhdypNYg"
    },
    {
      "cell_type": "markdown",
      "source": [
        "- 길이가 n인 이진 트리 만들기"
      ],
      "metadata": {
        "id": "AHqo1bfJqQHM"
      },
      "id": "AHqo1bfJqQHM"
    },
    {
      "cell_type": "code",
      "source": [
        "from anytree import Node, RenderTree\n",
        "from anytree.exporter import DotExporter\n",
        "from IPython.display import Image\n",
        "\n",
        "\n",
        "def generate_binary_tree(node, current_string, depth, max_depth):\n",
        "    \"\"\"\n",
        "    조건을 만족하는 비트 문자열 트리를 생성.\n",
        "    :param node: 현재 트리의 노드\n",
        "    :param current_string: 현재까지의 비트 문자열\n",
        "    :param depth: 현재 깊이\n",
        "    :param max_depth: 최대 깊이 (비트 문자열 길이)\n",
        "    \"\"\"\n",
        "    if depth == max_depth:\n",
        "        return\n",
        "\n",
        "    # 왼쪽 자식 노드 생성 (0 추가)\n",
        "    left_child = Node(current_string + \"0\", parent=node, edge_label=\"0\")\n",
        "    generate_binary_tree(left_child, current_string + \"0\", depth + 1, max_depth)\n",
        "\n",
        "    # 오른쪽 자식 노드 생성 (1 추가)\n",
        "    right_child = Node(current_string + \"1\", parent=node, edge_label=\"1\")\n",
        "    generate_binary_tree(right_child, current_string + \"1\", depth + 1, max_depth)\n",
        "\n",
        "def visualize_binary_tree(root, max_depth):\n",
        "    \"\"\"\n",
        "    비트 문자열 트리를 시각화.\n",
        "    :param root: 트리의 루트 노드\n",
        "    :param max_depth: 최대 깊이\n",
        "    \"\"\"\n",
        "    # 트리 생성\n",
        "    generate_binary_tree(root, \"\", 0, max_depth)\n",
        "\n",
        "    # 트리 출력\n",
        "    print(\"\\n조건을 만족하는 비트 문자열 트리:\")\n",
        "    for pre, fill, node in RenderTree(root):\n",
        "        print(f\"{pre}{node.name}\")\n",
        "\n",
        "    # 트리 시각화 이미지 저장 (간선에 가중치 추가)\n",
        "    DotExporter(\n",
        "        root,\n",
        "        edgeattrfunc=lambda parent, child: f\"label={child.edge_label}\"  # 간선에 라벨(가중치) 추가\n",
        "    ).to_picture(\"bit_tree_with_weights.png\")\n",
        "    print(\"\\n트리가 'bit_tree_with_weights.png'로 저장되었습니다.\")\n",
        "    display(Image(filename=\"bit_tree_with_weights.png\"))\n",
        "\n",
        "# 트리의 루트 노드 생성\n",
        "root = Node(\"root\")\n",
        "\n",
        "# 길이가 4인 비트 문자열 트리 생성 및 시각화\n",
        "visualize_binary_tree(root, max_depth=4)\n"
      ],
      "metadata": {
        "id": "nTf_qDy2poua"
      },
      "id": "nTf_qDy2poua",
      "execution_count": null,
      "outputs": []
    },
    {
      "cell_type": "markdown",
      "source": [
        "### [예제 10-1] 비트 문자열 경우의 수 (트리를 이용하는 방법)\n",
        "연속된 두 개의 1을 갖지 않는 길이가 4인 비트 문자열은 모두 몇 개인지 구하라."
      ],
      "metadata": {
        "id": "9ypL00l2BhxY"
      },
      "id": "9ypL00l2BhxY"
    },
    {
      "cell_type": "markdown",
      "source": [
        "- 트리를 이용한 방법"
      ],
      "metadata": {
        "id": "XboIpDa-mrOE"
      },
      "id": "XboIpDa-mrOE"
    },
    {
      "cell_type": "code",
      "source": [
        "# 방법1 : 트리생성(anytree class) + 시각화(anytree)\n",
        "from anytree import Node, RenderTree\n",
        "from anytree.exporter import DotExporter\n",
        "from IPython.display import Image\n",
        "\n",
        "\n",
        "def generate_bit_tree(node, current_string, depth, max_depth):\n",
        "    \"\"\"\n",
        "    조건을 만족하는 비트 문자열 트리를 생성.\n",
        "    :param node: 현재 트리의 노드\n",
        "    :param current_string: 현재까지의 비트 문자열\n",
        "    :param depth: 현재 깊이\n",
        "    :param max_depth: 최대 깊이 (비트 문자열 길이)\n",
        "    \"\"\"\n",
        "    if depth == max_depth:\n",
        "        return\n",
        "\n",
        "    # 왼쪽 노드 :  '0' 추가는\n",
        "    left_child = Node(current_string + \"0\", parent=node, edge_label=\"0\")\n",
        "    generate_bit_tree(left_child, current_string + \"0\", depth + 1, max_depth)\n",
        "\n",
        "    # 오른쪽 노드 :'1' 추가는 직전 비트가 '1'이 아닐 때만 가능\n",
        "    if not current_string or current_string[-1] != \"1\":\n",
        "        right_child = Node(current_string + \"1\", parent=node, edge_label=\"1\")\n",
        "        generate_bit_tree(right_child, current_string + \"1\", depth + 1, max_depth)\n",
        "\n",
        "\n",
        "def collect_leaf_nodes(root):\n",
        "    \"\"\"\n",
        "    리프 노드의 목록과 총 개수를 반환.\n",
        "    :param root: 트리의 루트 노드\n",
        "    :return: (리프 노드 목록, 총 개수)\n",
        "    \"\"\"\n",
        "    leaf_nodes = [node.name for node in root.descendants if not node.children]  # 자식이 없는 노드만 필터링\n",
        "    return leaf_nodes\n",
        "\n",
        "\n",
        "\n",
        "def visualize_tree(root):\n",
        "    \"\"\"\n",
        "    비트 문자열 트리를 시각화.\n",
        "    :param root: 트리의 루트 노드\n",
        "    :param max_depth: 최대 깊이\n",
        "    \"\"\"\n",
        "\n",
        "    # 트리 출력\n",
        "    print(\"\\n조건을 만족하는 비트 문자열 트리:\")\n",
        "    for pre, fill, node in RenderTree(root):\n",
        "        print(f\"{pre}{node.name}\")\n",
        "\n",
        "    # 트리 시각화 이미지 저장 (간선에 가중치 추가)\n",
        "    DotExporter(\n",
        "        root,\n",
        "        edgeattrfunc=lambda parent, child: f\"label={child.edge_label}\"  # 간선에 라벨(가중치) 추가\n",
        "    ).to_picture(\"bit_tree_with_weights.png\")\n",
        "    print(\"\\n트리가 'bit_tree_with_weights.png'로 저장되었습니다.\")\n",
        "    display(Image(filename=\"bit_tree_with_weights.png\"))\n",
        "\n",
        "\n",
        "\n",
        "\n",
        "def count_valid_bit_strings(max_depth):\n",
        "    \"\"\"\n",
        "    연속된 두 개의 1을 허용하지 않는 비트 문자열의 개수를 계산.\n",
        "    :param max_depth: 비트 문자열의 길이\n",
        "    :return: 조건을 만족하는 비트 문자열의 개수와 목록\n",
        "    \"\"\"\n",
        "    # 트리의 루트 노드 생성\n",
        "    root = Node(\"root\")\n",
        "    generate_bit_tree(root, \"\", 0, max_depth)\n",
        "\n",
        "    # 리프 노드 수집\n",
        "    valid_strings = collect_leaf_nodes(root)\n",
        "\n",
        "    # anytree로 트리 시각화\n",
        "    visualize_tree(root)\n",
        "\n",
        "    return valid_strings\n",
        "\n",
        "\n",
        "# 실행\n",
        "if __name__ == \"__main__\":\n",
        "    # 길이가 4인 비트 문자열 조건 확인\n",
        "    bit_strings = count_valid_bit_strings(4)\n",
        "    # 결과 출력\n",
        "    print(f\"\\n조건을 만족하는 비트 문자열의 총 개수: {len(bit_strings)}\")\n",
        "    print(f\"\\n조건을 만족하는 비트 문자열: {bit_strings}\")\n"
      ],
      "metadata": {
        "id": "tXcT-a_rwuUB"
      },
      "id": "tXcT-a_rwuUB",
      "execution_count": null,
      "outputs": []
    },
    {
      "cell_type": "code",
      "source": [
        "# 방법2 : 트리생성(class) + 시각화(anytree)\n",
        "from anytree import Node, RenderTree\n",
        "from anytree.exporter import DotExporter\n",
        "from IPython.display import Image\n",
        "\n",
        "\n",
        "class BinaryTree:\n",
        "    def __init__(self, value=None):\n",
        "        self.value = value\n",
        "        self.left = None  # 0으로 확장\n",
        "        self.right = None  # 1으로 확장\n",
        "\n",
        "\n",
        "def generate_bit_tree(root, depth, max_depth):\n",
        "    \"\"\"\n",
        "    연속된 두 개의 1을 허용하지 않는 이진 트리를 생성.\n",
        "    :param root: 현재 노드\n",
        "    :param depth: 현재 깊이\n",
        "    :param max_depth: 트리의 최대 깊이 (문자열의 길이)\n",
        "    \"\"\"\n",
        "    if depth == max_depth:\n",
        "        return\n",
        "\n",
        "    # 왼쪽 노드 :  ('0' 추가는 항상 가능)\n",
        "    root.left = BinaryTree(root.value + \"0\" if root.value else \"0\")\n",
        "    generate_bit_tree(root.left, depth + 1, max_depth)\n",
        "\n",
        "    # 오른쪽 노드 : ('1' 추가는 직전 비트가 '1'이 아닐 때만 가능)\n",
        "    if not root.value or root.value[-1] != \"1\":\n",
        "        root.right = BinaryTree(root.value + \"1\" if root.value else \"1\")\n",
        "        generate_bit_tree(root.right, depth + 1, max_depth)\n",
        "\n",
        "\n",
        "def convert_to_anytree(root, anytree_parent=None):\n",
        "    \"\"\"\n",
        "    BinaryTree를 anytree 구조로 변환.\n",
        "    :param root: BinaryTree의 루트 노드\n",
        "    :param anytree_parent: anytree의 부모 노드\n",
        "    :return: 변환된 anytree 노드\n",
        "    \"\"\"\n",
        "    if root is None:\n",
        "        return None\n",
        "\n",
        "    # 현재 노드를 anytree 노드로 생성\n",
        "    anytree_node = Node(root.value if root.value else \"root\", parent=anytree_parent)\n",
        "\n",
        "    # 왼쪽 및 오른쪽 자식을 재귀적으로 변환\n",
        "    convert_to_anytree(root.left, anytree_node)\n",
        "    convert_to_anytree(root.right, anytree_node)\n",
        "\n",
        "    return anytree_node\n",
        "\n",
        "\n",
        "def visualize_to_anytree(root):\n",
        "    \"\"\"\n",
        "    anytree를 사용하여 트리를 시각화.\n",
        "    :param binary_root: BinaryTree의 루트 노드\n",
        "    \"\"\"\n",
        "    # BinaryTree를 anytree 구조로 변환\n",
        "    anytree_root = convert_to_anytree(root)\n",
        "\n",
        "    # # 텍스트 기반 트리 출력\n",
        "    # print(\"\\n트리 구조 (텍스트 기반):\")\n",
        "    # for pre, fill, node in RenderTree(anytree_root):\n",
        "    #     print(f\"{pre}{node.name}\")\n",
        "\n",
        "    # Graphviz를 사용한 트리 시각화 (이미지 저장)\n",
        "    DotExporter(anytree_root).to_picture(\"binary_tree.png\")\n",
        "    print(\"\\n트리가 'binary_tree.png'로 저장되었습니다.\")\n",
        "    display(Image(filename=\"binary_tree.png\"))\n",
        "\n",
        "\n",
        "def collect_leaf_nodes(root):\n",
        "    \"\"\"\n",
        "    리프 노드를 수집하여 비트 문자열을 반환.\n",
        "    :param binary_root: 트리의 루트 노드\n",
        "    :return: 리프 노드 값의 리스트\n",
        "    \"\"\"\n",
        "    if root is None:\n",
        "        return []\n",
        "\n",
        "    # 리프 노드일 경우 값을 반환\n",
        "    if root.left is None and root.right is None:\n",
        "        return [root.value]\n",
        "\n",
        "    # 왼쪽과 오른쪽의 리프 노드를 재귀적으로 수집\n",
        "    return collect_leaf_nodes(root.left) + collect_leaf_nodes(root.right)\n",
        "\n",
        "\n",
        "def count_valid_bit_strings(max_depth):\n",
        "    \"\"\"\n",
        "    연속된 두 개의 1을 허용하지 않는 비트 문자열의 개수를 계산.\n",
        "    :param max_depth: 비트 문자열의 길이\n",
        "    :return: 조건을 만족하는 비트 문자열의 개수와 목록\n",
        "    \"\"\"\n",
        "    # BinaryTree 트리 생성\n",
        "    root = BinaryTree()\n",
        "    generate_bit_tree(root, 0, max_depth)\n",
        "\n",
        "    # 리프 노드 수집\n",
        "    valid_strings = collect_leaf_nodes(root)\n",
        "\n",
        "    # anytree로 트리 시각화\n",
        "    visualize_to_anytree(root)\n",
        "\n",
        "    return valid_strings\n",
        "\n",
        "\n",
        "# 실행\n",
        "if __name__ == \"__main__\":\n",
        "    # 길이가 4인 비트 문자열 조건 확인\n",
        "    bit_strings = count_valid_bit_strings(4)\n",
        "    # 결과 출력\n",
        "    print(f\"\\n조건을 만족하는 비트 문자열의 총 개수: {len(bit_strings)}\")\n",
        "    print(f\"\\n조건을 만족하는 비트 문자열: {bit_strings}\")\n"
      ],
      "metadata": {
        "id": "66JSwl2tdMfX"
      },
      "id": "66JSwl2tdMfX",
      "execution_count": null,
      "outputs": []
    },
    {
      "cell_type": "markdown",
      "source": [
        "- 점화식을 이용한 방법\n",
        "- $f(n) = f(n-1) + f(n-2)$\n",
        "- $ f(1) = 2$ (0, 1)\n",
        "- $ f(2) = 3$ (00,01,10)"
      ],
      "metadata": {
        "id": "iguHnS_bmxbs"
      },
      "id": "iguHnS_bmxbs"
    },
    {
      "cell_type": "code",
      "source": [
        "def count_valid_bit_strings(n):\n",
        "    if n == 1:\n",
        "        return 2  # 0, 1\n",
        "    if n == 2:\n",
        "        return 3  # 00, 01, 10\n",
        "\n",
        "    # 점화식을 이용한 피보나치 방식\n",
        "    a, b = 2, 3\n",
        "    for _ in range(3, n + 1):\n",
        "        a, b = b, a + b\n",
        "    return b\n",
        "\n",
        "# 길이가 4인 비트 문자열 계산\n",
        "print(\"길이가 4인 비트 문자열 중 조건을 만족하는 개수:\", count_valid_bit_strings(4))\n"
      ],
      "metadata": {
        "id": "C5jboheckT2m"
      },
      "id": "C5jboheckT2m",
      "execution_count": null,
      "outputs": []
    },
    {
      "cell_type": "code",
      "source": [
        "def count_valid_bit_strings(n):\n",
        "    if n == 1:\n",
        "        return 2  # 0, 1\n",
        "    if n == 2:\n",
        "        return 3  # 00, 01, 10\n",
        "\n",
        "    return count_valid_bit_strings(n-1)+count_valid_bit_strings(n-2)\n",
        "\n",
        "# 길이가 4인 비트 문자열 계산\n",
        "print(\"길이가 4인 비트 문자열 중 조건을 만족하는 개수:\", count_valid_bit_strings(4))"
      ],
      "metadata": {
        "id": "sJ7z09c2nfUF"
      },
      "id": "sJ7z09c2nfUF",
      "execution_count": null,
      "outputs": []
    },
    {
      "cell_type": "markdown",
      "source": [
        "### [예제 10-2] 주사위 합이 홀수인 경우의 수(표를 이용하여 구하는 방법()\n",
        "두 개의 주사위 A, B를 동시에 던졌을 때 주사위의 눈의 합이 홀수가 나오는 경우의 수를 구하는"
      ],
      "metadata": {
        "id": "M9XTT0IJod2o"
      },
      "id": "M9XTT0IJod2o"
    },
    {
      "cell_type": "code",
      "source": [
        "def count_odd_sum_cases():\n",
        "    # 경우의 수 계산\n",
        "    cases = 0\n",
        "    numbers = ''\n",
        "    for a in range(1, 7):  # 주사위 A의 눈\n",
        "        for b in range(1, 7):  # 주사위 B의 눈\n",
        "            if (a + b) % 2 == 1:  # 합이 홀수인 경우\n",
        "                cases += 1\n",
        "                print(a, b, end=' | ')\n",
        "\n",
        "    return cases\n",
        "\n",
        "# 결과 출력\n",
        "result = count_odd_sum_cases()\n",
        "print(f\"주사위의 눈의 합이 홀수가 나오는 경우의 수: {result}\")\n"
      ],
      "metadata": {
        "id": "bwpklE_Io3Oh"
      },
      "id": "bwpklE_Io3Oh",
      "execution_count": null,
      "outputs": []
    },
    {
      "cell_type": "markdown",
      "source": [
        "### [예제 10-3] 강좌 선택 경우의 수(합의 법칙)\n",
        "학과 수업이 오전에 4 강좌, 오후에 6강좌를 개설하는 학과가 있다고 하자. 개설된 강좌 중에서 한 강좌만 수강한다고 할 때, 선택 방법이 몇 가지인지 구하라."
      ],
      "metadata": {
        "id": "use277mRslEX"
      },
      "id": "use277mRslEX"
    },
    {
      "cell_type": "code",
      "source": [
        "def factorial(n):\n",
        "    if n == 0 or n == 1:\n",
        "        return 1\n",
        "    return n * factorial(n - 1)\n",
        "\n",
        "\n",
        "def comb(n, r):\n",
        "    return factorial(n) // (factorial(r) * factorial(n - r))\n",
        "\n",
        "\n",
        "def count_selection_methods(total):\n",
        "    # 1. 한 강좌만 수강\n",
        "    one_course = comb(total, 1)\n",
        "\n",
        "    # 2. 두 강좌를 수강\n",
        "    two_courses = comb(total, 2)\n",
        "\n",
        "    return one_course, two_courses\n",
        "\n",
        "# 결과 계산\n",
        "one_course, two_courses = count_selection_methods(4 + 6)\n",
        "print(f\"1. 한 강좌만 수강하는 경우의 수: {one_course}\")\n",
        "print(f\"2. 두 강좌를 수강하는 경우의 수: {two_courses}\")\n"
      ],
      "metadata": {
        "id": "pBy0sjiytWdH"
      },
      "id": "pBy0sjiytWdH",
      "execution_count": null,
      "outputs": []
    },
    {
      "cell_type": "code",
      "source": [
        "from math import comb\n",
        "\n",
        "def count_selection_methods(total):\n",
        "    # 1. 한 강좌만 수강\n",
        "    one_course = comb(total, 1)\n",
        "\n",
        "    # 2. 두 강좌를 수강\n",
        "    two_courses = comb(total, 2)\n",
        "\n",
        "    return one_course, two_courses\n",
        "\n",
        "# 결과 계산\n",
        "one_course, two_courses = count_selection_methods(4 + 6)\n",
        "print(f\"1. 한 강좌만 수강하는 경우의 수: {one_course}\")\n",
        "print(f\"2. 두 강좌를 수강하는 경우의 수: {two_courses}\")"
      ],
      "metadata": {
        "id": "_Ac589XsslW2"
      },
      "id": "_Ac589XsslW2",
      "execution_count": null,
      "outputs": []
    },
    {
      "cell_type": "code",
      "source": [
        "from itertools import combinations\n",
        "\n",
        "def count_selection_methods(total):\n",
        "    # 1. 한 강좌만 수강\n",
        "    one_course = len(list(combinations(range(total), 1)))\n",
        "\n",
        "    # 2. 두 강좌를 수강\n",
        "    two_courses = len(list(combinations(range(total), 2)))\n",
        "\n",
        "    return one_course, two_courses\n",
        "\n",
        "# 결과 계산\n",
        "one_course, two_courses = count_selection_methods(4 + 6)\n",
        "print(f\"1. 한 강좌만 수강하는 경우의 수: {one_course}\")\n",
        "print(f\"2. 두 강좌를 수강하는 경우의 수: {two_courses}\")\n"
      ],
      "metadata": {
        "id": "zdeC0EDwtGCK"
      },
      "id": "zdeC0EDwtGCK",
      "execution_count": null,
      "outputs": []
    },
    {
      "cell_type": "markdown",
      "source": [
        "### [예제 10-4] 임원 선출 경우의 수(곱의 법칙: 순열)\n",
        "회원이 32명인 어느 대학교 동아리에서 회장, 부회장, 총무를 뽑을 수 있는 방법이 몇 가지인지 구하라. 단, 어느 한 사람이 1개 이상의 직위에 뽑힐 수 없다."
      ],
      "metadata": {
        "id": "Xeusp9kTuOUH"
      },
      "id": "Xeusp9kTuOUH"
    },
    {
      "cell_type": "code",
      "source": [
        "from math import perm\n",
        "\n",
        "def count_permutations(n, r):\n",
        "    \"\"\"\n",
        "    n명의 회원 중에서 r개의 직위를 뽑는 순열의 경우의 수를 계산.\n",
        "    \"\"\"\n",
        "    return perm(n, r)\n",
        "\n",
        "# 결과 계산\n",
        "n = 32  # 회원 수\n",
        "r = 3   # 직위 개수\n",
        "result = count_permutations(n, r)\n",
        "print(f\"회원 32명 중 회장, 부회장, 총무를 뽑는 경우의 수: {result}\")\n"
      ],
      "metadata": {
        "id": "hngc-fgNu69m"
      },
      "id": "hngc-fgNu69m",
      "execution_count": null,
      "outputs": []
    },
    {
      "cell_type": "code",
      "source": [
        "from itertools import permutations\n",
        "\n",
        "def count_permutations_itertools(n, r):\n",
        "    \"\"\"\n",
        "    n명의 회원 중에서 r개의 직위를 뽑는 순열의 경우의 수를 계산.\n",
        "    \"\"\"\n",
        "    return len(list(permutations(range(n), r)))\n",
        "\n",
        "# 결과 계산\n",
        "n = 32  # 회원 수\n",
        "r = 3   # 직위 개수\n",
        "result = count_permutations_itertools(n, r)\n",
        "print(f\"회원 32명 중 회장, 부회장, 총무를 뽑는 경우의 수: {result}\")\n"
      ],
      "metadata": {
        "id": "_s8DKyAmv5o9"
      },
      "id": "_s8DKyAmv5o9",
      "execution_count": null,
      "outputs": []
    },
    {
      "cell_type": "markdown",
      "source": [
        "### [예제 10-5] 문자열 식별자 경우의 수\n",
        "어떤 프로그래밍 언어에서 식별자identifier 이름은 영어 알파벳 소문자 하나로 구성되거나, 영어 알파벳 소문자로 시작해서 두 번째와 세번째 기호는 숫자 혹은 영어 알파벳 소문자가 될 수 있는 길이가 최대 3인 문자열로 구성된다. 이 언어에서 만들 수 있는 식별자 이름의 가짓수를 구하라.  "
      ],
      "metadata": {
        "id": "k5l4zDQZwcPk"
      },
      "id": "k5l4zDQZwcPk"
    },
    {
      "cell_type": "code",
      "source": [
        "def count_identifiers():\n",
        "    # 길이 1: 영어 소문자 (26가지)\n",
        "    length_1 = 26\n",
        "\n",
        "    # 길이 2: 첫 문자는 영어 소문자, 두 번째는 영어 소문자 또는 숫자 (26 + 10 = 36)\n",
        "    length_2 = 26 * 36\n",
        "\n",
        "    # 길이 3: 첫 문자는 영어 소문자, 두 번째와 세 번째는 영어 소문자 또는 숫자\n",
        "    length_3 = 26 * 36 * 36\n",
        "\n",
        "    # 총 가짓수\n",
        "    total_identifiers = length_1 + length_2 + length_3\n",
        "\n",
        "    return total_identifiers\n",
        "\n",
        "# 결과 출력\n",
        "total = count_identifiers()\n",
        "print(f\"이 언어에서 만들 수 있는 식별자 이름의 총 가짓수: {total}\")\n"
      ],
      "metadata": {
        "id": "zCbXUijKwchb"
      },
      "id": "zCbXUijKwchb",
      "execution_count": null,
      "outputs": []
    },
    {
      "cell_type": "markdown",
      "source": [
        "### @비둘기 집의 원리(pigeonhole principle; 분류함 원칙)\n",
        "𝒏개의 비둘기 집이 있고, 𝒎마리의 비둘기가 있을 때, 𝒎 > 𝒏이라고 하면 𝒎마리의 비둘기를 𝒏개의 비둘기 집에 넣을 때 2마리 이상의 비둘기가 들어가는 비둘기 집이 적어도 하나 이상 있다"
      ],
      "metadata": {
        "id": "o0P9wbQd0YxU"
      },
      "id": "o0P9wbQd0YxU"
    },
    {
      "cell_type": "markdown",
      "source": [
        "### [예제 10-7] 비둘기 집의 원리 예제1\n",
        "만약 서로 다른 5개의 숫자가 1부터 8 사이에서 선택될 때, 그들 중 2개의 숫자는 더해서 9가 됨을 보여라.      "
      ],
      "metadata": {
        "id": "U_a5aZPJ0JvU"
      },
      "id": "U_a5aZPJ0JvU"
    },
    {
      "cell_type": "code",
      "source": [
        "from itertools import combinations\n",
        "\n",
        "def has_pair_with_sum(numbers, target_sum):\n",
        "    \"\"\"\n",
        "    주어진 숫자 집합에서 두 숫자의 합이 특정 값이 되는지 확인.\n",
        "    \"\"\"\n",
        "    # 두 숫자의 조합을 생성\n",
        "    for pair in combinations(numbers, 2):\n",
        "        if sum(pair) == target_sum:\n",
        "            print(f\"합이 {target_sum}인 쌍: {pair}\")\n",
        "            return True\n",
        "    return False\n",
        "\n",
        "# 입력 값\n",
        "numbers = [1, 2, 3, 4, 5]  # 1부터 8 중 5개 선택\n",
        "target_sum = 9\n",
        "\n",
        "# 결과 확인\n",
        "if has_pair_with_sum(numbers, target_sum):\n",
        "    print(f\"주어진 숫자 {numbers} 중 합이 {target_sum}인 쌍이 존재합니다.\")\n",
        "else:\n",
        "    print(f\"주어진 숫자 {numbers} 중 합이 {target_sum}인 쌍이 없습니다.\")\n"
      ],
      "metadata": {
        "id": "UlLtRBX60KHb"
      },
      "id": "UlLtRBX60KHb",
      "execution_count": null,
      "outputs": []
    },
    {
      "cell_type": "markdown",
      "source": [
        "### [예제 10-7] 비둘기 집의 원리 예제2\n",
        "가로, 세로 길이가 2m인 방안에 5개의 인형을 놓을 때, √2 m 이내에 두 인형이 항상 있게 됨을 보여라"
      ],
      "metadata": {
        "id": "6tt7RbJ20qFy"
      },
      "id": "6tt7RbJ20qFy"
    },
    {
      "cell_type": "code",
      "source": [
        "from itertools import combinations\n",
        "import math\n",
        "import random\n",
        "\n",
        "def calculate_distance(point1, point2):\n",
        "    \"\"\"\n",
        "    두 점 사이의 거리를 계산.\n",
        "    \"\"\"\n",
        "    return math.sqrt((point1[0] - point2[0]) ** 2 + (point1[1] - point2[1]) ** 2)\n",
        "\n",
        "def check_minimum_distance(points, threshold):\n",
        "    \"\"\"\n",
        "    주어진 점들 중 최소 두 점 사이의 거리가 threshold(임계값) 이내인지 확인.\n",
        "    \"\"\"\n",
        "    for point1, point2 in combinations(points, 2):\n",
        "        distance = calculate_distance(point1, point2)\n",
        "        if distance <= threshold:\n",
        "            print(f\"\\n거리 {threshold} m 이내에 있는 두 인형 \")\n",
        "            print(f\"- 위치: {point1}, {point2}\")\n",
        "            print(f\"- 거리: {distance}\")\n",
        "            return True\n",
        "    return False\n",
        "\n",
        "def random_placement_simulation(num_points=5, room_size=2):\n",
        "    \"\"\"\n",
        "    방 안에 무작위로 인형을 배치하고 조건을 확인하는 시뮬레이션.\n",
        "    :param num_points: 인형의 개수\n",
        "    :param room_size: 방의 크기 (정사각형 방의 한 변 길이)\n",
        "    \"\"\"\n",
        "    # 방의 크기 내에서 인형을 랜덤 배치\n",
        "    # - random.uniform: 두 수 사이의 실수 중에서 난수값을 리턴\n",
        "    points = []\n",
        "    for _ in range(num_points):\n",
        "        point = (random.uniform(0, room_size), random.uniform(0, room_size))\n",
        "        points.append(point)\n",
        "        print(f\"인형 좌표: {point}\")\n",
        "\n",
        "    # 거리 조건 확인\n",
        "    if check_minimum_distance(points, math.sqrt(2)):\n",
        "        print(\"\\n√2 m 이내에 항상 두 인형이 있습니다.\")\n",
        "    else:\n",
        "        print(\"\\n조건을 만족하지 않는 배치가 발생했습니다.\")  # 이론적으로 불가능\n",
        "\n",
        "# 실행\n",
        "random_placement_simulation()\n"
      ],
      "metadata": {
        "id": "eVu3_zZF0qQO"
      },
      "id": "eVu3_zZF0qQO",
      "execution_count": null,
      "outputs": []
    },
    {
      "cell_type": "code",
      "source": [
        "100/12"
      ],
      "metadata": {
        "id": "A5PZnMZcJWID"
      },
      "id": "A5PZnMZcJWID",
      "execution_count": null,
      "outputs": []
    },
    {
      "cell_type": "markdown",
      "id": "f023f7c9",
      "metadata": {
        "id": "f023f7c9"
      },
      "source": [
        "--------------------------------"
      ]
    },
    {
      "cell_type": "markdown",
      "id": "abc510cc",
      "metadata": {
        "id": "abc510cc"
      },
      "source": [
        "## 10-2.순열과 조합\n",
        "\n",
        "- https://docs.python.org/ko/3/library/itertools.html"
      ]
    },
    {
      "cell_type": "markdown",
      "source": [
        "### @중복순열(r-sample) : 중복 O, 순서 O\n",
        "- 𝑛개의 원소로부터 𝑟개를 추출하는 가짓수\n",
        "> **$𝑛×𝑛× ⋯ ×𝑛 = n^r $가지**"
      ],
      "metadata": {
        "id": "_ORhdbRZZ0gW"
      },
      "id": "_ORhdbRZZ0gW"
    },
    {
      "cell_type": "markdown",
      "id": "b725e978",
      "metadata": {
        "id": "b725e978"
      },
      "source": [
        "### [예제 10-9] 중복 순열\n",
        "\n"
      ]
    },
    {
      "cell_type": "code",
      "execution_count": null,
      "id": "0f455fac",
      "metadata": {
        "collapsed": true,
        "id": "0f455fac"
      },
      "outputs": [],
      "source": [
        "import itertools\n",
        "\n",
        "S = {1, 2, 3}\n",
        "R = list(itertools.product(S, repeat=2))\n",
        "\n",
        "print(f'중복 순열 경우의 수: {len(R)}')\n",
        "R"
      ]
    },
    {
      "cell_type": "markdown",
      "source": [
        "### @중복조합(r-selection) : 중복 O, 순서 X\n",
        "- 𝑛개의 원소로부터 𝑟개를 추출하는 가짓수\n",
        "> $_{n}H_r$ = $_{n+r-1}C_r$ = $\\frac{(n+r-1)!}{r!(n-1)!}$"
      ],
      "metadata": {
        "id": "S0eYMtD2aPy3"
      },
      "id": "S0eYMtD2aPy3"
    },
    {
      "cell_type": "markdown",
      "id": "8e77fa72",
      "metadata": {
        "id": "8e77fa72"
      },
      "source": [
        "### [예제 10-11] 중복 조합"
      ]
    },
    {
      "cell_type": "code",
      "execution_count": null,
      "id": "eb09b673",
      "metadata": {
        "id": "eb09b673"
      },
      "outputs": [],
      "source": [
        "S = {1, 2, 3}\n",
        "R = list(itertools.combinations_with_replacement(S, 2))\n",
        "\n",
        "print(f'중복 조합 경우의 수: {len(R)}')\n",
        "R"
      ]
    },
    {
      "cell_type": "markdown",
      "source": [
        "### @순열(r-permutation) : 중복 X, 순서 O\n",
        "- 𝑛개의 원소로부터 𝑟개를 추출하는 가짓수\n",
        "> $_{n}P_r$ = $\\frac{n!}{(n-r)!}$"
      ],
      "metadata": {
        "id": "EvzTiz8Qb0C0"
      },
      "id": "EvzTiz8Qb0C0"
    },
    {
      "cell_type": "markdown",
      "id": "3db50fa6",
      "metadata": {
        "id": "3db50fa6"
      },
      "source": [
        "### [예제 10-12] 순열"
      ]
    },
    {
      "cell_type": "code",
      "execution_count": null,
      "id": "8ea37ea7",
      "metadata": {
        "id": "8ea37ea7"
      },
      "outputs": [],
      "source": [
        "S = {1, 2, 3}\n",
        "R = list(itertools.permutations(S, 2))\n",
        "\n",
        "print(f'순열 경우의 수: {len(R)}')\n",
        "R"
      ]
    },
    {
      "cell_type": "markdown",
      "id": "3dbcb128",
      "metadata": {
        "id": "3dbcb128"
      },
      "source": [
        "### @팩토리얼(factorial) 표기법\n",
        "- $ 𝑛! = 1×2×3×4×⋯×(𝑛−2)×(𝑛−1)×𝑛 $\n",
        "- 재귀법(recursion)에 의해\n",
        ">$𝑛! = 𝑛×(𝑛−1)! ,  0! =1,  1! = 1$이다."
      ]
    },
    {
      "cell_type": "code",
      "execution_count": null,
      "id": "fae4f822",
      "metadata": {
        "id": "fae4f822"
      },
      "outputs": [],
      "source": [
        "# 단순 반복 함수로 구현\n",
        "def factorial_for(n):\n",
        "    ret = 1\n",
        "    for i in range(1, n+1):\n",
        "        ret *= i  # ret = ret * i\n",
        "    return ret\n",
        "\n",
        "factorial_for(5)"
      ]
    },
    {
      "cell_type": "code",
      "source": [
        "# 재귀함수 사용\n",
        "def factorial_recursive(n):\n",
        "    if n > 1 :\n",
        "        return n * factorial_recursive(n-1)\n",
        "    else :\n",
        "        return 1\n",
        "\n",
        "factorial_recursive(5)"
      ],
      "metadata": {
        "id": "wIT46oHzh8Uy"
      },
      "id": "wIT46oHzh8Uy",
      "execution_count": null,
      "outputs": []
    },
    {
      "cell_type": "code",
      "execution_count": null,
      "id": "3cd608a4",
      "metadata": {
        "id": "3cd608a4"
      },
      "outputs": [],
      "source": [
        "# 재귀함수 사용\n",
        "def factorial_recursive(n):\n",
        "    return n * factorial_recursive(n-1) if n > 1 else 1\n",
        "\n",
        "factorial_recursive(5)"
      ]
    },
    {
      "cell_type": "code",
      "execution_count": null,
      "id": "ca0871a2",
      "metadata": {
        "id": "ca0871a2"
      },
      "outputs": [],
      "source": [
        "# 이미 만들어진 함수 사용 : math.factorial\n",
        "import math\n",
        "\n",
        "math.factorial(5)"
      ]
    },
    {
      "cell_type": "code",
      "execution_count": null,
      "id": "dac73fbc",
      "metadata": {
        "id": "dac73fbc"
      },
      "outputs": [],
      "source": [
        "# # 이미 만들어진 함수 사용 : functools.reduce\n",
        "# reduce: 원 자료구조의 부분구조를 반복적으로 처리해 재결합해서 하나의 결과값으로 반환하는 고순위(higher-order) 함수\n",
        "from functools import reduce\n",
        "\n",
        "def factorial_reduce(n):\n",
        "    return reduce(lambda x, y: x * y, range(1, n+1))"
      ]
    },
    {
      "cell_type": "markdown",
      "id": "fed2c7d4",
      "metadata": {
        "id": "fed2c7d4"
      },
      "source": [
        "### [예제 10-13] 순열\n",
        "문자 c, a, b, i, n, e, t로부터 4개의 문자로 구성된 단어를 몇 개나 만들 수 있는지 구하라."
      ]
    },
    {
      "cell_type": "code",
      "execution_count": null,
      "id": "17d70ecf",
      "metadata": {
        "id": "17d70ecf",
        "collapsed": true
      },
      "outputs": [],
      "source": [
        "S = {'c','a','b','i','n','e','t'}\n",
        "R = list(itertools.permutations(S, 4))\n",
        "# R = list(itertools.permutations('cabinet', 4))\n",
        "\n",
        "print(f'순열 경우의 수: {len(R)}')"
      ]
    },
    {
      "cell_type": "markdown",
      "source": [
        "### @조합(r-combination) : 중복 X, 순서 X\n",
        "- 𝑛개의 원소로부터 𝑟개를 추출하는 가짓수\n",
        "> $_{n}C_r$ = $\\frac{n!}{r!(n-r)!}$"
      ],
      "metadata": {
        "id": "H0W_anr0cSj9"
      },
      "id": "H0W_anr0cSj9"
    },
    {
      "cell_type": "markdown",
      "id": "fbd70066",
      "metadata": {
        "id": "fbd70066"
      },
      "source": [
        "### [예제 10-14] 조합"
      ]
    },
    {
      "cell_type": "code",
      "execution_count": null,
      "id": "3b03caf1",
      "metadata": {
        "id": "3b03caf1"
      },
      "outputs": [],
      "source": [
        "S = {1, 2, 3}\n",
        "R = list(itertools.combinations(S, 2))\n",
        "\n",
        "print(f'조합 경우의 수: {len(R)}')\n",
        "R"
      ]
    },
    {
      "cell_type": "markdown",
      "id": "3830f107",
      "metadata": {
        "id": "3830f107"
      },
      "source": [
        "### [예제 10-15] 조합\n",
        "중국 음식점에서 8개의 접시에 서로 다른 음식이 있다. 서로 다른 두 가지의 음식을 취할 수 있는 가짓수를 구하라."
      ]
    },
    {
      "cell_type": "code",
      "execution_count": null,
      "id": "16e27bb3",
      "metadata": {
        "id": "16e27bb3",
        "collapsed": true
      },
      "outputs": [],
      "source": [
        "S = list(range(1,9)) # 중국 음식 8개\n",
        "R = list(itertools.combinations(S, 2))\n",
        "\n",
        "print(f'음식을 취할 수 있는 조합 경우의 수: {len(R)}')\n",
        "R"
      ]
    },
    {
      "cell_type": "markdown",
      "id": "18661280",
      "metadata": {
        "id": "18661280"
      },
      "source": [
        "### [예제 10-16] 조합\n",
        "포커 게임에서 한 사람이 받는 5장 카드의 조합은 몇 가지인지 계산하라"
      ]
    },
    {
      "cell_type": "code",
      "execution_count": null,
      "id": "19853a64",
      "metadata": {
        "id": "19853a64"
      },
      "outputs": [],
      "source": [
        "S = list(range(1,53))  # 포커 게임 카드 개수\n",
        "R = list(itertools.combinations(S, 5))\n",
        "\n",
        "print(f'한 사람이 받는 카드의 조합 경우의 수: {len(R):,}')"
      ]
    },
    {
      "cell_type": "markdown",
      "id": "45c0b3ad",
      "metadata": {
        "id": "45c0b3ad"
      },
      "source": [
        "### [ 포커 게임]  일부 기능(틀리플, 플러시, 로얄 플러시)만 구현함"
      ]
    },
    {
      "cell_type": "code",
      "execution_count": null,
      "id": "3f6ff1b5",
      "metadata": {
        "id": "3f6ff1b5"
      },
      "outputs": [],
      "source": [
        "import random\n",
        "\n",
        "class PokerHandSimulator():\n",
        "\n",
        "    # 카드 만들기\n",
        "    def __init__(self, n):\n",
        "        shapes = '◇♡♤♧'\n",
        "        nums = [2,3,4,5,6,7,8,9,10,'J','Q','K','A']\n",
        "        self.deck_of_cards = []  # 카드 담을 리스트\n",
        "        self.n = n               # 시행 횟수\n",
        "        for shape in shapes:\n",
        "            for num in nums:\n",
        "                self.deck_of_cards.append(shape+str(num))\n",
        "        print(f'deck_of_cards : 총{len(self.deck_of_cards)}개')\n",
        "        print(f'{self.deck_of_cards}')\n",
        "\n",
        "        self.log = {}  # 카드의 결과를 담을 딕셔너리\n",
        "\n",
        "    # 카드의 결과를 기록하기\n",
        "    def write_log(self, result):\n",
        "        if result not in self.log.keys(): # 동일한 종류의 결과가 없으면\n",
        "            self.log[result] = 1\n",
        "        else:                             # 동일한 종류의 결과가 있으면\n",
        "            self.log[result] += 1\n",
        "\n",
        "    # 카드 나눠주기\n",
        "    def main(self):\n",
        "        # self.n 만큼 반복하기\n",
        "        for i in range(self.n):\n",
        "            random.shuffle(self.deck_of_cards) # 카드 섞기\n",
        "\n",
        "            # deck_of_cards에서 맨 위의 5개 카드가져오기\n",
        "            my_cards = self.deck_of_cards[:5]\n",
        "            print(f'[{i+1:>5}] my_cards: {my_cards}')\n",
        "\n",
        "            # 내 카드 조합 확인하기\n",
        "            self.check_hand(my_cards)\n",
        "\n",
        "        # 확률 구하기 ------------\n",
        "        print('-'*50)\n",
        "        print(f'#Total simulations: {self.n} times')\n",
        "        for k, v in self.log.items():\n",
        "            print(f'- {k} : {v} ({v/self.n*100:>.2f}%)')\n",
        "\n",
        "\n",
        "    # 카드 조합 확인하기\n",
        "    def check_hand(self, cards):\n",
        "        result = 'NONE'\n",
        "        if self.is_tree_of_a_kind(cards):     # 트리플\n",
        "            result = self.is_tree_of_a_kind(cards)\n",
        "        elif self.is_royal_flush(cards):      # 로얄플러시\n",
        "            result = self.is_royal_flush(cards)\n",
        "        elif self.is_flush(cards):            # 플러시\n",
        "            result = self.is_flush(cards)\n",
        "\n",
        "        self.write_log(result)       # 카드의 결과 기록하기\n",
        "\n",
        "        print(f'result: {result}')\n",
        "\n",
        "\n",
        "    # 카드의 종류가 트리플(tree_of_a_kind)인지 확인\n",
        "    def is_tree_of_a_kind(self, cards):\n",
        "        nums = [c[1:] for c in cards]  # 카드들의 숫자만 담기\n",
        "        set_nums = list(set(nums))     # 중복안된 숫자 종류만 추출\n",
        "        for num in set_nums:\n",
        "            if nums.count(num) == 3:\n",
        "                return 'Three Of A Kind'\n",
        "            else:\n",
        "                return False\n",
        "\n",
        "    # 카드의 종류가 플러시(flush)인지 확인\n",
        "    def is_flush(self, cards):\n",
        "        suits = [c[0] for c in cards]  # 카드의 종류만 추출\n",
        "        if len(set(suits)) == 1:       # 모든 카드의 종류가 1가지\n",
        "            return 'Flush'\n",
        "        else:\n",
        "            return False\n",
        "\n",
        "    # 카드의 종류가 로얄 플러시(royal_flush)인지 확인\n",
        "    def is_royal_flush(self, cards):\n",
        "        suits = [c[0]  for c in cards]  # 카드의 종류만 추출\n",
        "        nums  = [c[1:] for c in cards]  # 카드들의 숫자만 담기\n",
        "\n",
        "        # 로얄 플러시(=10,J,Q,K,A) and 모든 카드의 종류가 1가지\n",
        "        if len(set(suits)) == 1 and (sorted(nums) == sorted(['10','J','Q','K','A'])):\n",
        "            return 'Royal Flush'\n",
        "        else:\n",
        "            return False\n"
      ]
    },
    {
      "cell_type": "code",
      "source": [
        "N = int(input('#--포커 확률 시뮬레이터--\\n몇번을 실행할까요?: '))\n",
        "app = PokerHandSimulator(N)\n",
        "\n",
        "# 방법1: 임의로 카드 부여\n",
        "app.main()  # 임의로 카드 부여하기\n",
        "\n",
        "# 방법2: 테스트를 위한 방법\n",
        "# my_cards = ['♧3', '♡10', '♤10', '◇10', '♡2']\n",
        "# my_cards = ['♡3', '♡10', '♡K', '♡9', '♡2']\n",
        "# my_cards = ['♡A', '♡10', '♡K', '♡J', '♡Q']\n",
        "# print(f'my_cards : {my_cards}')\n",
        "# app.check_hand(my_cards)"
      ],
      "metadata": {
        "id": "rRy5ZhRdqjnw"
      },
      "id": "rRy5ZhRdqjnw",
      "execution_count": null,
      "outputs": []
    },
    {
      "cell_type": "markdown",
      "id": "20aa413e",
      "metadata": {
        "id": "20aa413e"
      },
      "source": [
        "--------------"
      ]
    },
    {
      "cell_type": "markdown",
      "id": "d715c90a",
      "metadata": {
        "id": "d715c90a"
      },
      "source": [
        "## 10-3.이항정리와 다항정리"
      ]
    },
    {
      "cell_type": "markdown",
      "source": [
        "### @이항정리\n",
        "- $(x+y)^n$ = $\\sum_{r=0}^n$ $_nC_rx^{n-r}y^r$\n",
        "- 일반항 $_nC_rx^{n-r}y^r$"
      ],
      "metadata": {
        "id": "TuBm5whGsrq6"
      },
      "id": "TuBm5whGsrq6"
    },
    {
      "cell_type": "markdown",
      "source": [
        "### [예제 10-22] 이항계수 구하기\n",
        "$(3x-y)^5$을 전개했을 때, $x^2y^3$의 계수를 구하라."
      ],
      "metadata": {
        "id": "4h9w04Yyrj3g"
      },
      "id": "4h9w04Yyrj3g"
    },
    {
      "cell_type": "code",
      "source": [
        "from math import comb\n",
        "\n",
        "def binominal_coefficient(a, b, n, x_exp, y_exp):\n",
        "    \"\"\"\n",
        "    이항식 전개에서 특정 항의 계수를 계산하는 함수\n",
        "    \"\"\"\n",
        "    # y의 지수는 r, x의 지수는 n-r\n",
        "    r = y_exp\n",
        "    if x_exp != n - r:\n",
        "        return 0  # 주어진 지수 조건이 맞지 않으면 0 반환\n",
        "\n",
        "    # 계수 계산 :\n",
        "    return comb(n, r) * (a ** (n - r)) * (b ** r)\n",
        "\n",
        "# 문제에 맞는 값 설정\n",
        "a = 2    # x의 계수\n",
        "b = -1   # y의 계수\n",
        "n = 5    # 전체 다항식의 지수\n",
        "x_exp = 2  # x의 지수\n",
        "y_exp = 3  # y의 지수\n",
        "\n",
        "# 계수 계산\n",
        "coefficient = binominal_coefficient(a, b, n, x_exp, y_exp)\n",
        "\n",
        "# 결과 출력\n",
        "print(f\"(3x - y)^5에서 x^2y^3의 계수는: {coefficient}\")\n"
      ],
      "metadata": {
        "id": "vrTElIujrxG7"
      },
      "id": "vrTElIujrxG7",
      "execution_count": null,
      "outputs": []
    },
    {
      "cell_type": "markdown",
      "id": "866b014d",
      "metadata": {
        "id": "866b014d"
      },
      "source": [
        "### @파스칼 삼각형\n",
        "이항계수를 삼각형 형태로 나타낸 것"
      ]
    },
    {
      "cell_type": "code",
      "source": [
        "def pascals_triangle(n):\n",
        "    \"\"\"\n",
        "    파스칼의 삼각형을 출력하는 함수\n",
        "    :param n: 삼각형의 행 수\n",
        "    \"\"\"\n",
        "    triangle = []  # 파스칼의 삼각형 저장\n",
        "\n",
        "    for i in range(n):\n",
        "        row = [1]  # 각 행의 첫 번째 항은 항상 1\n",
        "        for j in range(1, i + 1):\n",
        "            # 이항 계수 계산: 이전 행을 기반으로 현재 값을 계산\n",
        "            value = triangle[i - 1][j - 1] + triangle[i - 1][j] if j < len(triangle[i - 1]) else 1\n",
        "            row.append(value)\n",
        "        triangle.append(row)\n",
        "\n",
        "\n",
        "    # 최대 폭 계산 (중심 정렬에 사용)\n",
        "    max_width = len(\" \".join(map(str, triangle[-1])))\n",
        "\n",
        "    # 출력\n",
        "    for row in triangle:\n",
        "        print(\" \".join(map(str, row)).center(max_width))\n",
        "\n",
        "\n",
        "# 파스칼의 삼각형 출력\n",
        "rows = 10  # 원하는 행 수\n",
        "pascals_triangle(rows)\n"
      ],
      "metadata": {
        "id": "ZwFBUPY4vGxb"
      },
      "id": "ZwFBUPY4vGxb",
      "execution_count": null,
      "outputs": []
    },
    {
      "cell_type": "markdown",
      "source": [
        "### @다항정리\n",
        "- 두 개 이상의 항을 가진 다항식$(x_1+x_2+...+x_n)^n$을 전개할 때 사용하는 수학적 정리\n",
        "- 이항정리 $(a+b)^n$의 확장판.  k개의 항의 값을 계산할 수 있음\n",
        "- 다항정리 공식\n",
        "> $(x_1+x_2+...+x_n)^n$ = $\\sum_{r_1+r_2+...+r_k=n}$ $\\frac{n!}{r_1! r_2! ... r_k!}$ $x_{1}^{r_1}x_{2}^{r_2}...x_{k}^{r_k}$\n",
        "- 다항계수 : $\\frac{n!}{r_1! r_2! ... r_k!}$"
      ],
      "metadata": {
        "id": "-1F9Mio-wguk"
      },
      "id": "-1F9Mio-wguk"
    },
    {
      "cell_type": "markdown",
      "source": [
        "### [예제 10-23] 다항정리 : 계수 구하기\n",
        "$(x+y+z)^9$를 전개했을 때 $x^2y^3z^4$의 계수를 구하라"
      ],
      "metadata": {
        "id": "jQUV0PYnq1Wa"
      },
      "id": "jQUV0PYnq1Wa"
    },
    {
      "cell_type": "code",
      "source": [
        "from math import factorial\n",
        "\n",
        "def multinomial_coefficient(n, ks):\n",
        "    \"\"\"\n",
        "    다항 계수를 계산하는 함수.\n",
        "    \"\"\"\n",
        "    # n! / (k1! * k2! * k3! ...)\n",
        "    return factorial(n) // (factorial(ks[0]) * factorial(ks[1]) * factorial(ks[2]))\n",
        "\n",
        "# 입력값 설정\n",
        "n = 9                 # 전체 차수\n",
        "k1, k2, k3 = 2, 3, 4  # x^2, y^3, z^4\n",
        "\n",
        "# 다항 계수 계산\n",
        "coefficient = multinomial_coefficient(n, [k1, k2, k3])\n",
        "\n",
        "# 결과 출력\n",
        "print(f\"(x + y + z)^9에서 x^2y^3z^4의 계수는: {coefficient}\")\n"
      ],
      "metadata": {
        "id": "iWFHoGOmq0vw"
      },
      "id": "iWFHoGOmq0vw",
      "execution_count": null,
      "outputs": []
    },
    {
      "cell_type": "markdown",
      "id": "d16a1d6b",
      "metadata": {
        "id": "d16a1d6b"
      },
      "source": [
        "------------------------------------------"
      ]
    },
    {
      "cell_type": "markdown",
      "id": "7f02949f",
      "metadata": {
        "id": "7f02949f"
      },
      "source": [
        "## 10-4.확률의 기초 및 조건부 확률\n"
      ]
    },
    {
      "cell_type": "markdown",
      "source": [
        "### @확률(Probability)의 성질\n",
        "표본공간 S의 각 사건 $A_i$가 일어날 확률을 $P(A_i)$라고 할 때\n",
        "- (1) 어떤 사건이 일어날 확률은 다음과 같다.\n",
        "> $0 \\le P(A) \\le 1$ <br>\n",
        "- (2) 한 표본공간의 모든 사건들의 확률의 합은 1이다.\n",
        "> $\\sum_{i=1}^{n} P(A) = 1$"
      ],
      "metadata": {
        "id": "436EAGnt3808"
      },
      "id": "436EAGnt3808"
    },
    {
      "cell_type": "markdown",
      "source": [
        "### @배반사건(exclusive events)\n",
        "- 2개의 사건 𝑨, 𝑩가 동시에 일어날 수 없을 때, 즉 한쪽이 일어나면 다른 쪽이 일어나지 않을 때의 두 사건을 말한다. (배반사건은 뒤에서 설명하는 독립 사건과는 다르다.)\n",
        "- 배반사건의 합의 법칙\n",
        "> $P(A \\cup B) = P(A) + P(B) $\n",
        "- 배반사건이 아닐 때의 합의 법칙\n",
        "> $P(A \\cup B) = P(A) + P(B) -  P(A \\cap B)$\n",
        "\n"
      ],
      "metadata": {
        "id": "9mQpAQSb4GXo"
      },
      "id": "9mQpAQSb4GXo"
    },
    {
      "cell_type": "markdown",
      "source": [
        "### @조건부 확률(conditional_probability)\n",
        "표본공간의 선정에 따라 확률이 달라지는 것을 고려한 확률\n",
        "- \"B가 주어졌을 때 𝐴가 일어날 확률\"이다\n",
        "> $P(A|B) = \\frac{P(A \\cap B)} {P(B)}$"
      ],
      "metadata": {
        "id": "G9WMMTEv39mh"
      },
      "id": "G9WMMTEv39mh"
    },
    {
      "cell_type": "markdown",
      "id": "bee0a9a1",
      "metadata": {
        "id": "bee0a9a1"
      },
      "source": [
        "### 조건부 확률 계산"
      ]
    },
    {
      "cell_type": "code",
      "execution_count": null,
      "id": "f1a214c4",
      "metadata": {
        "scrolled": true,
        "id": "f1a214c4"
      },
      "outputs": [],
      "source": [
        "import pandas as pd\n",
        "\n",
        "tiresale = {'M' : {'G':64, 'B':16},\n",
        "            'P' : {'G':42, 'B':78}}\n",
        "\n",
        "table = pd.DataFrame(tiresale).transpose()\n",
        "table"
      ]
    },
    {
      "cell_type": "code",
      "source": [
        "# 각각 확률\n",
        "P_M = table.loc['M'].sum() / table.values.sum()  # 유명 메이커가 선택되는 사건\n",
        "P_P = table.loc['P'].sum() / table.values.sum()  # 사제품이 선택되는 사건\n",
        "P_G = table['G'].sum() / table.values.sum()      # 양질의 서비스가 선택되는 사건\n",
        "P_B = table['G'].sum() / table.values.sum()\n",
        "P_G_M = table.loc['M']['G'] / table.loc['M'].sum()\n",
        "P_B_M = table.loc['M']['B'] / table.loc['M'].sum()\n",
        "P_G_P = table.loc['P']['G'] / table.loc['P'].sum()\n",
        "P_B_P = table.loc['P']['B'] / table.loc['P'].sum()\n",
        "print(f'P_M(메이커): {P_M}')\n",
        "print(f'P_P(시제품): {P_P}')\n",
        "print(f'P_G(양질의서비스): {P_G}')\n",
        "print(f'P_B(저질의서비스): {P_B}')\n",
        "print(f'P_G_M(메이커면서 양질의서비스): {P_G_M}')\n",
        "print(f'P_B_M: {P_B_M}')\n",
        "print(f'P_G_P: {P_G_P}')\n",
        "print(f'P_B_P: {P_B_P}')"
      ],
      "metadata": {
        "id": "Wj2puk167fik"
      },
      "id": "Wj2puk167fik",
      "execution_count": null,
      "outputs": []
    },
    {
      "cell_type": "markdown",
      "source": [
        "### [예제 10-29] 조건부 확률\n",
        "어떤 학급에서 남학생일 확률 P(A)=0.54이고, 안경 쓸 확률 P(B)=0.81일 때, 안경 쓴 남학생일 확률 P(A⋂B)=0.18이다. 남학생인 경우에 안경 쓸 확률과 안경 쓴 학생인 경우 남학생일 확률을 구하라.  "
      ],
      "metadata": {
        "id": "sObqazCe7vfS"
      },
      "id": "sObqazCe7vfS"
    },
    {
      "cell_type": "code",
      "source": [
        "def conditional_probabilities(P_A, P_B, P_A_and_B):\n",
        "    \"\"\"\n",
        "    조건부 확률을 계산하는 함수\n",
        "    :param P_A: 남학생일 확률 (P(A))\n",
        "    :param P_B: 안경 쓸 확률 (P(B))\n",
        "    :param P_A_and_B: 안경 쓴 남학생일 확률 (P(A ∩ B))\n",
        "    :return: (P(B|A), P(A|B)) - 남학생인 경우 안경 쓸 확률, 안경 쓴 경우 남학생일 확률\n",
        "    \"\"\"\n",
        "    # 조건부 확률 계산\n",
        "    P_B_given_A = P_A_and_B / P_A if P_A != 0 else 0\n",
        "    P_A_given_B = P_A_and_B / P_B if P_B != 0 else 0\n",
        "\n",
        "    return P_B_given_A, P_A_given_B\n",
        "\n",
        "# 입력 값\n",
        "P_A = 0.54   # 남학생일 확률\n",
        "P_B = 0.81   # 안경 쓸 확률\n",
        "P_A_and_B = 0.18  # 안경 쓴 남학생일 확률\n",
        "\n",
        "# 함수 호출\n",
        "P_B_given_A, P_A_given_B = conditional_probabilities(P_A, P_B, P_A_and_B)\n",
        "\n",
        "# 결과 출력\n",
        "print(f\"1. 남학생인 경우에 안경 쓸 확률 P(B|A): {P_B_given_A:.2f}\")\n",
        "print(f\"2. 안경 쓴 학생인 경우 남학생일 확률 P(A|B): {P_A_given_B:.2f}\")\n"
      ],
      "metadata": {
        "id": "Gab8JJgH7vpz"
      },
      "id": "Gab8JJgH7vpz",
      "execution_count": null,
      "outputs": []
    },
    {
      "cell_type": "markdown",
      "id": "4fa0a05e",
      "metadata": {
        "id": "4fa0a05e"
      },
      "source": [
        "### 응용: 조건부 확률 계산"
      ]
    },
    {
      "cell_type": "code",
      "execution_count": null,
      "id": "b0c98232",
      "metadata": {
        "scrolled": true,
        "id": "b0c98232"
      },
      "outputs": [],
      "source": [
        "from numpy import random\n",
        "\n",
        "random.seed(0)\n",
        "\n",
        "N = 100000\n",
        "\n",
        "연령층 = [20, 30, 40, 50, 60, 70]\n",
        "연령층인구수 = {age:0 for age in 연령층}\n",
        "연령층구매량 = {age:0 for age in 연령층}\n",
        "전체구매량 = 0\n",
        "\n",
        "for _ in range(N):\n",
        "    특정연령층 = random.choice(연령층)\n",
        "    구매확률 = float(특정연령층) / 100.0\n",
        "    연령층인구수[특정연령층] += 1\n",
        "    if random.random() < 구매확률:\n",
        "        전체구매량 += 1\n",
        "        연령층구매량[특정연령층] += 1\n",
        "\n",
        "\n",
        "for age in 연령층:\n",
        "    print(f'{age}대 인구비율: {float(연령층인구수[age]/N)}')\n",
        "    print(f'{age}대 구매확률: {float(연령층구매량[age]/N)}')\n",
        "    print(f'{age}대 구매할 조건부확룰: {float(연령층구매량[age]/N) / float(연령층인구수[age]/N)}')\n",
        "    print('-'*30)\n",
        "\n",
        "print(f'인구비율: {sum(연령층인구수.values())/N}')"
      ]
    },
    {
      "cell_type": "markdown",
      "source": [
        "### [예제 10-31]\n",
        "- (a) 동전을 두 개 던져서 모두 앞면이 나올 때의 확률\n",
        "- (b) 52장의 카드에서 2장을 뽑을 때 첫 번째 카드를 뽑고 다시 넣은 후\n",
        "두 번째 카드를 뽑아서 두 장 모두 에이스일 확률\n",
        "- (c) 52장의 카드에서 2장을 뽑을 때, 첫 번째 카드를 뽑고 다시 넣지 않은 후 두 번째 카드를 뽑아서 2장 모두 에이스일 확률  "
      ],
      "metadata": {
        "id": "m0gy4Qf5C_5U"
      },
      "id": "m0gy4Qf5C_5U"
    },
    {
      "cell_type": "code",
      "source": [
        "from itertools import product\n",
        "\n",
        "def probability_two_heads():\n",
        "    # 가능한 결과: 'H' (앞면), 'T' (뒷면)\n",
        "    outcomes = list(product(['H', 'T'], repeat=2))\n",
        "\n",
        "    # 성공 케이스: ('H', 'H')\n",
        "    success = [outcome for outcome in outcomes if outcome == ('H', 'H')]\n",
        "\n",
        "    # 확률 계산\n",
        "    probability = len(success) / len(outcomes)\n",
        "    return probability\n",
        "\n",
        "# 결과 출력\n",
        "print(\"(a) 동전을 두 개 던져 모두 앞면이 나올 확률:\", probability_two_heads())\n"
      ],
      "metadata": {
        "id": "UwrUjvaSDEkJ"
      },
      "id": "UwrUjvaSDEkJ",
      "execution_count": null,
      "outputs": []
    },
    {
      "cell_type": "code",
      "source": [
        "def probability_two_aces_replacement():\n",
        "    # 각 뽑기에서 가능한 카드: 'Ace' (4장) + 'Other' (48장)\n",
        "    deck = ['Ace'] * 4 + ['Other'] * 48\n",
        "\n",
        "    # 두 번 뽑기 (복원추출)\n",
        "    outcomes = list(product(deck, repeat=2))\n",
        "\n",
        "    # 성공 케이스: ('Ace', 'Ace')\n",
        "    success = [outcome for outcome in outcomes if outcome == ('Ace', 'Ace')]\n",
        "\n",
        "    # 확률 계산\n",
        "    probability = len(success) / len(outcomes)\n",
        "    return probability\n",
        "\n",
        "# 결과 출력\n",
        "print(\"(b) 두 장 모두 에이스 (복원추출):\", probability_two_aces_replacement())\n"
      ],
      "metadata": {
        "id": "EJVuta_CDHnh"
      },
      "id": "EJVuta_CDHnh",
      "execution_count": null,
      "outputs": []
    },
    {
      "cell_type": "code",
      "source": [
        "from itertools import permutations\n",
        "\n",
        "def probability_two_aces_no_replacement():\n",
        "    # 덱 생성\n",
        "    deck = ['Ace'] * 4 + ['Other'] * 48\n",
        "\n",
        "    # 두 장 뽑기 (비복원추출)\n",
        "    outcomes = list(permutations(deck, 2))\n",
        "\n",
        "    # 성공 케이스: 첫 번째와 두 번째 카드가 모두 'Ace'\n",
        "    success = [outcome for outcome in outcomes if outcome[0] == 'Ace' and outcome[1] == 'Ace']\n",
        "\n",
        "    # 확률 계산\n",
        "    probability = len(success) / len(outcomes)\n",
        "    return probability\n",
        "\n",
        "# 결과 출력\n",
        "print(\"(c) 두 장 모두 에이스 (비복원추출):\", probability_two_aces_no_replacement())\n"
      ],
      "metadata": {
        "id": "ED5XBukRDHqh"
      },
      "id": "ED5XBukRDHqh",
      "execution_count": null,
      "outputs": []
    },
    {
      "cell_type": "markdown",
      "id": "cc2e4f9b",
      "metadata": {
        "id": "cc2e4f9b"
      },
      "source": [
        "---------------------"
      ]
    },
    {
      "cell_type": "markdown",
      "id": "5287ba98",
      "metadata": {
        "id": "5287ba98"
      },
      "source": [
        "THE END"
      ]
    }
  ],
  "metadata": {
    "kernelspec": {
      "display_name": "Python 3",
      "language": "python",
      "name": "python3"
    },
    "language_info": {
      "codemirror_mode": {
        "name": "ipython",
        "version": 3
      },
      "file_extension": ".py",
      "mimetype": "text/x-python",
      "name": "python",
      "nbconvert_exporter": "python",
      "pygments_lexer": "ipython3",
      "version": "3.9.10"
    },
    "colab": {
      "provenance": [],
      "toc_visible": true,
      "include_colab_link": true
    }
  },
  "nbformat": 4,
  "nbformat_minor": 5
}
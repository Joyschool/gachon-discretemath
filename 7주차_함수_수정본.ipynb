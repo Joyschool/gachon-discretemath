{
  "cells": [
    {
      "cell_type": "markdown",
      "metadata": {
        "id": "view-in-github",
        "colab_type": "text"
      },
      "source": [
        "<a href=\"https://colab.research.google.com/github/Joyschool/gachon-discretemath/blob/main/7%EC%A3%BC%EC%B0%A8_%ED%95%A8%EC%88%98_%EC%88%98%EC%A0%95%EB%B3%B8.ipynb\" target=\"_parent\"><img src=\"https://colab.research.google.com/assets/colab-badge.svg\" alt=\"Open In Colab\"/></a>"
      ]
    },
    {
      "cell_type": "markdown",
      "id": "7d666a34",
      "metadata": {
        "id": "7d666a34"
      },
      "source": [
        "# 6.함수(Function)"
      ]
    },
    {
      "cell_type": "markdown",
      "id": "SrQ2eoRpAVou",
      "metadata": {
        "id": "SrQ2eoRpAVou"
      },
      "source": [
        "## 다양한 분야에서 사용되는 함수"
      ]
    },
    {
      "cell_type": "markdown",
      "id": "GOWROaBMAiAO",
      "metadata": {
        "id": "GOWROaBMAiAO"
      },
      "source": [
        "### [예제] 경제학: 수요 함수\n",
        "- 경제학에서 함수는 다양한 경제 변수 간의 관계를 설명하는 데 사용됨\n",
        "- 수요-공급 함수는 가격 $P$에 따라 수요량 $Q_d$, 공급량 $Q_s$이 변하는 관계를 나타냄\n",
        "    - 수요함수: $Q_d$  = $a$ - $bP$  (a는 최대 수요량, b는 가격 변화에 따른 수요 변화 비율)\n",
        "    - 공급함수: $Q_s$  = $c$ - $dP$ (c는 최소 공급량, d는 가격 변화에 따른 공급 변화 비율)\n",
        "    - 시장균형: $Q_d$  = $Q_s$ (수요량과 공급량이 일치하는 지점에서의 가격과 수량이 시장 균형점이 됨)"
      ]
    },
    {
      "cell_type": "code",
      "execution_count": null,
      "id": "tU5dav6YAcF0",
      "metadata": {
        "id": "tU5dav6YAcF0"
      },
      "outputs": [],
      "source": [
        "import matplotlib.pyplot as plt\n",
        "\n",
        "def demand_function(price):\n",
        "    \"\"\"수요 함수: 가격이 증가할수록 수요량이 감소합니다.\"\"\"\n",
        "    a = 100  # 최대 수요량\n",
        "    b = 2    # 가격 변화에 따른 수요 변화 비율\n",
        "    return a - b * price\n",
        "\n",
        "def supply_function(price):\n",
        "    \"\"\"공급 함수: 가격이 증가할수록 공급량이 증가합니다.\"\"\"\n",
        "    c = 20  # 최소 공급량\n",
        "    d = 1.5 # 가격 변화에 따른 공급 변화 비율\n",
        "    return c + d * price\n",
        "\n",
        "# 가격이 0에서 50까지 변화할 때 수요량과 공급량을 계산\n",
        "prices = [p / 10 for p in range(0, 501)]  # 더 세밀한 가격 구간 사용\n",
        "demand_quantities = [demand_function(price) for price in prices]\n",
        "supply_quantities = [supply_function(price) for price in prices]\n",
        "\n",
        "# 균형점 찾기: 수요량과 공급량의 차이가 가장 작은 지점 찾기\n",
        "min_difference = float('inf')\n",
        "equilibrium_price = None\n",
        "equilibrium_quantity = None\n",
        "\n",
        "for price, demand, supply in zip(prices, demand_quantities, supply_quantities):\n",
        "    difference = abs(demand - supply)\n",
        "    if difference < min_difference:\n",
        "        min_difference = difference\n",
        "        equilibrium_price = price\n",
        "        equilibrium_quantity = (demand + supply) / 2  # 수요량과 공급량의 평균을 사용\n",
        "\n",
        "# 그래프 시각화\n",
        "plt.figure(figsize=(6, 4))\n",
        "plt.plot(prices, demand_quantities, label='Demand Curve', color='b')\n",
        "plt.plot(prices, supply_quantities, label='Supply Curve', color='r')\n",
        "\n",
        "# 균형점 표시\n",
        "if equilibrium_price is not None and equilibrium_quantity is not None:\n",
        "    plt.scatter(equilibrium_price, equilibrium_quantity, color='purple', label='Equilibrium Point')\n",
        "    plt.annotate(f'Equilibrium: P={equilibrium_price:.2f}, Q={equilibrium_quantity:.2f}',\n",
        "                 (equilibrium_price, equilibrium_quantity), textcoords=\"offset points\", xytext=(0,10), ha='center')\n",
        "\n",
        "# 그래프 설정\n",
        "plt.title('Demand and Supply Functions')\n",
        "plt.xlabel('Price')\n",
        "plt.ylabel('Quantity')\n",
        "plt.grid()\n",
        "plt.legend(loc='lower right')\n",
        "plt.show()\n"
      ]
    },
    {
      "cell_type": "markdown",
      "id": "0k0LsAMXDzDY",
      "metadata": {
        "id": "0k0LsAMXDzDY"
      },
      "source": [
        "### [예제] 물리학: 운동 방정식\n",
        "- 물체의 위치를 시간의 함수로 표현\n",
        "- 운동 방정식 (Equation of Motion): 물체의 위치 $s$는 시간 $t$, 초기 속도, 초기 위치, 그리고 중력 가속도와의 관계로 표현됨\n",
        "- 이 식은 물체가 자유 낙하할 때의 위치를 나타내며, 중력의 영향을 고려함\n",
        "    - $s(t)$ = $s_0$ + $v_0$$t$ - $\\frac{1}{2}gt^2 $\n",
        "    - $s_0$ : 초기 위치\n",
        "    - $v_0$ : 초기 속도\n",
        "    - $g$ : 중력 가속도 (9.81 $m/s^2$)\n",
        "    - $t$ : 시간"
      ]
    },
    {
      "cell_type": "code",
      "execution_count": null,
      "id": "tbNj-bLSD_vF",
      "metadata": {
        "id": "tbNj-bLSD_vF"
      },
      "outputs": [],
      "source": [
        "def position_function(time, initial_velocity, initial_position):\n",
        "    \"\"\"운동 방정식: 물체의 위치를 시간에 대한 함수로 나타냅니다.\"\"\"\n",
        "    g = 9.81  # 중력 가속도 (m/s^2)\n",
        "    return initial_position + initial_velocity * time - 0.5 * g * time**2\n",
        "\n",
        "# 초기 속도와 초기 위치 설정\n",
        "initial_velocity = 0  # 초기 속도 (m/s)\n",
        "initial_position = 100  # 초기 위치 (m)\n",
        "\n",
        "# 시간 0에서 10초까지의 위치 계산\n",
        "times = [t for t in range(0, 11)]\n",
        "positions = [position_function(t, initial_velocity, initial_position) for t in times]\n",
        "\n",
        "# 그래프 시각화\n",
        "plt.figure(figsize=(6, 4))\n",
        "plt.plot(times, positions, label='Position over Time', color='g')\n",
        "plt.title('Physics: Position vs. Time')\n",
        "plt.xlabel('Time (s)')\n",
        "plt.ylabel('Position (m)')\n",
        "plt.grid()\n",
        "plt.legend()\n",
        "plt.show()\n"
      ]
    },
    {
      "cell_type": "markdown",
      "id": "R64qx1dhHvoR",
      "metadata": {
        "id": "R64qx1dhHvoR"
      },
      "source": [
        "### [예제] 생물학: 약물 농도 모델링 (약동학)\n",
        "- 약물 농도 모델링 (Pharmacokinetics Model): 약물의 농도 $C$는 시간 $t$, 초기 농도 $C_0$, 그리고 소실 속도 $k$k에 따라 지수적으로 감소함\n",
        "- 이 식은 약물의 체내 농도가 시간 경과에 따라 지수적으로 감소하는 것을 나타\n",
        "    - $C(t)$ =  $C_0$$e^{-kt}$\n",
        "    - $C_0$ : 초기 약물 농도\n",
        "    - $k$ : 약물의 소실 속도 상수 (1/시간)\n",
        "    - $e$ : 자연 상수 (약 2.718)\n",
        "\n"
      ]
    },
    {
      "cell_type": "code",
      "execution_count": null,
      "id": "xnHKqJRrHvzo",
      "metadata": {
        "id": "xnHKqJRrHvzo"
      },
      "outputs": [],
      "source": [
        "import math\n",
        "\n",
        "def drug_concentration(time, initial_concentration, elimination_rate):\n",
        "    \"\"\"약물 농도 모델링: 시간에 따른 약물 농도의 변화를 나타냅니다.\"\"\"\n",
        "    return initial_concentration * math.exp(-elimination_rate * time)\n",
        "\n",
        "# 초기 농도와 소실 속도 설정\n",
        "initial_concentration = 100  # 초기 약물 농도 (mg/L)\n",
        "elimination_rate = 0.1       # 소실 속도 상수 (1/hour)\n",
        "\n",
        "# 시간 0에서 10시간까지 약물 농도 계산\n",
        "times = [t for t in range(0, 11)]\n",
        "concentrations = [drug_concentration(t, initial_concentration, elimination_rate) for t in times]\n",
        "\n",
        "# 그래프 시각화\n",
        "plt.figure(figsize=(6, 4))\n",
        "plt.plot(times, concentrations, label='Drug Concentration over Time', color='r')\n",
        "plt.title('Biology: Drug Concentration vs. Time')\n",
        "plt.xlabel('Time (hours)')\n",
        "plt.ylabel('Concentration (mg/L)')\n",
        "plt.grid()\n",
        "plt.legend()\n",
        "plt.show()\n"
      ]
    },
    {
      "cell_type": "markdown",
      "id": "XXSE-_G8hZz4",
      "metadata": {
        "id": "XXSE-_G8hZz4"
      },
      "source": [
        "## 함수의 응용 :"
      ]
    },
    {
      "cell_type": "markdown",
      "id": "qGUNhO5r-xaI",
      "metadata": {
        "id": "qGUNhO5r-xaI"
      },
      "source": [
        "### [예제] 자동차의 제동거리 계산\n",
        "- $d = \\frac{v^2}{2 \\mu g}$\n",
        "    - d : 제동거리(미터)\n",
        "    - $v$는 초기 속도 (m/s)\n",
        "    - 𝜇 : 도로와 타이어 사이의 마찰계수\n",
        "    - 𝑔 : 중력 가속도 (9.81 𝑚/$s^2$)"
      ]
    },
    {
      "cell_type": "code",
      "execution_count": null,
      "id": "kPYHy2WV-xn9",
      "metadata": {
        "id": "kPYHy2WV-xn9"
      },
      "outputs": [],
      "source": [
        "def braking_distance(speed, friction_coefficient):\n",
        "    \"\"\"\n",
        "    자동차의 제동거리를 계산하는 함수.\n",
        "\n",
        "    Parameters:\n",
        "        speed (float): 초기 속도 (km/h)\n",
        "        friction_coefficient (float): 도로와 타이어 사이의 마찰계수\n",
        "        - 건조한 아스팔트/콘크리트 도로 : 0.7 - 0.9\n",
        "        - 젖은 아스팔트/콘크리트 도로 : 0.4 - 0.6\n",
        "        - 눈이 쌓인 도로 : 0.2 - 0.3\n",
        "        - 얼어붙은 도로 (빙판길) : 0.1 - 0.2\n",
        "        - 비포장 도로 (자갈길, 흙길) :  0.3 - 0.5\n",
        "        - 젖은 잔디 : 0.25 - 0.4\n",
        "\n",
        "    Returns:\n",
        "        float: 제동거리 (미터)\n",
        "    \"\"\"\n",
        "    # 속도를 m/s로 변환\n",
        "    speed_m_s = speed / 3.6\n",
        "\n",
        "    # 중력 가속도\n",
        "    g = 9.81\n",
        "\n",
        "    # 제동거리 계산\n",
        "    distance = (speed_m_s ** 2) / (2 * friction_coefficient * g)\n",
        "\n",
        "    return distance\n",
        "\n",
        "# 예제 사용\n",
        "initial_speed = 100  # km/h\n",
        "friction_coefficient = 0.7  # 마른 아스팔트의 마찰계수\n",
        "\n",
        "stopping_distance = braking_distance(initial_speed, friction_coefficient)\n",
        "print(f\"제동거리: {stopping_distance:.2f} 미터\")\n"
      ]
    },
    {
      "cell_type": "markdown",
      "id": "hPTyXX0E1Hzk",
      "metadata": {
        "id": "hPTyXX0E1Hzk"
      },
      "source": [
        "### [예제] : GPS를 이용한 위치 찾기\n",
        "- 스마트폰에서 자신의 위치 찾는 방법\n",
        "- 3개의 GPS 수신기로 측정하고 삼각법을 이용한 삼변측량법으로 위치 계산\n",
        "- https://ko.wikipedia.org/wiki/%EC%82%BC%EB%B3%80%EC%B8%A1%EB%9F%89\n",
        "- triangulation(삼각측량) vs trilateration(삼변측량)"
      ]
    },
    {
      "cell_type": "code",
      "execution_count": null,
      "id": "YRE-ZJ4M1H89",
      "metadata": {
        "id": "YRE-ZJ4M1H89"
      },
      "outputs": [],
      "source": [
        "import numpy as np\n",
        "import matplotlib.pyplot as plt\n",
        "\n",
        "# Colab에서 그래프를 제대로 그리기 위한 설정\n",
        "%matplotlib inline\n",
        "\n",
        "def calculate_position(p1, p2, p3, d1, d2, d3):\n",
        "    \"\"\"\n",
        "    삼변 측량법을 사용하여 GPS 수신기의 위치를 계산합니다.\n",
        "\n",
        "    Parameters:\n",
        "        p1, p2, p3: 위성의 좌표 (x, y) 튜플\n",
        "        d1, d2, d3: 각 위성으로부터의 거리\n",
        "\n",
        "    Returns:\n",
        "        (x, y): 계산된 GPS 수신기의 위치 좌표\n",
        "    \"\"\"\n",
        "    # 위성의 좌표\n",
        "    x1, y1 = p1\n",
        "    x2, y2 = p2\n",
        "    x3, y3 = p3\n",
        "\n",
        "    # 삼변 측량을 통한 위치 계산\n",
        "    A = 2 * (x2 - x1)\n",
        "    B = 2 * (y2 - y1)\n",
        "    C = d1**2 - d2**2 - x1**2 + x2**2 - y1**2 + y2**2\n",
        "    D = 2 * (x3 - x2)\n",
        "    E = 2 * (y3 - y2)\n",
        "    F = d2**2 - d3**2 - x2**2 + x3**2 - y2**2 + y3**2\n",
        "\n",
        "    # x와 y 좌표 계산\n",
        "    x = (C * E - F * B) / (E * A - B * D)\n",
        "    y = (C * D - A * F) / (B * D - A * E)\n",
        "\n",
        "    return (x, y)\n",
        "\n",
        "def plot_gps_trilateration(p1, p2, p3, d1, d2, d3, position):\n",
        "    \"\"\"\n",
        "    삼변 측량 결과를 시각적으로 표시합니다.\n",
        "\n",
        "    Parameters:\n",
        "        p1, p2, p3: 위성의 좌표 (x, y) 튜플\n",
        "        d1, d2, d3: 각 위성으로부터의 거리\n",
        "        position: 계산된 GPS 수신기의 위치 좌표\n",
        "    \"\"\"\n",
        "    fig, ax = plt.subplots(figsize=(10, 6))\n",
        "\n",
        "    # 위성과 거리 원 그리기\n",
        "    for (px, py), d, color in zip([p1, p2, p3], [d1, d2, d3], ['r', 'g', 'b']):\n",
        "        circle = plt.Circle((px, py), d, color=color, fill=False, linestyle='--', label=f'Distance from Satellite ({px}, {py})')\n",
        "        ax.add_artist(circle)\n",
        "        ax.plot(px, py, 'o', color=color)  # 위성 표시\n",
        "\n",
        "    # 계산된 GPS 수신기 위치 표시\n",
        "    ax.plot(position[0], position[1], 'kx', label='Estimated GPS Position', markersize=10)\n",
        "\n",
        "    # 그래프 설정\n",
        "\n",
        "    ax.set_aspect('equal', adjustable='box')\n",
        "    ax.set_xlabel('X Position (km)')\n",
        "    ax.set_ylabel('Y Position (km)')\n",
        "    ax.set_title('GPS Trilateration Result')\n",
        "    ax.legend(loc='upper right')  # 범례를 우측 상단으로 이동\n",
        "    ax.grid(True)\n",
        "\n",
        "    # 범위 설정\n",
        "    all_points = np.array([p1, p2, p3, position])\n",
        "    buffer = max(d1, d2, d3) * 0.5\n",
        "    ax.set_xlim(all_points[:, 0].min() - buffer, all_points[:, 0].max() + buffer)\n",
        "    ax.set_ylim(all_points[:, 1].min() - buffer, all_points[:, 1].max() + buffer)\n",
        "\n",
        "    plt.show()\n",
        "\n",
        "# 위성 좌표\n",
        "satellite1 = (0, 0)   # 위성 A의 좌표\n",
        "satellite2 = (4, 0)   # 위성 B의 좌표\n",
        "satellite3 = (2, 3)   # 위성 C의 좌표\n",
        "\n",
        "# 수신기로부터 위성까지의 거리\n",
        "distance1 = 2.5   # 위성 A에서의 거리\n",
        "distance2 = 2.0   # 위성 B에서의 거리\n",
        "distance3 = 1.5   # 위성 C에서의 거리\n",
        "\n",
        "# GPS 수신기 위치 계산\n",
        "gps_position = calculate_position(satellite1, satellite2, satellite3, distance1, distance2, distance3)\n",
        "print(f\"계산된 GPS 수신기 위치: {gps_position}\")\n",
        "\n",
        "# 그래프 그리기\n",
        "plot_gps_trilateration(satellite1, satellite2, satellite3, distance1, distance2, distance3, gps_position)\n"
      ]
    },
    {
      "cell_type": "markdown",
      "id": "pFooCjZ0hh_f",
      "metadata": {
        "id": "pFooCjZ0hh_f"
      },
      "source": [
        "### [예제] : 물방울의 궤적 계산\n",
        "분수에서 물이 일정 범위 밖으로 나가지 않게 물방울 궤도 설계하는데 2차 함수 사용됨"
      ]
    },
    {
      "cell_type": "code",
      "execution_count": null,
      "id": "mZ5AlQVVvmKP",
      "metadata": {
        "id": "mZ5AlQVVvmKP"
      },
      "outputs": [],
      "source": [
        "import numpy as np\n",
        "import plotly.graph_objs as go\n",
        "from plotly.subplots import make_subplots\n",
        "\n",
        "def simulate_fountain_animation(num_drops=10, max_range=15, duration=20):\n",
        "    \"\"\"\n",
        "    다양한 궤적을 가진 물방울 애니메이션을 시뮬레이션하여 보여줍니다.\n",
        "\n",
        "    Parameters:\n",
        "        num_drops (int): 물방울의 개수\n",
        "        max_range (float): 그래프의 최대 범위\n",
        "        duration (int): 애니메이션에서 각 프레임의 지속 시간 (ms)\n",
        "    \"\"\"\n",
        "    g = 9.81  # 중력 가속도 (m/s^2)\n",
        "\n",
        "    def calculate_trajectory(initial_speed, angle, g, max_range, num_points=200):\n",
        "        \"\"\"물방울의 궤적을 계산하는 함수\"\"\"\n",
        "        vx = initial_speed * np.cos(np.radians(angle))\n",
        "        vy = initial_speed * np.sin(np.radians(angle))\n",
        "        time_values = np.linspace(0, 2 * initial_speed / g, num_points)\n",
        "        x_values = vx * time_values\n",
        "        y_values = vy * time_values - 0.5 * g * time_values**2\n",
        "        valid_indices = (np.sqrt(x_values**2 + y_values**2) <= max_range) & (y_values >= 0)\n",
        "        return x_values[valid_indices], y_values[valid_indices]\n",
        "\n",
        "    # 물방울 각각의 궤적 계산 (속도와 각도를 다양하게 설정)\n",
        "    np.random.seed(42)\n",
        "    trajectories = [\n",
        "        calculate_trajectory(\n",
        "            initial_speed=np.random.uniform(8, 15),  # 8~15 m/s 속도\n",
        "            angle=np.random.uniform(30, 150),  # 30~150도 각도\n",
        "            g=g,\n",
        "            max_range=max_range\n",
        "        )\n",
        "        for _ in range(num_drops)\n",
        "    ]\n",
        "\n",
        "    # 궤적 보완: 가장 긴 궤적에 맞춰 부족한 부분을 NaN으로 채움\n",
        "    max_length = max(len(t[0]) for t in trajectories)\n",
        "    for i in range(num_drops):\n",
        "        x_values, y_values = trajectories[i]\n",
        "        if len(x_values) < max_length:\n",
        "            x_values = np.pad(x_values, (0, max_length - len(x_values)), mode='constant', constant_values=(np.nan,))\n",
        "            y_values = np.pad(y_values, (0, max_length - len(y_values)), mode='constant', constant_values=(np.nan,))\n",
        "            trajectories[i] = (x_values, y_values)\n",
        "\n",
        "    # 애니메이션 생성\n",
        "    fig = make_subplots(rows=1, cols=1)\n",
        "    initial_traces = [\n",
        "        go.Scatter(\n",
        "            x=[trajectory[0][0]],\n",
        "            y=[trajectory[1][0]],\n",
        "            mode=\"markers\",\n",
        "            marker=dict(color=\"blue\", size=10),\n",
        "            name=f\"Water Drop {i+1}\"\n",
        "        )\n",
        "        for i, trajectory in enumerate(trajectories)\n",
        "    ]\n",
        "    for trace in initial_traces:\n",
        "        fig.add_trace(trace)\n",
        "\n",
        "    fig.update_layout(\n",
        "        title=\"Fun Fountain Animation\",\n",
        "        xaxis=dict(range=[-max_range, max_range], title=\"X Position\"),\n",
        "        yaxis=dict(range=[0, max_range], title=\"Y Position\"),\n",
        "        showlegend=False,\n",
        "    )\n",
        "\n",
        "    # 애니메이션 프레임 생성\n",
        "    frames = [\n",
        "        go.Frame(\n",
        "            data=[\n",
        "                go.Scatter(\n",
        "                    x=[trajectories[i][0][k]],\n",
        "                    y=[trajectories[i][1][k]],\n",
        "                    mode=\"markers\",\n",
        "                    marker=dict(color=\"blue\", size=10),\n",
        "                )\n",
        "                for i in range(num_drops)\n",
        "            ]\n",
        "        )\n",
        "        for k in range(max_length)\n",
        "    ]\n",
        "    fig.frames = frames\n",
        "\n",
        "    # 애니메이션 제어 추가\n",
        "    fig.update_layout(\n",
        "        updatemenus=[\n",
        "            {\n",
        "                \"buttons\": [\n",
        "                    {\n",
        "                        \"args\": [None, dict(frame=dict(duration=duration, redraw=True), fromcurrent=True, mode=\"immediate\")],\n",
        "                        \"label\": \"Play\",\n",
        "                        \"method\": \"animate\",\n",
        "                    },\n",
        "                    {\n",
        "                        \"args\": [[None], dict(frame=dict(duration=0, redraw=True), mode=\"immediate\")],\n",
        "                        \"label\": \"Pause\",\n",
        "                        \"method\": \"animate\",\n",
        "                    },\n",
        "                ],\n",
        "                \"direction\": \"left\",\n",
        "                \"pad\": {\"r\": 10, \"t\": 87},\n",
        "                \"showactive\": False,\n",
        "                \"type\": \"buttons\",\n",
        "                \"x\": 0.1,\n",
        "                \"xanchor\": \"right\",\n",
        "                \"y\": 0,\n",
        "                \"yanchor\": \"top\",\n",
        "            }\n",
        "        ]\n",
        "    )\n",
        "\n",
        "    # 그래프 출력\n",
        "    fig.show()\n",
        "\n",
        "# 함수 실행: 코랩에서 재미난 물방울 애니메이션을 시뮬레이션\n",
        "simulate_fountain_animation()\n"
      ]
    },
    {
      "cell_type": "markdown",
      "id": "xs_jL63pNUkK",
      "metadata": {
        "id": "xs_jL63pNUkK"
      },
      "source": [
        "\n",
        "\n",
        "---\n",
        "\n"
      ]
    },
    {
      "cell_type": "markdown",
      "id": "ea773fd5",
      "metadata": {
        "id": "ea773fd5"
      },
      "source": [
        "## 6-1. 함수의 정의"
      ]
    },
    {
      "cell_type": "code",
      "execution_count": null,
      "id": "c91f25bf",
      "metadata": {
        "id": "c91f25bf"
      },
      "outputs": [],
      "source": [
        "def two_times(x):\n",
        "    return x*2\n",
        "\n",
        "A = {1,2,3,4,5}\n",
        "B = set()\n",
        "for i in A:\n",
        "    B.add(two_times(i))\n",
        "print(B)"
      ]
    },
    {
      "cell_type": "markdown",
      "id": "3e4e699b",
      "metadata": {
        "id": "3e4e699b"
      },
      "source": [
        "### [예제 6-1]  함수의 정의\n",
        "- 함수 판별:\n",
        "    - A에서 B로의 관계인지를 확인\n",
        "    - 두 번째로 B의 원소에 A의 원소가 단 하나만 대응되는지 확인\n",
        "    - 세 번째로 A의 모든 원소가 대응 관계를 갖는 지를 확인\n",
        "- 정의역, 치역, 공변역 확인"
      ]
    },
    {
      "cell_type": "code",
      "execution_count": null,
      "id": "c645eeac",
      "metadata": {
        "id": "c645eeac"
      },
      "outputs": [],
      "source": [
        "def is_function(A, B, f):\n",
        "    # 1. A에서 B로의 관계인지 확인 (f 순서쌍의 원소가 각 집합에 포함되었는가? )\n",
        "    for x, y in f:\n",
        "        if x not in A or y not in B:\n",
        "            return False, set(), set(), set()\n",
        "\n",
        "    # 2. A의 모든 원소가 단 하나의 대응만 있는지 확인\n",
        "    mapping = {}\n",
        "    for x, y in f:\n",
        "        if x in mapping:\n",
        "            # 이미 x가 다른 y와 대응되면 함수가 아님\n",
        "            if mapping[x] != y:\n",
        "                return False, set(), set(), set()\n",
        "        else:\n",
        "            mapping[x] = y\n",
        "\n",
        "    # 3. A의 모든 원소가 대응 관계를 갖는지 확인\n",
        "    if set(mapping.keys()) != A:\n",
        "        return False, set(), set(), set()\n",
        "\n",
        "    # 정의역, 공역, 치역 구하기\n",
        "    domain = A\n",
        "    codomain = B\n",
        "    range_set = set(mapping.values())\n",
        "\n",
        "    # 모든 조건을 만족하면 함수임\n",
        "    return True, domain, codomain, range_set\n",
        "\n",
        "\n",
        "# 예제 사용\n",
        "A = {1, 2, 3}\n",
        "B = {'a','b','c'}\n",
        "f = {(1,'a'), (2,'a'), (3,'c')}\n",
        "\n",
        "# 함수 판별하기\n",
        "result = is_function(A, B, f)\n",
        "print(f\"f 함수판별: {result[0]}, 정의역:{result[1]} , 공역:{result[2]} , 치역:{result[3]}  \")"
      ]
    },
    {
      "cell_type": "markdown",
      "id": "22bad4ab",
      "metadata": {
        "id": "22bad4ab"
      },
      "source": [
        "### [예제 6-2]  함수의 정의\n",
        "A＝{-1, 0, 1}에서 f ∶ A→A가 f(x)＝x2으로 주어졌다. 대응하는 값이 다음 그림과 같이 f(-1)＝f(1)＝1, f(0)＝0일 때 f가 함수인지 판단하고 함수라면 정의역과 치역을 구하라."
      ]
    },
    {
      "cell_type": "code",
      "execution_count": null,
      "id": "d2da9e72",
      "metadata": {
        "id": "d2da9e72"
      },
      "outputs": [],
      "source": [
        "def f(x):\n",
        "    return x**2\n",
        "\n",
        "A = {-1, 0, 1}\n",
        "B = A\n",
        "f = { (x, int(f(x))) for x in A }\n",
        "\n",
        "result = is_function(A, B, f)  # 함수 판별하기\n",
        "print(f\"f 함수판별: {result[0]}, 정의역:{result[1]} , 공역:{result[2]} , 치역:{result[3]}  \")"
      ]
    },
    {
      "cell_type": "markdown",
      "id": "4c70478b",
      "metadata": {
        "id": "4c70478b"
      },
      "source": [
        "### 함수 그래프 :  $f(x)=x^2$ 그래프 그리기"
      ]
    },
    {
      "cell_type": "code",
      "execution_count": null,
      "id": "f9ab4f05",
      "metadata": {
        "id": "f9ab4f05",
        "scrolled": true
      },
      "outputs": [],
      "source": [
        "import matplotlib.pyplot as plt\n",
        "import numpy as np\n",
        "\n",
        "def f(x):\n",
        "    return x**2\n",
        "\n",
        "x = np.linspace(-1, 1, 10)  # A = {-1, 0, 1} 를 10 개의 균일한 크기로 쪼갠다.\n",
        "y = f(x)\n",
        "# plt.plot(x, y)\n",
        "# ‘ro-’는 빨간색 (‘red’)의 원형 (‘o’) 마커와 실선(‘-’)를 의미\n",
        "plt.figure(figsize=(6, 4))\n",
        "plt.plot(x, y, color='red', marker='o', label=\"f(x) = x**2\")\n",
        "plt.xlabel(\"x\")\n",
        "plt.ylabel(\"y\")\n",
        "plt.title(\"$y=f(x)=x^2$ function graph\")\n",
        "plt.legend()\n",
        "\n",
        "plt.show()"
      ]
    },
    {
      "cell_type": "markdown",
      "id": "349f01ed",
      "metadata": {
        "id": "349f01ed"
      },
      "source": [
        "### 프로그램 함수\n",
        "- 수학 함수와 프로그램 함수는 같은 함수이다.\n",
        "- 함수를 호출할 때 **매개변수**를 넘겨주는데, 이것이 **정의역**이고 함수의 **결과를 돌려받으면** 이것이 **치역**\n",
        "- 내장함수 : https://docs.python.org/ko/3.12/library/functions.html\n",
        "- 사용자 정의 함수 : 사용자가 필요에 의해 직접 정의한 함수"
      ]
    },
    {
      "cell_type": "markdown",
      "id": "cGnLw2oyD1Ke",
      "metadata": {
        "id": "cGnLw2oyD1Ke"
      },
      "source": [
        "### [예제] 사용자 정의 함수 : 슬라이드를 움직이면 원의 크기가 바뀌는 코드"
      ]
    },
    {
      "cell_type": "code",
      "execution_count": null,
      "id": "pUBB2zd9Al-P",
      "metadata": {
        "collapsed": true,
        "id": "pUBB2zd9Al-P"
      },
      "outputs": [],
      "source": [
        "!pip install ipywidgets"
      ]
    },
    {
      "cell_type": "code",
      "execution_count": null,
      "id": "JU1wqLKWAjK9",
      "metadata": {
        "id": "JU1wqLKWAjK9"
      },
      "outputs": [],
      "source": [
        "import matplotlib.pyplot as plt\n",
        "import ipywidgets as widgets\n",
        "from IPython.display import display\n",
        "\n",
        "def update_circle(radius):\n",
        "    \"\"\"\n",
        "    주어진 반지름으로 원을 업데이트합니다.\n",
        "\n",
        "    Parameters:\n",
        "        radius (float): 원의 반지름\n",
        "    \"\"\"\n",
        "    fig, ax = plt.subplots(figsize=(7,5))\n",
        "    circle = plt.Circle((0.5, 0.5), radius, color='blue', fill=True)\n",
        "    ax.add_artist(circle)\n",
        "\n",
        "    ax.set_xlim(0, 1)\n",
        "    ax.set_ylim(0, 1)\n",
        "    ax.set_aspect('equal', adjustable='box')\n",
        "    ax.set_title(f\"Radius: {radius:.2f}\")\n",
        "\n",
        "    plt.show()\n",
        "\n",
        "def main():\n",
        "    \"\"\"\n",
        "    메인 함수로, 슬라이더와 함께 원의 반지름을 조절할 수 있도록 설정합니다.\n",
        "    \"\"\"\n",
        "    # 슬라이더 생성 (반지름을 0.01에서 0.5까지 조절)\n",
        "    radius_slider = widgets.FloatSlider(value=0.1, min=0.01, max=0.5, step=0.01, description='Radius')\n",
        "\n",
        "    # 슬라이더와 업데이트 함수를 연결\n",
        "    interactive_plot = widgets.interactive(update_circle, radius=radius_slider)\n",
        "\n",
        "    # 슬라이더와 그래프 표시\n",
        "    display(interactive_plot)\n",
        "\n",
        "# 메인 함수 실행\n",
        "if __name__ == \"__main__\":\n",
        "    main()"
      ]
    },
    {
      "cell_type": "markdown",
      "id": "7cf0ee83",
      "metadata": {
        "id": "7cf0ee83"
      },
      "source": [
        "------------------------------"
      ]
    },
    {
      "cell_type": "markdown",
      "id": "7e0732a8",
      "metadata": {
        "id": "7e0732a8"
      },
      "source": [
        "## 6-2. 단사, 전사, 전단사 함수"
      ]
    },
    {
      "cell_type": "markdown",
      "id": "LKGVBpmUM-7z",
      "metadata": {
        "id": "LKGVBpmUM-7z"
      },
      "source": [
        "1. 단사 함수 (Injective):\n",
        "    - 서로 다른 입력값이 서로 다른 출력값에 대응할 때 단사 함수.\n",
        "2. 전사 함수 (Surjective):\n",
        "    - 공역의 모든 원소가 치역에 포함될 때 전사 함수.\n",
        "3. 전단사 함수 (Bijective):\n",
        "    - 함수가 단사이면서 전사일 때 전단사 함수."
      ]
    },
    {
      "cell_type": "code",
      "execution_count": null,
      "id": "B2u_enQxNPHG",
      "metadata": {
        "id": "B2u_enQxNPHG"
      },
      "outputs": [],
      "source": [
        "# 함수 판별하기\n",
        "def is_injective(f): # 단사 함수인지 판별\n",
        "    seen_values = set()\n",
        "    for _, y in f:\n",
        "        if y in seen_values:  # 중복 되는 대응 관계가 있는지 확인\n",
        "            return False\n",
        "        seen_values.add(y)\n",
        "    return True\n",
        "\n",
        "def is_surjective(B, f): # 전사 함수인지 판별\n",
        "    range_set = {y for _, y in f}  # 치역 구하기\n",
        "    return range_set == B          # 치역과 공역이 같은지 확인\n",
        "\n",
        "def is_bijective(A, B, f): # 전단사 함수인지 판별\n",
        "    return is_injective(f) and is_surjective(B, f)  # 단사와 전사 여부를 둘 다 확인"
      ]
    },
    {
      "cell_type": "code",
      "execution_count": null,
      "id": "C_oJsfn5Tas9",
      "metadata": {
        "id": "C_oJsfn5Tas9"
      },
      "outputs": [],
      "source": [
        "# 단사 함수인 경우\n",
        "A = {'a', 'b'}\n",
        "B = {1, 2, 3}\n",
        "f = {('a', 1), ('b', 2)}\n",
        "\n",
        "if is_function(A, B, f) : # 함수 판별하기\n",
        "    print(f\"f: 단사 여부={is_injective(f)}, 전사 여부={is_surjective(B, f)}, 전단사 여부={is_bijective(A, B, f)}\")\n",
        "else :\n",
        "    print('함수가 아닙니다.')"
      ]
    },
    {
      "cell_type": "code",
      "execution_count": null,
      "id": "OL2ZLg1FS04L",
      "metadata": {
        "id": "OL2ZLg1FS04L"
      },
      "outputs": [],
      "source": [
        "# 전사 함수인 경우\n",
        "A = {'a', 'b', 'c'}\n",
        "B = {1, 2}\n",
        "f = {('a', 1), ('b', 2), ('c', 1)}\n",
        "\n",
        "if is_function(A, B, f) : # 함수 판별하기\n",
        "    print(f\"f: 단사 여부={is_injective(f)}, 전사 여부={is_surjective(B, f)}, 전단사 여부={is_bijective(A, B, f)}\")\n",
        "else :\n",
        "    print('함수가 아닙니다.')"
      ]
    },
    {
      "cell_type": "code",
      "execution_count": null,
      "id": "CkItWcvSS5Eq",
      "metadata": {
        "id": "CkItWcvSS5Eq"
      },
      "outputs": [],
      "source": [
        "# 전단사함수인 경우\n",
        "A = {'a', 'b', 'c'}\n",
        "B = {1, 2, 3}\n",
        "f = {('a', 2), ('b', 1), ('c', 3)}\n",
        "\n",
        "if is_function(A, B, f) : # 함수 판별하기\n",
        "    print(f\"f: 단사 여부={is_injective(f)}, 전사 여부={is_surjective(B, f)}, 전단사 여부={is_bijective(A, B, f)}\")\n",
        "else :\n",
        "    print('함수가 아닙니다.')"
      ]
    },
    {
      "cell_type": "markdown",
      "source": [
        "### 단사함수, 전사함수, 전단사함수 응용 예:"
      ],
      "metadata": {
        "id": "KC7CTnZtc78w"
      },
      "id": "KC7CTnZtc78w"
    },
    {
      "cell_type": "markdown",
      "id": "f8b54db0",
      "metadata": {
        "id": "f8b54db0"
      },
      "source": [
        "- **단사 함수 응용**: 유저 ID 매핑 </br>\n",
        "각 입력이 고유한 출력을 가지도록 하는 상황에 적합"
      ]
    },
    {
      "cell_type": "code",
      "execution_count": null,
      "id": "b96f4573",
      "metadata": {
        "id": "b96f4573"
      },
      "outputs": [],
      "source": [
        "def user_id_mapping(user_name):\n",
        "    # 단순한 단사 매핑: 이름에 대한 유저 ID 부여\n",
        "    return hash(user_name)\n",
        "\n",
        "# 유저 이름 리스트\n",
        "user_names = [\"Alice\", \"Bob\", \"Charlie\", \"Dave\"]\n",
        "\n",
        "# 각 유저에게 고유한 ID 부여\n",
        "user_ids = {name: user_id_mapping(name) for name in user_names}\n",
        "\n",
        "# 결과 출력\n",
        "print(user_ids)\n"
      ]
    },
    {
      "cell_type": "markdown",
      "id": "ddc398aa",
      "metadata": {
        "id": "ddc398aa"
      },
      "source": [
        "- **전사 함수 응용**: 성적 등급 분류</br>\n",
        "모든 출력값이 사용되는 상황에서 적합"
      ]
    },
    {
      "cell_type": "code",
      "execution_count": null,
      "id": "a16f5a5c",
      "metadata": {
        "id": "a16f5a5c"
      },
      "outputs": [],
      "source": [
        "def grade_mapping(score):\n",
        "    # 점수에 따라 등급을 반환하는 전사함수\n",
        "    if score >= 90:\n",
        "        return 'A'\n",
        "    elif score >= 80:\n",
        "        return 'B'\n",
        "    elif score >= 70:\n",
        "        return 'C'\n",
        "    elif score >= 60:\n",
        "        return 'D'\n",
        "    else:\n",
        "        return 'F'\n",
        "\n",
        "# 학생들의 점수 리스트\n",
        "scores = [95, 75, 82, 65, 50]\n",
        "\n",
        "# 점수에 따른 등급 분류\n",
        "grades = [grade_mapping(score) for score in scores]\n",
        "\n",
        "# 결과 출력\n",
        "print(grades)  # 출력: ['A', 'B', 'C', 'D', 'F']\n"
      ]
    },
    {
      "cell_type": "markdown",
      "id": "6d977648",
      "metadata": {
        "id": "6d977648"
      },
      "source": [
        "- **전단사 함수 응용**: 유암호화 및 복호화</br>\n",
        "입력과 출력이 1:1 대응되는 상황에서 사용"
      ]
    },
    {
      "cell_type": "code",
      "execution_count": null,
      "id": "4f610108",
      "metadata": {
        "id": "4f610108"
      },
      "outputs": [],
      "source": [
        "# 전단사 암호화 함수 (Caesar cipher)\n",
        "def encrypt(text, shift):\n",
        "    encrypted = ''.join(chr((ord(char) - 65 + shift) % 26 + 65) for char in text.upper())\n",
        "    return encrypted\n",
        "\n",
        "# 전단사 복호화 함수\n",
        "def decrypt(encrypted_text, shift):\n",
        "    decrypted = ''.join(chr((ord(char) - 65 - shift) % 26 + 65) for char in encrypted_text.upper())\n",
        "    return decrypted\n",
        "\n",
        "# 원본 텍스트\n",
        "original_text = \"HELLO\"\n",
        "\n",
        "# 암호화\n",
        "shift = 3  # Caesar cipher shift\n",
        "encrypted_text = encrypt(original_text, shift)\n",
        "print(\"Encrypted:\", encrypted_text)\n",
        "\n",
        "# 복호화\n",
        "decrypted_text = decrypt(encrypted_text, shift)\n",
        "print(\"Decrypted:\", decrypted_text)\n"
      ]
    },
    {
      "cell_type": "markdown",
      "id": "qUwn2mmbTzFK",
      "metadata": {
        "id": "qUwn2mmbTzFK"
      },
      "source": [
        "### [예제 6-4] 단사함수, 전사함수, 전단사함수 판별하기\n",
        "A＝{a1, a2, a3}, B＝{b1, b2, b3}, C＝{c1, c2}, D＝{d1, d2, d3, d4}라 하자. f1, f2, f3, f4를 각각 A에서 B로의 함수, A에서 D로의 함수, B에서 C로의 함수, A에서 B로의 함수라 하고 다음과 같이 정의할 때, 네 개의 함수가 단사인지, 전사인지 또는 전단사함수인지를 판단하라.\n"
      ]
    },
    {
      "cell_type": "code",
      "execution_count": null,
      "id": "KrOpDabCTzSP",
      "metadata": {
        "id": "KrOpDabCTzSP"
      },
      "outputs": [],
      "source": [
        "A = {'a1','a2','a3'}\n",
        "B = {'b1','b2','b3'}\n",
        "C = {'c1','c2'}\n",
        "D = {'d1','d2','d3', 'd4'}\n",
        "f1 = {('a1','b2'),('a2','b3'),('a3','b1')}\n",
        "f2 = {('a1','d2'),('a2','d1'),('a3','d4')}\n",
        "f3 = {('b1','c2'),('b2','c2'),('b3','c1')}\n",
        "f4 = {('a1','b1'),('a2','b1'),('a3','b2')}\n",
        "\n",
        "print(f\"f1: 단사 여부={is_injective(f1)}, 전사 여부={is_surjective(B, f1)}, 전단사 여부={is_bijective(A, B, f1)}\")\n",
        "print(f\"f2: 단사 여부={is_injective(f2)}, 전사 여부={is_surjective(D, f2)}, 전단사 여부={is_bijective(A, D, f2)}\")\n",
        "print(f\"f3: 단사 여부={is_injective(f3)}, 전사 여부={is_surjective(C, f3)}, 전단사 여부={is_bijective(B, C, f3)}\")\n",
        "print(f\"f4: 단사 여부={is_injective(f4)}, 전사 여부={is_surjective(B, f4)}, 전단사 여부={is_bijective(A, B, f4)}\")"
      ]
    },
    {
      "cell_type": "markdown",
      "id": "3bc92806",
      "metadata": {
        "id": "3bc92806"
      },
      "source": [
        "### [참고]클래스로 구현한 함수 판별 함수"
      ]
    },
    {
      "cell_type": "code",
      "execution_count": null,
      "id": "hn3q2ksbaTLN",
      "metadata": {
        "id": "hn3q2ksbaTLN"
      },
      "outputs": [],
      "source": [
        "class FunctionChecker:\n",
        "    def __init__(self, A, B, f):\n",
        "        self.A = A\n",
        "        self.B = B\n",
        "        self.f = f\n",
        "\n",
        "    def is_function(self):  # 관계 f가 함수인지 판별\n",
        "        mapping = {}\n",
        "        for x, y in self.f:\n",
        "            if x not in self.A or y not in self.B:\n",
        "                return False      # 정의역과 공역에 속하지 않는 값이 있을 경우 함수가 아님\n",
        "            if x in mapping:\n",
        "                if mapping[x] != y:\n",
        "                    return False  # 동일한 정의역 원소가 서로 다른 공역 원소와 대응되면 함수가 아님\n",
        "            else:\n",
        "                mapping[x] = y\n",
        "\n",
        "        # 모든 정의역의 원소가 대응 관계를 갖는지 확인\n",
        "        return set(mapping.keys()) == self.A\n",
        "\n",
        "\n",
        "    def is_injective(self):  # 단사 함수인지 판별\n",
        "        if not self.is_function():\n",
        "            return False  # 함수가 아니면 단사도 아님\n",
        "\n",
        "        seen_values = set()\n",
        "        for _, y in self.f:\n",
        "            if y in seen_values:\n",
        "                return False  # 동일한 공역 원소가 두 번 이상 나타나면 단사가 아님\n",
        "            seen_values.add(y)\n",
        "        return True\n",
        "\n",
        "\n",
        "    def is_surjective(self):  # 전사 함수인지 판별\n",
        "        if not self.is_function():\n",
        "            return False  # 함수가 아니면 전사도 아님\n",
        "\n",
        "        # 치역 구하기\n",
        "        range_set = {y for _, y in self.f}\n",
        "        return range_set == self.B  # 치역이 공역과 같으면 전사\n",
        "\n",
        "\n",
        "    def is_bijective(self):  # 전단사 함수인지 판별\n",
        "        return self.is_injective() and self.is_surjective()\n",
        "\n",
        "\n",
        "# 예제 사용\n",
        "A = {'a1','a2','a3'}\n",
        "B = {'b1','b2','b3'}\n",
        "C = {'c1','c2'}\n",
        "D = {'d1','d2','d3', 'd4'}\n",
        "f1 = {('a1','b2'),('a2','b3'),('a3','b1')}\n",
        "f2 = {('a1','d2'),('a2','d1'),('a3','d4')}\n",
        "f3 = {('b1','c2'),('b2','c2'),('b3','c1')}\n",
        "f4 = {('a1','b1'),('a2','b1'),('a3','b2')}\n",
        "\n",
        "# 테스트\n",
        "checker1 = FunctionChecker(A, B, f1)\n",
        "checker2 = FunctionChecker(A, D, f2)\n",
        "checker3 = FunctionChecker(B, C, f3)\n",
        "checker4 = FunctionChecker(A, B, f4)\n",
        "\n",
        "print(f\"f1: 함수 여부={checker1.is_function()}, 단사 여부={checker1.is_injective()}, 전사 여부={checker1.is_surjective()}, 전단사 여부={checker1.is_bijective()}\")\n",
        "print(f\"f2: 함수 여부={checker2.is_function()}, 단사 여부={checker2.is_injective()}, 전사 여부={checker2.is_surjective()}, 전단사 여부={checker2.is_bijective()}\")\n",
        "print(f\"f3: 함수 여부={checker3.is_function()}, 단사 여부={checker3.is_injective()}, 전사 여부={checker3.is_surjective()}, 전단사 여부={checker3.is_bijective()}\")\n",
        "print(f\"f4: 함수 여부={checker4.is_function()}, 단사 여부={checker4.is_injective()}, 전사 여부={checker4.is_surjective()}, 전단사 여부={checker4.is_bijective()}\")\n"
      ]
    },
    {
      "cell_type": "markdown",
      "id": "041d9d1a",
      "metadata": {
        "id": "041d9d1a"
      },
      "source": [
        "### 함수의 개수와 조건 (A에서  B 로 가는 함수)\n",
        "|A|= n, |B| = m  \n",
        "- 함수의 개수: $m^n$\n",
        "- 단사 함수의 조건과 개수: $m>=n, mPn=$ $m!\\over(m-n)!$\n",
        "- 전사 함수의 조건과 개수: $n >= m, nPm + nCm$ x $m^{n-m}$\n",
        "- 전단사 함수의 조건과 개수: $n = m$, $n!$"
      ]
    },
    {
      "cell_type": "markdown",
      "id": "2f5a26d8",
      "metadata": {
        "id": "2f5a26d8"
      },
      "source": [
        "#### 순열(Permutations)\n",
        "- 반복 가능한 객체(=길이가 n인)에 대해서 중복을 허용하지 않고 r개를 뽑아서 나열한다.\n",
        "- 뽑힌 순서대로 나열하기 때문에 순서가 의미 있다. (즉, 같은 값이 뽑히더라도 순서가 다르면 다른 경우의 수로 취급한다.)\n",
        "- permutations(반복 가능한 객체, r) --> 객체에서 r개를 추출"
      ]
    },
    {
      "cell_type": "code",
      "execution_count": null,
      "id": "0d5293c0",
      "metadata": {
        "id": "0d5293c0"
      },
      "outputs": [],
      "source": [
        "from itertools import permutations\n",
        "\n",
        "for i in permutations([1,2,3,4], 2):\n",
        "    print(i, end=\" \")\n",
        "\n",
        "len(list(permutations([1,2,3,4])))"
      ]
    },
    {
      "cell_type": "markdown",
      "id": "bd0afb3d",
      "metadata": {
        "id": "bd0afb3d"
      },
      "source": [
        "#### 조합(Combinations)\n",
        "- 반복 가능한 객체(=길이가 n인)에 대해서 중복을 허용하지 않고 r개를 뽑는다.\n",
        "- 순서 의미 없다.\n",
        "- combinations(반복 가능한 객체, r)"
      ]
    },
    {
      "cell_type": "code",
      "execution_count": null,
      "id": "c1997478",
      "metadata": {
        "id": "c1997478"
      },
      "outputs": [],
      "source": [
        "from itertools import combinations\n",
        "\n",
        "for i in combinations([1,2,3,4], 2):\n",
        "    print(i, end=\" \")"
      ]
    },
    {
      "cell_type": "markdown",
      "id": "9783DYuQfxv-",
      "metadata": {
        "id": "9783DYuQfxv-"
      },
      "source": [
        "### [예제 6-5]\n",
        "A={1, 2, 3}이고 B={a, b, c, d}일 때 집합 A에서 집합 B로 가는 함수, 전사함수, 단사함수의 개수를 각각 구하라."
      ]
    },
    {
      "cell_type": "code",
      "execution_count": null,
      "id": "5Lpo9SoZfx_G",
      "metadata": {
        "id": "5Lpo9SoZfx_G"
      },
      "outputs": [],
      "source": [
        "import math\n",
        "from itertools import permutations\n",
        "\n",
        "def count_functions(A, B):   # A에서 B로 가는 모든 함수의 개수\n",
        "    return len(B) ** len(A)  # 함수의 개수: |B|^|A|\n",
        "\n",
        "\n",
        "def count_injective_functions(A, B):  # 단사 함수의 개수\n",
        "    if len(B) < len(A):  # 단사 함수 조건: B의 원소 수가 A의 원소 수보다 크거나 같아야 함\n",
        "        return 0\n",
        "\n",
        "    # 단사 함수의 개수: P(|B|, |A|) = |B|! / (|B| - |A|)!\n",
        "    return math.perm(len(B), len(A))\n",
        "\n",
        "\n",
        "def count_surjective_functions(A, B):  # 전사 함수의 개수\n",
        "    n = len(A)\n",
        "    m = len(B)\n",
        "    if n < m:\n",
        "        return 0  # 정의역의 원소가 공역의 원소보다 적으면 전사 함수가 불가능\n",
        "\n",
        "    return math.perm(len(A), len(B)) + math.comb(len(A), len(B)) * m**(n-m)\n",
        "\n",
        "\n",
        "def count_bijective_functions(A, B):  # 전단사 함수의 개수\n",
        "    if len(A) != len(B):  # 전단사 함수 조건: 정의역과 공역의 원소 수가 같아야 함\n",
        "        return 0\n",
        "\n",
        "    # 전단사 함수의 개수: |A|!\n",
        "    return math.factorial(len(A))\n",
        "\n",
        "# 집합 A와 B 정의\n",
        "A = {1, 2, 3}\n",
        "B = {'a', 'b', 'c', 'd'}\n",
        "\n",
        "# 함수 개수 계산\n",
        "total_functions = count_functions(A, B)\n",
        "injective_functions = count_injective_functions(A, B)\n",
        "surjective_functions = count_surjective_functions(A, B)\n",
        "bijective_functions = count_bijective_functions(A, B)\n",
        "\n",
        "# 결과 출력\n",
        "print(f\"A에서 B로 가는 함수의 개수: {total_functions}\")\n",
        "print(f\"A에서 B로 가는 단사 함수의 개수: {injective_functions}\")\n",
        "print(f\"A에서 B로 가는 전사 함수의 개수: {surjective_functions}\")\n",
        "print(f\"A에서 B로 가는 전단사 함수의 개수: {bijective_functions}\")\n"
      ]
    },
    {
      "cell_type": "markdown",
      "id": "9e8d447a",
      "metadata": {
        "id": "9e8d447a"
      },
      "source": [
        "--------------------------------"
      ]
    },
    {
      "cell_type": "markdown",
      "id": "fcc798f1",
      "metadata": {
        "id": "fcc798f1"
      },
      "source": [
        "## 6-3. 역함수와 합성 함수"
      ]
    },
    {
      "cell_type": "markdown",
      "id": "8164a0f8",
      "metadata": {
        "id": "8164a0f8"
      },
      "source": [
        "### 1.역함수(inverse function) : 전단사함수 일때 정의됨\n",
        "- 함수  f의 역함수는  $ f^{-1}$ : $y=f(x)$, $x=f^{-1}(y)$  \n",
        "- f가 전단사함수이면 $f^{-1}$도 전단사함수이고,  $(f^{-1})^{-1} = f$이다"
      ]
    },
    {
      "cell_type": "code",
      "execution_count": null,
      "id": "7285f983",
      "metadata": {
        "id": "7285f983",
        "scrolled": true
      },
      "outputs": [],
      "source": [
        "def f1(x):\n",
        "    return x ** 2\n",
        "\n",
        "\n",
        "def f1inv(x):\n",
        "    return np.sqrt(x)\n",
        "\n",
        "\n",
        "x = np.linspace(0, 3, 300)\n",
        "print('x: ', x)\n",
        "plt.figure(figsize=(6, 4))\n",
        "plt.plot(x, f1(x), \"r-\", label=\"$f(x) = x^2$\")\n",
        "plt.plot(x, f1inv(x), \"b-.\", label=\"$f^{-1}(x) = \\sqrt{x}$\")\n",
        "plt.plot(x, x, \"g--\")\n",
        "plt.axis(\"equal\")\n",
        "plt.xlim(0, 2)\n",
        "plt.ylim(0, 2)\n",
        "plt.legend()\n",
        "plt.title(\"inverse function graph\")\n",
        "plt.show()"
      ]
    },
    {
      "cell_type": "markdown",
      "id": "9a7c7809",
      "metadata": {
        "id": "9a7c7809"
      },
      "source": [
        "### [예제6-6] 역함수가 존재하는지 판단\n",
        "- A에서 B로의 관계 f가 존재할 때\n",
        "- f의 역관계($f^{-1} = g$)가  B에서 A로의 함수인지 확인"
      ]
    },
    {
      "cell_type": "code",
      "execution_count": null,
      "id": "350d67b8",
      "metadata": {
        "id": "350d67b8"
      },
      "outputs": [],
      "source": [
        "A = {1, 2, 3}\n",
        "B = {'a','b','c'}\n",
        "f = {(1,'a'), (2,'a'), (3,'c')}\n",
        "\n",
        "# 방법1 : 전단사함수인지 확인\n",
        "checker = FunctionChecker(A, B, f)\n",
        "if checker.is_bijective():    #\n",
        "    print('f의 역함수가 존재한다.')\n",
        "else:\n",
        "    print('f의  역함수가 존재하지 않는다.')\n",
        "\n"
      ]
    },
    {
      "cell_type": "code",
      "execution_count": null,
      "id": "KOYvY3qopbPD",
      "metadata": {
        "id": "KOYvY3qopbPD"
      },
      "outputs": [],
      "source": [
        "A = {1, 2, 3}\n",
        "B = {'a','b','c'}\n",
        "f = {(1,'a'), (2,'a'), (3,'c')}\n",
        "\n",
        "# 방법2 : f의 역관계 g 만들어 함수인지 확인\n",
        "g = {(r[1], r[0]) for r in f}\n",
        "\n",
        "checker = FunctionChecker(A, B, g)\n",
        "if checker.is_function():\n",
        "    print('f의 역함수가 존재한다.')\n",
        "else:\n",
        "    print('f의  역함수가 존재하지 않는다.')"
      ]
    },
    {
      "cell_type": "markdown",
      "id": "ZifdFucRqCwl",
      "metadata": {
        "id": "ZifdFucRqCwl"
      },
      "source": [
        "### [예제6-7] 역함수가 존재하는지 판단"
      ]
    },
    {
      "cell_type": "code",
      "execution_count": null,
      "id": "E7cYYDmlqC9r",
      "metadata": {
        "id": "E7cYYDmlqC9r"
      },
      "outputs": [],
      "source": [
        "A = {1, 2, 3, 4}\n",
        "B = {'a','b','c', 'd'}\n",
        "f = {(1,'b'), (2,'c'), (3,'a'), (4,'d')}\n",
        "\n",
        "# 방법1 : 전단사함수인지 확인\n",
        "checker = FunctionChecker(A, B, f)\n",
        "if checker.is_bijective():    #\n",
        "    print('f의 역함수가 존재한다.')\n",
        "else:\n",
        "    print('f의  역함수가 존재하지 않는다.')"
      ]
    },
    {
      "cell_type": "markdown",
      "id": "f7f4749b",
      "metadata": {
        "id": "f7f4749b"
      },
      "source": [
        "### 2.합성 함수(composition function)\n",
        "- 함수 $f, g가 f:X  \\to Y, g: Y  \\to Z$라 할 때  집합 $X에서 집합 Z$로의 함수를  $f와 g$의 합성 함수라고 하고,  $g \\circ f $로 나타낸다.  \n",
        "- g∘f = g(f(x))\n",
        "- g∘f 읽는 법 : g composed with f / g circle f  / g after f"
      ]
    },
    {
      "cell_type": "markdown",
      "id": "s8BKpBjLse0Z",
      "metadata": {
        "id": "s8BKpBjLse0Z"
      },
      "source": [
        "### [예제 6-9]  합성함수 구하기 : $g \\circ f $ 만들기"
      ]
    },
    {
      "cell_type": "code",
      "execution_count": null,
      "id": "e5wr6GgisfBG",
      "metadata": {
        "id": "e5wr6GgisfBG"
      },
      "outputs": [],
      "source": [
        "def compose_functions(f, g):\n",
        "    \"\"\"\n",
        "    합성 함수 g ∘ f를 계산합니다.\n",
        "\n",
        "    Parameters:\n",
        "        f (list of tuple): 함수 f의 순서쌍 (X에서 Y로의 매핑)\n",
        "        g (list of tuple): 함수 g의 순서쌍 (Y에서 Z로의 매핑)\n",
        "\n",
        "    Returns:\n",
        "        dict: 합성 함수 g ∘ f의 결과를 나타내는 딕셔너리\n",
        "    \"\"\"\n",
        "    # f와 g를 딕셔너리로 변환하여 매핑을 쉽게 접근할 수 있도록 함\n",
        "    f_dict = {x: y for x, y in f}\n",
        "    g_dict = {y: z for y, z in g}\n",
        "    print('f_dict: ', f_dict)\n",
        "    print('g_dict: ', g_dict)\n",
        "\n",
        "    # 합성 함수 계산\n",
        "    composed = {} # 빈 딕셔너리 타입\n",
        "    for x in f_dict:\n",
        "        if f_dict[x] in g_dict:\n",
        "            composed[x] = g_dict[f_dict[x]]\n",
        "\n",
        "    return set(composed.items())\n",
        "\n",
        "# 예제 사용\n",
        "X = {1, 2, 3}\n",
        "Y = {'p', 'q'}\n",
        "Z = {'a', 'b'}\n",
        "\n",
        "f = [(1, 'p'), (2, 'p'), (3, 'q')]\n",
        "g = [('p', 'b'), ('q', 'b')]\n",
        "\n",
        "# 합성 함수 g ∘ f 계산\n",
        "g_of_f = compose_functions(f, g)\n",
        "\n",
        "# 결과 출력\n",
        "print(\"합성 함수 g ∘ f:\", g_of_f)\n"
      ]
    },
    {
      "cell_type": "markdown",
      "id": "04546d73",
      "metadata": {
        "id": "04546d73"
      },
      "source": [
        "### [예제 6-10]: 합성함수 구하기\n",
        "두 함수 f：R→R,  g：R→R이 각각 f(x)=x2+3x, g(x)＝2x-3일 때, 합성함수 g∘f와 f∘g를 구하라."
      ]
    },
    {
      "cell_type": "code",
      "execution_count": null,
      "id": "fed96fd6",
      "metadata": {
        "id": "fed96fd6"
      },
      "outputs": [],
      "source": [
        "# 방법1 : 함수를 별도로 정의\n",
        "def f(x):\n",
        "    return x**2 + 3*x\n",
        "\n",
        "def g(x):\n",
        "    return 2*x - 3\n",
        "\n",
        "def compose_g_of_f(x):  # 합성 함수 g ∘ f를 계산\n",
        "    return g(f(x))\n",
        "\n",
        "def compose_f_of_g(x): # 합성 함수 f ∘ g를 계산\n",
        "    return f(g(x))\n",
        "\n",
        "# 예제 사용\n",
        "x = 2.0\n",
        "print(f\"g ∘ f({x}) = {compose_g_of_f(x)}\")\n",
        "print(f\"f ∘ g({x}) = {compose_f_of_g(x)}\")"
      ]
    },
    {
      "cell_type": "code",
      "execution_count": null,
      "id": "00b07d37",
      "metadata": {
        "id": "00b07d37"
      },
      "outputs": [],
      "source": [
        "# # 방법2 : 함수 이름을 파라미터로 사용\n",
        "def f(x):\n",
        "    return x**2 + 3*x\n",
        "\n",
        "def g(x):\n",
        "    return 2*x - 3\n",
        "\n",
        "def compose_func(func_list, x):\n",
        "    f1 = func_list[0]\n",
        "    f2 = func_list[1]\n",
        "    return f2(f1(x))\n",
        "\n",
        "\n",
        "x = 2\n",
        "print(f\"g ∘ f({x}) = {compose_func([f, g], x)}\")\n",
        "print(f\"f ∘ g({x}) = {compose_func([g, f], x)}\")"
      ]
    },
    {
      "cell_type": "markdown",
      "id": "f20e339d",
      "metadata": {
        "id": "f20e339d"
      },
      "source": [
        "------------------------------------"
      ]
    },
    {
      "cell_type": "markdown",
      "id": "72648deb",
      "metadata": {
        "id": "72648deb"
      },
      "source": [
        "## 6-4. 특수 함수\n",
        "- 상수함수(constant function)\n",
        "- 항등함수(identity function)\n",
        "- 특성함수(characteristic function)\n",
        "- 천장함수(ceiling function) 바닥함수(floor function)\n",
        "- 해시함수(hash function)\n"
      ]
    },
    {
      "cell_type": "markdown",
      "id": "3d782d78",
      "metadata": {
        "id": "3d782d78"
      },
      "source": [
        "### [예제 6-13] 두 함수가 같음(함수의 상등) : 같은 함수인지 판별하기\n",
        "정의역 & 치역이 같은가?"
      ]
    },
    {
      "cell_type": "code",
      "execution_count": null,
      "id": "098e4b07",
      "metadata": {
        "id": "098e4b07"
      },
      "outputs": [],
      "source": [
        "def f(x):\n",
        "    return x**2 + x*3\n",
        "\n",
        "def g(x):\n",
        "    return x**2 * 2 +  x*4\n",
        "\n",
        "\n",
        "A = B = {-1, 0}\n",
        "f = {(x, f(x)) for x in A}\n",
        "g = {(x, g(x)) for x in A}\n",
        "\n",
        "print(f'f: {f}, g: {g}')\n",
        "\n",
        "if f == g:\n",
        "    print('f와 g는 같은 함수이다.')\n",
        "else:\n",
        "    print('f와 g는 같은 함수가 아니다.')"
      ]
    },
    {
      "cell_type": "markdown",
      "source": [
        "### 1.상수함수(constant function)\n",
        "정의역의 어떤 값이 입력되더라도 항상 같은 값을 반환하는 함수"
      ],
      "metadata": {
        "id": "wqU5uTsvFGIQ"
      },
      "id": "wqU5uTsvFGIQ"
    },
    {
      "cell_type": "code",
      "source": [
        "# 프로그램의 기본 설정(default settings)에서 상수 함수가 사용\n",
        "def default_font_size():\n",
        "    return 12  # 항상 12 포인트 크기를 반환\n"
      ],
      "metadata": {
        "id": "UDU6FXxJFTD0"
      },
      "id": "UDU6FXxJFTD0",
      "execution_count": null,
      "outputs": []
    },
    {
      "cell_type": "code",
      "source": [
        "# 일정한 값으로 초기화하는 경우\n",
        "def initialize_weights(size):\n",
        "    return [0 for _ in range(size)]  # 상수 함수로 모든 가중치를 0으로 초기화\n"
      ],
      "metadata": {
        "id": "YqYrTmZtFfsE"
      },
      "id": "YqYrTmZtFfsE",
      "execution_count": null,
      "outputs": []
    },
    {
      "cell_type": "code",
      "source": [
        "# 전기 회로에서 일정한 전압을 공급하는 전원 장치\n",
        "def voltage_supply():\n",
        "    return 5  # 5V 전압 공급\n"
      ],
      "metadata": {
        "id": "S_D0I7U0FZ3E"
      },
      "id": "S_D0I7U0FZ3E",
      "execution_count": null,
      "outputs": []
    },
    {
      "cell_type": "markdown",
      "source": [
        "### 2.항등함수(identity function)\n",
        "입력값을 그대로 반환하는 함수\n"
      ],
      "metadata": {
        "id": "rgGN5V2jFOZl"
      },
      "id": "rgGN5V2jFOZl"
    },
    {
      "cell_type": "code",
      "source": [
        "# 초기화 함수\n",
        "def initialize_as_identity(matrix):\n",
        "    return matrix"
      ],
      "metadata": {
        "id": "RXZhqw08F1FZ"
      },
      "id": "RXZhqw08F1FZ",
      "execution_count": null,
      "outputs": []
    },
    {
      "cell_type": "code",
      "source": [
        "# 입력값을 그대로 반환하는 함수\n",
        "def process_data(data, function=lambda x: x):\n",
        "    return function(data)"
      ],
      "metadata": {
        "id": "0osy5D4dGAgc"
      },
      "id": "0osy5D4dGAgc",
      "execution_count": null,
      "outputs": []
    },
    {
      "cell_type": "code",
      "source": [
        "# 인공 신경망에서 사용되는 활성화 함수 중 하나로, 특정\n",
        "# 레이어에서 아무런 비선형 변환을 하지 않고 그대로 값을\n",
        "# 전달할 때 사용\n",
        "def identity_layer(x):\n",
        "    return x  # 항등 레이어는 입력을 그대로 반환"
      ],
      "metadata": {
        "id": "z6aq0wIbGjjx"
      },
      "id": "z6aq0wIbGjjx",
      "execution_count": null,
      "outputs": []
    },
    {
      "cell_type": "markdown",
      "id": "3cJbgzic09Ek",
      "metadata": {
        "id": "3cJbgzic09Ek"
      },
      "source": [
        "### [예제 6-15] 항등함수 판별하기"
      ]
    },
    {
      "cell_type": "code",
      "execution_count": null,
      "id": "MsH4xxSm09Pi",
      "metadata": {
        "id": "MsH4xxSm09Pi"
      },
      "outputs": [],
      "source": [
        "def f(x):\n",
        "    return x**3\n",
        "\n",
        "\n",
        "A = {-1, 0, 1}\n",
        "\n",
        "# 항등함수인지 판별하기\n",
        "is_identity = True\n",
        "for x in A:\n",
        "    if f(x) != x:\n",
        "        is_identity = False\n",
        "\n",
        "if is_identity:\n",
        "    print('함수 f는 항등함수이다.')\n",
        "else:\n",
        "    print('함수 f는 항등함수가 아니다.')"
      ]
    },
    {
      "cell_type": "markdown",
      "source": [
        "### 3.특성함수(Characteristic Function)\n",
        "주로 집합론적 개념에서 집합의 멤버십을 나타내기 위해 사용"
      ],
      "metadata": {
        "id": "IDNQNPl_DXFB"
      },
      "id": "IDNQNPl_DXFB"
    },
    {
      "cell_type": "code",
      "source": [
        "# 계단함수(Heaviside Step Function)\n",
        "def step_function(x):\n",
        "    return 1 if x >= 0 else 0\n",
        "\n",
        "# 입력값과 활성화 함수 결과\n",
        "input_value = -0.5\n",
        "output = step_function(input_value)\n",
        "print(\"Step function output:\", output)\n"
      ],
      "metadata": {
        "id": "NvpzNuzhDpwP"
      },
      "id": "NvpzNuzhDpwP",
      "execution_count": null,
      "outputs": []
    },
    {
      "cell_type": "code",
      "source": [
        "# 특정 범위의 숫자 집합에 대한 특성 함수\n",
        "def characteristic_function_B(x):\n",
        "    # B = [3, 4, 5] 집합\n",
        "    if 3 <= x <= 5:\n",
        "        return 1\n",
        "    else:\n",
        "        return 0\n",
        "\n",
        "# 몇 가지 숫자에 대해 특성 함수 적용\n",
        "print(characteristic_function_B(4))  # 출력: 1 (4는 3과 5 사이에 속함)\n",
        "print(characteristic_function_B(6))  # 출력: 0 (6은 3과 5 사이에 속하지 않음)\n"
      ],
      "metadata": {
        "id": "6g2TYxe7D9Zy"
      },
      "id": "6g2TYxe7D9Zy",
      "execution_count": null,
      "outputs": []
    },
    {
      "cell_type": "markdown",
      "id": "OS2BrDXd500l",
      "metadata": {
        "id": "OS2BrDXd500l"
      },
      "source": [
        "### [예제 6-17] 특성함수 그래프로 나타내기\n",
        "집합 U＝[0, 5]과 A＝[0, 3]이 있을 때 다음은 특성함수 $f_A$의 그래프"
      ]
    },
    {
      "cell_type": "code",
      "execution_count": null,
      "id": "mE-I2kdK50_0",
      "metadata": {
        "id": "mE-I2kdK50_0"
      },
      "outputs": [],
      "source": [
        "import matplotlib.pyplot as plt\n",
        "import numpy as np\n",
        "\n",
        "def characteristic_function_A(x):  # 집합 A의 특성 함수를 정의\n",
        "    \"\"\"\n",
        "    A = [0, 3]일 때, 0 <= x <= 3이면 1을, 그 외에는 0을 반환합니다.\n",
        "    \"\"\"\n",
        "    return 1 if 0 <= x <= 3 else 0\n",
        "\n",
        "# 집합 U = [0, 5]에서 x 값을 생성\n",
        "x_values = np.linspace(0, 5, 100)\n",
        "# 각 x 값에 대해 특성 함수 f_A(x) 값을 계산\n",
        "y_values = [characteristic_function_A(x) for x in x_values]\n",
        "\n",
        "# 그래프 그리기\n",
        "plt.figure(figsize=(6, 4))\n",
        "plt.step(x_values, y_values, where='post', label=r'$f_A(x)$')\n",
        "plt.title(r'Characteristic Function of $A = [0, 3]$')\n",
        "plt.xlabel('x')\n",
        "plt.ylabel(r'$f_A(x)$')\n",
        "plt.ylim(-0.1, 1.1)\n",
        "plt.grid()\n",
        "plt.legend()\n",
        "plt.show()"
      ]
    },
    {
      "cell_type": "markdown",
      "id": "a0699801",
      "metadata": {
        "id": "a0699801"
      },
      "source": [
        "### 4.천장 함수(ceiling function) & 바닥 함수(floor function)\n",
        "정수형 근사값을 구하는 함수로 어떤 실수 a에 대해서 그 실수에 가장 가까운 정수 값을 구한다\n",
        "<br>\n",
        "-  ceil: 실수 𝑥에 대해서 𝑥보다 크거나 같은 정수 중에서 가장 작은 정수를 지정하는 함수\n",
        "- floor: 실수 𝑥에 대해서 𝑥보다 작거나 같은 정수 중에서 가장 큰 정수를 지정하는 함수\n",
        "- **천장함수(ceil)**는 항상 올림을 수행하여 가장 작은 정수 반환\n",
        "- **바닥함수(floor)**는 항상 내림을 수행하여 가장 큰 정수를 반환\n"
      ]
    },
    {
      "cell_type": "markdown",
      "id": "sD2VIhDK67X7",
      "metadata": {
        "id": "sD2VIhDK67X7"
      },
      "source": [
        "### [예제 6-18] 천장함수  & 바닥함수\n",
        "3.6에 대한 천장함수와 -3.6에 대한 바닥함수를 구하라. 그리고 다음을 계산하라.  ⌈2/3+⌊1/2⌋⌉"
      ]
    },
    {
      "cell_type": "code",
      "execution_count": null,
      "id": "5b138d49",
      "metadata": {
        "id": "5b138d49"
      },
      "outputs": [],
      "source": [
        "import math\n",
        "\n",
        "print(f'ceil: {math.ceil(3.6)}')\n",
        "print(f'floor: {math.floor(-3.6)}')\n",
        "print(math.ceil(2/3 + math.floor(1/2)))"
      ]
    },
    {
      "cell_type": "markdown",
      "id": "5b6912d6",
      "metadata": {
        "id": "5b6912d6"
      },
      "source": [
        "### 5.해시 함수(hash function)\n",
        "-  **임의의 길이**를 가진 자료를 **고정된 길이**인 **해시 값으로 변환하는 함수**이다.\n",
        "- **자료를 빨리 찾을 수 있도록 하는 함수**\n",
        "    - **입력에 따라 일정한 길이의 고유한 출력값(해시 값)을 생성**\n",
        "    - 해시 값은 **해시 표(hash table)**라는 자료구조에 사용됨\n",
        "    - **해싱(hashing)** :  해시 표를 인덱싱하기 위해 해시함수를 사용하는 것을 해싱이라 함\n",
        "    - 효율적인 데이터 검색을 지원\n",
        " : 동일한 입력에 대해 항상 동일한 해시 값을 반환\n",
        "\n",
        "- 주로 **데이터 무결성 검사**, 데이터 검색, 암호화, 데이터 구조 설계 등 다양한 컴퓨터 과학 분야에서 사용\n",
        "- 큰 파일에서 중복되는 레코드를 찾을 수 있기 때문에 데이터베이스나 표에서 매우 빠른 자료 검색을 위한 컴퓨터 소프트웨어에 널리 사용됨\n",
        "\n"
      ]
    },
    {
      "cell_type": "markdown",
      "id": "020f0b19",
      "metadata": {
        "id": "020f0b19"
      },
      "source": [
        "### [예제 6-19] 간단 해시 함수"
      ]
    },
    {
      "cell_type": "code",
      "execution_count": null,
      "id": "df9e3297",
      "metadata": {
        "id": "df9e3297"
      },
      "outputs": [],
      "source": [
        "def h(x):\n",
        "    return x % 7\n",
        "\n",
        "print( h(36) )\n",
        "print( h(254) )\n",
        "print( h(32560) )"
      ]
    },
    {
      "cell_type": "markdown",
      "id": "04c2414a",
      "metadata": {
        "id": "04c2414a"
      },
      "source": [
        "### [예제 6-20] 해시 함수의 응용"
      ]
    },
    {
      "cell_type": "code",
      "execution_count": null,
      "id": "019ebcd4",
      "metadata": {
        "id": "019ebcd4"
      },
      "outputs": [],
      "source": [
        "def h(x):\n",
        "    return x % 101\n",
        "\n",
        "print( h(2473871) )\n",
        "print( h(280) )   # 해시 충돌이 일어난다"
      ]
    },
    {
      "cell_type": "markdown",
      "source": [
        "#### 다양한 해시함수 적용 예:"
      ],
      "metadata": {
        "id": "JnFPY5MPaUHp"
      },
      "id": "JnFPY5MPaUHp"
    },
    {
      "cell_type": "code",
      "source": [
        "'''\n",
        "Python의 딕셔너리 자료형은 내부적으로\n",
        "해시 테이블을 사용하여 데이터를 키-값 쌍으로 저장하고,\n",
        "해당 키를 사용해 데이터를 빠르게 검색할 수 있습니다.\n",
        "'''\n",
        "hash_table = {}\n",
        "hash_table[\"apple\"] = \"A fruit\"\n",
        "print(hash_table[\"apple\"])  # 빠른 검색\n"
      ],
      "metadata": {
        "id": "w6tpWAXLcZN9"
      },
      "id": "w6tpWAXLcZN9",
      "execution_count": null,
      "outputs": []
    },
    {
      "cell_type": "code",
      "source": [
        "# 데이터베이스에서의 해시 함수\n",
        "# - 간단한 해시 테이블 구현\n",
        "\n",
        "table = {'apple':'a fruit',\n",
        "          \"banana\": \"Another fruit\"}\n",
        "\n",
        "\n",
        "hash_table = {} # 딕셔너리 정의\n",
        "\n",
        "def add_to_hash_table(key, value):\n",
        "    hash_key = hash(key) % 10  # 테이블 크기를 10으로 제한\n",
        "    hash_table[hash_key] = value\n",
        "    print(key, hash_key, value)\n",
        "\n",
        "def get_from_hash_table(key):\n",
        "    hash_key = hash(key) % 10\n",
        "    return hash_table.get(hash_key, None)\n",
        "\n",
        "# 데이터 추가\n",
        "add_to_hash_table(\"apple\", \"A fruit\")\n",
        "add_to_hash_table(\"banana\", \"Another fruit\")\n",
        "\n",
        "\n",
        "# 데이터 검색\n",
        "print(get_from_hash_table(\"apple\"))  # 출력: A fruit\n",
        "print(get_from_hash_table(\"banana\"))  # 출력: Another fruit\n"
      ],
      "metadata": {
        "id": "qtBc78AXbxMv"
      },
      "id": "qtBc78AXbxMv",
      "execution_count": null,
      "outputs": []
    },
    {
      "cell_type": "code",
      "source": [
        "# 문자열 해시함수\n",
        "# 파이썬의 내장 해시 함수 사용\n",
        "string = \"hello\"\n",
        "hash_value = hash(string)\n",
        "print(\"Hash value for 'hello':\", hash_value)"
      ],
      "metadata": {
        "id": "lSuHDGsOaMcg"
      },
      "id": "lSuHDGsOaMcg",
      "execution_count": null,
      "outputs": []
    },
    {
      "cell_type": "code",
      "source": [
        "# 사용자 정의 해시함수\n",
        "def simple_hash_function(input_string):\n",
        "    hash_value = 0\n",
        "    prime = 31  # 소수 사용\n",
        "    for char in input_string:\n",
        "        hash_value = hash_value * prime + ord(char)\n",
        "    return hash_value\n",
        "\n",
        "# 예시\n",
        "string = \"hello\"\n",
        "hash_value = simple_hash_function(string)\n",
        "print(\"Custom hash value for 'hello':\", hash_value)\n"
      ],
      "metadata": {
        "id": "pUWRGQYnbPlX"
      },
      "id": "pUWRGQYnbPlX",
      "execution_count": null,
      "outputs": []
    },
    {
      "cell_type": "code",
      "source": [
        "'''\n",
        "문자열 해싱\n",
        " - SHA-1:   SHA-1은 해쉬값의 크기를 160으로 고정하는 알고리즘\n",
        " - SHA-256: SHA-256은 해쉬값의 크기를 256으로 고정하는 알고리즘\n",
        " - 보안 요구 사항이 높은 시스템에서 자주 사용됨\n",
        "'''\n",
        "import hashlib\n",
        "\n",
        "def hash_sha1(input_string):\n",
        "    # hash_object = hashlib.sha1()\n",
        "    # hash_object.update(data)\n",
        "    # hex_dig = hash_object.hexdigest()\n",
        "    return hashlib.sha1(input_string.encode()).hexdigest()\n",
        "\n",
        "def hash_sha256(input_string):\n",
        "    return hashlib.sha256(input_string.encode()).hexdigest()\n",
        "\n",
        "test1 = 'test'\n",
        "test2 = 'hello world'\n",
        "print(f\"SHA-1 hash value for {test1}:\", hash_sha1( test1 ))\n",
        "print(f\"SHA-1 hash value for {test2}:\", hash_sha1( test2 ))\n",
        "print(f\"SHA-256 hash value for {test1}:\", hash_sha256( test1 ))\n",
        "print(f\"SHA-256 hash value for {test2}:\", hash_sha256( test2 ))"
      ],
      "metadata": {
        "id": "XYW_8miMoOv0"
      },
      "id": "XYW_8miMoOv0",
      "execution_count": null,
      "outputs": []
    },
    {
      "cell_type": "markdown",
      "source": [
        "\n",
        "\n",
        "---\n",
        "\n"
      ],
      "metadata": {
        "id": "S-wapbCnnO4Q"
      },
      "id": "S-wapbCnnO4Q"
    },
    {
      "cell_type": "markdown",
      "id": "7f1f86d2",
      "metadata": {
        "id": "7f1f86d2"
      },
      "source": [
        "### 6.해시 알고리즘 구현하기\n"
      ]
    },
    {
      "cell_type": "markdown",
      "source": [
        "#### 1) 해시함수 만들기\n",
        "크기가 8인 해시 테이블 만들고 데이터 저장하기"
      ],
      "metadata": {
        "id": "iLGSstrHnHgB"
      },
      "id": "iLGSstrHnHgB"
    },
    {
      "cell_type": "code",
      "execution_count": null,
      "id": "e32f375e",
      "metadata": {
        "id": "e32f375e"
      },
      "outputs": [],
      "source": [
        "# 크기가 8인 해시 테이블 만들기\n",
        "class HashTable:\n",
        "    def __init__(self):\n",
        "        self.hash_table = list([0 for i in range(8)])\n",
        "\n",
        "    def hash_function(self, key):\n",
        "        return key % 8\n",
        "\n",
        "    def insert(self, data, value):\n",
        "        index_key = hash(data)\n",
        "        hash_addr = self.hash_function(index_key)\n",
        "        self.hash_table[hash_addr] = value\n",
        "        # print(index_key, hash_addr, value)\n",
        "\n",
        "    def read(self, data):\n",
        "        index_key = hash(data)\n",
        "        hash_addr = self.hash_function(index_key)\n",
        "        return self.hash_table[hash_addr]\n",
        "\n",
        "    def print(self):\n",
        "        print(self.hash_table)\n",
        "\n",
        "hash_table = HashTable()\n",
        "\n",
        "hash_table.insert(1, 'a'); hash_table.print()          # key값(1), value('a') 추가\n",
        "hash_table.insert(3, 'cho'); hash_table.print()   # key값('name'), value('a') 추가\n",
        "hash_table.insert(2, 'b'); hash_table.print()          # key값(2), value('b') 추가\n",
        "hash_table.insert(7, 'd'); hash_table.print()          # key값(7), value('d') 추가\n",
        "\n",
        "print(hash_table.read(2))  # 인덱스 2번에 어떤 것이 들어가 있는가?\n",
        "\n",
        "# 키 값 충돌 발생!!!\n",
        "hash_table.insert(15, 'kim');hash_table.print()          # key값(15), value('kim') 추가\n",
        "# 'd'자리에 'kim'이 들어감"
      ]
    },
    {
      "cell_type": "markdown",
      "source": [
        "#### 2) 해시충돌(Collision) 대처하기\n",
        "해시충돌(Collision)이란 해시함수가 서로 다른 두 개의 입력 값에 대해 동일한 출력 값을 내는 상황을 의미한다"
      ],
      "metadata": {
        "id": "qVuj-Pp4jZG_"
      },
      "id": "qVuj-Pp4jZG_"
    },
    {
      "cell_type": "markdown",
      "id": "bc41c4c9",
      "metadata": {
        "id": "bc41c4c9"
      },
      "source": [
        "- **Chaining**</br>해시 값을 가진 항목들을 **연결 리스트(Linked List)**나 다른 데이터 구조에 저장하는 방법"
      ]
    },
    {
      "cell_type": "code",
      "execution_count": null,
      "id": "d37039dc",
      "metadata": {
        "id": "d37039dc"
      },
      "outputs": [],
      "source": [
        "class HashTable_Chaining:\n",
        "    def __init__(self, size):\n",
        "        self.size = size\n",
        "        self.table = [[] for _ in range(size)]\n",
        "\n",
        "    def hash_function(self, key):\n",
        "        # 해시 함수: 키를 테이블 크기로 나눈 나머지\n",
        "        return key % self.size\n",
        "\n",
        "    def insert(self, key, value):\n",
        "        # 해시 값을 계산\n",
        "        index = self.hash_function(key)\n",
        "\n",
        "        # 체이닝 방식으로 리스트에 (key, value) 추가\n",
        "        for i, (k, v) in enumerate(self.table[index]):\n",
        "            if k == key:\n",
        "                # 이미 같은 키가 존재하면 값을 업데이트\n",
        "                self.table[index][i] = (key, value)\n",
        "                return\n",
        "\n",
        "        # 리스트에 새 항목 추가\n",
        "        self.table[index].append((key, value))\n",
        "\n",
        "    def search(self, key):\n",
        "        # 해시 값을 계산\n",
        "        index = self.hash_function(key)\n",
        "\n",
        "        # 체이닝된 리스트에서 키를 탐색\n",
        "        for k, v in self.table[index]:\n",
        "            if k == key:\n",
        "                return v  # 값을 반환\n",
        "\n",
        "        # 키가 없으면 None 반환\n",
        "        return None\n",
        "\n",
        "    def display(self):\n",
        "        # 해시 테이블의 내용을 출력\n",
        "        for i, items in enumerate(self.table):\n",
        "            print(f\"Index {i}: {items}\")\n",
        "\n",
        "# 예제 사용\n",
        "# hash_table = HashTableChaining(10)\n",
        "# hash_table.insert(5, \"apple\")\n",
        "# hash_table.insert(15, \"banana\")\n",
        "# hash_table.insert(25, \"cherry\")\n",
        "# hash_table.insert(35, \"date\")\n",
        "hash_table = HashTable_Chaining(8)\n",
        "hash_table.insert(1, 'a')\n",
        "hash_table.insert(3, 'cho')\n",
        "hash_table.insert(2, 'b')\n",
        "hash_table.insert(7, 'd')\n",
        "hash_table.insert(15, 'kim')\n",
        "\n",
        "hash_table.display()\n",
        "\n",
        "print(\"검색 결과:\", hash_table.search(2))\n",
        "print(\"검색 결과:\", hash_table.search(15))\n"
      ]
    },
    {
      "cell_type": "markdown",
      "id": "jz-6WJs6ErdQ",
      "metadata": {
        "id": "jz-6WJs6ErdQ"
      },
      "source": [
        "- **Open Addressing(개방 주소법)**\n",
        "    - 선형 탐사 (Linear Probing) : 충돌이 발생하면 일정한 간격(주로 1칸)을 두고 다음 빈 슬롯을 찾는다\n",
        "    - 제곱 탐사(Quadratic Probing): 충돌이 발생하면 제곱된 간격(1, 4, 9, ...)을 두고 다음 빈 슬롯을 찾는다.\n",
        "    - 이중 해싱(Double Hashing): 두 번째 해시 함수를 사용하여 충돌이 발생할 때 다른 위치로 데이터를 저장한다."
      ]
    },
    {
      "cell_type": "code",
      "execution_count": null,
      "id": "JYM5Mzv4Ermi",
      "metadata": {
        "id": "JYM5Mzv4Ermi"
      },
      "outputs": [],
      "source": [
        "class HashTable_LinearProbing:\n",
        "    def __init__(self, size):\n",
        "        self.size = size\n",
        "        self.table = [None] * size\n",
        "\n",
        "    def hash_function(self, key):\n",
        "        # 해시 함수: 키를 테이블 크기로 나눈 나머지\n",
        "        return key % self.size\n",
        "\n",
        "    def insert(self, key, value):\n",
        "        # 해시 값을 계산\n",
        "        index = self.hash_function(key)\n",
        "\n",
        "        # 충돌이 발생하면 다음 슬롯을 탐색\n",
        "        while self.table[index] is not None:\n",
        "            # 이미 같은 키가 존재하면 값을 업데이트\n",
        "            if self.table[index][0] == key:\n",
        "                self.table[index] = (key, value)\n",
        "                return\n",
        "            # 선형 탐사로 다음 슬롯 탐색\n",
        "            index = (index + 1) % self.size\n",
        "\n",
        "        # 빈 슬롯에 (key, value) 삽입\n",
        "        self.table[index] = (key, value)\n",
        "\n",
        "    def search(self, key):\n",
        "        # 해시 값을 계산\n",
        "        index = self.hash_function(key)\n",
        "\n",
        "        # 키를 탐색\n",
        "        while self.table[index] is not None:\n",
        "            if self.table[index][0] == key:\n",
        "                return self.table[index][1]  # 값을 반환\n",
        "            index = (index + 1) % self.size\n",
        "\n",
        "        # 키가 없으면 None 반환\n",
        "        return None\n",
        "\n",
        "    def display(self):\n",
        "        # 해시 테이블의 내용을 출력\n",
        "        for i, item in enumerate(self.table):\n",
        "            print(f\"Index {i}: {item}\")\n",
        "\n",
        "# 예제 사용\n",
        "hash_table = HashTable_LinearProbing(8)\n",
        "hash_table.insert(1, 'a')\n",
        "hash_table.insert(3, 'cho')\n",
        "hash_table.insert(2, 'b')\n",
        "hash_table.insert(7, 'd')\n",
        "hash_table.insert(15, 'kim')\n",
        "\n",
        "hash_table.display()\n",
        "\n",
        "print(\"검색 결과:\", hash_table.search(2))\n",
        "print(\"검색 결과:\", hash_table.search(15))\n"
      ]
    },
    {
      "cell_type": "markdown",
      "source": [
        "- **이중 해싱(Double Hashing)**</br>두 번째 해시 함수를 사용하여 충돌이 발생할 때 다른 위치로 데이터를 저장한다.\n",
        "\n"
      ],
      "metadata": {
        "id": "qrKXeP6Jmta_"
      },
      "id": "qrKXeP6Jmta_"
    },
    {
      "cell_type": "code",
      "source": [
        "class HashTable_DoubleHashing:\n",
        "    def __init__(self, size):\n",
        "        self.size = size\n",
        "        self.table = [None] * size\n",
        "\n",
        "    def hash_function1(self, key):\n",
        "        # 첫 번째 해시 함수: 키를 테이블 크기로 나눈 나머지\n",
        "        return key % self.size\n",
        "\n",
        "    def hash_function2(self, key):\n",
        "        # 두 번째 해시 함수: 테이블 크기보다 작은 소수를 사용\n",
        "        return 1 + (key % (self.size - 1))\n",
        "\n",
        "    def insert(self, key, value):\n",
        "        # 첫 번째 해시 값을 계산\n",
        "        index = self.hash_function1(key)\n",
        "        step_size = self.hash_function2(key)\n",
        "\n",
        "        # 충돌이 발생하면 이중 해싱을 사용하여 다음 슬롯을 탐색\n",
        "        while self.table[index] is not None:\n",
        "            # 이미 같은 키가 존재하면 값을 업데이트\n",
        "            if self.table[index][0] == key:\n",
        "                self.table[index] = (key, value)\n",
        "                return\n",
        "            # 이중 해싱으로 다음 슬롯 탐색\n",
        "            index = (index + step_size) % self.size\n",
        "\n",
        "        # 빈 슬롯에 (key, value) 삽입\n",
        "        self.table[index] = (key, value)\n",
        "\n",
        "    def search(self, key):\n",
        "        # 첫 번째 해시 값을 계산\n",
        "        index = self.hash_function1(key)\n",
        "        step_size = self.hash_function2(key)\n",
        "\n",
        "        # 키를 탐색\n",
        "        while self.table[index] is not None:\n",
        "            if self.table[index][0] == key:\n",
        "                return self.table[index][1]  # 값을 반환\n",
        "            # 이중 해싱으로 다음 슬롯 탐색\n",
        "            index = (index + step_size) % self.size\n",
        "\n",
        "        # 키가 없으면 None 반환\n",
        "        return None\n",
        "\n",
        "    def display(self):\n",
        "        # 해시 테이블의 내용을 출력\n",
        "        for i, item in enumerate(self.table):\n",
        "            print(f\"Index {i}: {item}\")\n",
        "\n",
        "# 예제 사용\n",
        "hash_table = HashTable_DoubleHashing(8)\n",
        "hash_table.insert(1, 'a')\n",
        "hash_table.insert(3, 'cho')\n",
        "hash_table.insert(2, 'b')\n",
        "hash_table.insert(7, 'd')\n",
        "hash_table.insert(15, 'kim')\n",
        "\n",
        "hash_table.display()\n",
        "\n",
        "print(\"검색 결과:\", hash_table.search(2))\n",
        "print(\"검색 결과:\", hash_table.search(15))\n"
      ],
      "metadata": {
        "id": "6yMzh2WPmuuQ"
      },
      "id": "6yMzh2WPmuuQ",
      "execution_count": null,
      "outputs": []
    },
    {
      "cell_type": "markdown",
      "source": [
        "\n",
        "\n",
        "---\n",
        "\n"
      ],
      "metadata": {
        "id": "44xDUjn9oD-a"
      },
      "id": "44xDUjn9oD-a"
    },
    {
      "cell_type": "markdown",
      "id": "5737d746",
      "metadata": {
        "id": "5737d746"
      },
      "source": [
        "---------------------------------------------"
      ]
    },
    {
      "cell_type": "markdown",
      "id": "6b90fd80",
      "metadata": {
        "id": "6b90fd80"
      },
      "source": [
        "## 5. 응용 : 순열"
      ]
    },
    {
      "cell_type": "markdown",
      "id": "5e32da08",
      "metadata": {
        "id": "5e32da08"
      },
      "source": [
        "### 순열(Permutations)\n",
        "- 순열은 어떤 집합 A에서 A로 가는 전단사함수이다.\n",
        "- 참고: https://docs.python.org/ko/3/library/itertools.html\n",
        "- 반복 가능한 객체(=길이가 n인)에 대해서 중복을 허용하지 않고 r개를 뽑아서 나열한다.\n",
        "- 뽑힌 순서대로 나열하기 때문에 순서가 의미 있다. (즉, 같은 값이 뽑히더라도 순서가 다르면 다른 경우의 수로 취급한다.)\n",
        "- permutations(반복 가능한 객체, r) --> 객체에서 r개를 추출"
      ]
    },
    {
      "cell_type": "markdown",
      "id": "219d0ff0",
      "metadata": {
        "id": "219d0ff0"
      },
      "source": [
        "### [예제 6-22] 순열 표현하기\n",
        "A＝{1, 2, 3}이라 하자. A의 순열들을 구하라."
      ]
    },
    {
      "cell_type": "code",
      "execution_count": null,
      "id": "5caac716",
      "metadata": {
        "id": "5caac716"
      },
      "outputs": [],
      "source": [
        "from itertools import permutations\n",
        "\n",
        "A = {1,2,3}\n",
        "P = permutations(A)\n",
        "print( list(P) )"
      ]
    },
    {
      "cell_type": "code",
      "execution_count": null,
      "id": "7f73c22a",
      "metadata": {
        "id": "7f73c22a"
      },
      "outputs": [],
      "source": [
        "A = {'1','2','3'}\n",
        "print( list(map(''.join, permutations(A))) )"
      ]
    },
    {
      "cell_type": "code",
      "execution_count": null,
      "id": "FJkbV0QYmXCJ",
      "metadata": {
        "id": "FJkbV0QYmXCJ"
      },
      "outputs": [],
      "source": [
        "# 전단사함수의 개수\n",
        "count_bijective_functions(A, A)"
      ]
    },
    {
      "cell_type": "markdown",
      "id": "e58e989f",
      "metadata": {
        "id": "e58e989f"
      },
      "source": [
        "### [예제 6-23] : 순열 곱(product):두 개의 순열에 대한 합성\n",
        "A＝{1, 2, 3}이라 하자. A의 순열들을 구하고 이 순열을 사용해서 순열의 곱 p2ㆍp3, p3ㆍp2, p4ㆍp5를 계산하라."
      ]
    },
    {
      "cell_type": "code",
      "execution_count": null,
      "id": "3oIwJiIBtUfC",
      "metadata": {
        "id": "3oIwJiIBtUfC"
      },
      "outputs": [],
      "source": [
        "from itertools import permutations\n",
        "\n",
        "def compose_permutations(p1, p2):\n",
        "    \"\"\"두 순열 p1과 p2의 곱을 계산하는 함수\"\"\"\n",
        "    # 먼저 p2를 적용한 후 그 결과에 p1을 적용\n",
        "    return tuple(p1[p2[i] - 1] for i in range(len(p1)))\n",
        "\n",
        "\n",
        "# 집합 A의 순열들 구하기\n",
        "A = {1, 2, 3}\n",
        "perm_list = list(permutations(list(A)))\n",
        "print(\"A의 순열들:\")\n",
        "for idx, perm in enumerate(perm_list): # 순열들 출력\n",
        "    print(f\"p{idx+1} = {perm}\")\n",
        "\n",
        "# 순열의 곱 계산\n",
        "p3_p4 = compose_permutations(perm_list[2], perm_list[3])  # p3 * p4\n",
        "p4_p3 = compose_permutations(perm_list[3], perm_list[2])  # p4 * p3\n",
        "p5_p6 = compose_permutations(perm_list[4], perm_list[5])  # p5 * p6\n",
        "\n",
        "\n",
        "# 결과 출력\n",
        "print(\"\\n순열의 곱:\")\n",
        "print(f\"p3 ∘ p4 = {perm_list[2]}∘{perm_list[3]} = {p3_p4}\")\n",
        "print(f\"p4 ∘ p3 = {perm_list[3]}∘{perm_list[2]} = {p4_p3}\")\n",
        "print(f\"p5 ∘ p6 = {perm_list[4]}∘{perm_list[5]} = {p5_p6}\")"
      ]
    },
    {
      "cell_type": "markdown",
      "id": "6386888c",
      "metadata": {
        "id": "6386888c"
      },
      "source": [
        "###[예제 6-24] 순환적 순열(Cycle permutation)\n",
        "A = {1, 2, 3, 4, 5}일 때 순환적 순열 (1, 3, 5)에 대해 순열 p로 표현하라.\n",
        "<br>\n",
        "- 순환적 순열 (1,3,5)은 1을 3으로, 3을 5로, 5를 1로 매핑하는 순열임. 나머지 원소들은 자신에게 매핑\n",
        "- 길이가 r(순환적 순열의 개수)인 순환\n"
      ]
    },
    {
      "cell_type": "code",
      "execution_count": null,
      "id": "wXkQqAdScg0Q",
      "metadata": {
        "id": "wXkQqAdScg0Q"
      },
      "outputs": [],
      "source": [
        "# 방법1 : 순서쌍을 이용한 순열\n",
        "def create_permutation_from_cycle(A, C):\n",
        "    P = []\n",
        "    for a in list(A):  # 순서쌍 만들기\n",
        "        if a in C:\n",
        "            if C.index(a) == len(C)-1:   # 순환적 순열의 마지막 요소\n",
        "                P.append( (a, C[0]) )    # 순서쌍 추가\n",
        "            else:\n",
        "                P.append( (a, C[C.index(a)+1]) ) # 다음 순서\n",
        "        else:\n",
        "            P.append( (a, a) )\n",
        "\n",
        "    print('순서쌍 P : ', P)\n",
        "\n",
        "    return tuple(b for a, b in P)  # 순열\n",
        "\n",
        "# 순열 p 생성\n",
        "A = {1,2,3,4,5}\n",
        "cycle = (1,3,5) # 순환적 순열\n",
        "p = create_permutation_from_cycle(A, cycle)\n",
        "\n",
        "# 결과 출력\n",
        "print(f\"집합 A={A}일 때, 순환적 순열 {cycle}의 순열 p: {p}\")"
      ]
    },
    {
      "cell_type": "code",
      "execution_count": null,
      "id": "e1be3c4e",
      "metadata": {
        "id": "e1be3c4e"
      },
      "outputs": [],
      "source": [
        "# 방법2 :  순환적 순열 직접 적용\n",
        "def create_permutation_from_cycle(cycle, elements):\n",
        "    \"\"\"주어진 순환적 순열과 집합 elements에 대해 순열을 생성.\"\"\"\n",
        "    # 초기 순열을 항등 순열로 설정\n",
        "    permutation = list(elements)\n",
        "\n",
        "    # 순환적 순열을 적용\n",
        "    for i in range(len(cycle)):\n",
        "        current_index = elements.index(cycle[i])\n",
        "        next_element = cycle[(i + 1) % len(cycle)]\n",
        "        permutation[current_index] = next_element\n",
        "\n",
        "    return tuple(permutation)\n",
        "\n",
        "\n",
        "# 순열 p 생성\n",
        "A = {1, 2, 3, 4, 5}\n",
        "cycle = (1, 3, 5)\n",
        "p = create_permutation_from_cycle(cycle, list(A))\n",
        "\n",
        "# 결과 출력\n",
        "print(f\"집합 A={A}일 때, 순환적 순열 {cycle}의 순열 p: {p}\")"
      ]
    },
    {
      "cell_type": "markdown",
      "id": "rXTP0K0Yuvb0",
      "metadata": {
        "id": "rXTP0K0Yuvb0"
      },
      "source": [
        "### [예제 6-25] 순환적 순열 구하고 순열곱 구하기\n",
        "A＝{1, 2, 3, 4, 5, 6}일 때 두 개의 순환적 순열의 곱 (1, 2, 3, 5)ㆍ(5, 6, 4)와 (5, 6, 4)ㆍ(1, 2, 3, 5)를 계산하라.    "
      ]
    },
    {
      "cell_type": "code",
      "execution_count": null,
      "id": "s8dHRFOLuvnd",
      "metadata": {
        "id": "s8dHRFOLuvnd"
      },
      "outputs": [],
      "source": [
        "# 집합 A와 순환적 순열\n",
        "A = {1, 2, 3, 4, 5, 6}\n",
        "cycle1 = (1, 2, 3, 5)\n",
        "cycle2 = (5, 6, 4)\n",
        "\n",
        "# 순열 p 생성\n",
        "p1 = create_permutation_from_cycle(cycle1, list(A))\n",
        "p2 = create_permutation_from_cycle(cycle2, list(A))\n",
        "\n",
        "# 순열의 곱 계산\n",
        "p1_p2= compose_permutations(p1, p2)  # (1, 2, 3, 5) * (5, 6, 4)\n",
        "p2_p1= compose_permutations(p2, p1)  # (5, 6, 4) * (1, 2, 3, 5)\n",
        "\n",
        "# 결과 출력\n",
        "print(f\"{cycle1} ∘ {cycle2} = {p1} ∘ {p2} = {p1_p2}\")\n",
        "print(f\"{cycle2} ∘ {cycle1} = {p2} ∘ {p1} = {p2_p1}\")"
      ]
    },
    {
      "cell_type": "markdown",
      "id": "8010e8d4",
      "metadata": {
        "id": "8010e8d4"
      },
      "source": [
        "-------------------------"
      ]
    },
    {
      "cell_type": "markdown",
      "id": "0f56d003",
      "metadata": {
        "id": "0f56d003"
      },
      "source": [
        "THE END"
      ]
    }
  ],
  "metadata": {
    "colab": {
      "provenance": [],
      "include_colab_link": true
    },
    "kernelspec": {
      "display_name": "Python 3",
      "language": "python",
      "name": "python3"
    },
    "language_info": {
      "codemirror_mode": {
        "name": "ipython",
        "version": 3
      },
      "file_extension": ".py",
      "mimetype": "text/x-python",
      "name": "python",
      "nbconvert_exporter": "python",
      "pygments_lexer": "ipython3",
      "version": "3.12.1"
    }
  },
  "nbformat": 4,
  "nbformat_minor": 5
}
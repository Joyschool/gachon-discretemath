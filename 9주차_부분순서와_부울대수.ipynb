{
  "cells": [
    {
      "cell_type": "markdown",
      "id": "2079831a",
      "metadata": {
        "id": "2079831a"
      },
      "source": [
        "# 7.부분순서관계와 부울대수"
      ]
    },
    {
      "cell_type": "code",
      "source": [
        "import numpy as np\n",
        "import networkx as nx\n",
        "import matplotlib.pyplot as plt\n",
        "import itertools\n",
        "\n",
        "plt.figure(figsize=(5,3))"
      ],
      "metadata": {
        "id": "z6PmXnpZAYfP"
      },
      "id": "z6PmXnpZAYfP",
      "execution_count": null,
      "outputs": []
    },
    {
      "cell_type": "markdown",
      "id": "70fa7040",
      "metadata": {
        "id": "70fa7040"
      },
      "source": [
        "## 7-1. 부분순서관계(Partially ordered relation)"
      ]
    },
    {
      "cell_type": "markdown",
      "id": "01866376",
      "metadata": {
        "id": "01866376"
      },
      "source": [
        "### @부분순서관계는 3가지 성질 만족해야함\n",
        "1. R의 **반사관계** 확인: **모든 원소 a∈A에 대해 (a,a)∈R**  \n",
        "2. R의 **반대칭관계** 확인: **만약 (a,b)∈R이고 (b,a)∈R이면 a=b**\n",
        "3. R의 **추이관계** 확인: **만약 (a,b)∈R이고 (b,c)∈R이면 (a,c)∈R**"
      ]
    },
    {
      "cell_type": "code",
      "source": [
        "A = {1, 2, 3}\n",
        "R = {(1, 1), (1, 2), (1, 3), (2, 2), (3, 3)}\n",
        "\n",
        "# 반사관계 확인\n",
        "def is_reflexive(A, R):\n",
        "    for a in A:\n",
        "        if (a, a) not in R:\n",
        "            return False\n",
        "    return True\n",
        "\n",
        "# 반대칭관계 확인\n",
        "def is_antisymmetric(R):\n",
        "    for x, y in R:\n",
        "        if (y, x) in R and x != y:\n",
        "            return False\n",
        "    return True\n",
        "\n",
        "# 추이관계 확인\n",
        "def is_transitive(R):\n",
        "    for x, y in R:\n",
        "        for z, w in R:\n",
        "            if y == z and (x, w) not in R:\n",
        "                return False\n",
        "    return True\n",
        "\n",
        "# 부분순서관계 확인\n",
        "def is_partial_ordered_relation(A, R):\n",
        "    print(\"is_reflexive:     \", is_reflexive(A, R))\n",
        "    print(\"is_antisymmetric: \", is_antisymmetric(R))\n",
        "    print(\"is_transitive:    \", is_transitive(R))\n",
        "    if is_reflexive(A, R) and is_antisymmetric(R) and is_transitive(R):\n",
        "        print(f'관계 R{R}은\\n->집합 A{A}의 부분순서관계이다.')\n",
        "        print(\"->부분순서집합:\")\n",
        "        for relation in R:\n",
        "            print(f\" {relation[0]} ≼ {relation[1]}\")\n",
        "        return True\n",
        "    else:\n",
        "        print(f'관계 R{R}은\\n->집합 A{A}의 부분순서관계가 아니다.')\n",
        "        return False\n",
        "\n",
        "result = is_partial_ordered_relation(A, R)\n"
      ],
      "metadata": {
        "id": "8Ffku0rNXprn"
      },
      "id": "8Ffku0rNXprn",
      "execution_count": null,
      "outputs": []
    },
    {
      "cell_type": "code",
      "execution_count": null,
      "id": "79d4c6e7",
      "metadata": {
        "id": "79d4c6e7"
      },
      "outputs": [],
      "source": [
        "# 관계행렬\n",
        "def make_relation_matrix(A, B, R):\n",
        "    A = list(A)\n",
        "    B = list(B)\n",
        "    relation_matrix = np.zeros((len(A), len(B)), dtype=int) # 관계행렬 초기화 (A의 크기 × B의 크기)\n",
        "    for (a, b) in R:  # 관계 R에 있는 쌍들에 대해 관계행렬에 1로 표시\n",
        "        row = A.index(a)  # A에서 a의 인덱스를 찾음\n",
        "        col = B.index(b)  # B에서 b의 인덱스를 찾음\n",
        "        relation_matrix[row, col] = 1\n",
        "    return relation_matrix\n",
        "\n",
        "matrix = make_relation_matrix(A, A, R) # 이항관계 관계행렬 만들기\n",
        "print(f'이항관계 관계행렬:\\n{matrix}')"
      ]
    },
    {
      "cell_type": "code",
      "source": [
        "# 유향 그래프\n",
        "def draw_directed_graph(A, R, pos=False):\n",
        "    G = nx.DiGraph()      # DirectedGraph(유향 그래프)\n",
        "    G.add_nodes_from(A)   # 노드 추가\n",
        "    G.add_edges_from(R)   # 간선 추가\n",
        "\n",
        "    pos = nx.shell_layout(G) # 위치 지정\n",
        "    plt.figure(figsize=(5, 3))\n",
        "    nx.draw(G,pos, with_labels=True, node_color='lightblue', node_size=500, font_size=12)\n",
        "    plt.title(\"Directed Graph\", fontsize=16)\n",
        "    plt.show()\n",
        "\n",
        "draw_directed_graph(A, R)       # 노드 위치정보 없이 호출\n"
      ],
      "metadata": {
        "id": "WwMi0HUHanAL"
      },
      "id": "WwMi0HUHanAL",
      "execution_count": null,
      "outputs": []
    },
    {
      "cell_type": "markdown",
      "source": [
        "### @전순서관계(totally ordered relation)\n",
        "부분순서집합 $(A, ≼)$에서 집합 A의 모든 원소들이 비교가능하면 A를 전순서집합이라고 하며, 이때의 부분순서관계를 전순서관계라고 한다."
      ],
      "metadata": {
        "id": "yWX6v501ce_G"
      },
      "id": "yWX6v501ce_G"
    },
    {
      "cell_type": "markdown",
      "source": [
        "### [예제 7-3] 전순서집합 판단\n",
        "집합 A의 ={1,2,3}에 대해 (𝒫(A), ⊆)가 전순서집합인지 판단\n"
      ],
      "metadata": {
        "id": "NfH-zFMSdrRH"
      },
      "id": "NfH-zFMSdrRH"
    },
    {
      "cell_type": "code",
      "source": [
        "# 멱집합 구하기\n",
        "def power_set(A):\n",
        "    power_set_list = []\n",
        "    for r in range(len(A) + 1):  # 각 크기에 대해 부분집합 생성\n",
        "        subsets = itertools.combinations(A, r)\n",
        "        power_set_list.extend(subsets)\n",
        "\n",
        "    return [set(x) for x in power_set_list]\n",
        "\n",
        "# 전순서집합 여부 확인\n",
        "def is_total_order(power_set):\n",
        "    for x in power_set:\n",
        "        for y in power_set:\n",
        "            if not (set(x).issubset(set(y)) or set(y).issubset(set(x))):\n",
        "                return False\n",
        "    return True\n",
        "\n",
        "\n",
        "A = {1, 2, 3}\n",
        "P_A = power_set(A)                 # 1.멱집합 구하기\n",
        "\n",
        "if is_total_order(P_A):  # 2.전순서집합 여부\n",
        "    print(f'A{A}는 전순서집합이다.')\n",
        "else:\n",
        "    print(f'A{A}는 전순서집합이 아니다.')"
      ],
      "metadata": {
        "id": "bztA_G1leJ70"
      },
      "id": "bztA_G1leJ70",
      "execution_count": null,
      "outputs": []
    },
    {
      "cell_type": "markdown",
      "source": [
        "### @사전식 순서\n",
        "사전식 순서란 일반 사전의 단어 순서 배열로 가나다순이나 알파벳순의 정렬 방법을 말한다\n",
        "- 곱 부분순서집합 A X B의 부분순서관계\n",
        "- 문자열이나 튜플과 같은 순서 있는 데이터의 순서를 정의하는 방법과 유사"
      ],
      "metadata": {
        "id": "u6Icel1xycud"
      },
      "id": "u6Icel1xycud"
    },
    {
      "cell_type": "markdown",
      "source": [
        "### [예제 7-4] 사전식 순서\n",
        "금메달, 은메달, 동메달의 순서로 사전식 순서에 따른 국가별 올림픽 순위를 결정한다고 할 때, 다음 국가들에 대한 순위를 결정하라.\n",
        "- A국가 : 금메달 4개, 은메달 8개 동메달 7개\n",
        "- B국가 : 금메달 5개, 은메달 3개 동메달 2개\n",
        "- C국가 : 금메달 5개, 은메달 5개 동메달 8개\n",
        "- D국가 : 금메달 6개, 은메달 1개 동메달 4개\n",
        "- E국가 : 금메달 6개, 은메달 2개 동메달 1개\n",
        "- F국가 : 금메달 5개, 은메달 5개 동메달 6개"
      ],
      "metadata": {
        "id": "1NYSNEDsygcx"
      },
      "id": "1NYSNEDsygcx"
    },
    {
      "cell_type": "code",
      "execution_count": null,
      "id": "6e187deb",
      "metadata": {
        "id": "6e187deb"
      },
      "outputs": [],
      "source": [
        "# 국가별 메달 현환을 딕셔너리로 정의한다.\n",
        "countries = {\n",
        "    \"A\": (4, 8, 7),\n",
        "    \"B\": (5, 3, 2),\n",
        "    \"C\": (5, 5, 8),\n",
        "    \"D\": (6, 1, 4),\n",
        "    \"E\": (6, 2, 1),\n",
        "    \"F\": (5, 5, 6)\n",
        "}\n",
        "\n",
        "# 사전식 순서 정렬 : 메달순서(튜플로 정의된)로 정렬\n",
        "sorted_countries = sorted(countries.items(), key=lambda x: x[1], reverse=True)\n",
        "sorted_countries"
      ]
    },
    {
      "cell_type": "markdown",
      "id": "d91edbff",
      "metadata": {
        "id": "d91edbff"
      },
      "source": [
        "### 사전식 정렬 예:"
      ]
    },
    {
      "cell_type": "code",
      "execution_count": null,
      "id": "1a02e98d",
      "metadata": {
        "id": "1a02e98d"
      },
      "outputs": [],
      "source": [
        "value = '1453'\n",
        "print(sorted(value))   #sorted(value, reverse=True)\n",
        "print('# 문자열 정렬: ', ''.join(sorted(value)))\n",
        "\n",
        "value = ['abc','ABC','Abc','abcd','acd','a','A','c','C']\n",
        "value.sort()          #value.reverse()\n",
        "print('# 알파벳 리스트 정렬: ', value)\n",
        "\n",
        "value = ['3abc','1ABC','Abc','2abcd','ac4d','a','A','c','C']\n",
        "value.sort()          #value.reverse()\n",
        "print('# 숫자포함 알파벳 리스트 정렬: ', value)\n",
        "\n",
        "value = ['help','helping']\n",
        "value.sort()\n",
        "print(value)\n",
        "\n",
        "value = ['helper','helping']\n",
        "value.sort()\n",
        "print(value)"
      ]
    },
    {
      "cell_type": "markdown",
      "source": [
        "### @하세도형(Hasse diagram)\n",
        "부분순서집합의 원소들을 표현하기 위해 고안된 표기법\n",
        "- 각 원소의 순서관계를 그래프로 표현한 것\n",
        "- 유향 그래프를 하세 도형으로 변환하는 방법\n",
        "    * ① 유향 그래프에서 **길이가 1인 모든 순회를 제거**\n",
        "    * ② **추이관계**에 의해서 만들어진 모든 간선을 제거. 즉, a ≼ b이고\n",
        "b ≼ c인 경우 추이관계에 의해서 a ≼ c가 성립하는데 a에서 c로 가는 **간선을 제거**\n",
        "    * ③ 모든 간선의 화살표를 위쪽으로 향하게 하고, 화살표를 제거하고,  정점들을 순서에 맞게 그린다\n",
        "    * ④ 정점을 표시하는 작은 원을 점으로 바꾼다"
      ],
      "metadata": {
        "id": "hOKWFI4p7nT-"
      },
      "id": "hOKWFI4p7nT-"
    },
    {
      "cell_type": "markdown",
      "source": [
        "### [예제 7-5] 하세도형 그리기\n",
        "A＝{1, 2, 3, 4, 12}이고 A에 관한 부분순서관계를 다음과 같이 정의할 때 부분순서집합 (A, ≼)의 하세 도형을 그려라.\n",
        "- a, b∈A에 대해서 a ≼ b ⇔ a｜b (b는 a로 나누어 떨어진다.)  "
      ],
      "metadata": {
        "id": "nAP5lpP07qgI"
      },
      "id": "nAP5lpP07qgI"
    },
    {
      "cell_type": "code",
      "source": [
        "def make_relation(A, B):\n",
        "    data = []\n",
        "    for a in A:\n",
        "        for  b in B:\n",
        "            r = (a, b)\n",
        "            if (a <= b) and (b%a == 0) :\n",
        "                data.append(r)\n",
        "    return data\n",
        "\n",
        "\n",
        "# 하세도형 관계 구하기\n",
        "def make_hasse_relation(A, R):\n",
        "    hasse_relation = []\n",
        "    for x, y in R: # 순회 제거 & 추이 제거\n",
        "        if (x != y) and not any((x, z) in R and (z, y) in R for z in A if z != x and z != y):\n",
        "            hasse_relation.append((x, y))\n",
        "\n",
        "    return hasse_relation\n",
        "\n",
        "\n",
        "# 하세도형 그리기\n",
        "def draw_hasse_graph_power_set(A, hasse_relation):\n",
        "    # 무향 그래프\n",
        "    graph = nx.Graph()\n",
        "\n",
        "    # 노드 추가\n",
        "    for subset in A:\n",
        "        node = frozenset(subset) if isinstance(subset, set) else subset\n",
        "        graph.add_node(node)\n",
        "\n",
        "    # 엣지 추가\n",
        "    for relation in hasse_relation:\n",
        "        node1 = frozenset(relation[0]) if isinstance(relation[0], set) else relation[0]\n",
        "        node2 = frozenset(relation[1]) if isinstance(relation[1], set) else relation[1]\n",
        "        graph.add_edge(node1, node2)\n",
        "\n",
        "    # 그래프 그리기\n",
        "    pos = nx.spring_layout(graph)  # 레이아웃 설정\n",
        "    # 노드 라벨 설정\n",
        "    if isinstance( A, set):\n",
        "        labels = {subset: str(subset) for subset in A}\n",
        "    else:\n",
        "        labels = {frozenset(subset): str(set(subset)) for subset in A}\n",
        "\n",
        "    plt.figure(figsize=(5, 3))\n",
        "    nx.draw(graph, pos, with_labels=True, labels=labels,\n",
        "            node_size=300, node_color='black', font_size=5, font_weight='bold', font_color='white')\n",
        "    plt.title(\"Hasse Diagram of (P(A), ⊆) - Undirected Graph\")\n",
        "    plt.show()\n",
        "\n",
        "\n",
        "A = {1,2,3,4,12}\n",
        "R = make_relation(A, A)   # 관계 순서쌍 집합 구하기\n",
        "draw_directed_graph(A, R) # 유향 그래프 그리기\n",
        "\n",
        "# 부분순서관계 확인\n",
        "result = is_partial_ordered_relation(A, R)\n",
        "if result:\n",
        "    hasse_relation = make_hasse_relation(A, R)  # 하세관계 구하기\n",
        "    print('hasse_relation: ', hasse_relation)\n",
        "    draw_hasse_graph_power_set(A, hasse_relation)   # 하세도형 그리기\n"
      ],
      "metadata": {
        "id": "LrBzjdkkSxt7"
      },
      "id": "LrBzjdkkSxt7",
      "execution_count": null,
      "outputs": []
    },
    {
      "cell_type": "markdown",
      "source": [
        "### [예제 7-6] 하세도형 그리기\n",
        "집합 A={1, 2}의 멱집합 𝒫(A)에 대해 (𝒫(A), ⊆)가 부분순서집합인지 보이고, 부분순서집합이면 하세 도형을 그려라."
      ],
      "metadata": {
        "id": "E3W8M7Yl7w1e"
      },
      "id": "E3W8M7Yl7w1e"
    },
    {
      "cell_type": "code",
      "source": [
        "# 멱집합 구하기\n",
        "def power_set(A):\n",
        "    power_set_list = []\n",
        "    for r in range(len(A) + 1):  # 각 크기에 대해 부분집합 생성\n",
        "        subsets = itertools.combinations(A, r)\n",
        "        power_set_list.extend(subsets)\n",
        "\n",
        "    return [set(x) for x in power_set_list]\n",
        "\n",
        "# 부분순서집합 구하기\n",
        "def find_poset(elements, relation):\n",
        "    poset = []\n",
        "    # 모든 원소 쌍에 대해 관계 확인\n",
        "    for x in elements:\n",
        "        for y in elements:\n",
        "            if relation(x, y):  # 주어진 관계를 만족하면 추가\n",
        "                poset.append((x, y))\n",
        "    return poset\n",
        "\n",
        "\n",
        "# 부분순서 성질 확인\n",
        "def is_poset(P, relation):\n",
        "    # 반사성 확인\n",
        "    for x in P:\n",
        "        if not relation(x, x):\n",
        "            return False\n",
        "\n",
        "    # 반대칭성 확인\n",
        "    for x in P:\n",
        "        for y in P:\n",
        "            if relation(x, y) and relation(y, x) and x != y:\n",
        "                return False\n",
        "\n",
        "    # 추이성 확인\n",
        "    for x in P:\n",
        "        for y in P:\n",
        "            for z in P:\n",
        "                if relation(x, y) and relation(y, z) and not relation(x, z):\n",
        "                    return False\n",
        "    return True\n",
        "\n",
        "# 포함 관계 정의\n",
        "def subset_relation(X, Y):\n",
        "    return X.issubset(Y)\n",
        "\n",
        "\n",
        "\n",
        "# 멱집합 A의 정의\n",
        "A = {1, 2}\n",
        "P_A = [set(x) for x in powerset(A)]  # 멱집합을 집합 형식으로 변환\n",
        "print('멱집합: ', P_A)    # 멱집합 구하기\n",
        "\n",
        "# 부분순서집합 확인\n",
        "is_poset = is_poset(P_A, subset_relation)\n",
        "print(f\"(𝒫(A), ⊆) is a poset: {is_poset}\")\n",
        "if is_poset:\n",
        "    # 부분순서집합 구하기\n",
        "    R = find_poset(P_A, subset_relation)\n",
        "    print('->부분순서집합: ', R)\n",
        "\n",
        "    hasse_relation = make_hasse_relation(P_A, R)  # 하세관계 구하기\n",
        "    print('->hasse_relation: ', hasse_relation)\n",
        "    draw_hasse_graph_power_set(P_A, hasse_relation)   # 하세도형 그리기\n",
        "\n"
      ],
      "metadata": {
        "id": "wIntFIuRI8U4"
      },
      "id": "wIntFIuRI8U4",
      "execution_count": null,
      "outputs": []
    },
    {
      "cell_type": "markdown",
      "source": [
        "### @위상정렬(topological sorting)\n",
        "부분순서집합으로부터 전순서관계를 찾는 것을 위상 정렬이라고 한다."
      ],
      "metadata": {
        "id": "Fbmb3TxiRw7Z"
      },
      "id": "Fbmb3TxiRw7Z"
    },
    {
      "cell_type": "code",
      "source": [
        "# 부분순서집합\n",
        "def partial_order_set(A, B):\n",
        "    # data = [(a, b) for a in A for b in A if (a <= b) and (b % a == 0)]\n",
        "    data = []\n",
        "    for a in A:\n",
        "        for b in B:\n",
        "            r = (a, b)\n",
        "            if (a <= b) and (b%a == 0) :\n",
        "                data.append(r)\n",
        "    return data\n",
        "\n",
        "\n",
        "# 하세도형 집합\n",
        "def make_hasse_relation(A, R):\n",
        "    hasse_relation = []\n",
        "\n",
        "    for x, y in R: # 순회 제거 & 추이 제거\n",
        "        if (x != y) and not any((x, z) in R and (z, y) in R for z in A if z != x and z != y):\n",
        "            hasse_relation.append((x, y))\n",
        "\n",
        "    return hasse_relation\n",
        "\n",
        "\n",
        "def draw_hasse_graph(A, R, node_colors='black'):\n",
        "    # 하세도형 그리기\n",
        "    H = nx.Graph()\n",
        "    H.add_nodes_from(A)\n",
        "    H.add_edges_from(R)\n",
        "\n",
        "    plt.figure(figsize=(5, 3))\n",
        "    pos = nx.shell_layout(H) # 위치 지정\n",
        "    nx.draw(H, pos, with_labels=True,\n",
        "            node_size=300, node_color=node_colors, font_size=5, font_weight='bold', font_color='white')\n",
        "    plt.title(\"Hasse Diagram for (A, ≼)\", fontsize=16)\n",
        "    plt.show()\n",
        "\n",
        "    return H\n",
        "\n",
        "\n",
        "A = {1, 2, 3, 4, 12}\n",
        "\n",
        "# 부분순서집합\n",
        "print(\"부분순서집합 관계:\")\n",
        "partial_order_set = partial_order_set(A, A)\n",
        "for relation in partial_order_set:\n",
        "    print(f\"{relation[0]} ≼ {relation[1]}\")\n",
        "\n",
        "# 유향 그래프\n",
        "draw_directed_graph(A, partial_order_set)\n",
        "\n",
        "# 하세도형\n",
        "hasse_relation = make_hasse_relation(A, partial_order_set)\n",
        "print('hasse_relation: ', hasse_relation)  # 하세도형 집합\n",
        "H = draw_hasse_graph(A, hasse_relation)    # 하세도형 그래프\n",
        "\n"
      ],
      "metadata": {
        "id": "U9_Odg-l7wUy"
      },
      "id": "U9_Odg-l7wUy",
      "execution_count": null,
      "outputs": []
    },
    {
      "cell_type": "markdown",
      "id": "572aee78",
      "metadata": {
        "id": "572aee78"
      },
      "source": [
        "### [예제 7-7] 위상 정렬하기\n",
        "- 하세도형의 부분순서관계가 주어질 때 위상 정렬하라."
      ]
    },
    {
      "cell_type": "code",
      "execution_count": null,
      "id": "79f793af",
      "metadata": {
        "id": "79f793af"
      },
      "outputs": [],
      "source": [
        "# 위상정렬\n",
        "def draw_topological_sort(A, R):\n",
        "    # 1.무향 그래프 그리기\n",
        "    G = nx.Graph()  # 무향그래프\n",
        "    G.add_nodes_from(A) # 점 추가\n",
        "    G.add_edges_from(R) # 간선 추가\n",
        "\n",
        "    pos = nx.shell_layout(G) # 위치 지정\n",
        "    nx.draw(G, pos, with_labels=True,\n",
        "           node_size=300, node_color='black', font_size=5, font_weight='bold', font_color='white')\n",
        "    plt.title(\"Hasse Diagram for (A, ≼)\", fontsize=16)\n",
        "    plt.show()\n",
        "\n",
        "    # 2.위상 정렬 구하기\n",
        "    # networkx에서 위상정렬을 구하려면 유향 그래프를 사용해야한다.\n",
        "    G = nx.DiGraph()  # 유향그래프\n",
        "    G.add_nodes_from(A) # 점 추가\n",
        "    G.add_edges_from(R) # 간선 추가\n",
        "\n",
        "    topological_order = list(nx.topological_sort(G))\n",
        "    print('위상정렬: ', topological_order)\n",
        "\n",
        "\n",
        "A = {'a','b','c','d','e','f'}\n",
        "R = {('a','c'),('b','c'),('c','d'),('d','e'),('d','f')}\n",
        "\n",
        "draw_topological_sort(A, R)\n"
      ]
    },
    {
      "cell_type": "markdown",
      "id": "79370881",
      "metadata": {
        "id": "79370881"
      },
      "source": [
        "---------------------"
      ]
    },
    {
      "cell_type": "markdown",
      "id": "ec495f78",
      "metadata": {
        "id": "ec495f78"
      },
      "source": [
        "## 7-2 부분순서집합의 상한과 하한"
      ]
    },
    {
      "cell_type": "markdown",
      "source": [
        "### @극대 원소(maximal element), 극소 원소(minimal element)\n",
        "- 어떤 원소 a보다 큰 원소가 존재하지 않을 때 a를 극대 원소라 하며, 극대 원소는 여러 개 존재할 수 있다.\n",
        "- 어떤 원소 b보다 작은 원소가 존재하지 않을 때 b를 극소 원소라 하며, 극소 원소도 여러 개 존재할 수 있다."
      ],
      "metadata": {
        "id": "FqV8pDMuu7VF"
      },
      "id": "FqV8pDMuu7VF"
    },
    {
      "cell_type": "markdown",
      "source": [
        "### [예제 7-8] 극대 원소, 극소 원소\n",
        "A＝{1, 2, 3, 4, 12}이고 A에 관한 부분순서관계가 다음과 같을 때, 극대원 소와 극소 원소 구하기\n",
        "- a, b∈A에 대해서 a ≼ b ⇔ a｜b (b는 a로 나누어 떨어진다.)"
      ],
      "metadata": {
        "id": "YdCw7ZUHeiu_"
      },
      "id": "YdCw7ZUHeiu_"
    },
    {
      "cell_type": "code",
      "source": [
        "import itertools\n",
        "import networkx as nx\n",
        "import matplotlib.pyplot as plt\n",
        "\n",
        "# 부분순서집합\n",
        "def partial_order_set(A, B):\n",
        "    # data = [(a, b) for a in A for b in A if (a <= b) and (b % a == 0)]\n",
        "    data = []\n",
        "    for a in A:\n",
        "        for b in B:\n",
        "            r = (a, b)\n",
        "            if (a <= b) and (b%a == 0) :\n",
        "                data.append(r)\n",
        "    return data\n",
        "\n",
        "\n",
        "# 유향 그래프를 이용하여 극대/극소/최대/최소 원소 찾기\n",
        "def maximal_minimal_elements(A, R):\n",
        "    G = nx.DiGraph()      # 유향그래프\n",
        "    G.add_nodes_from(A)   # 노드 추가\n",
        "    G.add_edges_from(R)   # 간선 추가\n",
        "\n",
        "    # 극대원소&극소원소 찾기\n",
        "    maximal_elements = [node for node in G.nodes if G.out_degree(node) == 0]\n",
        "    minimal_elements = [node for node in G.nodes if G.in_degree(node) == 0]\n",
        "\n",
        "    # 최대 원소 & 최소 원소: 극대원소/극소원소 중 하나 (유일해야 함)\n",
        "    greatest_element = maximal_elements[0] if len(maximal_elements) == 1 else None\n",
        "    least_element = minimal_elements[0] if len(minimal_elements) == 1 else None\n",
        "    # 결과 출력\n",
        "    print(\"극대 원소: \", maximal_elements)\n",
        "    print(\"극소 원소: \", minimal_elements)\n",
        "    print(\"최대 원소: \", greatest_element)\n",
        "    print(\"최소 원소: \", least_element)\n",
        "\n",
        "    node_colors = []\n",
        "    for node in G.nodes():\n",
        "        if node == greatest_element:\n",
        "            node_colors.append('pink')  # 최대원소\n",
        "        elif node == least_element:\n",
        "            node_colors.append('green')  # 최소원소\n",
        "        elif node in maximal_elements:\n",
        "            node_colors.append('red')   # 극대원소 빨간색\n",
        "        elif node in minimal_elements:\n",
        "            node_colors.append('blue')  # 극소원소 파란색\n",
        "        else:\n",
        "            node_colors.append('black')  # 나머지 노드는 lightblue\n",
        "\n",
        "    return node_colors\n",
        "\n",
        "\n",
        "\n",
        "A = {1, 2, 3, 4, 12}\n",
        "\n",
        "# 부분순서집합\n",
        "R = partial_order_set(A, A)\n",
        "if is_partial_ordered_relation(A, R):\n",
        "    # 하세도형 집합\n",
        "    hasse_relation = make_hasse_relation(A, R)\n",
        "    print('hasse_relation: ', hasse_relation)\n",
        "\n",
        "    # 하세도형 그리기\n",
        "    H = draw_hasse_graph(A, hasse_relation)\n",
        "\n",
        "    # 극대원소와 극소원소 찾기\n",
        "    node_colors = maximal_minimal_elements(A, hasse_relation)\n",
        "\n",
        "    # 하세도형 그리기\n",
        "    H = draw_hasse_graph(A, hasse_relation, node_colors)\n",
        "\n",
        "\n",
        "\n"
      ],
      "metadata": {
        "id": "QgxLrZ41f3Vw"
      },
      "id": "QgxLrZ41f3Vw",
      "execution_count": null,
      "outputs": []
    },
    {
      "cell_type": "markdown",
      "source": [
        "### @ 최대 원소(greatest element), 최소 원소(least element)\n",
        "- 최대 원소는 이 원소보다 같거나 큰 원소는 존재하지 않는다는 것이고\n",
        "- 최소 원소도 이 원소보다 같거나 작은 원소는 존재하지 않는다는 것이다\n",
        "- 최대 원소나 최소 원소가 존재한다면 극대 원소나 극소 원소 중에서 존재한다."
      ],
      "metadata": {
        "id": "Kwt1vGpIuvFj"
      },
      "id": "Kwt1vGpIuvFj"
    },
    {
      "cell_type": "markdown",
      "source": [
        "### [예제 7-13] 최대 최소\n",
        "집합 A={1, 2, 3, 4, 5, 6}에 대한 관계 R={(a, b) ∈ A× A |  a | b}라 할 때 다음에 답하라.\n",
        "- a) 관계 R이 부분순서관계인지를 판단하라.\n",
        "- b) 관계 R에 대해 유향 그래프로 표현한 다음 하세 도형으로 변환하라.\n",
        "- c) 관계 R에서 극대, 극소, 최대, 최소 원소를 구하라.\n",
        "파이썬 코드"
      ],
      "metadata": {
        "id": "3NjEDfYrnmaq"
      },
      "id": "3NjEDfYrnmaq"
    },
    {
      "cell_type": "code",
      "source": [
        "# 부분순서집합\n",
        "def make_relation(A, B):\n",
        "    # data = [(a, b) for a in A for b in A if (b % a == 0)]\n",
        "    data = []\n",
        "    for a in A:\n",
        "        for b in B:\n",
        "            r = (a, b)\n",
        "            if (b%a == 0) :\n",
        "                data.append(r)\n",
        "    return data\n",
        "\n",
        "\n",
        "A = {1, 2, 3, 4, 5, 6}\n",
        "R = make_relation(A, A)     # 관계\n",
        "\n",
        "# 부분순서관계\n",
        "if is_partial_ordered_relation(A, R):\n",
        "    # 하세도형 집합\n",
        "    hasse_relation = make_hasse_relation(A, R)\n",
        "    print('hasse_relation: ', hasse_relation)\n",
        "\n",
        "    # 하세도형 그리기\n",
        "    H = draw_hasse_graph(A, hasse_relation)\n",
        "\n",
        "    # 극대원소와 극소원소 찾기\n",
        "    node_colors = maximal_minimal_elements(A, hasse_relation)\n",
        "\n",
        "    # 하세도형 그리기\n",
        "    H = draw_hasse_graph(A, hasse_relation, node_colors)\n"
      ],
      "metadata": {
        "id": "EStnzQ2Nnyh5"
      },
      "id": "EStnzQ2Nnyh5",
      "execution_count": null,
      "outputs": []
    },
    {
      "cell_type": "markdown",
      "source": [
        "### @상계(upper bound), 하계(lower bound)\n",
        "- 상계란 A가 부분순서집합이고 B가 A의 부분 집합일 때 집합 A의 원소들을 집합 B의 모든 원소보다 크거나 같은 집합 A의 원소들을 말한다\n",
        "- 하계도 A가 부분순서집합이고 B가 A의 부분 집합일 때 B의 모든 원소보다 작거나 같은 집합 A의 원소들을 말한다."
      ],
      "metadata": {
        "id": "UIOpGu0jvM2d"
      },
      "id": "UIOpGu0jvM2d"
    },
    {
      "cell_type": "markdown",
      "source": [
        "### [예제 7-14] 상계, 하계\n",
        "A＝{a, b, c, d, e, f, g, h}는 부분순서집합이다. A의 하세 도형이 다음과 같을 때 A의 부분 집합들인 B1, B2 ,B3의 상계와 하계를 모두 구하라.\n",
        "- (a) B1={a, b}\n",
        "- (b) B2={c, d, e}\n",
        "- (c) B3={d, g, f}"
      ],
      "metadata": {
        "id": "rEtLYXPevuDj"
      },
      "id": "rEtLYXPevuDj"
    },
    {
      "cell_type": "code",
      "source": [
        "# 그래프를 이용하여 상계/하계 찾기\n",
        "def find_bounds(A, R, subset):\n",
        "    G = nx.DiGraph()      # 유향그래프\n",
        "    G.add_nodes_from(A)   # 노드 추가\n",
        "    G.add_edges_from(R)   # 간선 추가\n",
        "\n",
        "    upper_bounds = list()\n",
        "    lower_bounds = list()\n",
        "    for node in G.nodes:\n",
        "        if all(nx.has_path(G, sub, node) for sub in subset):\n",
        "            upper_bounds.append(node)\n",
        "        if all(nx.has_path(G, node, sub) for sub in subset):\n",
        "            lower_bounds.append(node)\n",
        "    return G, upper_bounds, lower_bounds\n",
        "\n",
        "\n",
        "A = {'a', 'b', 'c', 'd', 'e', 'f', 'g', 'h'}\n",
        "R = {('a','c'),('b','c'),('c','d'),('c','e'),('d','f'),('d','g'),\n",
        "     ('e','f'),('e','g'),('f','h'),('g','h'),}\n",
        "print(\"부분순서 관계 R:\")\n",
        "for relation in R:\n",
        "    print(f\"{relation[0]} ≼ {relation[1]}\")\n",
        "\n",
        "\n",
        "# 하세도형\n",
        "hasse_relation = make_hasse_relation(A, R)  # 하세도형 집합\n",
        "H = draw_hasse_graph(A, hasse_relation)     # 하세도형 그리기\n",
        "print('hasse_relation: ', hasse_relation)\n",
        "\n",
        "\n",
        "# 상계, 하계 구하기\n",
        "B = [{'a', 'b'}, {'c', 'd', 'e'}, {'d', 'g', 'f'}]\n",
        "for i, subset in enumerate(B, start=1):\n",
        "    graph, upper_bounds, lower_bounds = find_bounds(A, hasse_relation, subset)\n",
        "    print(f\"\\nB{i} = {subset}의 상계:\", sorted(upper_bounds))\n",
        "    print(f\"B{i} = {subset}의 하계:\", sorted(lower_bounds, reverse=True))"
      ],
      "metadata": {
        "id": "E-WROUTpyGt3"
      },
      "id": "E-WROUTpyGt3",
      "execution_count": null,
      "outputs": []
    },
    {
      "cell_type": "markdown",
      "source": [
        "### @상한(least upper bound, supremum), 하한(greatest lower bound, infimum)\n",
        "- 상한(Least Upper Bound, Supremum): 상계 중에서 가장 작은 원소, 상한은 상계들이 여러 개 있을 때 그중 가장 낮은 위치에 있는 원소를 의미\n",
        "- 하한(Greatest Lower Bound, Infimum): 하계 중에서 가장 큰 원소, 하한은 하계들이 여러 개 있을 때 그중 가장 높은 위치에 있는 원소를 의미"
      ],
      "metadata": {
        "id": "a0Vxw8nS6qd8"
      },
      "id": "a0Vxw8nS6qd8"
    },
    {
      "cell_type": "markdown",
      "source": [],
      "metadata": {
        "id": "kPq_Kjfh7duJ"
      },
      "id": "kPq_Kjfh7duJ"
    },
    {
      "cell_type": "code",
      "source": [
        "# 상한, 하한 구하기\n",
        "def find_least_upper_bound(subset, upper_bounds, G):\n",
        "    return {node for node in upper_bounds if all(not nx.has_path(G, other, node) or other == node for other in upper_bounds)}\n",
        "\n",
        "def find_greatest_lower_bound(subset, lower_bounds, G):\n",
        "    return {node for node in lower_bounds if all(not nx.has_path(G, node, other) or other == node for other in lower_bounds)}\n",
        "\n",
        "\n",
        "B = [['a', 'b'], ['c', 'd', 'e'], ['d', 'g', 'f']]\n",
        "for i, subset in enumerate(B, start=1):\n",
        "    graph, upper_bounds, lower_bounds = find_bounds(A, hasse_relation, subset)\n",
        "\n",
        "    # 상한: 상계 중 가장 작은 원소 (유일해야 함)\n",
        "    least_upper_bound_B = find_least_upper_bound(subset, upper_bounds, graph)\n",
        "    # 하한: 하계 중 가장 큰 원소 (유일해야 함)\n",
        "    greatest_lower_bound_B = find_greatest_lower_bound(subset, lower_bounds, graph)\n",
        "    print(f\"\\nB{i} = {subset}의 상계: {upper_bounds}, 상한: {least_upper_bound_B}\")\n",
        "    print(f\"B{i} = {subset}의 하계: {lower_bounds}, 하한: {greatest_lower_bound_B}\")\n"
      ],
      "metadata": {
        "id": "9sEW1VGS7eAy"
      },
      "id": "9sEW1VGS7eAy",
      "execution_count": null,
      "outputs": []
    },
    {
      "cell_type": "markdown",
      "id": "f9c3570a",
      "metadata": {
        "id": "f9c3570a"
      },
      "source": [
        "-------------------------------------"
      ]
    },
    {
      "cell_type": "markdown",
      "id": "b9118dc0",
      "metadata": {
        "id": "b9118dc0"
      },
      "source": [
        "## 7-3 격자(Lattice)\n",
        "모든 부분 집합의 상한과 하한이 항상 존재하는 부분순서집합"
      ]
    },
    {
      "cell_type": "markdown",
      "id": "617bbfc0",
      "metadata": {
        "id": "617bbfc0"
      },
      "source": [
        "### 약수 구하기"
      ]
    },
    {
      "cell_type": "code",
      "execution_count": null,
      "id": "a972ce32",
      "metadata": {
        "id": "a972ce32"
      },
      "outputs": [],
      "source": [
        "def divisor(N):\n",
        "    result = [i for i in range(1,N+1) if N%i == 0]\n",
        "\n",
        "    print(f'{N}의 약수: {result}')\n",
        "    return result\n",
        "\n",
        "N = 20\n",
        "divisor(N)\n",
        "\n",
        "N = 30\n",
        "divisor(N)"
      ]
    },
    {
      "cell_type": "markdown",
      "source": [
        "### [예제 7-18] 격자"
      ],
      "metadata": {
        "id": "5djjf2ZBJ9cp"
      },
      "id": "5djjf2ZBJ9cp"
    },
    {
      "cell_type": "code",
      "source": [
        "\n",
        "# 약수 관계 정의 함수\n",
        "def get_divisor_relations(elements):\n",
        "    relation = []\n",
        "    for a in elements:\n",
        "        for b in elements:\n",
        "            if a != b and b % a == 0:\n",
        "                relation.append((a, b))\n",
        "    return relation\n",
        "\n",
        "# 관계 출력\n",
        "def print_relations(name, relations):\n",
        "    print(f\"부분순서 관계 {name}:\")\n",
        "    for relation in relations:\n",
        "        print(f\"{relation[0]} ≼ {relation[1]}\")\n",
        "\n",
        "# 집합 D20과 D30 정의\n",
        "d20 = {1, 2, 4, 5, 10, 20}\n",
        "\n",
        "# D20과 D30의 관계 정의\n",
        "relation_D20 = get_divisor_relations(d20)\n",
        "print_relations(\"D20\", relation_D20)\n",
        "\n",
        "# 하세도형\n",
        "hasse_relation = make_hasse_relation(A, relation_D20)  # 하세도형 집합\n",
        "H = draw_hasse_graph(d20, hasse_relation)         # 하세도형 그리기\n",
        "print(f'{d20} hasse_relation: ', hasse_relation)\n",
        "\n",
        "# 상한, 하한 구하기 (D20에서 B1 = {1, 2}, D30에서 B2 = {2, 3, 5})\n",
        "subset = {1, 2}  # 부분집합 예 임의로 지정\n",
        "graph, upper_bounds, lower_bounds = find_bounds(A, hasse_relation, subset)  # 상계, 하계\n",
        "least_upper_bound_B = find_least_upper_bound(subset, upper_bounds, graph)   # 상한\n",
        "greatest_lower_bound_B = find_greatest_lower_bound(subset, lower_bounds, graph) # 하한\n",
        "print(f\"\\nB{i} = {subset}의 상계: {upper_bounds}, 상한: {least_upper_bound_B}\")\n",
        "print(f\"B{i} = {subset}의 하계: {lower_bounds}, 하한: {greatest_lower_bound_B}\")\n",
        "\n",
        "# 격자 판단\n",
        "if least_upper_bound_B and greatest_lower_bound_B:\n",
        "    print(f'==> 격자이다.')\n",
        "else:\n",
        "    print(f'==> 격자가 아니다.')"
      ],
      "metadata": {
        "id": "1aKVRzHkJ9mP"
      },
      "id": "1aKVRzHkJ9mP",
      "execution_count": null,
      "outputs": []
    },
    {
      "cell_type": "code",
      "source": [
        "d30 = {1, 2, 3, 5, 6, 10, 15, 30}\n",
        "relation_D30 = get_divisor_relations(d30)\n",
        "print_relations(\"D30\", relation_D30)\n",
        "\n",
        "# 하세도형\n",
        "hasse_relation = make_hasse_relation(A, relation_D30)  # 하세도형 집합\n",
        "H = draw_hasse_graph(d30, hasse_relation)         # 하세도형 그리기\n",
        "print(f'{d30} hasse_relation: ', hasse_relation)\n",
        "\n",
        "# 상한, 하한 구하기\n",
        "subset = {2, 6}  # 부분집합 예 임의로 지정\n",
        "graph, upper_bounds, lower_bounds = find_bounds(A, hasse_relation, subset)  # 상계, 하계\n",
        "least_upper_bound_B = find_least_upper_bound(subset, upper_bounds, graph)   # 상한\n",
        "greatest_lower_bound_B = find_greatest_lower_bound(subset, lower_bounds, graph) # 하한\n",
        "print(f\"\\nB{i} = {subset}의 상계: {upper_bounds}, 상한: {least_upper_bound_B}\")\n",
        "print(f\"B{i} = {subset}의 하계: {lower_bounds}, 하한: {greatest_lower_bound_B}\")\n",
        "\n",
        "# 격자 판단\n",
        "if least_upper_bound_B and greatest_lower_bound_B:\n",
        "    print(f'==> 격자이다.')\n",
        "else:\n",
        "    print(f'==> 격자가 아니다.')"
      ],
      "metadata": {
        "id": "-brh6v_GKwHa"
      },
      "id": "-brh6v_GKwHa",
      "execution_count": null,
      "outputs": []
    },
    {
      "cell_type": "markdown",
      "id": "b89ced77",
      "metadata": {
        "id": "b89ced77"
      },
      "source": [
        "----------------------------"
      ]
    },
    {
      "cell_type": "markdown",
      "id": "95bff004",
      "metadata": {
        "id": "95bff004"
      },
      "source": [
        "## 7-4 특별한 형태의 격자"
      ]
    },
    {
      "cell_type": "markdown",
      "id": "55597ad6",
      "metadata": {
        "id": "55597ad6"
      },
      "source": [
        "----------------------"
      ]
    },
    {
      "cell_type": "markdown",
      "id": "09839190",
      "metadata": {
        "id": "09839190"
      },
      "source": [
        "## 7-5 부울 대수"
      ]
    },
    {
      "cell_type": "markdown",
      "source": [
        "### [예제 7-32] 부울대수인지 판단\n",
        "(B, ≼ )를 부분순서집합이라 하자. B＝{0, 1}이고 ≼ 는 부분 순서(0 ≼ 0, 0 ≼ 1, 1 ≼ 1 )일 때 B가 부울대수인지를 판단하라.\n"
      ],
      "metadata": {
        "id": "XDksRcZiXXEs"
      },
      "id": "XDksRcZiXXEs"
    },
    {
      "cell_type": "code",
      "source": [
        "# 집합 B 정의\n",
        "B = {0, 1}\n",
        "\n",
        "# 부분순서 관계 정의 (0 ≼ 0, 0 ≼ 1, 1 ≼ 1)\n",
        "relation_B = [(0, 0), (0, 1), (1, 1)]\n",
        "print_relations(\"B\", relation_B)\n",
        "\n",
        "# 부울 대수 판단:\n",
        "# 1.유계 격자: 최소 원소(0), 최대 원소(1)\n",
        "is_bounded_lattice = (0 in B) and (1 in B)\n",
        "# 2.여격자: 여원소 판단-> 0의 여원소는 1, 1의 여원소는 0으로 판단\n",
        "has_complements = (0, 1) in relation_B and (1, 0) not in relation_B\n",
        "\n",
        "# 부울 대수 조건 판단\n",
        "if is_bounded_lattice and has_complements:\n",
        "    print(\"\\nB는 부울 대수입니다.\")\n",
        "else:\n",
        "    print(\"\\nB는 부울 대수가 아닙니다.\")"
      ],
      "metadata": {
        "id": "bLaYmShFXXMb"
      },
      "id": "bLaYmShFXXMb",
      "execution_count": null,
      "outputs": []
    },
    {
      "cell_type": "markdown",
      "source": [
        "### @컴퓨터에서의 기본 회로"
      ],
      "metadata": {
        "id": "VHzvL3DzbOZv"
      },
      "id": "VHzvL3DzbOZv"
    },
    {
      "cell_type": "code",
      "source": [
        "# 논리 게이트 구현\n",
        "# AND 게이트\n",
        "def AND(a, b):\n",
        "    return a & b\n",
        "\n",
        "# OR 게이트\n",
        "def OR(a, b):\n",
        "    return a | b\n",
        "\n",
        "# NOT 게이트\n",
        "def NOT(a):\n",
        "    return 1 - a\n",
        "\n",
        "# NAND 게이트\n",
        "def NAND(a, b):\n",
        "    return 1 - (a & b)\n",
        "\n",
        "# NOR 게이트\n",
        "def NOR(a, b):\n",
        "    return 1 - (a | b)\n",
        "\n",
        "# XOR 게이트\n",
        "def XOR(a, b):\n",
        "    return a ^ b\n",
        "\n",
        "# 논리 게이트 테스트\n",
        "print(\"\\n논리 게이트 테스트:\")\n",
        "print(f\"AND(0, 1) = {AND(0, 1)}\")\n",
        "print(f\"OR(0, 1) = {OR(0, 1)}\")\n",
        "print(f\"NOT(1) = {NOT(1)}\")\n",
        "print(f\"NAND(1, 1) = {NAND(1, 1)}\")\n",
        "print(f\"NOR(0, 0) = {NOR(0, 0)}\")\n",
        "print(f\"XOR(1, 0) = {XOR(1, 0)}\")"
      ],
      "metadata": {
        "id": "C35q96yXccPF"
      },
      "id": "C35q96yXccPF",
      "execution_count": null,
      "outputs": []
    },
    {
      "cell_type": "markdown",
      "id": "e4b37b21",
      "metadata": {
        "id": "e4b37b21"
      },
      "source": [
        "#### AND 게이트"
      ]
    },
    {
      "cell_type": "code",
      "execution_count": null,
      "id": "22895f57",
      "metadata": {
        "id": "22895f57"
      },
      "outputs": [],
      "source": [
        "#AND 게이트 구현\n",
        "def AND(x1, x2):\n",
        "    w1, w2, theta = 0.5, 0.5, 0.7\n",
        "    tmp = w1*x1 + w2*x2\n",
        "    if tmp <= theta : # 임계값\n",
        "        return 0\n",
        "    elif tmp > theta:\n",
        "        return 1\n",
        "\n",
        "R = [(0,0),(0,1),(1,0),(1,1)]\n",
        "for a, b in R:\n",
        "    print(f'in : {a, b},  out: {AND(a, b)}')"
      ]
    },
    {
      "cell_type": "markdown",
      "id": "2d8c495e",
      "metadata": {
        "id": "2d8c495e"
      },
      "source": [
        "### OR 게이트"
      ]
    },
    {
      "cell_type": "code",
      "execution_count": null,
      "id": "64f59f1d",
      "metadata": {
        "id": "64f59f1d"
      },
      "outputs": [],
      "source": [
        "#OR 게이트 구현\n",
        "def OR(x1,x2):\n",
        "    w1,w2,theta = 0.5,0.5,0.4\n",
        "    tmp = w1*x1 + w2*x2\n",
        "    if tmp <= theta : # 임계값\n",
        "        return 0\n",
        "    elif tmp > theta:\n",
        "        return 1\n",
        "\n",
        "R = [(0,0),(0,1),(1,0),(1,1)]\n",
        "for a, b in R:\n",
        "    print(f'in : {a, b},  out: {OR(a, b)}')"
      ]
    },
    {
      "cell_type": "markdown",
      "id": "3a62959c",
      "metadata": {
        "id": "3a62959c"
      },
      "source": [
        "### Not AND 게이트"
      ]
    },
    {
      "cell_type": "code",
      "execution_count": null,
      "id": "96f01e30",
      "metadata": {
        "id": "96f01e30"
      },
      "outputs": [],
      "source": [
        "#Not AND 게이트 구현\n",
        "def NAND(x1,x2):\n",
        "    w1,w2,theta = 0.5,0.5,0.7\n",
        "    tmp = w1*x1 + w2*x2\n",
        "    if tmp <= theta : # 임계값\n",
        "        return 1\n",
        "    elif tmp > theta:\n",
        "        return 0\n",
        "\n",
        "R = [(0,0),(0,1),(1,0),(1,1)]\n",
        "for a, b in R:\n",
        "    print(f'in : {a, b},  out: {NAND(a, b)}')"
      ]
    },
    {
      "cell_type": "markdown",
      "id": "fb070019",
      "metadata": {
        "id": "fb070019"
      },
      "source": [
        "### NOT 게이트"
      ]
    },
    {
      "cell_type": "code",
      "execution_count": null,
      "id": "f6917cd2",
      "metadata": {
        "id": "f6917cd2"
      },
      "outputs": [],
      "source": [
        "def NOT(x):\n",
        "    return NAND(x, x)\n",
        "\n",
        "R = [0, 1]\n",
        "for a in R:\n",
        "    print(f'in : {a}, out: {NOT(a)}')"
      ]
    },
    {
      "cell_type": "markdown",
      "id": "4565819d",
      "metadata": {
        "id": "4565819d"
      },
      "source": [
        "-----------------------"
      ]
    },
    {
      "cell_type": "markdown",
      "id": "da80cb22",
      "metadata": {
        "id": "da80cb22"
      },
      "source": [
        "## 7.6 2-비트 가산기의 설계"
      ]
    },
    {
      "cell_type": "markdown",
      "id": "74ea4b7a",
      "metadata": {
        "id": "74ea4b7a"
      },
      "source": [
        "### # 비트 연산자 종류\n",
        "| 기호 | 설명 |\n",
        "|---|---|\n",
        "| &   |   비트 AND |\n",
        "| |   |   비트 OR |\n",
        "| ~   |   비트 NOT |\n",
        "| ^   |   비트 XOR |\n",
        "| $>>$  |   비트 오른쪽 쉬프트 |\n",
        "| $<<$  |   비트 왼쪽 쉬프트 |"
      ]
    },
    {
      "cell_type": "markdown",
      "id": "c8f2fde7",
      "metadata": {
        "id": "c8f2fde7"
      },
      "source": [
        "#### # 비트 AND"
      ]
    },
    {
      "cell_type": "code",
      "execution_count": null,
      "id": "7520978c",
      "metadata": {
        "id": "7520978c"
      },
      "outputs": [],
      "source": [
        "print(bin(12 & 5))   #2진수 12와 5의 논리곱\n",
        "print(12 & 5)"
      ]
    },
    {
      "cell_type": "markdown",
      "id": "3dee7695",
      "metadata": {
        "id": "3dee7695"
      },
      "source": [
        "#### # 비트 OR"
      ]
    },
    {
      "cell_type": "code",
      "execution_count": null,
      "id": "9d7f2b01",
      "metadata": {
        "id": "9d7f2b01"
      },
      "outputs": [],
      "source": [
        "print(bin(12 | 5))  #2진수 12와 5의 논리합\n",
        "print(12 | 5)"
      ]
    },
    {
      "cell_type": "markdown",
      "id": "1d0c34a0",
      "metadata": {
        "id": "1d0c34a0"
      },
      "source": [
        "#### # 비트 NOT"
      ]
    },
    {
      "cell_type": "code",
      "execution_count": null,
      "id": "3e73287c",
      "metadata": {
        "id": "3e73287c"
      },
      "outputs": [],
      "source": [
        "print(bin(~12))\n",
        "print(~12)"
      ]
    },
    {
      "cell_type": "markdown",
      "id": "02f15991",
      "metadata": {
        "id": "02f15991"
      },
      "source": [
        "#### # 비트 XOR"
      ]
    },
    {
      "cell_type": "code",
      "execution_count": null,
      "id": "10da9704",
      "metadata": {
        "id": "10da9704"
      },
      "outputs": [],
      "source": [
        "print(bin(12 ^ 5))\n",
        "print(12 ^ 5)"
      ]
    },
    {
      "cell_type": "markdown",
      "id": "991e1728",
      "metadata": {
        "id": "991e1728"
      },
      "source": [
        "#### # 비트 오른쪽 쉬프트"
      ]
    },
    {
      "cell_type": "markdown",
      "id": "27b2ff80",
      "metadata": {
        "id": "27b2ff80"
      },
      "source": [
        "print(bin(12 >> 2))\n",
        "print(12 >> 2)"
      ]
    },
    {
      "cell_type": "markdown",
      "id": "762040fd",
      "metadata": {
        "id": "762040fd"
      },
      "source": [
        "#### # 비트 왼쪽 쉬프트"
      ]
    },
    {
      "cell_type": "code",
      "execution_count": null,
      "id": "73b87b4e",
      "metadata": {
        "id": "73b87b4e"
      },
      "outputs": [],
      "source": [
        "print(bin(12 << 2))\n",
        "print(12 << 2)"
      ]
    },
    {
      "cell_type": "markdown",
      "id": "b63817b3",
      "metadata": {
        "id": "b63817b3"
      },
      "source": [
        "### # 비트 연산"
      ]
    },
    {
      "cell_type": "code",
      "execution_count": null,
      "id": "24a5ec24",
      "metadata": {
        "id": "24a5ec24"
      },
      "outputs": [],
      "source": [
        "# 10진수를 2진수로\n",
        "bin(3) # oct(), hex()"
      ]
    },
    {
      "cell_type": "code",
      "execution_count": null,
      "id": "7a3e40ba",
      "metadata": {
        "id": "7a3e40ba"
      },
      "outputs": [],
      "source": [
        "#bin(3)\n",
        "bin(3)[2:].zfill(8)"
      ]
    },
    {
      "cell_type": "code",
      "execution_count": null,
      "id": "4149fcba",
      "metadata": {
        "id": "4149fcba"
      },
      "outputs": [],
      "source": [
        "# 2진수 계산\n",
        "0b01+0b11"
      ]
    },
    {
      "cell_type": "code",
      "execution_count": null,
      "id": "cf979a3a",
      "metadata": {
        "id": "cf979a3a"
      },
      "outputs": [],
      "source": [
        "# 2진수 계산\n",
        "bin(1+3)"
      ]
    },
    {
      "cell_type": "code",
      "execution_count": null,
      "id": "f6bef15c",
      "metadata": {
        "id": "f6bef15c"
      },
      "outputs": [],
      "source": [
        "# 2진수를 10진수로 변환\n",
        "int( bin(1+3), 2)"
      ]
    },
    {
      "cell_type": "code",
      "execution_count": null,
      "id": "7e5f73a7",
      "metadata": {
        "id": "7e5f73a7"
      },
      "outputs": [],
      "source": [
        "# 10진수를 8진수로 변환\n",
        "oct(18)"
      ]
    },
    {
      "cell_type": "code",
      "execution_count": null,
      "id": "067e5b1a",
      "metadata": {
        "id": "067e5b1a"
      },
      "outputs": [],
      "source": [
        "# 8진수를 10진수로 변환\n",
        "int( oct(18), 8)"
      ]
    },
    {
      "cell_type": "markdown",
      "source": [
        "### @2-비트 가산기"
      ],
      "metadata": {
        "id": "U8xPWJotdqPO"
      },
      "id": "U8xPWJotdqPO"
    },
    {
      "cell_type": "code",
      "source": [
        "# 2-비트 가산기 구현 (입력: a, b, c, d -> 출력: e, f, g)\n",
        "def two_bit_adder_v2(a, b, c, d):\n",
        "    # 첫 번째 자리 합 계산 (LSB)\n",
        "    g = XOR(b, d)\n",
        "    carry0 = AND(b, d)\n",
        "\n",
        "    # 두 번째 자리 합 계산 (MSB)\n",
        "    sum1 = XOR(a, c)\n",
        "    f = XOR(sum1, carry0)\n",
        "    carry1 = AND(a, c)\n",
        "    carry2 = AND(sum1, carry0)\n",
        "    e = OR(carry1, carry2)\n",
        "\n",
        "    return e, f, g\n",
        "\n",
        "# 2-비트 가산기 테스트 (입력: a, b, c, d)\n",
        "a, b, c, d = 1, 0, 1, 1\n",
        "e, f, g = two_bit_adder_v2(a, b, c, d)\n",
        "print(f\"\\n2-비트 가산기 결과: 입력 ({a}{b}) + ({c}{d}) = 출력 (e: {e}, f: {f}, g: {g})\")\n"
      ],
      "metadata": {
        "id": "nJ2TYA8cdqmw"
      },
      "id": "nJ2TYA8cdqmw",
      "execution_count": null,
      "outputs": []
    },
    {
      "cell_type": "markdown",
      "source": [
        "### @반가산기(half adder)"
      ],
      "metadata": {
        "id": "xjdS6TZDf7S9"
      },
      "id": "xjdS6TZDf7S9"
    },
    {
      "cell_type": "code",
      "source": [
        "# 반가산기 구현 (입력: x, y -> 출력: S, C)\n",
        "def half_adder(x, y):\n",
        "    # 합 계산 (S = x' * y + x * y' = x ⊕ y)\n",
        "    S = XOR(x, y)\n",
        "    # 올림 수 계산 (C = x * y)\n",
        "    C = AND(x, y)\n",
        "    return S, C\n",
        "\n",
        "# 반가산기 테스트 (입력: x, y)\n",
        "x, y = 1, 1\n",
        "S, C = half_adder(x, y)\n",
        "print(f\"\\n반가산기 결과: 입력 (x: {x}, y: {y}) = 출력 (S: {S}, C: {C})\")"
      ],
      "metadata": {
        "id": "ZW5pTl1zf7ay"
      },
      "id": "ZW5pTl1zf7ay",
      "execution_count": null,
      "outputs": []
    },
    {
      "cell_type": "markdown",
      "id": "158a90bf",
      "metadata": {
        "id": "158a90bf"
      },
      "source": [
        "---------------------------"
      ]
    },
    {
      "cell_type": "markdown",
      "id": "262b07f8",
      "metadata": {
        "id": "262b07f8"
      },
      "source": [
        "THE END"
      ]
    }
  ],
  "metadata": {
    "kernelspec": {
      "display_name": "Python 3",
      "language": "python",
      "name": "python3"
    },
    "language_info": {
      "codemirror_mode": {
        "name": "ipython",
        "version": 3
      },
      "file_extension": ".py",
      "mimetype": "text/x-python",
      "name": "python",
      "nbconvert_exporter": "python",
      "pygments_lexer": "ipython3",
      "version": "3.12.7"
    },
    "colab": {
      "provenance": [],
      "toc_visible": true
    }
  },
  "nbformat": 4,
  "nbformat_minor": 5
}
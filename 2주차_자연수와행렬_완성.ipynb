{
 "cells": [
  {
   "cell_type": "markdown",
   "id": "0a9722f3",
   "metadata": {
    "id": "0a9722f3"
   },
   "source": [
    "# 2.자연수와 행렬"
   ]
  },
  {
   "cell_type": "markdown",
   "id": "2cb63943",
   "metadata": {
    "id": "2cb63943"
   },
   "source": [
    "## 2-1.수 체계"
   ]
  },
  {
   "cell_type": "markdown",
   "id": "XFh918VbmLr6",
   "metadata": {
    "id": "XFh918VbmLr6"
   },
   "source": [
    "#### 코랩에서 한글 사용하기 위한 방법\n",
    "- 한글 폰트 설치\n",
    "- 코랩에서 [런타임 > 세션 다시 시작] 실행\n",
    "- 그래프(matplotlib)에서 한글 폰트 지"
   ]
  },
  {
   "cell_type": "code",
   "execution_count": null,
   "id": "RPMDCigemJBZ",
   "metadata": {
    "id": "RPMDCigemJBZ"
   },
   "outputs": [],
   "source": [
    "!sudo apt-get install -y fonts-nanum\n",
    "!sudo fc-cache -fv\n",
    "!rm ~/.cache/matplotlib -rf"
   ]
  },
  {
   "cell_type": "code",
   "execution_count": null,
   "id": "pzkgCBawnH4y",
   "metadata": {
    "id": "pzkgCBawnH4y"
   },
   "outputs": [],
   "source": [
    "import matplotlib.pyplot as plt\n",
    "\n",
    "plt.rc('font', family='NanumBarunGothic')"
   ]
  },
  {
   "cell_type": "markdown",
   "id": "3cbe2a73",
   "metadata": {
    "id": "3cbe2a73"
   },
   "source": [
    "### [실습] 수학의 분류\n",
    "- 실행시 라이브러리 오류가 발생할 경우 해당 라이브러리를 설치 후 코드를 실행합니다.\n",
    "- 라이브러리 설치 명령어 : %pip install plotly"
   ]
  },
  {
   "cell_type": "code",
   "execution_count": null,
   "id": "kr8ZTPGKxqO7",
   "metadata": {
    "id": "kr8ZTPGKxqO7"
   },
   "outputs": [],
   "source": [
    "import pandas as pd\n",
    "import matplotlib.pyplot as plt\n",
    "import plotly.express as px\n",
    "\n",
    "# 파일 불러오기\n",
    "filename = './수학의분류.csv'\n",
    "category = pd.read_csv(filename)\n",
    "category.head()"
   ]
  },
  {
   "cell_type": "code",
   "execution_count": null,
   "id": "NYNZpjz198a8",
   "metadata": {
    "id": "NYNZpjz198a8"
   },
   "outputs": [],
   "source": [
    "category[ category['3단계 세부 주제'] == '정수론' ]"
   ]
  },
  {
   "cell_type": "code",
   "execution_count": null,
   "id": "1F2t9jhX7ffQ",
   "metadata": {
    "id": "1F2t9jhX7ffQ"
   },
   "outputs": [],
   "source": [
    "print(category.columns)"
   ]
  },
  {
   "cell_type": "code",
   "execution_count": null,
   "id": "VdsI2VFu0VoV",
   "metadata": {
    "id": "VdsI2VFu0VoV"
   },
   "outputs": [],
   "source": [
    "# 그래프 그리기\n",
    "fig = px.treemap(data_frame=category,\n",
    "                 path=[px.Constant('수학분류'),'1단계 분류', '2단계 분류', '3단계 세부 주제'],\n",
    "                 values='가중치 (중요도)',\n",
    "                 color='가중치 (중요도)',\n",
    "                 color_continuous_scale='RdBu')\n",
    "fig.update_traces(root_color=\"lightgrey\")\n",
    "fig.update_layout(title='수학의 분류', title_x=0.5)\n",
    "fig.show()"
   ]
  },
  {
   "cell_type": "markdown",
   "id": "XXEp3LIeO88U",
   "metadata": {
    "id": "XXEp3LIeO88U"
   },
   "source": [
    "### [실습] 수 체계 분류"
   ]
  },
  {
   "cell_type": "code",
   "execution_count": null,
   "id": "QKKBbCYOO8Rm",
   "metadata": {
    "id": "QKKBbCYOO8Rm"
   },
   "outputs": [],
   "source": [
    "import math\n",
    "\n",
    "def classify_number(num):\n",
    "    try:\n",
    "        # 복소수인지 확인\n",
    "        if isinstance(num, complex):\n",
    "            return f\"{num:10}: 복소수 (Complex number)\"\n",
    "\n",
    "        # 실수인지 확인 (복소수 제외)\n",
    "        if isinstance(num, float):\n",
    "            if num.is_integer():\n",
    "                return f\"{num:10}: 정수 (Integer)\"\n",
    "            else:\n",
    "                # 유리수인지 무리수인지 확인 (무리수는 직접 판별이 어려워, 유명한 무리수로 추정)\n",
    "                if num in [math.pi, math.e, math.sqrt(2), math.sqrt(3)]:\n",
    "                    return f\"{num:10}: 무리수 (Irrational number)\"\n",
    "                else:\n",
    "                    return f\"{num:10}: 유리수 (Rational number)\"\n",
    "\n",
    "        # 정수인지 확인\n",
    "        if isinstance(num, int):\n",
    "            if num > 0:\n",
    "                return f\"{num:10}: 자연수 (Natural number)\"\n",
    "            else:\n",
    "                return f\"{num:10}: 정수 (Integer)\"\n",
    "    except Exception as e:\n",
    "        return f\"오류: {str(e)}\"\n",
    "\n",
    "# 테스트 케이스\n",
    "print(classify_number(5))          # 자연수\n",
    "print(classify_number(-3))         # 정수\n",
    "print(classify_number(0))          # 정수\n",
    "print(classify_number(0.5))        # 유리수\n",
    "print(classify_number(math.pi))    # 무리수\n",
    "print(classify_number(2 + 3j))     # 복소수\n",
    "print(classify_number(math.sqrt(2))) # 무리수"
   ]
  },
  {
   "cell_type": "markdown",
   "id": "865cd22f",
   "metadata": {
    "id": "865cd22f"
   },
   "source": [
    "-------------------"
   ]
  },
  {
   "cell_type": "markdown",
   "id": "31a5f6ce",
   "metadata": {
    "id": "31a5f6ce"
   },
   "source": [
    "## 2-2.자연수와 정수"
   ]
  },
  {
   "cell_type": "markdown",
   "id": "99e31201",
   "metadata": {
    "id": "99e31201"
   },
   "source": [
    "### [실습] 어떤 수가 정수인지 판단하는 프로그램"
   ]
  },
  {
   "cell_type": "code",
   "execution_count": null,
   "id": "c45acb6c",
   "metadata": {
    "id": "c45acb6c"
   },
   "outputs": [],
   "source": [
    "# 정수 판별 프로그램\n",
    "def is_integer(N):\n",
    "    if N - int(N) == 0:\n",
    "        print(\"정수\")\n",
    "    if N - int(N) != 0:\n",
    "        print(\"소수\")\n",
    "\n",
    "try:\n",
    "    N = input('숫자를 입력하세요: ')\n",
    "    N = float(N)\n",
    "    is_integer(N)\n",
    "except ValueError:\n",
    "    print(\"math error\")"
   ]
  },
  {
   "cell_type": "markdown",
   "id": "FVftg42awOs7",
   "metadata": {
    "id": "FVftg42awOs7"
   },
   "source": [
    "### [실습] 정수의 활용"
   ]
  },
  {
   "cell_type": "markdown",
   "id": "KaFO5D1owSp-",
   "metadata": {
    "id": "KaFO5D1owSp-"
   },
   "source": [
    "**1. 카운팅과 순서**: 주어진 정수 리스트에서 짝수의 개수를 세고, 그 짝수의 인덱스를 반환하는 프로그램"
   ]
  },
  {
   "cell_type": "code",
   "execution_count": null,
   "id": "oLR83PrDkEuM",
   "metadata": {
    "id": "oLR83PrDkEuM"
   },
   "outputs": [],
   "source": [
    "def count_even_numbers(lst):\n",
    "    count = 0\n",
    "    indices = []\n",
    "    for i, num in enumerate(lst):\n",
    "        if num % 2 == 0:\n",
    "            count += 1\n",
    "            indices.append(i)\n",
    "    return count, indices\n",
    "\n",
    "numbers = [3, 12, 5, 8, 14, 7, 2, 13]\n",
    "count, indices = count_even_numbers(numbers)\n",
    "print(f\"짝수의 개수: {count}\")\n",
    "print(f\"짝수의 위치: {indices}\")"
   ]
  },
  {
   "cell_type": "markdown",
   "id": "P6cWRFIWwXO0",
   "metadata": {
    "id": "P6cWRFIWwXO0"
   },
   "source": [
    "**2.금융에서의 잔고와 빚**: 주어진 거래 내역에서 잔고와 빚을 계산하고, 잔고가 음수가 되면 빚 리스트에 추가하는 프로그램"
   ]
  },
  {
   "cell_type": "code",
   "execution_count": null,
   "id": "p5hSAeszwcGO",
   "metadata": {
    "id": "p5hSAeszwcGO"
   },
   "outputs": [],
   "source": [
    "def calculate_balance(transactions):\n",
    "    balance = 0\n",
    "    debts = []\n",
    "\n",
    "    for amount in transactions:\n",
    "        balance += amount\n",
    "        if balance < 0:\n",
    "            debts.append(balance)\n",
    "\n",
    "    return balance, debts\n",
    "\n",
    "transactions = [100, -150, 200, -50, -25, -300, 400]\n",
    "final_balance, debts = calculate_balance(transactions)\n",
    "print(f\"최종 잔고: {final_balance} 만원\")\n",
    "print(f\"빚 기록: {debts}\")"
   ]
  },
  {
   "cell_type": "markdown",
   "id": "YDJuxNB_wdgm",
   "metadata": {
    "id": "YDJuxNB_wdgm"
   },
   "source": [
    "**3. 좌표와 측정**: 두 점 (x1, y1)과 (x2, y2) 사이의 거리를 계산하는 프로그램"
   ]
  },
  {
   "cell_type": "code",
   "execution_count": null,
   "id": "ngthJSCgwXmH",
   "metadata": {
    "id": "ngthJSCgwXmH"
   },
   "outputs": [],
   "source": [
    "import math\n",
    "\n",
    "def calculate_distance(point1, point2):\n",
    "    x1, y1 = point1\n",
    "    x2, y2 = point2\n",
    "    distance = math.sqrt((x2 - x1)**2 + (y2 - y1)**2)\n",
    "    return distance\n",
    "\n",
    "point1 = (-1, 2)\n",
    "point2 = (3, 5)\n",
    "distance = calculate_distance(point1, point2)\n",
    "print(f\"두 점 사이의 거리: {distance}\")"
   ]
  },
  {
   "cell_type": "markdown",
   "id": "BFWtmD_uwlcy",
   "metadata": {
    "id": "BFWtmD_uwlcy"
   },
   "source": [
    "**4. 수학적 연산**: 두 정수의 최대공약수와 최소공배수를 계산하는 프로그램"
   ]
  },
  {
   "cell_type": "code",
   "execution_count": null,
   "id": "dpJsrEm3wlqK",
   "metadata": {
    "id": "dpJsrEm3wlqK"
   },
   "outputs": [],
   "source": [
    "def gcd(a, b):\n",
    "    while b != 0:\n",
    "        a, b = b, a % b\n",
    "    return a\n",
    "\n",
    "def lcm(a, b):\n",
    "    return abs(a * b) // gcd(a, b)\n",
    "\n",
    "a = 60\n",
    "b = 48\n",
    "greatest_common_divisor = gcd(a, b)\n",
    "least_common_multiple = lcm(a, b)\n",
    "\n",
    "print(f\"{a}와 {b}의 최대공약수: {greatest_common_divisor}\")\n",
    "print(f\"{a}와 {b}의 최소공배수: {least_common_multiple}\")"
   ]
  },
  {
   "cell_type": "markdown",
   "id": "OfbGk8hJv9Pd",
   "metadata": {
    "id": "OfbGk8hJv9Pd"
   },
   "source": [
    "-------------------------------------"
   ]
  },
  {
   "cell_type": "markdown",
   "id": "hAxksXhev3at",
   "metadata": {
    "id": "hAxksXhev3at"
   },
   "source": [
    "## 2-3.소수와 최대공약수"
   ]
  },
  {
   "cell_type": "markdown",
   "id": "09f83079",
   "metadata": {
    "id": "09f83079"
   },
   "source": [
    "### [실습] : 어떤 수가 소수인가 판별하는 프로그램"
   ]
  },
  {
   "cell_type": "code",
   "execution_count": null,
   "id": "f088dd6f",
   "metadata": {
    "id": "f088dd6f",
    "scrolled": true
   },
   "outputs": [],
   "source": [
    "# 소수 판별하기\n",
    "def is_prime_number1(x):\n",
    "    for i in range(2, x):\n",
    "        if x % i == 0 and x != i:\n",
    "            return False # 소수가 아님\n",
    "    return True          # 소수임\n",
    "\n",
    "# 자연수 N을 입력한다.\n",
    "x = int(input('\\n소수 판별하기 위한 정수 값을 입력해 주세요 : '))\n",
    "print('-'*50)\n",
    "if is_prime_number1(x):\n",
    "    print(f'{x} is prime number!!')\n",
    "else:\n",
    "    print(f'{x} is not prime number!!')\n"
   ]
  },
  {
   "cell_type": "markdown",
   "id": "5e730799",
   "metadata": {
    "id": "5e730799"
   },
   "source": [
    "### [실습] : 개선된 소수판별 프로그램\n",
    "- 제곱근 표시 : math.sqrt(x),   x**(1/2)"
   ]
  },
  {
   "cell_type": "code",
   "execution_count": null,
   "id": "7c5dc850",
   "metadata": {
    "id": "7c5dc850"
   },
   "outputs": [],
   "source": [
    "import math\n",
    "\n",
    "def is_prime_number2(x):\n",
    "    for i in range(2, int(math.sqrt(x)) + 1):\n",
    "#     for i in range(2, x**(1/2) + 1)\n",
    "        if x % i == 0 and x != i:\n",
    "            return False\n",
    "    return True\n",
    "\n",
    "# 자연수 N을 입력한다.\n",
    "x = int(input('\\n소수 판별하기 위한 정수 값을 입력해 주세요 : '))\n",
    "print('-'*50)\n",
    "if is_prime_number2(x):\n",
    "    print(f'{x} is prime number!!')\n",
    "else:\n",
    "    print(f'{x} is not prime number!!')"
   ]
  },
  {
   "cell_type": "markdown",
   "id": "2JF7Mb4qABkT",
   "metadata": {
    "id": "2JF7Mb4qABkT"
   },
   "source": [
    "### [실습] 최대공약수 구하기"
   ]
  },
  {
   "cell_type": "code",
   "execution_count": null,
   "id": "CuFeRYuoAB2W",
   "metadata": {
    "id": "CuFeRYuoAB2W"
   },
   "outputs": [],
   "source": [
    "def greatest_common_divisor(a, b):\n",
    "    while b != 0:\n",
    "        a, b = b, a % b\n",
    "    return a\n",
    "\n",
    "a = 190\n",
    "b = 34\n",
    "print(f\"{a}와 {b}의 최대공약수: {greatest_common_divisor(a, b)}\")\n"
   ]
  },
  {
   "cell_type": "markdown",
   "id": "426d1750",
   "metadata": {
    "id": "426d1750"
   },
   "source": [
    "### [실습] 암스트롱 수 구하기\n",
    "- Armstrong Number(암스트롱 수)란 세자리의 자연수로 각 자리수의 세제곱의 합이 자기 자신의 수와  같은 수"
   ]
  },
  {
   "cell_type": "code",
   "execution_count": null,
   "id": "f32f4135",
   "metadata": {
    "id": "f32f4135"
   },
   "outputs": [],
   "source": [
    "def is_amstrong_number(x):\n",
    "\n",
    "    if x == int(str(x)[0])**3 + int(str(x)[1])**3 + int(str(x)[2])**3:\n",
    "        return True\n",
    "    else:\n",
    "        return False\n",
    "\n",
    "\n",
    "print('세 자리의 자연수인 암스트롱 수는: ')\n",
    "for x in range(100, 1000, 1):\n",
    "    if is_amstrong_number(x):\n",
    "        print(x, end=' ')\n"
   ]
  },
  {
   "cell_type": "markdown",
   "id": "238e72a0",
   "metadata": {
    "id": "238e72a0"
   },
   "source": [
    "-------------------------------"
   ]
  },
  {
   "cell_type": "markdown",
   "id": "94b6eb29",
   "metadata": {
    "id": "94b6eb29"
   },
   "source": [
    "## 2-4.행렬의 개념과 행렬식"
   ]
  },
  {
   "cell_type": "markdown",
   "id": "b4a5f94e",
   "metadata": {
    "id": "b4a5f94e"
   },
   "source": [
    "### 라이브러리 소개\n",
    "- **numpy** : 고 성능 수치연산과 행렬식을 위한 라이브러리\n",
    "- ndarray : n차원 배열 데이터 구조\n"
   ]
  },
  {
   "cell_type": "code",
   "execution_count": null,
   "id": "302b334a",
   "metadata": {
    "id": "302b334a"
   },
   "outputs": [],
   "source": [
    "#!pip install numpy"
   ]
  },
  {
   "cell_type": "markdown",
   "id": "ca3ba066",
   "metadata": {
    "id": "ca3ba066"
   },
   "source": [
    "### [실습] 행렬을 이용하여 연립방정식 풀기\n",
    "5개의 빵과 2개의 우유를 사면 3000원을 지불해야하며, 10개의 빵과 3개의 우유를 사면 5000원을 지불해야 할때, 빵(x)과 우유(y) 각 1개씩의 가격은 얼마인가?\n"
   ]
  },
  {
   "cell_type": "code",
   "execution_count": null,
   "id": "23909fb7",
   "metadata": {
    "id": "23909fb7",
    "scrolled": true
   },
   "outputs": [],
   "source": [
    "import numpy as np\n",
    "\n",
    "arr1 = np.array([[5,2],[10,3]])\n",
    "arr2 = np.array([3000,5000])\n",
    "\n",
    "result = np.linalg.solve(arr1, arr2) #행렬\n",
    "print(result)         # 연립방정식 결과\n",
    "print(result.dtype)   # 결과 data type"
   ]
  },
  {
   "cell_type": "markdown",
   "id": "8e82ec3e",
   "metadata": {
    "id": "8e82ec3e"
   },
   "source": [
    "### [실생활에서 행렬이 사용된 예제] 이미지 처리"
   ]
  },
  {
   "cell_type": "code",
   "execution_count": null,
   "id": "c9227344",
   "metadata": {
    "id": "c9227344"
   },
   "outputs": [],
   "source": [
    "!pip install opencv-python"
   ]
  },
  {
   "cell_type": "code",
   "execution_count": null,
   "id": "47fefb7f",
   "metadata": {
    "id": "47fefb7f"
   },
   "outputs": [],
   "source": [
    "import cv2\n",
    "cv2.__version__"
   ]
  },
  {
   "cell_type": "code",
   "execution_count": null,
   "id": "3303d84b",
   "metadata": {
    "id": "3303d84b"
   },
   "outputs": [],
   "source": [
    "import sys\n",
    "import numpy as np\n",
    "import cv2\n",
    "from google.colab.patches import cv2_imshow\n",
    "\n",
    "src = cv2.imread('cat.jpg', cv2.IMREAD_GRAYSCALE)\n",
    "\n",
    "if src is None:\n",
    "    print('Image load failed!')\n",
    "    sys.exit()\n",
    "\n",
    "# 부드럽게\n",
    "mask = np.array([[1/9,1/9,1/9],\n",
    "                [1/9,1/9,1/9],\n",
    "                [1/9,1/9,1/9]])\n",
    "# mask = np.ones((3,3), dtype=np.float64)/ 9.\n",
    "\n",
    "dst1 = cv2.filter2D(src, -1, mask) # 부드럽게\n",
    "\n",
    "\n",
    "# 날카롭게\n",
    "mask = np.array([[0,-1,0],\n",
    "                [-1,4,-1],\n",
    "                [0,-1,0]])\n",
    "\n",
    "dst2 = cv2.filter2D(src, -1, mask) # 날카롭게\n",
    "\n",
    "cv2_imshow(src)   #cv2.imshow('src', src)\n",
    "cv2_imshow(dst1)   #cv2.imshow('blur', dst1)\n",
    "cv2_imshow(dst2)   #cv2.imshow('sharp', dst2)\n",
    "\n",
    "cv2.waitKey()             # 키가 눌려질때까지 기다리기\n",
    "cv2.destroyAllWindows()"
   ]
  },
  {
   "cell_type": "markdown",
   "id": "73dbc0f0",
   "metadata": {
    "id": "73dbc0f0"
   },
   "source": [
    "#### 실시간 영상 이미지에 필터값 적용\n",
    " [주의] 코랩에서는 오류발생함. PC 파이썬 환경에서 실행"
   ]
  },
  {
   "cell_type": "code",
   "execution_count": null,
   "id": "182dcb64",
   "metadata": {
    "id": "182dcb64"
   },
   "outputs": [],
   "source": [
    "import sys\n",
    "import cv2\n",
    "\n",
    "def cartoon_filter(img):\n",
    "    h, w = img.shape[:2]\n",
    "    img2 = cv2.resize(img, (w//2, h//2))\n",
    "\n",
    "    blr = cv2.bilateralFilter(img2, -1, 20, 7)\n",
    "    edge = 255 - cv2.Canny(img2, 80, 120)\n",
    "    edge = cv2.cvtColor(edge, cv2.COLOR_GRAY2BGR)\n",
    "\n",
    "    dst = cv2.bitwise_and(blr, edge)\n",
    "    dst = cv2.resize(dst, (w, h), interpolation=cv2.INTER_NEAREST)\n",
    "    return dst\n",
    "\n",
    "\n",
    "def pencil_sketch_filter(img):\n",
    "    gray = cv2.cvtColor(img, cv2.COLOR_BGR2GRAY)\n",
    "    blr = cv2.GaussianBlur(gray, (0, 0), 3)\n",
    "    dst = cv2.divide(gray, blr, scale=255)\n",
    "    return dst\n",
    "\n",
    "# 실시간 카메라 작동\n",
    "cap = cv2.VideoCapture(0)\n",
    "if not cap.isOpened():\n",
    "    print('Video open failed!')\n",
    "    sys.exit()\n",
    "\n",
    "cam_mode = 0\n",
    "while True:\n",
    "    ret, frame = cap.read()\n",
    "    if not ret:\n",
    "        print('Video read failed!')\n",
    "        break\n",
    "\n",
    "    # 모드에 따라 필터 적용한 영상(frame) 보여주기\n",
    "    if cam_mode == 1:\n",
    "        frame = cartoon_filter(frame)\n",
    "        title = f'{cam_mode} : cartoon_filter'\n",
    "        tcolor = (255,0,255)\n",
    "    elif cam_mode == 2:\n",
    "        frame = pencil_sketch_filter(frame)\n",
    "        title = f'{cam_mode} : pencil_sketch_filter'\n",
    "        tcolor = (0,0,0)\n",
    "    else:\n",
    "        title = f'{cam_mode} :  '\n",
    "        tcolor = (0,0,0)\n",
    "\n",
    "    cv2.putText(frame, title, (30, 30),\n",
    "            cv2.FONT_HERSHEY_DUPLEX, 1,\n",
    "             tcolor, 2, cv2.LINE_AA)\n",
    "    cv2.imshow('frame', frame)\n",
    "\n",
    "\n",
    "    key = cv2.waitKey(1)\n",
    "    if key==27: # ESC키 눌러졌을 때\n",
    "        break\n",
    "    elif key==ord(' '): #스페이스키 눌러졌을 때\n",
    "        cam_mode += 1\n",
    "        print(f'cam_mode:{cam_mode}')\n",
    "        if cam_mode==3:\n",
    "            cam_mode = 0\n",
    "\n",
    "cap.release()\n",
    "cv2.destroyAllWindows()\n",
    "print('Video Finish!')"
   ]
  },
  {
   "cell_type": "markdown",
   "id": "e750e97c",
   "metadata": {
    "id": "e750e97c"
   },
   "source": [
    "----------------------------"
   ]
  },
  {
   "cell_type": "markdown",
   "id": "f896c3cc",
   "metadata": {
    "id": "f896c3cc"
   },
   "source": [
    "### [예제 2-17] 행렬의 합"
   ]
  },
  {
   "cell_type": "code",
   "execution_count": null,
   "id": "fcfe50c3",
   "metadata": {
    "id": "fcfe50c3"
   },
   "outputs": [],
   "source": [
    "import numpy as np\n",
    "\n",
    "A = np.array([[3,4],[5,0]])\n",
    "B = np.array([[7,5],[4,-3]])\n",
    "\n",
    "print(A + B)"
   ]
  },
  {
   "cell_type": "markdown",
   "id": "OKcbk6R8IDMX",
   "metadata": {
    "id": "OKcbk6R8IDMX"
   },
   "source": [
    "### [예제 2-18] 행렬의 합"
   ]
  },
  {
   "cell_type": "code",
   "execution_count": null,
   "id": "BWd3fb_WIHer",
   "metadata": {
    "id": "BWd3fb_WIHer"
   },
   "outputs": [],
   "source": [
    "A = np.array([[3,4,-1],[5,0,-2],[4,5,3]])\n",
    "B = np.array([[5,6,7],[2,3,4],[1,8,9]])\n",
    "\n",
    "print(A + B)\n",
    "print(B + A)\n",
    "print('행렬의 덧셈에 대한 교환법칙이 성립한다.')"
   ]
  },
  {
   "cell_type": "markdown",
   "id": "4cd54605",
   "metadata": {
    "id": "4cd54605"
   },
   "source": [
    "### [예제 2-19] 스칼라 곱"
   ]
  },
  {
   "cell_type": "code",
   "execution_count": null,
   "id": "0488d9f7",
   "metadata": {
    "id": "0488d9f7",
    "scrolled": true
   },
   "outputs": [],
   "source": [
    "A = np.array([[5,-3,6],[4,7,1]])\n",
    "c = 3\n",
    "\n",
    "print(c * A)"
   ]
  },
  {
   "cell_type": "markdown",
   "id": "9cb5a891",
   "metadata": {
    "id": "9cb5a891"
   },
   "source": [
    "### [예제 2-20] 행렬의 곱\n",
    "- np.dot(A, B)\n",
    "- 행렬의 곱은 사칙연산의 * 와 다른 @ 기호를 사용한다."
   ]
  },
  {
   "cell_type": "code",
   "execution_count": null,
   "id": "9b8564a7",
   "metadata": {
    "id": "9b8564a7",
    "scrolled": true
   },
   "outputs": [],
   "source": [
    "A = np.array([[2,3],[2,4],[5,3]])\n",
    "B = np.array([[4,3,-2],[2,3,1]])\n",
    "\n",
    "print( np.dot(A, B) )\n",
    "print( np.dot(B, A) )"
   ]
  },
  {
   "cell_type": "code",
   "execution_count": null,
   "id": "e1cd6a4a",
   "metadata": {
    "id": "e1cd6a4a"
   },
   "outputs": [],
   "source": [
    "# A가 2x3이고, B가 2x3이면 행렬곱을 계산할 수 없다.\n",
    "A = np.array([[2,3,-4],[1,2,3]])\n",
    "B = np.array([[5,7,8],[4,6,1]])\n",
    "\n",
    "print(A @ B)"
   ]
  },
  {
   "cell_type": "markdown",
   "id": "ed88770b",
   "metadata": {
    "id": "ed88770b"
   },
   "source": [
    "### 특수 행렬\n",
    "- numpy 행렬을 위한 참고 정보\n",
    "\n",
    "|구분 |영문설명| numpy.함수명()|\n",
    "|:---|:---|:---|\n",
    "|대각행렬|Diagonal matrix | np.diag(x) |\n",
    "|내적(행렬 곱)|Dot Product, Inner product| np.dot(a,b) , a @ b|\n",
    "|대각합|Trace | np.trace(x)|\n",
    "|행렬식|Matrix Deteminant  | np.linalg.det(x) |\n",
    "|역행렬|Inverse of a matrix  | np.linalg.inv(x) |\n",
    "|고유값, 고유벡터 |Eigenvalue, Eigenvector  | w, v = np.linalg.eig(x) |\n",
    "|특이값 분해 |Singular value Decomposition  |u,s,vh = np.linalg.svd(A) |\n",
    "|연립방정식 해 풀기 |Solve a linear matrix equation  | np.linalg.slove(a, b) |\n",
    "|최소자승 해 풀기 |Compute the Least-squares solution  | m, c = np.linalg.lstsq(A,y,rcond=None)[0] |"
   ]
  },
  {
   "cell_type": "markdown",
   "id": "f724048d",
   "metadata": {
    "id": "f724048d"
   },
   "source": [
    "#### 대각행렬\n",
    "- 정방 행렬에서 주대각 원소를 제외한 나머지 원소(off-diagonal)가 모두 0인 행렬\n",
    "- np.diag(x) 대각행렬의 원소 추출하는 함수"
   ]
  },
  {
   "cell_type": "code",
   "execution_count": null,
   "id": "7a9517da",
   "metadata": {
    "id": "7a9517da",
    "scrolled": true
   },
   "outputs": [],
   "source": [
    "matrix = np.array([[2,0,0],[0,3,0],[0,0,4]])\n",
    "\n",
    "print( '행렬: \\n',  matrix )\n",
    "print( '대각행렬: ', np.diag(matrix) )     # 대각행렬 추출하기"
   ]
  },
  {
   "cell_type": "code",
   "execution_count": null,
   "id": "037204f2",
   "metadata": {
    "id": "037204f2",
    "scrolled": true
   },
   "outputs": [],
   "source": [
    "matrix = np.arange(9).reshape(3,3)\n",
    "\n",
    "print( '행렬: \\n',  matrix )               # 행렬\n",
    "print( '대각행렬: ', np.diag(matrix) )     # 대각행렬 추출하기\n",
    "print( '대각행렬: ', np.diag(matrix, k=1) )# k - start index"
   ]
  },
  {
   "cell_type": "markdown",
   "id": "8a033556",
   "metadata": {
    "id": "8a033556"
   },
   "source": [
    "#### 단위 행렬\n",
    "- 주대각 원소들은 모두 1을 갖고 나머지 원소들은 모두 0인 행렬"
   ]
  },
  {
   "cell_type": "code",
   "execution_count": null,
   "id": "92a60b1b",
   "metadata": {
    "id": "92a60b1b"
   },
   "outputs": [],
   "source": [
    "np.identity(3, dtype=np.int8)  # 행이 3개인 단위 행렬"
   ]
  },
  {
   "cell_type": "code",
   "execution_count": null,
   "id": "a2c76e16",
   "metadata": {
    "id": "a2c76e16",
    "scrolled": true
   },
   "outputs": [],
   "source": [
    "np.eye(3, dtype=np.int8)"
   ]
  },
  {
   "cell_type": "code",
   "execution_count": null,
   "id": "d60d6547",
   "metadata": {
    "id": "d60d6547"
   },
   "outputs": [],
   "source": [
    "np.eye(N=3, M=5, dtype=np.int8)"
   ]
  },
  {
   "cell_type": "markdown",
   "id": "O9CSEixhMBAy",
   "metadata": {
    "id": "O9CSEixhMBAy"
   },
   "source": [
    "#### 스칼라 행렬\n",
    "- 주대각 원소들이 모두 같은 값을 갖는 행렬"
   ]
  },
  {
   "cell_type": "code",
   "execution_count": null,
   "id": "gvPjYJvpMs_O",
   "metadata": {
    "id": "gvPjYJvpMs_O"
   },
   "outputs": [],
   "source": [
    "np.eye(3, dtype=np.int8) * 3   # 단위행렬 x 스칼라값"
   ]
  },
  {
   "cell_type": "markdown",
   "id": "9aa4b0ae",
   "metadata": {
    "id": "9aa4b0ae"
   },
   "source": [
    "#### 전치 행렬\n",
    "- A가 임의의 𝐧×m 행렬일 때 A의 전치 행렬은 $𝐀^𝐓$로 표기하고 A의 행과 열을 바꾸어서 얻어진 m×n 행렬\n",
    "- A.transpose()"
   ]
  },
  {
   "cell_type": "code",
   "execution_count": null,
   "id": "080737b6",
   "metadata": {
    "id": "080737b6",
    "scrolled": true
   },
   "outputs": [],
   "source": [
    "A = np.array([[1,2],[3,4]])\n",
    "B = np.array([[1,2,3],[4,5,6]])\n",
    "\n",
    "print(A)  ; print('-'*10)\n",
    "print(A.T); print('-'*10)\n",
    "print(B)  ; print('-'*10)\n",
    "print(B.T); print('-'*10)\n",
    "print(B.transpose()); print('-'*10)"
   ]
  },
  {
   "cell_type": "markdown",
   "id": "9aebeaf5",
   "metadata": {
    "id": "9aebeaf5"
   },
   "source": [
    "#### 상삼각 행렬"
   ]
  },
  {
   "cell_type": "code",
   "execution_count": null,
   "id": "dfe4bc99",
   "metadata": {
    "id": "dfe4bc99",
    "scrolled": true
   },
   "outputs": [],
   "source": [
    "np.triu([[1,2,3],[4,5,6],[7,8,9]])"
   ]
  },
  {
   "cell_type": "markdown",
   "id": "4162b070",
   "metadata": {
    "id": "4162b070"
   },
   "source": [
    "#### 하삼각 행렬"
   ]
  },
  {
   "cell_type": "code",
   "execution_count": null,
   "id": "aef432f1",
   "metadata": {
    "id": "aef432f1"
   },
   "outputs": [],
   "source": [
    "np.tril([[1,2,3],[4,5,6],[7,8,9]])"
   ]
  },
  {
   "cell_type": "markdown",
   "id": "39569ff7",
   "metadata": {
    "id": "39569ff7"
   },
   "source": [
    "#### 역행렬 :\n",
    "- 정방행렬 A에 대해 AB=BA = I(단위행렬)\n",
    "\n"
   ]
  },
  {
   "cell_type": "code",
   "execution_count": null,
   "id": "4d219d3b",
   "metadata": {
    "id": "4d219d3b"
   },
   "outputs": [],
   "source": [
    "A = np.array([[4,-7],[-1,2]])\n",
    "B = np.linalg.inv(A)\n",
    "\n",
    "print(A); print('-'*10)\n",
    "print(B); print('-'*10)"
   ]
  },
  {
   "cell_type": "markdown",
   "id": "wHjyO8q8N2HN",
   "metadata": {
    "id": "wHjyO8q8N2HN"
   },
   "source": [
    "[ 예제 2-25] 역행렬"
   ]
  },
  {
   "cell_type": "code",
   "execution_count": null,
   "id": "ff_0tmwSN3Bv",
   "metadata": {
    "id": "ff_0tmwSN3Bv"
   },
   "outputs": [],
   "source": [
    "A = np.array([[2, 7],[1,4]])\n",
    "B = np.array([[4,-7],[-1,2]])\n",
    "B_ = np.linalg.inv(A)\n",
    "\n",
    "print(A@B)\n",
    "print(B@A)\n",
    "print(B_ == B)"
   ]
  },
  {
   "cell_type": "markdown",
   "id": "f0e3ca56",
   "metadata": {
    "id": "f0e3ca56"
   },
   "source": [
    "#### numpy 역행렬 확인하기"
   ]
  },
  {
   "cell_type": "code",
   "execution_count": null,
   "id": "6552186b",
   "metadata": {
    "id": "6552186b"
   },
   "outputs": [],
   "source": [
    "from numpy.linalg import inv\n",
    "\n",
    "A = np.array([[3,5],[2,3]])\n",
    "Ainv = inv(A)\n",
    "\n",
    "print( np.allclose(np.dot(A, Ainv), np.eye(2)) )\n",
    "print( np.allclose(np.dot(Ainv, A), np.eye(2)) )"
   ]
  },
  {
   "cell_type": "markdown",
   "id": "57a8854d",
   "metadata": {
    "id": "57a8854d"
   },
   "source": [
    "### [ 예제 2-27] 직교행렬 여부 판단하기\n",
    "- 직교행렬 : $A^-1$ = $A^T$가 되는 행렬"
   ]
  },
  {
   "cell_type": "code",
   "execution_count": 18,
   "id": "2033c11d",
   "metadata": {
    "id": "2033c11d"
   },
   "outputs": [
    {
     "name": "stdout",
     "output_type": "stream",
     "text": [
      "False\n"
     ]
    }
   ],
   "source": [
    "from numpy.linalg import inv\n",
    "\n",
    "A = np.array([[2,1],[3,2]])\n",
    "Ainv = inv(A)\n",
    "AT = A.T\n",
    "\n",
    "print( np.allclose(Ainv, AT) )"
   ]
  },
  {
   "cell_type": "markdown",
   "id": "XcwPHew4QVMX",
   "metadata": {
    "id": "XcwPHew4QVMX"
   },
   "source": [
    "### [예제 2-28]  부울행렬"
   ]
  },
  {
   "cell_type": "code",
   "execution_count": null,
   "id": "5af2c803",
   "metadata": {
    "id": "5af2c803"
   },
   "outputs": [],
   "source": [
    "A = np.array([[1,0,1],[0,1,1],[1,1,0],[0,0,0]])\n",
    "B = np.array([[1,1,0],[1,0,1],[0,0,1],[1,1,0]])\n",
    "\n",
    "\n",
    "print(np.logical_or(A, B).astype(int)  )   # 논리합\n",
    "print(np.logical_and(A, B).astype(int)  )  # 논리곱\n"
   ]
  },
  {
   "cell_type": "markdown",
   "id": "a27191e8",
   "metadata": {
    "id": "a27191e8"
   },
   "source": [
    "### 행렬식 구하기 :determinant\n",
    "- 행렬 A의 행렬식이란 정방행렬 A에 고유한 수치를 대응시키는 것, \n",
    "- A의 행렬식을 |A| or det(A)\n",
    "- $det(\\begin{vmatrix}\n",
    "a_{11} & a_{12} \\\\\n",
    "a_{21} & a_{22}\n",
    "\\end{vmatrix})$ = $a_{11}a_{22} - a_{12}a_{21}$"
   ]
  },
  {
   "cell_type": "code",
   "execution_count": 13,
   "id": "13b3d8c8",
   "metadata": {
    "id": "13b3d8c8"
   },
   "outputs": [
    {
     "name": "stdout",
     "output_type": "stream",
     "text": [
      "[[3 2]\n",
      " [4 6]]\n",
      "10\n"
     ]
    }
   ],
   "source": [
    "import numpy as np\n",
    "\n",
    "A = np.array([[3,2],[4,6]], dtype=np.int8)\n",
    "result = np.linalg.det(A)\n",
    "\n",
    "print(A)\n",
    "print(np.int8(result))"
   ]
  },
  {
   "cell_type": "code",
   "execution_count": 17,
   "id": "fb21b1a9-d683-417d-8d35-5aee97f4f86d",
   "metadata": {},
   "outputs": [
    {
     "name": "stdout",
     "output_type": "stream",
     "text": [
      "[[5 2 0]\n",
      " [3 7 2]\n",
      " [0 1 3]]\n",
      "76.99999999999996\n"
     ]
    }
   ],
   "source": [
    "A = np.array([[5,2,0],\n",
    "              [3,7,2],\n",
    "              [0,1,3]], dtype=np.int8)\n",
    "result = np.linalg.det(A)\n",
    "print(A)\n",
    "print(result)"
   ]
  },
  {
   "cell_type": "code",
   "execution_count": null,
   "id": "86dd0e39-568e-471a-a0e6-d61fe629e2a4",
   "metadata": {},
   "outputs": [],
   "source": []
  }
 ],
 "metadata": {
  "colab": {
   "collapsed_sections": [
    "XFh918VbmLr6"
   ],
   "provenance": [],
   "toc_visible": true
  },
  "kernelspec": {
   "display_name": "Python 3 (ipykernel)",
   "language": "python",
   "name": "python3"
  },
  "language_info": {
   "codemirror_mode": {
    "name": "ipython",
    "version": 3
   },
   "file_extension": ".py",
   "mimetype": "text/x-python",
   "name": "python",
   "nbconvert_exporter": "python",
   "pygments_lexer": "ipython3",
   "version": "3.12.1"
  }
 },
 "nbformat": 4,
 "nbformat_minor": 5
}

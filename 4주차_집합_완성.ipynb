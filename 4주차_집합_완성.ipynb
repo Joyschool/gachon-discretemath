{
  "cells": [
    {
      "cell_type": "markdown",
      "id": "bd2d669b",
      "metadata": {
        "id": "bd2d669b"
      },
      "source": [
        "# 4.집합\n"
      ]
    },
    {
      "cell_type": "markdown",
      "id": "91d2ebba",
      "metadata": {
        "id": "91d2ebba"
      },
      "source": [
        "### 파이썬에서의 집합(set) 자료형\n",
        "- ① 집합 자료는 키만 모아 놓은 딕셔너리의 특수한 형태\n",
        "- ② 딕셔너리의 키는 중복되면 안 되므로 세트에 들어 있는 값은 항상 유일\n",
        "- ③ 중복된 키는 자동으로 하나만 남음\n"
      ]
    },
    {
      "cell_type": "code",
      "execution_count": null,
      "id": "54183759",
      "metadata": {
        "id": "54183759",
        "outputId": "1c2f3681-8271-4aa2-aefc-e130321c9c2b"
      },
      "outputs": [
        {
          "data": {
            "text/plain": [
              "(list, tuple, dict, set)"
            ]
          },
          "execution_count": 3,
          "metadata": {},
          "output_type": "execute_result"
        }
      ],
      "source": [
        "# 파이썬에서 여러 데이터를 담을 수 있는 자료형\n",
        "\n",
        "l = list()\n",
        "t = tuple()\n",
        "d = dict({'key':'value'})\n",
        "s = set({1,2,3,4,5})\n",
        "\n",
        "type(l), type(t), type(d), type(s)"
      ]
    },
    {
      "cell_type": "markdown",
      "id": "7307a011",
      "metadata": {
        "id": "7307a011"
      },
      "source": [
        "### 집합의 정의와 사용"
      ]
    },
    {
      "cell_type": "code",
      "execution_count": 3,
      "id": "18c811ff",
      "metadata": {
        "scrolled": true,
        "colab": {
          "base_uri": "https://localhost:8080/"
        },
        "id": "18c811ff",
        "outputId": "e7914c5f-6824-4a9c-8ded-b6af1d143484"
      },
      "outputs": [
        {
          "output_type": "stream",
          "name": "stdout",
          "text": [
            "<class 'set'>\n",
            "<class 'set'>\n",
            "{1, 2, 3, 4}\n"
          ]
        }
      ],
      "source": [
        "mySet = set()      # 공집합\n",
        "print(type(mySet))\n",
        "\n",
        "mySet = {1,2,3,4,5}\n",
        "print(type(mySet))\n",
        "\n",
        "mySet = {1,2,2,3,3,4,4,4,}  # 고유성: unique한 값만 갖는다.\n",
        "print(mySet)"
      ]
    },
    {
      "cell_type": "code",
      "execution_count": 2,
      "id": "3d9dcf46",
      "metadata": {
        "colab": {
          "base_uri": "https://localhost:8080/"
        },
        "id": "3d9dcf46",
        "outputId": "d6faec02-848f-467c-f1e3-dedc4782e470"
      },
      "outputs": [
        {
          "output_type": "stream",
          "name": "stdout",
          "text": [
            "{'H', 'e', 'o', 'l'}\n"
          ]
        }
      ],
      "source": [
        "mySet = set('Hello')   # 고유성: unique한 값만 갖는다.\n",
        "print(mySet)"
      ]
    },
    {
      "cell_type": "markdown",
      "source": [
        "### [집합의 응용] 데이터 분류"
      ],
      "metadata": {
        "id": "0efsXXgKDIQ3"
      },
      "id": "0efsXXgKDIQ3"
    },
    {
      "cell_type": "code",
      "source": [
        "# 간단한 분류 예제: 여러 클래스 집합에 속하는지 확인\n",
        "def classify(data_point, class_sets):\n",
        "    for class_name, class_set in class_sets.items():\n",
        "        if data_point in class_set:\n",
        "            return f\"{data_point}는 {class_name}에 속합니다.\"\n",
        "    return f\"{data_point}는 어느 클래스에도 속하지 않습니다.\"\n",
        "\n",
        "# 클래스 집합 정의\n",
        "class_sets = {\n",
        "    \"Class A\": {1, 2, 3, 4},\n",
        "    \"Class B\": {5, 6, 7, 8},\n",
        "    \"Class C\": {9, 10, 11, 12}\n",
        "}\n",
        "\n",
        "# 테스트할 데이터 포인트\n",
        "data_point1 = 5\n",
        "data_point2 = 11\n",
        "data_point3 = 13\n",
        "\n",
        "# 테스트 실행\n",
        "print(classify(data_point1, class_sets))  # Class B에 속할 것\n",
        "print(classify(data_point2, class_sets))  # Class C에 속할 것\n",
        "print(classify(data_point3, class_sets))  # 어느 클래스에도 속하지 않을 것\n"
      ],
      "metadata": {
        "colab": {
          "base_uri": "https://localhost:8080/"
        },
        "id": "i6lf8svIDIad",
        "outputId": "d8a64d81-49f2-4f44-e173-9d07091f3bb8"
      },
      "id": "i6lf8svIDIad",
      "execution_count": 41,
      "outputs": [
        {
          "output_type": "stream",
          "name": "stdout",
          "text": [
            "5는 Class B에 속합니다.\n",
            "11는 Class C에 속합니다.\n",
            "13는 어느 클래스에도 속하지 않습니다.\n"
          ]
        }
      ]
    },
    {
      "cell_type": "markdown",
      "source": [
        "### [집합의 응용] 데이터 군집화(clustering)"
      ],
      "metadata": {
        "id": "TkbYKYpKFT-q"
      },
      "id": "TkbYKYpKFT-q"
    },
    {
      "cell_type": "code",
      "source": [
        "from sklearn.cluster import KMeans\n",
        "import numpy as np\n",
        "\n",
        "# 임의의 데이터 생성 (2D 공간에서 10개의 데이터 포인트)\n",
        "data = np.array([\n",
        "    [1, 2], [2, 3], [3, 4], [8, 8], [7, 7], [9, 9],\n",
        "    [20, 20], [21, 19], [19, 21], [22, 22]\n",
        "])\n",
        "\n",
        "# K-평균 군집화 모델 생성 (3개의 군집으로 나눔)\n",
        "kmeans = KMeans(n_clusters=3)\n",
        "kmeans.fit(data)\n",
        "\n",
        "# 각 데이터 포인트의 군집 라벨 출력\n",
        "labels = kmeans.labels_\n",
        "\n",
        "# 각 군집을 집합으로 표현\n",
        "clusters = {}\n",
        "for i, label in enumerate(labels):\n",
        "    if label not in clusters:\n",
        "        clusters[label] = set()\n",
        "    clusters[label].add(tuple(data[i]))\n",
        "\n",
        "# 결과 출력\n",
        "for cluster_id, cluster_data in clusters.items():\n",
        "    print(f\"군집 {cluster_id}: {cluster_data}\")\n"
      ],
      "metadata": {
        "colab": {
          "base_uri": "https://localhost:8080/"
        },
        "id": "ts6s7sOJFUGj",
        "outputId": "71dc7786-f883-4f26-c485-360ddb5a396f"
      },
      "id": "ts6s7sOJFUGj",
      "execution_count": 43,
      "outputs": [
        {
          "output_type": "stream",
          "name": "stdout",
          "text": [
            "군집 2: {(2, 3), (1, 2), (3, 4)}\n",
            "군집 1: {(8, 8), (7, 7), (9, 9)}\n",
            "군집 0: {(21, 19), (19, 21), (20, 20), (22, 22)}\n"
          ]
        }
      ]
    },
    {
      "cell_type": "markdown",
      "source": [
        "### [집합의 응용] 문장의 유사도 측정"
      ],
      "metadata": {
        "id": "JoFZieNQEO9M"
      },
      "id": "JoFZieNQEO9M"
    },
    {
      "cell_type": "code",
      "source": [
        "import re\n",
        "\n",
        "# 텍스트 전처리 함수 (단어 토큰화 및 소문자 변환)\n",
        "def preprocess_text(text):\n",
        "    # 소문자로 변환 및 단어 토큰화\n",
        "    words = re.findall(r'\\w+', text.lower())\n",
        "    return set(words)  # 집합으로 변환하여 중복 단어 제거\n",
        "\n",
        "# 두 문장 간의 유사성 계산 (교집합 크기를 기반으로)\n",
        "def calculate_similarity(sentence1, sentence2):\n",
        "    # 문장을 전처리하여 단어 집합 생성\n",
        "    set1 = preprocess_text(sentence1)\n",
        "    set2 = preprocess_text(sentence2)\n",
        "\n",
        "    # 교집합 계산\n",
        "    common_words = set1 & set2\n",
        "    union_words = set1 | set2\n",
        "\n",
        "    # 유사도 계산: Jaccard similarity\n",
        "    similarity = len(common_words) / len(union_words)\n",
        "    return similarity, common_words\n",
        "\n",
        "# 테스트 문장\n",
        "sentence1 = \"Artificial intelligence and machine learning are closely related.\"\n",
        "sentence2 = \"Machine learning is a subset of artificial intelligence.\"\n",
        "\n",
        "# 유사성 계산\n",
        "similarity, common_words = calculate_similarity(sentence1, sentence2)\n",
        "\n",
        "# 결과 출력\n",
        "print(f\"두 문장의 유사도: {similarity:.2f}\")\n",
        "print(f\"공통 단어: {common_words}\")\n"
      ],
      "metadata": {
        "colab": {
          "base_uri": "https://localhost:8080/"
        },
        "id": "okcXnf5qEPU-",
        "outputId": "38a48637-c43a-4ad6-fb49-742c54f6a26d"
      },
      "id": "okcXnf5qEPU-",
      "execution_count": 44,
      "outputs": [
        {
          "output_type": "stream",
          "name": "stdout",
          "text": [
            "두 문장의 유사도: 0.33\n",
            "공통 단어: {'artificial', 'machine', 'learning', 'intelligence'}\n"
          ]
        }
      ]
    },
    {
      "cell_type": "markdown",
      "source": [
        "\n",
        "\n",
        "---\n",
        "\n"
      ],
      "metadata": {
        "id": "o6mqa-euDJFX"
      },
      "id": "o6mqa-euDJFX"
    },
    {
      "cell_type": "markdown",
      "id": "cf8665d3",
      "metadata": {
        "id": "cf8665d3"
      },
      "source": [
        "## 4-1. 집합의 개념"
      ]
    },
    {
      "cell_type": "markdown",
      "source": [
        "### [예제 4-1] 집합의 원소"
      ],
      "metadata": {
        "id": "Bn22wHheH8S5"
      },
      "id": "Bn22wHheH8S5"
    },
    {
      "cell_type": "code",
      "source": [
        "# 집합 정의\n",
        "S = {2, 4, 6, 8}\n",
        "\n",
        "# 원소가 집합에 속하는지 확인할 요소\n",
        "N = {4, 5, 6}\n",
        "\n",
        "# 원소가 집합에 속하는지 여부 판단\n",
        "for n in N :\n",
        "    if n  in S:\n",
        "        print(f\"{n}는 집합{S}의 원소입니다.\")\n",
        "    else:\n",
        "        print(f\"{n}는 집합{S}의 원소가 아닙니다.\")"
      ],
      "metadata": {
        "colab": {
          "base_uri": "https://localhost:8080/"
        },
        "id": "mJW45V_IH8jD",
        "outputId": "e030b9d5-56af-40e2-eb84-66a97c946163"
      },
      "id": "mJW45V_IH8jD",
      "execution_count": 14,
      "outputs": [
        {
          "output_type": "stream",
          "name": "stdout",
          "text": [
            "4는 집합{8, 2, 4, 6}의 원소입니다.\n",
            "5는 집합{8, 2, 4, 6}의 원소가 아닙니다.\n",
            "6는 집합{8, 2, 4, 6}의 원소입니다.\n"
          ]
        }
      ]
    },
    {
      "cell_type": "markdown",
      "id": "f8412cb5",
      "metadata": {
        "id": "f8412cb5"
      },
      "source": [
        "### [예제 4-2] 집합의 표시"
      ]
    },
    {
      "cell_type": "code",
      "execution_count": 15,
      "id": "2ee70c46",
      "metadata": {
        "colab": {
          "base_uri": "https://localhost:8080/"
        },
        "id": "2ee70c46",
        "outputId": "3e6b95f6-5a6f-4ce0-ee81-d392746b0de9"
      },
      "outputs": [
        {
          "output_type": "stream",
          "name": "stdout",
          "text": [
            "원소나열법: {'o', 'P', 'y', 'n', 't', 'h'}\n",
            "조건제시법: {'o', 'P', 'y', 'n', 't', 'h'}\n"
          ]
        }
      ],
      "source": [
        "string = 'Python'\n",
        "\n",
        "# 원소나열별\n",
        "print(f'원소나열법: {set(string)}')\n",
        "\n",
        "# 조건제시법\n",
        "print(f'조건제시법: { { s for s in string } }')\n"
      ]
    },
    {
      "cell_type": "markdown",
      "source": [
        "### [Quiz] : 원소나열법과 조건제시법으로 표시\n",
        "- 10보다 작거나 같은 자연수의 모임"
      ],
      "metadata": {
        "id": "XkkHA1dnKX7A"
      },
      "id": "XkkHA1dnKX7A"
    },
    {
      "cell_type": "code",
      "execution_count": 29,
      "id": "51bb046b",
      "metadata": {
        "colab": {
          "base_uri": "https://localhost:8080/"
        },
        "id": "51bb046b",
        "outputId": "631e6ac3-e220-4489-b9c2-3e341c85ad6d"
      },
      "outputs": [
        {
          "output_type": "stream",
          "name": "stdout",
          "text": [
            "집합 S :  {1, 2, 3, 4, 5, 6, 7, 8, 9, 10}\n",
            "evens  :  {12}\n",
            "powers :  {64}\n"
          ]
        }
      ],
      "source": [
        "S = {1,2,3,4,5,6,7,8,9,10}    # 원소나열별\n",
        "S = {n for n in range(1,11)}  # 조건제시법\n",
        "S = {n for n in range(1,11)}\n",
        "S = set(range(1,11))\n",
        "\n",
        "evens = { 2 * n for x in S if n%2==0 }   # 짝수\n",
        "powers = { 2 ** n for x in S }           # 집합은 순서가 없다.\n",
        "print('집합 S : ', S)\n",
        "print('evens  : ', evens)\n",
        "print('powers : ', powers)"
      ]
    },
    {
      "cell_type": "markdown",
      "id": "45756aaf",
      "metadata": {
        "id": "45756aaf"
      },
      "source": [
        "### 집합의 크기(Cardinality) : 집합의 길이"
      ]
    },
    {
      "cell_type": "code",
      "execution_count": 27,
      "id": "fcb42e32",
      "metadata": {
        "colab": {
          "base_uri": "https://localhost:8080/"
        },
        "id": "fcb42e32",
        "outputId": "0ef433de-a272-47dd-a8a2-0368c8444734"
      },
      "outputs": [
        {
          "output_type": "stream",
          "name": "stdout",
          "text": [
            "집합의 원소들: {1, 2, 3, 4, 5, 6, 7, 8, 9, 10}\n",
            "집합의 크기  : 10\n"
          ]
        }
      ],
      "source": [
        "S = {n for n in range(1,11)} # 10보다 작은 자연수의 모임\n",
        "print(f'집합의 원소들: {S}')\n",
        "print(f'집합의 크기  : {len(S)}')"
      ]
    },
    {
      "cell_type": "markdown",
      "source": [
        "### [예제 4-3] 집합의 크기"
      ],
      "metadata": {
        "id": "WpfAPgqlHNvv"
      },
      "id": "WpfAPgqlHNvv"
    },
    {
      "cell_type": "code",
      "source": [
        "S = set('Python')\n",
        "print(f'집합 S{S}의 크기 : {len(S)}')  # 길이=크기"
      ],
      "metadata": {
        "colab": {
          "base_uri": "https://localhost:8080/"
        },
        "id": "nCkClw3kG-PS",
        "outputId": "1e0348e2-7f15-41f0-8e63-5eff906cf7fa"
      },
      "id": "nCkClw3kG-PS",
      "execution_count": 28,
      "outputs": [
        {
          "output_type": "stream",
          "name": "stdout",
          "text": [
            "집합 S{'o', 'P', 'y', 'n', 't', 'h'}의 크기 : 6\n"
          ]
        }
      ]
    },
    {
      "cell_type": "code",
      "execution_count": 12,
      "id": "34000df1",
      "metadata": {
        "colab": {
          "base_uri": "https://localhost:8080/"
        },
        "id": "34000df1",
        "outputId": "89ea48b0-9625-4d86-abe3-f01befa9a35d"
      },
      "outputs": [
        {
          "output_type": "stream",
          "name": "stdout",
          "text": [
            "{1, 2, 3, 4, 5}\n",
            "mySet의 크기 :  5\n"
          ]
        }
      ],
      "source": [
        "mySet = {1,2,2,3,4,3,4,5}\n",
        "print(mySet)\n",
        "print('mySet의 크기 : ', len(mySet))  # 길이=크기"
      ]
    },
    {
      "cell_type": "code",
      "execution_count": 9,
      "id": "1dbb8cde",
      "metadata": {
        "colab": {
          "base_uri": "https://localhost:8080/"
        },
        "id": "1dbb8cde",
        "outputId": "79e95077-4205-4b16-86fd-a530ce291d43"
      },
      "outputs": [
        {
          "output_type": "stream",
          "name": "stdout",
          "text": [
            "집합의 길이=3, 원소={'사과', '포도', '오렌지'}\n"
          ]
        }
      ],
      "source": [
        "mySet = {'사과','포도','오렌지','포도','포도'}\n",
        "print(f'집합의 길이={len(mySet)}, 원소={mySet}')"
      ]
    },
    {
      "cell_type": "markdown",
      "source": [
        "### 집합의 종류"
      ],
      "metadata": {
        "id": "r_fWyLFNMIJ0"
      },
      "id": "r_fWyLFNMIJ0"
    },
    {
      "cell_type": "markdown",
      "id": "49972e9d",
      "metadata": {
        "id": "49972e9d"
      },
      "source": [
        "### [예제 4-7] 두 집합의 같음"
      ]
    },
    {
      "cell_type": "code",
      "execution_count": 30,
      "id": "41c835bf",
      "metadata": {
        "colab": {
          "base_uri": "https://localhost:8080/"
        },
        "id": "41c835bf",
        "outputId": "8d06f849-47e0-486e-f5a6-6b14599cae21"
      },
      "outputs": [
        {
          "output_type": "stream",
          "name": "stdout",
          "text": [
            "집합 A와 집합 B는 같다.\n"
          ]
        }
      ],
      "source": [
        "A = {1, 2, 3, 4, 5}\n",
        "B = {x for x in range(1,30) if x**2 < 30}\n",
        "\n",
        "if A == B:\n",
        "    print('집합 A와 집합 B는 같다.')\n",
        "else:\n",
        "    print('집합 A와 집합 B는 같지 않다.')"
      ]
    },
    {
      "cell_type": "markdown",
      "id": "b2da91a6",
      "metadata": {
        "id": "b2da91a6"
      },
      "source": [
        "### [예제 4-8] 두 집합의 같음"
      ]
    },
    {
      "cell_type": "code",
      "execution_count": 31,
      "id": "332d4ead",
      "metadata": {
        "colab": {
          "base_uri": "https://localhost:8080/"
        },
        "id": "332d4ead",
        "outputId": "46ee05b0-23eb-411d-824d-4651fc006133"
      },
      "outputs": [
        {
          "output_type": "stream",
          "name": "stdout",
          "text": [
            "집합 A와 집합 B는 같다.\n"
          ]
        }
      ],
      "source": [
        "A = {'C','C++','JAVA','파이썬'}\n",
        "B = {'파이썬','C++','JAVA','C'}\n",
        "\n",
        "if A == B:\n",
        "    print('집합 A와 집합 B는 같다.')\n",
        "else:\n",
        "    print('집합 A와 집합 B는 같지 않다.')"
      ]
    },
    {
      "cell_type": "markdown",
      "id": "7fe65833",
      "metadata": {
        "id": "7fe65833"
      },
      "source": [
        "### 부분집합\n",
        "- 파이썬에서의 부분집합 관계 표시\n",
        "    * 부등호 사용\n",
        "    * 함수 사용: issubset(), issuperset()"
      ]
    },
    {
      "cell_type": "code",
      "execution_count": 32,
      "id": "f2323e44",
      "metadata": {
        "colab": {
          "base_uri": "https://localhost:8080/"
        },
        "id": "f2323e44",
        "outputId": "15443eb2-447b-4266-a6bc-680c235d395e"
      },
      "outputs": [
        {
          "output_type": "stream",
          "name": "stdout",
          "text": [
            "True, True\n"
          ]
        }
      ],
      "source": [
        "A = {1,2,3,4,5,6,}\n",
        "B = {2,4,6}\n",
        "C = {1,3,4,5}\n",
        "\n",
        "print(f'{A>B}, {B.issubset(A)}')"
      ]
    },
    {
      "cell_type": "markdown",
      "id": "a98891e9",
      "metadata": {
        "id": "a98891e9"
      },
      "source": [
        "### [예제 4-10] 부분집합 관계 표시"
      ]
    },
    {
      "cell_type": "code",
      "execution_count": 34,
      "id": "05f86964",
      "metadata": {
        "scrolled": false,
        "colab": {
          "base_uri": "https://localhost:8080/"
        },
        "id": "05f86964",
        "outputId": "d530de30-b7a9-419d-d899-6b77a09e0875"
      },
      "outputs": [
        {
          "output_type": "stream",
          "name": "stdout",
          "text": [
            "B는 A의 진부분집합입니다.\n",
            "A와 B는 교집합이 있는 서로 다른 집합입니다.\n",
            "B는 A의 진부분집합입니다.\n"
          ]
        }
      ],
      "source": [
        "# 집합 관계를 구분하는 함수\n",
        "def classify_sets(A, B):\n",
        "    # 공집합 확인\n",
        "    if not A:\n",
        "        print(\"A는 공집합입니다.\")\n",
        "    if not B:\n",
        "        print(\"B는 공집합입니다.\")\n",
        "\n",
        "    # 동등 집합 확인\n",
        "    if A == B:\n",
        "        print(\"A와 B는 동등한 집합입니다.\")\n",
        "\n",
        "    # 부분집합 확인\n",
        "    elif A.issubset(B):\n",
        "        if A < B:  # 진부분집합 확인\n",
        "            print(\"A는 B의 진부분집합입니다.\")\n",
        "        else:\n",
        "            print(\"A는 B의 부분집합입니다.\")\n",
        "\n",
        "    # 상위집합 확인\n",
        "    elif B.issubset(A):\n",
        "        if B < A:  # B가 A의 진부분집합인지 확인\n",
        "            print(\"B는 A의 진부분집합입니다.\")\n",
        "        else:\n",
        "            print(\"B는 A의 부분집합입니다.\")\n",
        "\n",
        "    # 공집합이 아닌 교집합이 없는 경우 확인\n",
        "    elif A.isdisjoint(B):\n",
        "        print(\"A와 B는 서로소(교집합이 없음)입니다.\")\n",
        "    else:\n",
        "        print(\"A와 B는 교집합이 있는 서로 다른 집합입니다.\")\n",
        "\n",
        "A = {1,2,3,4,5,6,}\n",
        "B = {2,4,6}\n",
        "C = {1,3,4,5}\n",
        "\n",
        "classify_sets(A, B)\n",
        "classify_sets(B, C)\n",
        "classify_sets(A, C)"
      ]
    },
    {
      "cell_type": "code",
      "source": [],
      "metadata": {
        "id": "7JEHMZ71lDiH"
      },
      "id": "7JEHMZ71lDiH",
      "execution_count": null,
      "outputs": []
    },
    {
      "cell_type": "markdown",
      "source": [
        "### [예제 4-11] 부분집합 : 집합을 다른 집합의 원소로 사용하기"
      ],
      "metadata": {
        "id": "j01G_ChNlEO_"
      },
      "id": "j01G_ChNlEO_"
    },
    {
      "cell_type": "code",
      "source": [
        "# A = {1,2,3,4,5}\n",
        "# S = {A, {A}}     # 오류 발생: 집합 원소는 hashable(변경불가능)해야한다.\n",
        "A = frozenset({1,2,3,4,5})\n",
        "S = {A, frozenset({A})}\n",
        "\n",
        "classify_sets(A, S)\n",
        "classify_sets({A}, S)\n",
        "classify_sets(frozenset({frozenset({A})}), S)"
      ],
      "metadata": {
        "colab": {
          "base_uri": "https://localhost:8080/"
        },
        "id": "OfKdLKvQjH2h",
        "outputId": "a87efc01-a4a8-4c97-d57c-bf783187d341"
      },
      "id": "OfKdLKvQjH2h",
      "execution_count": 42,
      "outputs": [
        {
          "output_type": "stream",
          "name": "stdout",
          "text": [
            "A와 B는 서로소(교집합이 없음)입니다.\n",
            "A는 B의 진부분집합입니다.\n",
            "A는 B의 진부분집합입니다.\n"
          ]
        }
      ]
    },
    {
      "cell_type": "markdown",
      "source": [
        "### [예제 4-13] 부분집합 :  "
      ],
      "metadata": {
        "id": "1ADRyZo2mJ5B"
      },
      "id": "1ADRyZo2mJ5B"
    },
    {
      "cell_type": "code",
      "source": [
        "U = set(range(-2,3))\n",
        "A = {-2,-1,0,1}\n",
        "\n",
        "classify_sets(U, A)"
      ],
      "metadata": {
        "colab": {
          "base_uri": "https://localhost:8080/"
        },
        "id": "KP6Jb3O1mPQ5",
        "outputId": "73c005e5-45df-43ad-f6e0-7b6ebdddf0b6"
      },
      "id": "KP6Jb3O1mPQ5",
      "execution_count": 43,
      "outputs": [
        {
          "output_type": "stream",
          "name": "stdout",
          "text": [
            "B는 A의 진부분집합입니다.\n"
          ]
        }
      ]
    },
    {
      "cell_type": "markdown",
      "id": "c7a32c57",
      "metadata": {
        "id": "c7a32c57"
      },
      "source": [
        "### 파이썬에서 멱집합 출력하기\n",
        "- 멱집합의 길이: $2^n$\n",
        "- itertools의 combinations() 함수 사용\n",
        "- 반복문과 리스트 사용"
      ]
    },
    {
      "cell_type": "markdown",
      "id": "28229c59",
      "metadata": {
        "id": "28229c59"
      },
      "source": [
        "### [예제 4-15] 멱집합"
      ]
    },
    {
      "cell_type": "code",
      "execution_count": 10,
      "id": "ee8ce031",
      "metadata": {
        "scrolled": true,
        "colab": {
          "base_uri": "https://localhost:8080/"
        },
        "id": "ee8ce031",
        "outputId": "4318c40d-0199-4e2d-9b8a-88bbb8021a5c"
      },
      "outputs": [
        {
          "output_type": "stream",
          "name": "stdout",
          "text": [
            "{1, 2, 3}의 멱집합:\n",
            "------------------------\n",
            "set()\n",
            "{1}\n",
            "{2}\n",
            "{3}\n",
            "{1, 2}\n",
            "{1, 3}\n",
            "{2, 3}\n",
            "{1, 2, 3}\n",
            "멱집합 원소 개수: 8\n"
          ]
        }
      ],
      "source": [
        "import itertools\n",
        "\n",
        "def power_set(s):\n",
        "    # 집합 s의 모든 부분집합을 구함\n",
        "    power_set_list = []\n",
        "    for r in range(len(s) + 1):\n",
        "        # 각 크기에 대해 부분집합 생성\n",
        "        # power_set_list += itertools.combinations(s, r)\n",
        "        subsets = itertools.combinations(s, r)\n",
        "        power_set_list.extend(subsets)\n",
        "\n",
        "    return power_set_list\n",
        "\n",
        "# 멱집합 출력\n",
        "def print_power_set(A, result):\n",
        "    print(f'{A}의 멱집합:\\n------------------------')\n",
        "    for subset in result:\n",
        "        print(set(subset))\n",
        "\n",
        "A = {1, 2, 3}\n",
        "result = power_set(A)   # 멱집합 구하기\n",
        "print_power_set(A, result) # 멱집합 출력하기\n",
        "print(f'멱집합 원소 개수: {len(result)}') # 멱집합 원소 개수\n"
      ]
    },
    {
      "cell_type": "markdown",
      "id": "6509361e",
      "metadata": {
        "id": "6509361e"
      },
      "source": [
        "### [실습] - 멱집합 만들기\n",
        "N값을 입력 받아서 N의 멱집합을 구하는 프로그램을 만들어 보시오"
      ]
    },
    {
      "cell_type": "code",
      "source": [
        "N = int(input('양의 정수를 입력하세요: '))\n",
        "A = set(range(1,N+1))\n",
        "\n",
        "result = power_set(A)   # 멱집합 구하기\n",
        "print_power_set(A, result) # 멱집합 출력하기\n",
        "print(f'멱집합 원소 개수: {len(result)}') # 멱집합 원소 개수"
      ],
      "metadata": {
        "colab": {
          "base_uri": "https://localhost:8080/"
        },
        "id": "5O5EGT-5q2xO",
        "outputId": "f36d7af5-0307-4115-db5c-f5ce50b55034"
      },
      "id": "5O5EGT-5q2xO",
      "execution_count": 11,
      "outputs": [
        {
          "output_type": "stream",
          "name": "stdout",
          "text": [
            "양의 정수를 입력하세요: 5\n",
            "{1, 2, 3, 4, 5}의 멱집합:\n",
            "------------------------\n",
            "set()\n",
            "{1}\n",
            "{2}\n",
            "{3}\n",
            "{4}\n",
            "{5}\n",
            "{1, 2}\n",
            "{1, 3}\n",
            "{1, 4}\n",
            "{1, 5}\n",
            "{2, 3}\n",
            "{2, 4}\n",
            "{2, 5}\n",
            "{3, 4}\n",
            "{3, 5}\n",
            "{4, 5}\n",
            "{1, 2, 3}\n",
            "{1, 2, 4}\n",
            "{1, 2, 5}\n",
            "{1, 3, 4}\n",
            "{1, 3, 5}\n",
            "{1, 4, 5}\n",
            "{2, 3, 4}\n",
            "{2, 3, 5}\n",
            "{2, 4, 5}\n",
            "{3, 4, 5}\n",
            "{1, 2, 3, 4}\n",
            "{1, 2, 3, 5}\n",
            "{1, 2, 4, 5}\n",
            "{1, 3, 4, 5}\n",
            "{2, 3, 4, 5}\n",
            "{1, 2, 3, 4, 5}\n",
            "멱집합 원소 개수: 32\n"
          ]
        }
      ]
    },
    {
      "cell_type": "markdown",
      "id": "d9dd051a",
      "metadata": {
        "id": "d9dd051a"
      },
      "source": [
        "------------------------------------------"
      ]
    },
    {
      "cell_type": "markdown",
      "id": "9b6a04ea",
      "metadata": {
        "id": "9b6a04ea"
      },
      "source": [
        "## 4-2. 집합의 연산"
      ]
    },
    {
      "cell_type": "markdown",
      "id": "566f2610",
      "metadata": {
        "id": "566f2610"
      },
      "source": [
        "- **합집합**: A | B, B.union(A)\n",
        "- **교집합**: A & B, A.intersection(B)\n",
        "- **차집합**: A - B, A.difference(B)\n",
        "- **대칭차집합**: A ^ B"
      ]
    },
    {
      "cell_type": "code",
      "source": [
        "A = {1, 2, 3}\n",
        "B = {3, 4, 5}\n",
        "C = {1, 2}\n",
        "D = {1, 2, 3}\n",
        "E = {3, 2, 1}\n",
        "\n",
        "# 합집합\n",
        "union_set = A | B\n",
        "print(\"A와 B의 합집합:\", union_set)\n",
        "\n",
        "# 교집합\n",
        "intersection_set = A & B\n",
        "print(\"A와 B의 교집합:\", intersection_set)\n",
        "\n",
        "# 차집합\n",
        "difference_set = A - B\n",
        "print(\"A와 B의 차집합:\", difference_set)\n",
        "\n",
        "# 대칭 차집합\n",
        "symmetric_difference_set = A ^ B\n",
        "print(\"A와 B의 대칭 차집합:\", symmetric_difference_set)\n",
        "\n",
        "# 부분집합 여부\n",
        "is_subset = C <= A\n",
        "print(\"C는 A의 부분집합인가?\", is_subset)\n",
        "\n",
        "# 상위집합 여부\n",
        "is_superset = A >= C\n",
        "print(\"A는 C의 상위집합인가?\", is_superset)\n",
        "\n",
        "# 집합의 동등성\n",
        "are_equal = D == E\n",
        "print(\"D와 E는 동일한 집합인가?\", are_equal)"
      ],
      "metadata": {
        "colab": {
          "base_uri": "https://localhost:8080/"
        },
        "id": "HklquxQWvGZr",
        "outputId": "2d0d92f9-5bbc-4af5-b045-c6b9babfe6ec"
      },
      "id": "HklquxQWvGZr",
      "execution_count": 13,
      "outputs": [
        {
          "output_type": "stream",
          "name": "stdout",
          "text": [
            "A와 B의 합집합: {1, 2, 3, 4, 5}\n",
            "A와 B의 교집합: {3}\n",
            "A와 B의 차집합: {1, 2}\n",
            "A와 B의 대칭 차집합: {1, 2, 4, 5}\n",
            "C는 A의 부분집합인가? True\n",
            "A는 C의 상위집합인가? True\n",
            "D와 E는 동일한 집합인가? True\n"
          ]
        }
      ]
    },
    {
      "cell_type": "markdown",
      "id": "dbea1551",
      "metadata": {
        "id": "dbea1551"
      },
      "source": [
        "### [예제 4-16] 합집합 연산 : |, union()"
      ]
    },
    {
      "cell_type": "code",
      "execution_count": 14,
      "id": "b394323f",
      "metadata": {
        "colab": {
          "base_uri": "https://localhost:8080/"
        },
        "id": "b394323f",
        "outputId": "d99e50a3-bcdd-4d63-a464-09d7ffff9fbb"
      },
      "outputs": [
        {
          "output_type": "stream",
          "name": "stdout",
          "text": [
            "A∪B: {'a', 'f', 'g', 'd', 'b', 'e', 'c'}\n",
            "A∪B: {'a', 'f', 'g', 'd', 'b', 'e', 'c'}\n",
            "A∪B: {'a', 'f', 'g', 'd', 'b', 'e', 'c'}\n",
            "['a', 'b', 'c', 'd', 'e', 'f', 'g']\n",
            "['a', 'b', 'c', 'd', 'e', 'f', 'g']\n"
          ]
        }
      ],
      "source": [
        "A = {'a', 'c', 'e', 'f'}\n",
        "B = {'b', 'd', 'e', 'g'}\n",
        "\n",
        "print(f'A∪B: {A | B}')\n",
        "print(f'A∪B: {B.union(A)}')\n",
        "print(f'A∪B: {A.union(B)}')\n",
        "\n",
        "print(sorted(A | B))   # sorted() 함수는 리스트로 출력된다.\n",
        "print(sorted(B.union(A)))"
      ]
    },
    {
      "cell_type": "markdown",
      "id": "b75d3fa7",
      "metadata": {
        "id": "b75d3fa7"
      },
      "source": [
        "### [예제 4-17] 합집합 연산"
      ]
    },
    {
      "cell_type": "code",
      "execution_count": 15,
      "id": "4ffe105f",
      "metadata": {
        "colab": {
          "base_uri": "https://localhost:8080/"
        },
        "id": "4ffe105f",
        "outputId": "a4d83f7c-719c-4b07-8ab1-b4c8ea7ba05a"
      },
      "outputs": [
        {
          "output_type": "stream",
          "name": "stdout",
          "text": [
            "[1, 2, 3, 4, 5]\n",
            "[1, 2, 3, 4, 5]\n"
          ]
        }
      ],
      "source": [
        "A1 = {1,2,3}\n",
        "A2 = {2,3,4}\n",
        "A3 = {1,2,4,5}\n",
        "\n",
        "print(sorted(A1 | A2 | A3))\n",
        "print(sorted(A3.union(A2.union(A1)) ))"
      ]
    },
    {
      "cell_type": "markdown",
      "id": "cfccfc57",
      "metadata": {
        "id": "cfccfc57"
      },
      "source": [
        "### [예제 4-18] 교집합 연산 : &, intersection()"
      ]
    },
    {
      "cell_type": "code",
      "execution_count": 17,
      "id": "5fba9cde",
      "metadata": {
        "colab": {
          "base_uri": "https://localhost:8080/"
        },
        "id": "5fba9cde",
        "outputId": "5bea9b7e-f497-4e26-d652-a953c3dd10a8"
      },
      "outputs": [
        {
          "output_type": "stream",
          "name": "stdout",
          "text": [
            "A∩B: {'d', 'b'}\n",
            "A∩C: {'c', 'a'}\n",
            "B∩C: set()\n",
            "A∩B: {'d', 'b'}\n",
            "A∩C: {'c', 'a'}\n",
            "B∩C: set()\n"
          ]
        }
      ],
      "source": [
        "A = {'a', 'b', 'c', 'd'}\n",
        "B = {'b', 'd', 'e', 'f'}\n",
        "C = {'a', 'c', 'g', 'h'}\n",
        "\n",
        "print(f'A∩B: {A & B}')\n",
        "print(f'A∩C: {A & C}')\n",
        "print(f'B∩C: {B & C}')\n",
        "\n",
        "print(f'A∩B: {A.intersection(B)}')\n",
        "print(f'A∩C: {A.intersection(C)}')\n",
        "print(f'B∩C: {B.intersection(C)}')"
      ]
    },
    {
      "cell_type": "markdown",
      "id": "7a29452a",
      "metadata": {
        "id": "7a29452a"
      },
      "source": [
        "### 서로소 집합(disjoint set)"
      ]
    },
    {
      "cell_type": "code",
      "execution_count": null,
      "id": "fefa6e3e",
      "metadata": {
        "id": "fefa6e3e",
        "outputId": "cf0c6b0d-fe36-415e-89e3-e695b4bdf133"
      },
      "outputs": [
        {
          "name": "stdout",
          "output_type": "stream",
          "text": [
            "A1{1, 2}과 A2{3, 4}는\n",
            "서로소이다\n"
          ]
        }
      ],
      "source": [
        "A1 = {1,2}\n",
        "A2 = {3,4}\n",
        "\n",
        "print(f'A1{A1}과 A2{A2}는' )\n",
        "if A1 & A2 == set():\n",
        "    print('서로소이다')\n",
        "else:\n",
        "    print('서로소가 아니다')"
      ]
    },
    {
      "cell_type": "markdown",
      "id": "f76494dc",
      "metadata": {
        "id": "f76494dc"
      },
      "source": [
        "### 분할\n",
        "A ∩ B = ∅ (배반인 두 집합에 대하여 : 교집합이 공집합)"
      ]
    },
    {
      "cell_type": "markdown",
      "id": "5c082689",
      "metadata": {
        "id": "5c082689"
      },
      "source": [
        "### [예제 4-19] 분할 판별"
      ]
    },
    {
      "cell_type": "code",
      "execution_count": 21,
      "id": "7742dbae",
      "metadata": {
        "scrolled": true,
        "colab": {
          "base_uri": "https://localhost:8080/"
        },
        "id": "7742dbae",
        "outputId": "119aeab3-3763-4daf-c254-4d6c51ca32ca"
      },
      "outputs": [
        {
          "output_type": "stream",
          "name": "stdout",
          "text": [
            "A1 ∪ A5 :[1, 2, 3, 4, 6, 8]는 \n",
            "S{1, 2, 3, 4, 5, 6, 7, 8}의 분할이 아니다\n",
            "A3 ∪ A4 ∪ A5 :[1, 2, 3, 4, 5, 6, 7, 8]는 \n",
            "S{1, 2, 3, 4, 5, 6, 7, 8}의 분할이다\n"
          ]
        }
      ],
      "source": [
        "S = {1,2,3,4,5,6,7,8}\n",
        "A1= {1,2,3,4}\n",
        "A2= {1,3,5,6,7,8}\n",
        "A3= {1,3,5,7}\n",
        "A4= {2,4}\n",
        "A5= {6,8}\n",
        "\n",
        "print(f'A1 ∪ A5 :{sorted(A1 | A5)}는 ')\n",
        "if (A1 & A5) == {} and (A1 | A5) == S:\n",
        "    print(f'S{S}의 분할이다')\n",
        "else:\n",
        "    print(f'S{S}의 분할이 아니다')\n",
        "\n",
        "\n",
        "print(f'A3 ∪ A4 ∪ A5 :{sorted(A3 | A4 | A5)}는 ')\n",
        "if A3&A4==set() and A4&A5==set() and A3&A5==set() and (A3 | A4 | A5) == S:\n",
        "    print(f'S{S}의 분할이다')\n",
        "else:\n",
        "    print(f'S{S}의 분할이 아니다')\n",
        ""
      ]
    },
    {
      "cell_type": "markdown",
      "id": "dccff375",
      "metadata": {
        "id": "dccff375"
      },
      "source": [
        "### [예제 4-21] 차집합 연산 : -, difference()"
      ]
    },
    {
      "cell_type": "code",
      "execution_count": 24,
      "id": "56c123ad",
      "metadata": {
        "colab": {
          "base_uri": "https://localhost:8080/"
        },
        "id": "56c123ad",
        "outputId": "56fd96c6-2b15-4ed5-86c4-21bfa4d066f4"
      },
      "outputs": [
        {
          "output_type": "stream",
          "name": "stdout",
          "text": [
            "A-B : {1, 3, 5, 6}\n",
            "B-A : {8, 7}\n",
            "A-B : {1, 3, 5, 6}\n",
            "B-A : {8, 7}\n"
          ]
        }
      ],
      "source": [
        "A = {1,2,3,4,5,6}\n",
        "B = {2,4,7,8}\n",
        "\n",
        "print(f'A-B : {A-B}')\n",
        "print(f'B-A : {B-A}')\n",
        "\n",
        "print(f'A-B : {A.difference(B)}')\n",
        "print(f'B-A : {B.difference(A)}')"
      ]
    },
    {
      "cell_type": "markdown",
      "id": "58ab7dba",
      "metadata": {
        "id": "58ab7dba"
      },
      "source": [
        "### 여집합(complement)"
      ]
    },
    {
      "cell_type": "code",
      "execution_count": 27,
      "id": "42c107db",
      "metadata": {
        "colab": {
          "base_uri": "https://localhost:8080/"
        },
        "id": "42c107db",
        "outputId": "647c9e22-d190-4f1b-88ac-2312fd49e780"
      },
      "outputs": [
        {
          "output_type": "stream",
          "name": "stdout",
          "text": [
            "A는 U의 부분집합이며 U - A={1, 3, 5, 7, 9}\n"
          ]
        }
      ],
      "source": [
        "U = {1,2,3,4,5,6,7,8,9,10}\n",
        "A = {2, 4, 6, 8, 10}\n",
        "\n",
        "if A.issubset(U):\n",
        "    print(f'A는 U의 부분집합이며 U - A={U - A}')\n",
        "else:\n",
        "    print(f'A는 U의 부분집합이 아니다.')\n"
      ]
    },
    {
      "cell_type": "markdown",
      "id": "d10a39f3",
      "metadata": {
        "id": "d10a39f3"
      },
      "source": [
        "### 대칭차집합(symmetric difference): ^\n",
        "- (A - B) ∪ (B - A)\n",
        "- (A ∪ B) - (B ∩ A)"
      ]
    },
    {
      "cell_type": "markdown",
      "id": "b5d8b4b4",
      "metadata": {
        "id": "b5d8b4b4"
      },
      "source": [
        "### [예제 4-23] 대칭 차집합 연산"
      ]
    },
    {
      "cell_type": "code",
      "execution_count": 28,
      "id": "79ae28bb",
      "metadata": {
        "colab": {
          "base_uri": "https://localhost:8080/"
        },
        "id": "79ae28bb",
        "outputId": "79775a43-a270-4bd0-8741-482574caabc8"
      },
      "outputs": [
        {
          "output_type": "stream",
          "name": "stdout",
          "text": [
            "A ^ B : {1, 3, 5, 6, 7, 8}\n"
          ]
        }
      ],
      "source": [
        "# A⊕B ＝ (A-B) ∪ (B-A)\n",
        "A = {1,2,3,4,5,6}\n",
        "B = {2,4,7,8}\n",
        "\n",
        "print(f'A ^ B : {A ^ B}')"
      ]
    },
    {
      "cell_type": "markdown",
      "id": "60004525",
      "metadata": {
        "id": "60004525"
      },
      "source": [
        "### 파이썬 집합의 함수:\n",
        "- element add & remove"
      ]
    },
    {
      "cell_type": "code",
      "execution_count": 30,
      "id": "fc38d9b9",
      "metadata": {
        "collapsed": true,
        "colab": {
          "base_uri": "https://localhost:8080/"
        },
        "id": "fc38d9b9",
        "outputId": "ab73e99a-552f-40db-dfb6-7d50e6a41b26"
      },
      "outputs": [
        {
          "output_type": "stream",
          "name": "stdout",
          "text": [
            "Help on set object:\n",
            "\n",
            "class set(object)\n",
            " |  set() -> new empty set object\n",
            " |  set(iterable) -> new set object\n",
            " |  \n",
            " |  Build an unordered collection of unique elements.\n",
            " |  \n",
            " |  Methods defined here:\n",
            " |  \n",
            " |  __and__(self, value, /)\n",
            " |      Return self&value.\n",
            " |  \n",
            " |  __contains__(...)\n",
            " |      x.__contains__(y) <==> y in x.\n",
            " |  \n",
            " |  __eq__(self, value, /)\n",
            " |      Return self==value.\n",
            " |  \n",
            " |  __ge__(self, value, /)\n",
            " |      Return self>=value.\n",
            " |  \n",
            " |  __getattribute__(self, name, /)\n",
            " |      Return getattr(self, name).\n",
            " |  \n",
            " |  __gt__(self, value, /)\n",
            " |      Return self>value.\n",
            " |  \n",
            " |  __iand__(self, value, /)\n",
            " |      Return self&=value.\n",
            " |  \n",
            " |  __init__(self, /, *args, **kwargs)\n",
            " |      Initialize self.  See help(type(self)) for accurate signature.\n",
            " |  \n",
            " |  __ior__(self, value, /)\n",
            " |      Return self|=value.\n",
            " |  \n",
            " |  __isub__(self, value, /)\n",
            " |      Return self-=value.\n",
            " |  \n",
            " |  __iter__(self, /)\n",
            " |      Implement iter(self).\n",
            " |  \n",
            " |  __ixor__(self, value, /)\n",
            " |      Return self^=value.\n",
            " |  \n",
            " |  __le__(self, value, /)\n",
            " |      Return self<=value.\n",
            " |  \n",
            " |  __len__(self, /)\n",
            " |      Return len(self).\n",
            " |  \n",
            " |  __lt__(self, value, /)\n",
            " |      Return self<value.\n",
            " |  \n",
            " |  __ne__(self, value, /)\n",
            " |      Return self!=value.\n",
            " |  \n",
            " |  __or__(self, value, /)\n",
            " |      Return self|value.\n",
            " |  \n",
            " |  __rand__(self, value, /)\n",
            " |      Return value&self.\n",
            " |  \n",
            " |  __reduce__(...)\n",
            " |      Return state information for pickling.\n",
            " |  \n",
            " |  __repr__(self, /)\n",
            " |      Return repr(self).\n",
            " |  \n",
            " |  __ror__(self, value, /)\n",
            " |      Return value|self.\n",
            " |  \n",
            " |  __rsub__(self, value, /)\n",
            " |      Return value-self.\n",
            " |  \n",
            " |  __rxor__(self, value, /)\n",
            " |      Return value^self.\n",
            " |  \n",
            " |  __sizeof__(...)\n",
            " |      S.__sizeof__() -> size of S in memory, in bytes\n",
            " |  \n",
            " |  __sub__(self, value, /)\n",
            " |      Return self-value.\n",
            " |  \n",
            " |  __xor__(self, value, /)\n",
            " |      Return self^value.\n",
            " |  \n",
            " |  add(...)\n",
            " |      Add an element to a set.\n",
            " |      \n",
            " |      This has no effect if the element is already present.\n",
            " |  \n",
            " |  clear(...)\n",
            " |      Remove all elements from this set.\n",
            " |  \n",
            " |  copy(...)\n",
            " |      Return a shallow copy of a set.\n",
            " |  \n",
            " |  difference(...)\n",
            " |      Return the difference of two or more sets as a new set.\n",
            " |      \n",
            " |      (i.e. all elements that are in this set but not the others.)\n",
            " |  \n",
            " |  difference_update(...)\n",
            " |      Remove all elements of another set from this set.\n",
            " |  \n",
            " |  discard(...)\n",
            " |      Remove an element from a set if it is a member.\n",
            " |      \n",
            " |      If the element is not a member, do nothing.\n",
            " |  \n",
            " |  intersection(...)\n",
            " |      Return the intersection of two sets as a new set.\n",
            " |      \n",
            " |      (i.e. all elements that are in both sets.)\n",
            " |  \n",
            " |  intersection_update(...)\n",
            " |      Update a set with the intersection of itself and another.\n",
            " |  \n",
            " |  isdisjoint(...)\n",
            " |      Return True if two sets have a null intersection.\n",
            " |  \n",
            " |  issubset(...)\n",
            " |      Report whether another set contains this set.\n",
            " |  \n",
            " |  issuperset(...)\n",
            " |      Report whether this set contains another set.\n",
            " |  \n",
            " |  pop(...)\n",
            " |      Remove and return an arbitrary set element.\n",
            " |      Raises KeyError if the set is empty.\n",
            " |  \n",
            " |  remove(...)\n",
            " |      Remove an element from a set; it must be a member.\n",
            " |      \n",
            " |      If the element is not a member, raise a KeyError.\n",
            " |  \n",
            " |  symmetric_difference(...)\n",
            " |      Return the symmetric difference of two sets as a new set.\n",
            " |      \n",
            " |      (i.e. all elements that are in exactly one of the sets.)\n",
            " |  \n",
            " |  symmetric_difference_update(...)\n",
            " |      Update a set with the symmetric difference of itself and another.\n",
            " |  \n",
            " |  union(...)\n",
            " |      Return the union of sets as a new set.\n",
            " |      \n",
            " |      (i.e. all elements that are in either set.)\n",
            " |  \n",
            " |  update(...)\n",
            " |      Update a set with the union of itself and others.\n",
            " |  \n",
            " |  ----------------------------------------------------------------------\n",
            " |  Class methods defined here:\n",
            " |  \n",
            " |  __class_getitem__(...) from builtins.type\n",
            " |      See PEP 585\n",
            " |  \n",
            " |  ----------------------------------------------------------------------\n",
            " |  Static methods defined here:\n",
            " |  \n",
            " |  __new__(*args, **kwargs) from builtins.type\n",
            " |      Create and return a new object.  See help(type) for accurate signature.\n",
            " |  \n",
            " |  ----------------------------------------------------------------------\n",
            " |  Data and other attributes defined here:\n",
            " |  \n",
            " |  __hash__ = None\n",
            "\n"
          ]
        }
      ],
      "source": [
        "help(set())"
      ]
    },
    {
      "cell_type": "code",
      "execution_count": 31,
      "id": "a1b5890b",
      "metadata": {
        "colab": {
          "base_uri": "https://localhost:8080/"
        },
        "id": "a1b5890b",
        "outputId": "807c9ff7-5c8f-4130-d79a-d5b1a5c7478b"
      },
      "outputs": [
        {
          "output_type": "stream",
          "name": "stdout",
          "text": [
            "{1, 2, 3, 4, 5, 10}\n"
          ]
        }
      ],
      "source": [
        "# 요소 한개 추가하기\n",
        "A = {1, 2, 3, 4, 5}\n",
        "A.add(10)\n",
        "print(A)"
      ]
    },
    {
      "cell_type": "code",
      "execution_count": 33,
      "id": "692f0501",
      "metadata": {
        "scrolled": true,
        "colab": {
          "base_uri": "https://localhost:8080/"
        },
        "id": "692f0501",
        "outputId": "6b68b1d8-402a-45c5-cac1-bd9ac68a92b2"
      },
      "outputs": [
        {
          "output_type": "stream",
          "name": "stdout",
          "text": [
            "{1, 2, 3, 4, 5, 6, 7, 8}\n"
          ]
        }
      ],
      "source": [
        "# 요소 여러 개 추가하기\n",
        "A = {1, 2, 3, 4, 5}\n",
        "A.update({6,7,8})\n",
        "print(A)"
      ]
    },
    {
      "cell_type": "code",
      "execution_count": 36,
      "id": "3587c46c",
      "metadata": {
        "colab": {
          "base_uri": "https://localhost:8080/"
        },
        "id": "3587c46c",
        "outputId": "31e20f25-658a-4093-9b2c-b0883104390d"
      },
      "outputs": [
        {
          "output_type": "stream",
          "name": "stdout",
          "text": [
            "{1, 2, 4, 5}\n"
          ]
        }
      ],
      "source": [
        "# 요소 한 개 제거하기\n",
        "A = {1, 2, 3, 4, 5}\n",
        "A.remove(3)  # 여러 개 삭제 안됨\n",
        "print(A)"
      ]
    },
    {
      "cell_type": "markdown",
      "id": "7c8c4ecf",
      "metadata": {
        "id": "7c8c4ecf"
      },
      "source": [
        "-----------------"
      ]
    },
    {
      "cell_type": "markdown",
      "id": "a7c1a6ab",
      "metadata": {
        "id": "a7c1a6ab"
      },
      "source": [
        "## 4.3 집합의 대수적 성질"
      ]
    },
    {
      "cell_type": "markdown",
      "id": "d7c45492",
      "metadata": {
        "id": "d7c45492"
      },
      "source": [
        "#### 진리표를 이용하는 방법"
      ]
    },
    {
      "cell_type": "code",
      "execution_count": 37,
      "id": "79b6ab5e",
      "metadata": {
        "scrolled": true,
        "colab": {
          "base_uri": "https://localhost:8080/"
        },
        "id": "79b6ab5e",
        "outputId": "5e82ea3e-ba14-422e-f9cd-6dfcbc259a4d"
      },
      "outputs": [
        {
          "output_type": "stream",
          "name": "stdout",
          "text": [
            "A\t B\t A∪B\t not(A∪B)\t notA\t notB\t notA∩notB\n",
            "False\t False\t False\t True\t\t True\t True\t True  \n",
            "False\t True\t True\t False\t\t True\t False\t False  \n",
            "True\t False\t True\t False\t\t False\t True\t False  \n",
            "True\t True\t True\t False\t\t False\t False\t False  \n"
          ]
        }
      ],
      "source": [
        "A = [False, False, True, True]\n",
        "B = [False, True, False, True]\n",
        "\n",
        "print(f'A\\t B\\t A∪B\\t not(A∪B)\\t notA\\t notB\\t notA∩notB')\n",
        "for a, b in zip(A, B):\n",
        "    print(f'{a}\\t {b}\\t {a|b}\\t {not(a|b)}\\t\\t {not a}\\t {not b}\\t {(not a)&(not b)}  ')"
      ]
    },
    {
      "cell_type": "markdown",
      "source": [
        "### [예제 4-24] 포함배제의 원리"
      ],
      "metadata": {
        "id": "l37gH_de8L9I"
      },
      "id": "l37gH_de8L9I"
    },
    {
      "cell_type": "code",
      "execution_count": 40,
      "id": "1a3549e5",
      "metadata": {
        "colab": {
          "base_uri": "https://localhost:8080/"
        },
        "id": "1a3549e5",
        "outputId": "9a3973ac-d1b5-4ad4-ef59-f259e5c6360e"
      },
      "outputs": [
        {
          "output_type": "stream",
          "name": "stdout",
          "text": [
            "아무 운동도 하지 않는 회원수(S - TBP) = 22\n"
          ]
        }
      ],
      "source": [
        "\n",
        "S = 154          # 전체 회원수\n",
        "T = 55           # 테니스 회원수\n",
        "B = 79           # 베드민턴 회원수\n",
        "P = 34           # 탁구 회원수\n",
        "T_B = 20        # 테니스와 베드민턴을 치는 회원수\n",
        "P_T = 12        # 탁구와 테니스를 치는 수\n",
        "P_B = 8         # 탁구와 베드민턴을 치는 회원수\n",
        "T_B_P = 4      # 테니스와 베드민터과 탁구를 모두 치는 회원 수\n",
        "\n",
        "# 모든 운동을 하는 회원수\n",
        "TBP =  T + B + P - T_B - P_T - P_B + T_B_P\n",
        "\n",
        "# 아무 운동도 하지 않는 회원수\n",
        "result = S - TBP\n",
        "print(f'아무 운동도 하지 않는 회원수(S - TBP) = {S - TBP}')"
      ]
    }
  ],
  "metadata": {
    "kernelspec": {
      "display_name": "Python 3",
      "language": "python",
      "name": "python3"
    },
    "language_info": {
      "codemirror_mode": {
        "name": "ipython",
        "version": 3
      },
      "file_extension": ".py",
      "mimetype": "text/x-python",
      "name": "python",
      "nbconvert_exporter": "python",
      "pygments_lexer": "ipython3",
      "version": "3.9.10"
    },
    "colab": {
      "provenance": []
    }
  },
  "nbformat": 4,
  "nbformat_minor": 5
}
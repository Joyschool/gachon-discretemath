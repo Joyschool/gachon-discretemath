{
 "cells": [
  {
   "cell_type": "markdown",
   "id": "0a9722f3",
   "metadata": {},
   "source": [
    "# 파이썬 실습"
   ]
  },
  {
   "cell_type": "markdown",
   "id": "2cb63943",
   "metadata": {},
   "source": [
    "## 1-1.이산수학이란?"
   ]
  },
  {
   "cell_type": "markdown",
   "id": "3cbe2a73",
   "metadata": {},
   "source": [
    "### [실습] 동전교환 프로그램"
   ]
  },
  {
   "cell_type": "code",
   "execution_count": 1,
   "id": "864cd194",
   "metadata": {},
   "outputs": [
    {
     "name": "stdout",
     "output_type": "stream",
     "text": [
      "---동전교환기 프로그램을 작동합니다.---\n"
     ]
    },
    {
     "name": "stdin",
     "output_type": "stream",
     "text": [
      "금액을 입력하세요:  4360\n"
     ]
    },
    {
     "name": "stdout",
     "output_type": "stream",
     "text": [
      "동전으로 교환하겠습니다.---------\n",
      "500원짜리 동전: 8 개\n",
      "100원짜리 동전: 3 개\n",
      "50원짜리 동전: 1 개\n",
      "10원짜리 동전: 1 개\n",
      "잔돈:  0\n"
     ]
    }
   ],
   "source": [
    "# 키보드로부터 금액 입력 받기\n",
    "print('---동전교환기 프로그램을 작동합니다.---')\n",
    "money = int( input('금액을 입력하세요: '))\n",
    "print('동전으로 교환하겠습니다.---------')\n",
    "\n",
    "print(f'500원짜리 동전: {money//500} 개')\n",
    "money %= 500   #money = money % 500\n",
    "print(f'100원짜리 동전: {money//100} 개')\n",
    "money = money % 100\n",
    "print(f'50원짜리 동전: {money//50} 개')\n",
    "money = money % 50\n",
    "print(f'10원짜리 동전: {money//10} 개')\n",
    "money = money % 10\n",
    "print(f'잔돈:  {money}')"
   ]
  },
  {
   "cell_type": "markdown",
   "id": "865cd22f",
   "metadata": {},
   "source": [
    "-------------------"
   ]
  },
  {
   "cell_type": "markdown",
   "id": "a92593dd",
   "metadata": {},
   "source": [
    "## 1-2.마술카드\n"
   ]
  },
  {
   "cell_type": "markdown",
   "id": "e9e958a4",
   "metadata": {},
   "source": [
    "### [실습] : 1~7 까지의 임의의 숫자를 생각하고 알아 맞추기"
   ]
  },
  {
   "cell_type": "code",
   "execution_count": 2,
   "id": "0f478b92",
   "metadata": {},
   "outputs": [
    {
     "name": "stdout",
     "output_type": "stream",
     "text": [
      "# 지금부터 여러분을 신비한 마술의 세계로 초대합니다.\n",
      "1 - 7의 숫자중 마음에 드는 숫자를 생각해 보세요.\n"
     ]
    },
    {
     "name": "stdin",
     "output_type": "stream",
     "text": [
      "생각하셨어요? 시작하려면 엔터를 누르세요. \n"
     ]
    },
    {
     "name": "stdout",
     "output_type": "stream",
     "text": [
      "--------------------------------------------------\n",
      "\n",
      " --------- A 카드 ---------\n",
      "\n",
      "      1      3\n",
      "      5      7\n",
      " --------------------------\n",
      "\n"
     ]
    },
    {
     "name": "stdin",
     "output_type": "stream",
     "text": [
      "A 카드에 생각한 숫자가 있다면 YES(1),없다면 NO(0)을 입력해 주세요.:  1\n"
     ]
    },
    {
     "name": "stdout",
     "output_type": "stream",
     "text": [
      "\n",
      " --------- B 카드 ---------\n",
      "\n",
      "      2      3\n",
      "      6      7\n",
      " --------------------------\n",
      "\n"
     ]
    },
    {
     "name": "stdin",
     "output_type": "stream",
     "text": [
      "B 카드에 생각한 숫자가 있다면 YES(1),없다면 NO(0)을 입력해 주세요.:  1\n"
     ]
    },
    {
     "name": "stdout",
     "output_type": "stream",
     "text": [
      "\n",
      " --------- C 카드 ---------\n",
      "\n",
      "      4      5\n",
      "      6      7\n",
      " --------------------------\n",
      "\n"
     ]
    },
    {
     "name": "stdin",
     "output_type": "stream",
     "text": [
      "C 카드에 생각한 숫자가 있다면 YES(1),없다면 NO(0)을 입력해 주세요.:  1\n"
     ]
    },
    {
     "name": "stdout",
     "output_type": "stream",
     "text": [
      "\n",
      "--------------------------------------------------\n",
      "당신이 마음에 드는 숫자는 [[ 7 ]]입니다.\n",
      "\n",
      "어때요? 신기하죠!!\n",
      "지금까지 마술의 세계였습니다.\n",
      "-------------------------------------------------- 끝\n"
     ]
    }
   ],
   "source": [
    "def my_card(index):\n",
    "    cardname = chr(ord('A') + index - 1)\n",
    "\n",
    "    while True:\n",
    "        print(f\" --------- {cardname} 카드 ---------\\n\")\n",
    "        for i in range(0, 2):\n",
    "            for j in range(0, 2):\n",
    "                print(\"%7d\" % card[index-1][i*2 + j], end='')\n",
    "            print()\n",
    "        \n",
    "        print(\" --------------------------\\n\")\n",
    "        script = f\"{cardname} 카드에 생각한 숫자가 있다면 YES(1),없다면 NO(0)을 입력해 주세요.: \"\n",
    "        result = int(input(script))\n",
    "        print(\"\")\n",
    "\n",
    "        if result in [0,1]:\n",
    "            return result\n",
    "\n",
    "\n",
    "def my_res(a,b,c):\n",
    "    #res = (c*2*2) + (b*2) + (a)\n",
    "    res = (c*2**2) + (b*2) + (a)\n",
    "    print('-'*50)\n",
    "    print(\"당신이 마음에 드는 숫자는 [[ %d ]]입니다.\\n\" % res);\n",
    "    print(\"어때요? 신기하죠!!\");\n",
    "    print(\"지금까지 마술의 세계였습니다.\"); \n",
    "    print('-'*50, '끝')\n",
    "\n",
    "#---------메인------------  \n",
    "card = [\n",
    "    [1,3,5,7],\n",
    "    [2,3,6,7],\n",
    "    [4,5,6,7]\n",
    "    ]\n",
    "\n",
    "print(\"# 지금부터 여러분을 신비한 마술의 세계로 초대합니다.\")\n",
    "print(\"1 - 7의 숫자중 마음에 드는 숫자를 생각해 보세요.\")\n",
    "\n",
    "n = input(\"생각하셨어요? 시작하려면 엔터를 누르세요.\")\n",
    "print('-'*50)\n",
    "print()\n",
    "\n",
    "a = my_card(1)\n",
    "b = my_card(2)\n",
    "c = my_card(3)\n",
    "\n",
    "my_res(a,b,c)\n",
    "\n"
   ]
  },
  {
   "cell_type": "markdown",
   "id": "56e520f8",
   "metadata": {},
   "source": [
    "### [실습] 1~31까지의 임의의 숫자를 생각하고 알아 맞추기"
   ]
  },
  {
   "cell_type": "code",
   "execution_count": 5,
   "id": "ce8402a1",
   "metadata": {},
   "outputs": [
    {
     "name": "stdout",
     "output_type": "stream",
     "text": [
      "# 지금부터 여러분을 신비한 마술의 세계로 초대합니다.\n",
      "1 - 31의 숫자중 마음에 드는 숫자를 생각해 보세요.\n",
      "생각하셨어요? 시작하려면 엔터를 누르세요.\n",
      "--------------------------------------------------\n",
      "\n",
      " --------- A 카드 ---------\n",
      "\n",
      "      1      3      5      7\n",
      "      9     11     13     15\n",
      "     17     19     21     23\n",
      "     25     27     29     31\n",
      " --------------------------\n",
      "\n",
      "A 카드에 생각한 숫자가 있다면 YES(1),없다면 NO(0)을 입력해 주세요.2\n",
      "\n",
      " --------- A 카드 ---------\n",
      "\n",
      "      1      3      5      7\n",
      "      9     11     13     15\n",
      "     17     19     21     23\n",
      "     25     27     29     31\n",
      " --------------------------\n",
      "\n",
      "A 카드에 생각한 숫자가 있다면 YES(1),없다면 NO(0)을 입력해 주세요.0\n",
      "\n",
      " --------- B 카드 ---------\n",
      "\n",
      "      2      3      6      7\n",
      "     10     11     14     15\n",
      "     18     19     22     23\n",
      "     26     27     30     31\n",
      " --------------------------\n",
      "\n",
      "B 카드에 생각한 숫자가 있다면 YES(1),없다면 NO(0)을 입력해 주세요.1\n",
      "\n",
      " --------- C 카드 ---------\n",
      "\n",
      "      4      5      6      7\n",
      "     12     13     14     15\n",
      "     20     21     22     23\n",
      "     28     29     30     31\n",
      " --------------------------\n",
      "\n",
      "C 카드에 생각한 숫자가 있다면 YES(1),없다면 NO(0)을 입력해 주세요.1\n",
      "\n",
      " --------- D 카드 ---------\n",
      "\n",
      "      8      9     10     11\n",
      "     12     13     14     15\n",
      "     24     25     26     27\n",
      "     28     29     30     31\n",
      " --------------------------\n",
      "\n",
      "D 카드에 생각한 숫자가 있다면 YES(1),없다면 NO(0)을 입력해 주세요.0\n",
      "\n",
      " --------- E 카드 ---------\n",
      "\n",
      "     16     17     18     19\n",
      "     20     21     22     23\n",
      "     24     25     26     27\n",
      "     28     29     30     31\n",
      " --------------------------\n",
      "\n",
      "E 카드에 생각한 숫자가 있다면 YES(1),없다면 NO(0)을 입력해 주세요.1\n",
      "\n",
      "--------------------------------------------------\n",
      "당신이 마음에 드는 숫자는 [[ 22 ]]입니다.\n",
      "\n",
      "어때요? 신기하죠!!\n",
      "지금까지 마술의 세계였습니다.\n",
      "-------------------------------------------------- 끝\n"
     ]
    }
   ],
   "source": [
    "def my_card(index):\n",
    "    cardname = chr(ord('A') + index - 1)\n",
    "\n",
    "    while True:\n",
    "        print(\" --------- %s 카드 ---------\\n\" % cardname )\n",
    "        for i in range(0, 4):\n",
    "            for j in range(0, 4):\n",
    "                print(\"%7d\" % card[index-1][i*4 + j], end='')\n",
    "            print()\n",
    "        \n",
    "        print(\" --------------------------\\n\")\n",
    "        script = \"%s 카드에 생각한 숫자가 있다면 YES(1),없다면 NO(0)을 입력해 주세요.\"\n",
    "        result = int(input(script % cardname))\n",
    "        print(\"\")\n",
    "\n",
    "        if result in [0,1]:\n",
    "            return result\n",
    "\n",
    "\n",
    "def my_res(a,b,c,d,e):\n",
    "    #res = (e*2*2*2*2) + (d*2*2*2) + (c*2*2) + (b*2) + (a)\n",
    "    res = (e*2**4) + (d*2**3) + (c*2**2) + (b*2) + (a)\n",
    "    print('-'*50)\n",
    "    print(\"당신이 마음에 드는 숫자는 [[ %d ]]입니다.\\n\" % res);\n",
    "    print(\"어때요? 신기하죠!!\");\n",
    "    print(\"지금까지 마술의 세계였습니다.\"); \n",
    "    print('-'*50, '끝')\n",
    "\n",
    "#---------메인------------  \n",
    "card = [\n",
    "    [1,3,5,7,9,11,13,15,17,19,21,23,25,27,29,31],\n",
    "    [2,3,6,7,10,11,14,15,18,19,22,23,26,27,30,31],\n",
    "    [4,5,6,7,12,13,14,15,20,21,22,23,28,29,30,31],\n",
    "    [8,9,10,11,12,13,14,15,24,25,26,27,28,29,30,31],\n",
    "    [16,17,18,19,20,21,22,23,24,25,26,27,28,29,30,31]\n",
    "    ]\n",
    "\n",
    "print(\"# 지금부터 여러분을 신비한 마술의 세계로 초대합니다.\")\n",
    "print(\"1 - 31의 숫자중 마음에 드는 숫자를 생각해 보세요.\")\n",
    "\n",
    "n = input(\"생각하셨어요? 시작하려면 엔터를 누르세요.\")\n",
    "print('-'*50)\n",
    "print()\n",
    "\n",
    "a = my_card(1)\n",
    "b = my_card(2)\n",
    "c = my_card(3)\n",
    "d = my_card(4)\n",
    "e = my_card(5)\n",
    "\n",
    "my_res(a,b,c,d,e)\n",
    "\n"
   ]
  },
  {
   "cell_type": "markdown",
   "id": "17ad88f2",
   "metadata": {},
   "source": [
    "-------------------"
   ]
  }
 ],
 "metadata": {
  "kernelspec": {
   "display_name": "Python 3 (ipykernel)",
   "language": "python",
   "name": "python3"
  },
  "language_info": {
   "codemirror_mode": {
    "name": "ipython",
    "version": 3
   },
   "file_extension": ".py",
   "mimetype": "text/x-python",
   "name": "python",
   "nbconvert_exporter": "python",
   "pygments_lexer": "ipython3",
   "version": "3.12.1"
  }
 },
 "nbformat": 4,
 "nbformat_minor": 5
}

{
  "cells": [
    {
      "cell_type": "markdown",
      "id": "43775709",
      "metadata": {
        "id": "43775709"
      },
      "source": [
        "# 3.수학적 모델과 논리\n"
      ]
    },
    {
      "cell_type": "markdown",
      "source": [
        "---------------"
      ],
      "metadata": {
        "id": "-pVWdqJRUUKJ"
      },
      "id": "-pVWdqJRUUKJ"
    },
    {
      "cell_type": "markdown",
      "source": [
        "## 3-1.수학적 모델"
      ],
      "metadata": {
        "id": "ftWOC1Myx4Pj"
      },
      "id": "ftWOC1Myx4Pj"
    },
    {
      "cell_type": "markdown",
      "source": [
        "### 사랑이와 마음이의 문제\n",
        "사랑이와 마음이는 어느 날 서점에 가서 한 권에 12,000원 하는 책 세 권을 샀다. 이때 사랑이는 마음이가 내는 돈의 𝟏/𝟑을 내기로 했다. 그러면 사랑이는 책값으로 얼마를 지불해야 할까?"
      ],
      "metadata": {
        "id": "YkHrrqfI7rRG"
      },
      "id": "YkHrrqfI7rRG"
    },
    {
      "cell_type": "code",
      "source": [
        "# Redefining variables and recalculating after reset\n",
        "price_per_book = 12000\n",
        "num_books = 3\n",
        "total_cost = price_per_book * num_books\n",
        "\n",
        "sarang = 1\n",
        "maeum = sarang * 3\n",
        "\n",
        "print(f'사랑이가 책 값으로 지불해야할 금액:  {total_cost / (sarang + maeum)}' )"
      ],
      "metadata": {
        "colab": {
          "base_uri": "https://localhost:8080/"
        },
        "id": "bV1JqOno7oaK",
        "outputId": "ab619923-8e4a-41b1-9f83-f39ff2c8663e"
      },
      "id": "bV1JqOno7oaK",
      "execution_count": 21,
      "outputs": [
        {
          "output_type": "stream",
          "name": "stdout",
          "text": [
            "사랑이가 책 값으로 지불해야할 금액:  9000.0\n"
          ]
        }
      ]
    },
    {
      "cell_type": "markdown",
      "source": [
        "### 실생활의 수학적 모델 적용 예\n",
        "**1.인구 성장 모델** : 지수 성장 모델"
      ],
      "metadata": {
        "id": "XmBvu7V0x_K_"
      },
      "id": "XmBvu7V0x_K_"
    },
    {
      "cell_type": "code",
      "source": [
        "import numpy as np\n",
        "import matplotlib.pyplot as plt\n",
        "\n",
        "# Example 1: Population Growth Model (Exponential Growth Model)\n",
        "def population_growth(P0, r, t):\n",
        "    return P0 * np.exp(r * t)\n",
        "\n",
        "# Population Growth\n",
        "P0 =51751065  # Initial population\n",
        "r = 0.07      # Growth rate\n",
        "t = 10        # 10 years\n",
        "\n",
        "# Population after 10 years\n",
        "population = population_growth(P0, r, t)\n",
        "print(f\"Population after 10 years :  {format(round(population), ',')} 명\")"
      ],
      "metadata": {
        "colab": {
          "base_uri": "https://localhost:8080/"
        },
        "id": "dtxcHq0gx_l1",
        "outputId": "5211e0db-d19c-49f1-b646-dbca96d32c3d"
      },
      "id": "dtxcHq0gx_l1",
      "execution_count": 11,
      "outputs": [
        {
          "output_type": "stream",
          "name": "stdout",
          "text": [
            "Population after 10 years :  104,213,847 명\n"
          ]
        }
      ]
    },
    {
      "cell_type": "code",
      "source": [
        "# Plot 1: Population Growth\n",
        "t = np.linspace(0, 10, 100)  # Time in years (10년)\n",
        "\n",
        "population = population_growth(P0, r, t)\n",
        "plt.figure()\n",
        "plt.plot(t, population)\n",
        "plt.title(\"Exponential Population Growth\")\n",
        "plt.xlabel(\"Time (years)\")\n",
        "plt.ylabel(\"Population\")\n",
        "plt.grid(True)\n",
        "plt.show()"
      ],
      "metadata": {
        "colab": {
          "base_uri": "https://localhost:8080/",
          "height": 472
        },
        "id": "WjBmdTV91fth",
        "outputId": "01cbbc5d-6006-4045-b0bf-def49da51d96"
      },
      "id": "WjBmdTV91fth",
      "execution_count": 14,
      "outputs": [
        {
          "output_type": "display_data",
          "data": {
            "text/plain": [
              "<Figure size 640x480 with 1 Axes>"
            ],
            "image/png": "[encoded data removed]"
          },
          "metadata": {}
        }
      ]
    },
    {
      "cell_type": "markdown",
      "source": [
        "**2.전염병 확산 모델** : SIR 모델\n",
        "\n",
        "    * Susceptible(감염 대상군)\n",
        "    * Infectious(감염군)\n",
        "    * Recovered(회복군)\n"
      ],
      "metadata": {
        "id": "WWyGUAeG4xgw"
      },
      "id": "WWyGUAeG4xgw"
    },
    {
      "cell_type": "code",
      "source": [
        "# Example 2: SIR Epidemic Model\n",
        "def sir_model(S0, I0, R0, beta, gamma, days):\n",
        "    S, I, R = [S0], [I0], [R0]\n",
        "    for day in range(days):\n",
        "        new_S = S[-1] - beta * S[-1] * I[-1]\n",
        "        new_I = I[-1] + beta * S[-1] * I[-1] - gamma * I[-1]\n",
        "        new_R = R[-1] + gamma * I[-1]\n",
        "        S.append(new_S)\n",
        "        I.append(new_I)\n",
        "        R.append(new_R)\n",
        "    return np.array(S), np.array(I), np.array(R)\n",
        "\n",
        "# SIR Model\n",
        "S0, I0, R0 = 0.99, 0.01, 0  # Initial susceptible, infected, recovered\n",
        "beta, gamma = 0.3, 0.1  # Infection rate and recovery rate\n",
        "days = 100  # Simulation period in days (100일)\n",
        "\n",
        "# Plot 2: SIR Model\n",
        "S, I, R = sir_model(S0, I0, R0, beta, gamma, days)\n",
        "plt.figure()\n",
        "plt.plot(range(days+1), S, label='Susceptible')\n",
        "plt.plot(range(days+1), I, label='Infected')\n",
        "plt.plot(range(days+1), R, label='Recovered')\n",
        "plt.title(\"SIR Epidemic Model\")\n",
        "plt.xlabel(\"Days\")\n",
        "plt.ylabel(\"Population Fraction\")\n",
        "plt.legend()\n",
        "plt.grid(True)\n",
        "\n",
        "# Show all plots\n",
        "plt.show()"
      ],
      "metadata": {
        "colab": {
          "base_uri": "https://localhost:8080/",
          "height": 472
        },
        "id": "j14nV98k4y8R",
        "outputId": "2bd0bb17-4961-415f-9f88-742e22bff514"
      },
      "id": "j14nV98k4y8R",
      "execution_count": 15,
      "outputs": [
        {
          "output_type": "display_data",
          "data": {
            "text/plain": [
              "<Figure size 640x480 with 1 Axes>"
            ],
            "image/png": "[encoded data removed]"
          },
          "metadata": {}
        }
      ]
    },
    {
      "cell_type": "markdown",
      "source": [
        "\n",
        "\n",
        "---\n",
        "\n"
      ],
      "metadata": {
        "id": "PGeK3YWqx45L"
      },
      "id": "PGeK3YWqx45L"
    },
    {
      "cell_type": "markdown",
      "source": [
        "## 3-2.논리적 추론"
      ],
      "metadata": {
        "id": "_c1rBBJyUhHY"
      },
      "id": "_c1rBBJyUhHY"
    },
    {
      "cell_type": "code",
      "execution_count": null,
      "id": "5ade7234",
      "metadata": {
        "id": "5ade7234"
      },
      "outputs": [],
      "source": [
        "P = [True, True, False, False]\n",
        "Q = [True, False, True, False]"
      ]
    },
    {
      "cell_type": "markdown",
      "id": "ac2e33b4",
      "metadata": {
        "id": "ac2e33b4"
      },
      "source": [
        "### 논리곱 진리표 : conjunction, AND"
      ]
    },
    {
      "cell_type": "code",
      "execution_count": null,
      "id": "7ab65412",
      "metadata": {
        "scrolled": false,
        "colab": {
          "base_uri": "https://localhost:8080/"
        },
        "id": "7ab65412",
        "outputId": "e92dc629-2311-4677-a34b-8f3c0c558201"
      },
      "outputs": [
        {
          "output_type": "stream",
          "name": "stdout",
          "text": [
            "P : True\t Q : True\t P∧Q : True\n",
            "P : True\t Q : False\t P∧Q : False\n",
            "P : False\t Q : True\t P∧Q : False\n",
            "P : False\t Q : False\t P∧Q : False\n"
          ]
        }
      ],
      "source": [
        "for p, q in zip(P, Q):\n",
        "    print(f'P : {p}\\t Q : {q}\\t P∧Q : {p and q}')"
      ]
    },
    {
      "cell_type": "markdown",
      "id": "13190fc1",
      "metadata": {
        "id": "13190fc1"
      },
      "source": [
        "### 논리합 진리표 : disjunction, OR"
      ]
    },
    {
      "cell_type": "code",
      "execution_count": null,
      "id": "59dd451d",
      "metadata": {
        "scrolled": true,
        "colab": {
          "base_uri": "https://localhost:8080/"
        },
        "id": "59dd451d",
        "outputId": "800ed90f-da1c-4eed-93a9-8281a4c665b5"
      },
      "outputs": [
        {
          "output_type": "stream",
          "name": "stdout",
          "text": [
            "P : True\t Q : True\t P∨Q : True\n",
            "P : True\t Q : False\t P∨Q : True\n",
            "P : False\t Q : True\t P∨Q : True\n",
            "P : False\t Q : False\t P∨Q : False\n"
          ]
        }
      ],
      "source": [
        "for p, q in zip(P, Q):\n",
        "    print(f'P : {p}\\t Q : {q}\\t P∨Q : {p or q}')"
      ]
    },
    {
      "cell_type": "markdown",
      "id": "8229e31f",
      "metadata": {
        "id": "8229e31f"
      },
      "source": [
        "### 예제 3-4 : 논리곱 & 논리합\n",
        "- (P∧Q)∨(P∨Q)"
      ]
    },
    {
      "cell_type": "code",
      "execution_count": null,
      "id": "d6362648",
      "metadata": {
        "scrolled": true,
        "colab": {
          "base_uri": "https://localhost:8080/"
        },
        "id": "d6362648",
        "outputId": "6b6da84e-8897-4816-8310-8897786ad6a8"
      },
      "outputs": [
        {
          "output_type": "stream",
          "name": "stdout",
          "text": [
            "P : True\t Q : True\t (P∧Q)V(P∨Q) : True\n",
            "P : True\t Q : False\t (P∧Q)V(P∨Q) : True\n",
            "P : False\t Q : True\t (P∧Q)V(P∨Q) : True\n",
            "P : False\t Q : False\t (P∧Q)V(P∨Q) : False\n"
          ]
        }
      ],
      "source": [
        "for p, q in zip(P, Q):\n",
        "    print(f'P : {p}\\t Q : {q}\\t (P∧Q)V(P∨Q) : {(p and q) or (p or q)}')"
      ]
    },
    {
      "cell_type": "markdown",
      "id": "a0a41fcc",
      "metadata": {
        "id": "a0a41fcc"
      },
      "source": [
        "### 부정 : negation , NOT"
      ]
    },
    {
      "cell_type": "code",
      "execution_count": null,
      "id": "c0289ae6",
      "metadata": {
        "id": "c0289ae6",
        "outputId": "8bbdbdba-0569-439b-bb1d-173dd5b460f5",
        "colab": {
          "base_uri": "https://localhost:8080/"
        }
      },
      "outputs": [
        {
          "output_type": "stream",
          "name": "stdout",
          "text": [
            "P : True\t ~P : False\n",
            "P : False\t ~P : True\n"
          ]
        }
      ],
      "source": [
        "P = [True, False]\n",
        "for p in P:\n",
        "    print(f'P : {p}\\t ~P : {not p}')"
      ]
    },
    {
      "cell_type": "markdown",
      "id": "9f11bd8b",
      "metadata": {
        "id": "9f11bd8b"
      },
      "source": [
        "### 예제 3-6 : 부정\n",
        "- ¬(P∧Q) ∨ (¬P∨Q)"
      ]
    },
    {
      "cell_type": "code",
      "execution_count": null,
      "id": "6688a1b8",
      "metadata": {
        "colab": {
          "base_uri": "https://localhost:8080/"
        },
        "id": "6688a1b8",
        "outputId": "63fce925-b6f9-4a92-b778-52a1a87e4d51"
      },
      "outputs": [
        {
          "output_type": "stream",
          "name": "stdout",
          "text": [
            "P : True\t Q : True\t  ~(P∧Q) : False  \t (~P∧Q) : True  \t ¬(P∧Q) ∨ (¬P∨Q) : True\n",
            "P : True\t Q : False\t  ~(P∧Q) : True  \t (~P∧Q) : False  \t ¬(P∧Q) ∨ (¬P∨Q) : False\n",
            "P : False\t Q : True\t  ~(P∧Q) : True  \t (~P∧Q) : True  \t ¬(P∧Q) ∨ (¬P∨Q) : False\n",
            "P : False\t Q : False\t  ~(P∧Q) : True  \t (~P∧Q) : True  \t ¬(P∧Q) ∨ (¬P∨Q) : False\n"
          ]
        }
      ],
      "source": [
        "P, Q = [True,True,False,False], [True,False,True,False]\n",
        "\n",
        "for p, q in zip(P, Q):\n",
        "    a = not (p and q)\n",
        "    b = (not p) or q\n",
        "    print(f'P : {p}\\t Q : {q}\\t  ~(P∧Q) : {a}  \\t (~P∧Q) : {b}  \\t ¬(P∧Q) ∨ (¬P∨Q) : {not a and b }')"
      ]
    },
    {
      "cell_type": "markdown",
      "id": "499d20ec",
      "metadata": {
        "id": "499d20ec"
      },
      "source": [
        "### 배타적 논리합 : exclusive, XOR"
      ]
    },
    {
      "cell_type": "code",
      "execution_count": null,
      "id": "8942bd6c",
      "metadata": {
        "colab": {
          "base_uri": "https://localhost:8080/"
        },
        "id": "8942bd6c",
        "outputId": "b9723a48-0803-4caa-d112-4ed55ec4016b"
      },
      "outputs": [
        {
          "output_type": "stream",
          "name": "stdout",
          "text": [
            "P : True\t Q : True\t P^Q : False\n",
            "P : True\t Q : False\t P^Q : True\n",
            "P : False\t Q : True\t P^Q : True\n",
            "P : False\t Q : False\t P^Q : False\n"
          ]
        }
      ],
      "source": [
        "P, Q = [True,True,False,False], [True,False,True,False]\n",
        "\n",
        "\n",
        "for p, q in zip(P, Q):\n",
        "    print(f'P : {p}\\t Q : {q}\\t P^Q : {p ^ q}')"
      ]
    },
    {
      "cell_type": "markdown",
      "id": "6438e2d5",
      "metadata": {
        "id": "6438e2d5"
      },
      "source": [
        "### 예제 3-7: 배타적 논리합\n",
        "- ¬(P ∨ Q)⊕(¬P ∧ Q)"
      ]
    },
    {
      "cell_type": "code",
      "execution_count": null,
      "id": "13bf771b",
      "metadata": {
        "scrolled": true,
        "colab": {
          "base_uri": "https://localhost:8080/"
        },
        "id": "13bf771b",
        "outputId": "ec3a0746-fc8c-4a84-8948-6c628494d37a"
      },
      "outputs": [
        {
          "output_type": "stream",
          "name": "stdout",
          "text": [
            "P : True\t Q : True\t ~(PvQ) : False  \t (~P∧Q) : False  \t  ~(PvQ)⊕(~P∧Q) : False\n",
            "P : True\t Q : False\t ~(PvQ) : False  \t (~P∧Q) : False  \t  ~(PvQ)⊕(~P∧Q) : False\n",
            "P : False\t Q : True\t ~(PvQ) : False  \t (~P∧Q) : True  \t  ~(PvQ)⊕(~P∧Q) : True\n",
            "P : False\t Q : False\t ~(PvQ) : True  \t (~P∧Q) : False  \t  ~(PvQ)⊕(~P∧Q) : True\n"
          ]
        }
      ],
      "source": [
        "P, Q = [True,True,False,False], [True,False,True,False]\n",
        "\n",
        "for p, q in zip(P, Q):\n",
        "    a = not (p or q)\n",
        "    b = (not p) and q\n",
        "    print(f'P : {p}\\t Q : {q}\\t ~(PvQ) : {a}  \\t (~P∧Q) : {b}  \\t  ~(PvQ)⊕(~P∧Q) : {a ^ b}')"
      ]
    },
    {
      "cell_type": "markdown",
      "id": "11224ad8",
      "metadata": {
        "id": "11224ad8"
      },
      "source": [
        "### 논리 함축 : implication"
      ]
    },
    {
      "cell_type": "code",
      "execution_count": null,
      "id": "088a2ef8",
      "metadata": {
        "colab": {
          "base_uri": "https://localhost:8080/"
        },
        "id": "088a2ef8",
        "outputId": "d42efb2a-5cd3-4342-8340-8c376c76a929"
      },
      "outputs": [
        {
          "output_type": "stream",
          "name": "stdout",
          "text": [
            "P : True\t Q :True \t P→Q : True \n",
            "P : True\t Q :False \t P→Q : False \n",
            "P : False\t Q :True \t P→Q : True \n",
            "P : False\t Q :False \t P→Q : True \n"
          ]
        }
      ],
      "source": [
        "for p, q in zip(P, Q):\n",
        "    if p==True and q==False:\n",
        "        print(f'P : {p}\\t Q :{q} \\t P→Q : {False} ')\n",
        "    else:\n",
        "        print(f'P : {p}\\t Q :{q} \\t P→Q : {True} ')"
      ]
    },
    {
      "cell_type": "markdown",
      "id": "d14880cd",
      "metadata": {
        "id": "d14880cd"
      },
      "source": [
        "### 논리적 동치 : equivalence"
      ]
    },
    {
      "cell_type": "code",
      "execution_count": null,
      "id": "ed6cf47d",
      "metadata": {
        "colab": {
          "base_uri": "https://localhost:8080/"
        },
        "id": "ed6cf47d",
        "outputId": "c547d818-3c1c-425a-f2f3-edbf0992ad07"
      },
      "outputs": [
        {
          "output_type": "stream",
          "name": "stdout",
          "text": [
            "P : True\t Q :True \t P ↔ Q : True \n",
            "P : True\t Q :False \t P ↔ Q : False \n",
            "P : False\t Q :True \t P ↔ Q : False \n",
            "P : False\t Q :False \t P ↔ Q : True \n"
          ]
        }
      ],
      "source": [
        "for p, q in zip(P, Q):\n",
        "    if p == q :\n",
        "        print(f'P : {p}\\t Q :{q} \\t P ↔ Q : {True} ')\n",
        "    else:\n",
        "        print(f'P : {p}\\t Q :{q} \\t P ↔ Q : {False} ')"
      ]
    },
    {
      "cell_type": "markdown",
      "source": [
        "### [실습]\n",
        "- 앞에서 다양한 논리 연산 (¬, ∧, ∨, →, ↔, ⊕)에 대한 합성명제를 구하는 방법을 알아보았다.\n",
        "- 명제 변수가 2개(P, Q)인 합성명제에 대해 진리표를 구하는 프로그램을 파이썬으로 작성하시오."
      ],
      "metadata": {
        "id": "5_kuPW9heHj5"
      },
      "id": "5_kuPW9heHj5"
    },
    {
      "cell_type": "code",
      "source": [
        "import re\n",
        "\n",
        "# 입력된 논리식을 검증하는 함수\n",
        "def validate_expression(expression):\n",
        "    # 올바른 논리 연산자를 포함하는지 확인 (¬, ∧, ∨, →, ↔, ⊕, P, Q)\n",
        "    pattern = r'^[P¬∧∨→↔⊕Q\\s\\(\\)]+$'\n",
        "    if re.match(pattern, expression):\n",
        "        return True\n",
        "    else:\n",
        "        return False\n",
        "\n",
        "# 논리 연산 함수 정의\n",
        "def implication(p, q):\n",
        "    \"\"\"임플리케이션 연산을 수행합니다. P → Q는 'not P or Q'로 처리됩니다.\"\"\"\n",
        "    return not p or q\n",
        "\n",
        "def evaluate_expression(P, Q, expression):\n",
        "    # P와 Q 값을 표현식에 대입\n",
        "    local_vars = {'P': P, 'Q': Q}\n",
        "\n",
        "    # 논리 연산을 파이썬 표현으로 변경\n",
        "    expression = (expression\n",
        "                  .replace(\"¬\", \" not \")\n",
        "                  .replace(\"∧\", \" and \")\n",
        "                  .replace(\"∨\", \" or \")\n",
        "                  .replace(\"⊕\", \" ^ \")\n",
        "                  .replace(\"↔\", \" == \"))\n",
        "\n",
        "    # 임플리케이션은 수동으로 처리해야 함\n",
        "    expression_parts = expression.split(\"→\")\n",
        "    if len(expression_parts) == 2:\n",
        "        left_expr = eval(expression_parts[0], {}, local_vars)\n",
        "        right_expr = eval(expression_parts[1], {}, local_vars)\n",
        "        return implication(left_expr, right_expr)\n",
        "\n",
        "    try:\n",
        "        # 표현식을 평가하고 결과 반환\n",
        "        return eval(expression, {}, local_vars)\n",
        "    except Exception as e:\n",
        "        print(f\"Error in evaluating expression: {e}\")\n",
        "        return None\n",
        "\n",
        "# 진리표 생성 함수\n",
        "def truth_table(expression):\n",
        "    print(f\"\\nTruth Table for expression: {expression}\")\n",
        "    print(\"P   Q   Result\")\n",
        "    print(\"-\" * 20)\n",
        "\n",
        "    for P in [True, False]:\n",
        "        for Q in [True, False]:\n",
        "            result = evaluate_expression(P, Q, expression)\n",
        "            if result is not None:\n",
        "                print(f\"{P}  {Q}  {result}\")\n",
        "\n",
        "# 입력 검증 로직\n",
        "def check_input(expression) :\n",
        "    # 입력 검증\n",
        "    if validate_expression(expression):\n",
        "        # 진리표 출력\n",
        "        truth_table(expression)\n",
        "    else:\n",
        "        print(\"Invalid logical expression. Please use only P, Q, ¬, ∧, ∨, →, ↔, ⊕, and parentheses.\")\n"
      ],
      "metadata": {
        "id": "Ax2SKsOkeIBq"
      },
      "id": "Ax2SKsOkeIBq",
      "execution_count": null,
      "outputs": []
    },
    {
      "cell_type": "code",
      "source": [
        "# 사용자로부터 입력받기\n",
        "# ¬(P∧Q) ∨ (¬P∨Q)\n",
        "# ¬(P ∨ Q) ⊕ (¬P ∧ Q)\n",
        "# ¬(P ∨ Q) → (¬P ∧ Q)\n",
        "# ¬(P∧Q) ↔(P∨¬Q)\n",
        "# 사용자로부터 입력받기\n",
        "expression = input(\"Enter a logical expression using P, Q, ¬, ∧, ∨, →, ↔, ⊕: \").strip()\n",
        "check_input(expression)"
      ],
      "metadata": {
        "colab": {
          "base_uri": "https://localhost:8080/"
        },
        "id": "Pj-OC7frfpuY",
        "outputId": "579221b0-2218-4efa-e878-099cdd6cd6f8"
      },
      "id": "Pj-OC7frfpuY",
      "execution_count": null,
      "outputs": [
        {
          "output_type": "stream",
          "name": "stdout",
          "text": [
            "Enter a logical expression using P, Q, ¬, ∧, ∨, →, ↔, ⊕: ¬(P ∨ Q) ⊕ (¬P ∧ Q)\n",
            "\n",
            "Truth Table for expression: ¬(P ∨ Q) ⊕ (¬P ∧ Q)\n",
            "P   Q   Result\n",
            "--------------------\n",
            "True  True  False\n",
            "True  False  False\n",
            "False  True  True\n",
            "False  False  True\n"
          ]
        }
      ]
    },
    {
      "cell_type": "markdown",
      "id": "d738997f",
      "metadata": {
        "id": "d738997f"
      },
      "source": [
        "-------------------------------------"
      ]
    },
    {
      "cell_type": "markdown",
      "source": [
        "## 3. 증명과 프로그램 검증"
      ],
      "metadata": {
        "id": "x3wjG_iC1Y4S"
      },
      "id": "x3wjG_iC1Y4S"
    },
    {
      "cell_type": "markdown",
      "source": [
        "### [실습]\n",
        "- 1~10000 정수 중에 완전수를 구하는 프로그램"
      ],
      "metadata": {
        "id": "DowJWNXw1ZG9"
      },
      "id": "DowJWNXw1ZG9"
    },
    {
      "cell_type": "code",
      "source": [
        "def is_perfect_number(n):\n",
        "    # 1부터 n-1까지의 약수를 찾아 합을 계산\n",
        "    divisors_sum = sum([i for i in range(1, n) if n % i == 0])\n",
        "\n",
        "    # 약수들의 합이 자기 자신과 같은지 확인\n",
        "    return divisors_sum == n\n",
        "\n",
        "# 특정 범위 내에서 완전수를 찾는 함수\n",
        "def find_perfect_numbers(limit):\n",
        "    perfect_numbers = []\n",
        "    for num in range(2, limit + 1):\n",
        "        if is_perfect_number(num):\n",
        "            perfect_numbers.append(num)\n",
        "    return perfect_numbers\n",
        "\n",
        "# 10000까지의 완전수를 구해보자\n",
        "limit = 10000\n",
        "perfect_numbers = find_perfect_numbers(limit)\n",
        "print(f\"Perfect numbers up to {limit}: {perfect_numbers}\")"
      ],
      "metadata": {
        "colab": {
          "base_uri": "https://localhost:8080/"
        },
        "id": "Nl4OeRvl1Zg_",
        "outputId": "28322b21-b185-4573-bbe9-54f7c3995770"
      },
      "id": "Nl4OeRvl1Zg_",
      "execution_count": null,
      "outputs": [
        {
          "output_type": "stream",
          "name": "stdout",
          "text": [
            "Perfect numbers up to 10000: [6, 28, 496, 8128]\n"
          ]
        }
      ]
    },
    {
      "cell_type": "markdown",
      "source": [
        "### 프로그램 검증 : 동적인 방법 예제\n",
        "- 이 테스트 코드는 동적 검증 방법의 일환으로, 실제로 프로그램을 실행하여 함수가 의도대로 동작하는지 확인하는 과정임\n",
        "- [주의!!!] pc에서 확장자를 .py(ex: test.py)로 실행시켜야 정상 동작함\n",
        "- 코랩에서는 오류 발생"
      ],
      "metadata": {
        "id": "pitjI-ZN_Rtv"
      },
      "id": "pitjI-ZN_Rtv"
    },
    {
      "cell_type": "code",
      "source": [
        "import unittest\n",
        "\n",
        "def is_perfect_number(n):\n",
        "    if n <= 1:\n",
        "        return False\n",
        "    # 1부터 n-1까지의 약수를 찾아 합을 계산\n",
        "    divisors_sum = sum([i for i in range(1, n) if n % i == 0])\n",
        "\n",
        "    # 약수들의 합이 자기 자신과 같은지 확인\n",
        "    return divisors_sum == n\n",
        "\n",
        "class TestPerfectNumber(unittest.TestCase):\n",
        "\n",
        "    def test_perfect_numbers(self):\n",
        "        # 6, 28, 496, 8128은 완전수로 알려진 수\n",
        "        self.assertTrue(is_perfect_number(6))\n",
        "        self.assertTrue(is_perfect_number(28))\n",
        "        self.assertTrue(is_perfect_number(496))\n",
        "        self.assertTrue(is_perfect_number(8128))\n",
        "\n",
        "    def test_non_perfect_numbers(self):\n",
        "        # 5, 10, 100 등은 완전수가 아님\n",
        "        self.assertFalse(is_perfect_number(5))\n",
        "        self.assertFalse(is_perfect_number(10))\n",
        "        self.assertFalse(is_perfect_number(100))\n",
        "\n",
        "    def test_edge_cases(self):\n",
        "        # 0, 1은 완전수가 아님\n",
        "        self.assertFalse(is_perfect_number(0))\n",
        "        self.assertFalse(is_perfect_number(1))\n",
        "\n",
        "# unittest를 실행\n",
        "if __name__ == '__main__':\n",
        "    unittest.main()\n"
      ],
      "metadata": {
        "colab": {
          "base_uri": "https://localhost:8080/",
          "height": 327
        },
        "collapsed": true,
        "id": "hQS5VG1F9rNN",
        "outputId": "d1dd1b24-6624-49b2-b55b-83f708a42e20"
      },
      "id": "hQS5VG1F9rNN",
      "execution_count": null,
      "outputs": [
        {
          "output_type": "stream",
          "name": "stderr",
          "text": [
            "E\n",
            "======================================================================\n",
            "ERROR: /root/ (unittest.loader._FailedTest)\n",
            "----------------------------------------------------------------------\n",
            "AttributeError: module '__main__' has no attribute '/root/'\n",
            "\n",
            "----------------------------------------------------------------------\n",
            "Ran 1 test in 0.001s\n",
            "\n",
            "FAILED (errors=1)\n"
          ]
        },
        {
          "output_type": "error",
          "ename": "SystemExit",
          "evalue": "True",
          "traceback": [
            "An exception has occurred, use %tb to see the full traceback.\n",
            "\u001b[0;31mSystemExit\u001b[0m\u001b[0;31m:\u001b[0m True\n"
          ]
        },
        {
          "output_type": "stream",
          "name": "stderr",
          "text": [
            "/usr/local/lib/python3.10/dist-packages/IPython/core/interactiveshell.py:3561: UserWarning: To exit: use 'exit', 'quit', or Ctrl-D.\n",
            "  warn(\"To exit: use 'exit', 'quit', or Ctrl-D.\", stacklevel=1)\n"
          ]
        }
      ]
    }
  ],
  "metadata": {
    "kernelspec": {
      "display_name": "Python 3",
      "language": "python",
      "name": "python3"
    },
    "language_info": {
      "codemirror_mode": {
        "name": "ipython",
        "version": 3
      },
      "file_extension": ".py",
      "mimetype": "text/x-python",
      "name": "python",
      "nbconvert_exporter": "python",
      "pygments_lexer": "ipython3",
      "version": "3.9.10"
    },
    "colab": {
      "provenance": []
    }
  },
  "nbformat": 4,
  "nbformat_minor": 5
}
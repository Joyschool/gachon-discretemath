{
  "cells": [
    {
      "cell_type": "markdown",
      "metadata": {
        "id": "view-in-github",
        "colab_type": "text"
      },
      "source": [
        "<a href=\"https://colab.research.google.com/github/Joyschool/gachon-discretemath/blob/main/11%EC%A3%BC%EC%B0%A8_%ED%8A%B8%EB%A6%AC_%EC%99%84%EC%84%B1.ipynb\" target=\"_parent\"><img src=\"https://colab.research.google.com/assets/colab-badge.svg\" alt=\"Open In Colab\"/></a>"
      ]
    },
    {
      "cell_type": "markdown",
      "id": "7d666a34",
      "metadata": {
        "id": "7d666a34"
      },
      "source": [
        "# 9.트리"
      ]
    },
    {
      "cell_type": "markdown",
      "source": [
        "## 9-0.트리 개요"
      ],
      "metadata": {
        "id": "kdQtPkgOJ0-L"
      },
      "id": "kdQtPkgOJ0-L"
    },
    {
      "cell_type": "markdown",
      "id": "80edc5ab",
      "metadata": {
        "id": "80edc5ab"
      },
      "source": [
        "- (코랩) 그래프에서 한글 폰트 사용 (실행 후-> 런타임 ->세션 다시 시작)"
      ]
    },
    {
      "cell_type": "code",
      "execution_count": null,
      "id": "8186650a",
      "metadata": {
        "collapsed": true,
        "id": "8186650a"
      },
      "outputs": [],
      "source": [
        "!sudo apt-get install -y fonts-nanum\n",
        "!sudo fc-cache -fv\n",
        "!rm ~/.cache/matplotlib -rf"
      ]
    },
    {
      "cell_type": "markdown",
      "source": [
        "- 공통 라이브러리"
      ],
      "metadata": {
        "id": "Sd8X-EQK482B"
      },
      "id": "Sd8X-EQK482B"
    },
    {
      "cell_type": "code",
      "source": [
        "import networkx as nx\n",
        "import matplotlib.pyplot as plt\n",
        "fontname = 'NanumGothic'          # (코랩)한글 폰트\n",
        "plt.rc('figure', figsize = (6,4))\n",
        "plt.rc('font', family=fontname)"
      ],
      "metadata": {
        "id": "69uWmyw54-A6"
      },
      "id": "69uWmyw54-A6",
      "execution_count": null,
      "outputs": []
    },
    {
      "cell_type": "markdown",
      "id": "990b69ea",
      "metadata": {
        "id": "990b69ea"
      },
      "source": [
        "- anytree - 트리를 쉽게 표현하는 라이브러리"
      ]
    },
    {
      "cell_type": "code",
      "execution_count": null,
      "id": "567c41b6",
      "metadata": {
        "collapsed": true,
        "jupyter": {
          "outputs_hidden": true
        },
        "id": "567c41b6"
      },
      "outputs": [],
      "source": [
        "!pip install anytree"
      ]
    },
    {
      "cell_type": "code",
      "execution_count": null,
      "id": "1cdecd3e",
      "metadata": {
        "id": "1cdecd3e"
      },
      "outputs": [],
      "source": [
        "# 트리 구조 만들기\n",
        "from anytree import Node, RenderTree\n",
        "from anytree.exporter import DotExporter\n",
        "from IPython.display import Image\n",
        "\n",
        "# 트리 구조 생성\n",
        "v4 = Node('4')\n",
        "v2 = Node('2', parent=v4)\n",
        "v5 = Node('5', parent=v4)\n",
        "v6 = Node('6', parent=v4)\n",
        "v1 = Node('1', parent=v2)\n",
        "v3 = Node('3', parent=v2)\n",
        "v8 = Node('8', parent=v5)\n",
        "v7 = Node('7', parent=v6)\n",
        "v9 = Node('9', parent=v7)\n",
        "v10 = Node('10', parent=v7)\n",
        "\n",
        "# 1.트리 출력하기\n",
        "print('1.Tree hierarchy')\n",
        "for pre, fill, node in RenderTree(v4):\n",
        "    print(\"%s%s\" % (pre, node.name))\n",
        "\n",
        "# 2.트리 출력하기\n",
        "print('2.Tree hierarchy')\n",
        "for line in DotExporter(v4):\n",
        "    print(line)\n",
        "\n",
        "# 3.트리 출력하기(이미지 파일)\n",
        "print('3.Tree hierarchy')\n",
        "DotExporter(v4).to_picture('test.png')\n",
        "display(Image(filename=\"test.png\"))"
      ]
    },
    {
      "cell_type": "markdown",
      "source": [
        "## 그래프(트리) 응용"
      ],
      "metadata": {
        "id": "8p2jpWj3KNnF"
      },
      "id": "8p2jpWj3KNnF"
    },
    {
      "cell_type": "markdown",
      "source": [
        "### @자연어 처리 : 구문 분석 트리**\n",
        "    - 1. jdk 설치\n",
        "    - 2. Konlpy (Korean Natural Language Processing Library) 설치\n",
        "        - 한국어 자연어 처리를 위한 파이썬 라이브러리\n",
        "        - 형태소 분석기, 품사 태깅, 단어 추출 등 한국어 텍스트 처리에 필요한 다양한 기능 제공"
      ],
      "metadata": {
        "id": "McG1f5L3KE8A"
      },
      "id": "McG1f5L3KE8A"
    },
    {
      "cell_type": "code",
      "source": [
        "!apt-get update\n",
        "!apt-get install -y openjdk-8-jdk"
      ],
      "metadata": {
        "collapsed": true,
        "id": "PccieNljKI4Y"
      },
      "id": "PccieNljKI4Y",
      "execution_count": null,
      "outputs": []
    },
    {
      "cell_type": "code",
      "source": [
        "!java -version"
      ],
      "metadata": {
        "id": "UoxESGVGdzMC"
      },
      "id": "UoxESGVGdzMC",
      "execution_count": null,
      "outputs": []
    },
    {
      "cell_type": "code",
      "source": [
        "!pip install konlpy"
      ],
      "metadata": {
        "id": "4ExnNzjLKNAv"
      },
      "id": "4ExnNzjLKNAv",
      "execution_count": null,
      "outputs": []
    },
    {
      "cell_type": "markdown",
      "source": [
        "- [참고] 품사 태그 종류: https://happygrammer.github.io/nlp/postag-set/"
      ],
      "metadata": {
        "id": "zcw2HGfrM761"
      },
      "id": "zcw2HGfrM761"
    },
    {
      "cell_type": "code",
      "source": [
        "from konlpy.tag import Kkma\n",
        "from nltk import Tree\n",
        "\n",
        "# Konlpy의 Kkma 형태소 분석기 사용\n",
        "kkma = Kkma()\n",
        "\n",
        "# 한글 입력 문장\n",
        "sentence = \"자연어 처리는 컴퓨터와 인간의 언어 상호작용을 다루는 인공지능의 한 분야입니다.\"\n",
        "# sentence = '''6411번 버스라고 있습니다. 서울시 구로구 가로수 공원에서 출발해서 강남을 거쳐서 개포동 주공 2단지까지 대략 2시간 정도 걸리는 노선버스입니다.\n",
        "# 내일 아침에도 이 버스는 새벽 4시 정각에 출발합니다. 새벽 4시에 출발하는 그 버스와 4시 5분경에 출발하는 그 두 번째 버스는 출발한 지 15분 만에 신도림과 구로 시장을 거칠 때쯤이면 좌석은 만석이 되고 버스 사이 그 복도 길까지 사람들이 한 명 한 명 바닥에 다 앉는 진풍경이 매일 벌어집니다.'''\n",
        "\n",
        "# 형태소 분석 및 구문 분석\n",
        "parsed = kkma.pos(sentence)\n",
        "\n",
        "# 형태소 분석 결과를 기반으로 트리 구조 생성\n",
        "def build_tree(parsed):\n",
        "    seen = set()  # 중복 제거를 위한 집합\n",
        "    s_tree = Tree(\"S\", [])  # 문장(S)\n",
        "    np_tree = Tree(\"NP\", [])  # 명사구(NP)\n",
        "    vp_tree = Tree(\"VP\", [])  # 동사구(VP)\n",
        "\n",
        "    for word, pos in parsed:  # word:단어, pos: 품사 태그(Part-Of-Speech Tag)\n",
        "        if (word, pos) in seen:  # 이미 처리된 단어/품사 조합은 스킵\n",
        "            continue\n",
        "        seen.add((word, pos))  # 새로운 단어/품사 조합 추가\n",
        "\n",
        "        if pos.startswith(\"N\"):  # 명사 관련 태그\n",
        "            np_tree.append(f\"{word}/{pos}\")\n",
        "        elif pos.startswith(\"V\"):  # 동사 관련 태그\n",
        "            vp_tree.append(f\"{word}/{pos}\")\n",
        "        else:  # 기타 (조사, 부사 등)\n",
        "            s_tree.append(f\"{word}/{pos}\")\n",
        "\n",
        "    # 문장 트리에 명사구와 동사구 추가\n",
        "    if np_tree:\n",
        "        s_tree.append(np_tree)\n",
        "    if vp_tree:\n",
        "        s_tree.append(vp_tree)\n",
        "\n",
        "    return s_tree\n",
        "\n",
        "# 방법1: 트리 생성 및 트리 시각화(터미널에서 계층적 텍스트)\n",
        "tree = build_tree(parsed)\n",
        "print(\"구문 분석 트리 (텍스트 형태):\\n\", tree.pprint())"
      ],
      "metadata": {
        "id": "2xBZKd1oKNHR"
      },
      "id": "2xBZKd1oKNHR",
      "execution_count": null,
      "outputs": []
    },
    {
      "cell_type": "code",
      "source": [
        "# 트리 시각화: Networkx 그래프\n",
        "def plot_tree(parsed):\n",
        "    \"\"\"\n",
        "    품사 태깅 결과를 트리로 시각화\n",
        "    - parsed: 형태소 분석 결과 [(단어, 품사), ...]\n",
        "    \"\"\"\n",
        "    # 그래프 초기화\n",
        "    G = nx.DiGraph()\n",
        "\n",
        "    # 루트 노드 추가\n",
        "    root = \"ROOT\"\n",
        "    G.add_node(root)\n",
        "\n",
        "    # 품사 태그별 트리 구성\n",
        "    for word, pos in parsed:\n",
        "        if pos.startswith(\"N\"):  # 명사\n",
        "            G.add_edge(root, f\"{word}/{pos}\")\n",
        "        elif pos.startswith(\"V\"):  # 동사\n",
        "            G.add_edge(root, f\"{word}/{pos}\")\n",
        "        else:  # 기타 품사\n",
        "            G.add_edge(root, f\"{word}/{pos}\")\n",
        "\n",
        "    # 그래프 시각화\n",
        "    pos = nx.spring_layout(G, k=2)  # 노드 배치 자동 레이아웃\n",
        "    # pos = nx.nx_pydot.graphviz_layout(G, prog=\"dot\") # 트리구조(계층적) 레이아웃\n",
        "    plt.figure(figsize=(10, 6))\n",
        "    nx.draw(G, pos,with_labels=True, node_size=1000, node_color=\"lightblue\",\n",
        "                font_size=8, font_weight=\"bold\",arrowsize=12, font_family=fontname)\n",
        "    plt.title(\"구문 분석 트리\", fontsize=16)\n",
        "    plt.title(\"구문 분석 트리\", fontsize=16)\n",
        "    plt.show()\n",
        "\n",
        "# 품사 태깅 결과를 네트워크 트리로 시각화\n",
        "plot_tree(parsed)"
      ],
      "metadata": {
        "id": "meo9l3TXSD0F"
      },
      "id": "meo9l3TXSD0F",
      "execution_count": null,
      "outputs": []
    },
    {
      "cell_type": "code",
      "source": [
        "# 형태소 분석 결과에서 명사만 추출\n",
        "def extract_nouns(parsed):\n",
        "    nouns = [word for word, pos in parsed if pos.startswith(\"N\")]\n",
        "    return nouns\n",
        "\n",
        "# 명사 추출\n",
        "nouns = extract_nouns(parsed)\n",
        "print(\"추출된 명사: \", nouns)"
      ],
      "metadata": {
        "id": "L40_PV2NP1md"
      },
      "id": "L40_PV2NP1md",
      "execution_count": null,
      "outputs": []
    },
    {
      "cell_type": "markdown",
      "source": [
        "### @지식 그래프 : 지식 추론\n",
        "- 지식을 데이터로 정의하고 추론하기 위해 그래프 구조가 사용됨"
      ],
      "metadata": {
        "id": "VsJ6r30IKjnE"
      },
      "id": "VsJ6r30IKjnE"
    },
    {
      "cell_type": "code",
      "source": [
        "# 주어진 관계를 기반으로 특정 노드에서 추론된 노드를 반환\n",
        "def infer(graph, start_node, relation):\n",
        "    inferred_nodes = []\n",
        "    for u, v, data in graph.edges(data=True):\n",
        "        if u == start_node and data[\"relation\"] == relation:\n",
        "            inferred_nodes.append(v)\n",
        "    return inferred_nodes\n",
        "\n",
        "# 지식 추론\n",
        "def get_infer_knowledge(start_node, relation_chain):\n",
        "    current_nodes  = [start_node]\n",
        "    for rel in relation_chain:\n",
        "        next_nodes = []\n",
        "        for node in current_nodes:\n",
        "            next_nodes.extend(infer(G, node, rel))\n",
        "        current_nodes = next_nodes\n",
        "\n",
        "    return current_nodes\n",
        "\n",
        "# 그래프 시각화\n",
        "def plot_graph(G):\n",
        "    # 쌍방향 간선 여부 체크\n",
        "    def find_bidirectional_edges(G):\n",
        "        bidirectional_edges = []\n",
        "        for u, v in G.edges():\n",
        "            if G.has_edge(v, u):  # (v, u)도 존재하면 추가\n",
        "                bidirectional_edges.append((u, v))\n",
        "        return bidirectional_edges\n",
        "\n",
        "    if find_bidirectional_edges(G) : # 쌍방향 간선이 존재하면\n",
        "        pos = nx.circular_layout(G)  # 원형 레이아웃\n",
        "        nx.draw(G, pos,with_labels=True, node_size=1000, node_color=\"lightblue\", connectionstyle=\"arc3,rad=0.2\",\n",
        "            font_size=8, font_weight=\"bold\",arrowsize=14, font_family=fontname)\n",
        "    else:\n",
        "        # pos = nx.spring_layout(G, k=2)  # 노드배치: k 값을 크게 하면 엣지 길이가 늘어남\n",
        "        pos = nx.shell_layout(G)\n",
        "        pos = nx.nx_pydot.graphviz_layout(G, prog=\"dot\")  # 노드 배치: 계층적으로 표시\n",
        "        nx.draw(G, pos,with_labels=True, node_size=1000, node_color=\"lightblue\",\n",
        "                font_size=8, font_weight=\"bold\",arrowsize=12, font_family=fontname)\n",
        "    edge_labels = nx.get_edge_attributes(G, \"relation\")\n",
        "    nx.draw_networkx_edge_labels(G, pos, edge_labels=edge_labels, font_size=8, font_family=fontname)\n",
        "    plt.show()\n",
        "\n",
        "\n",
        "\n",
        "# 테스트 데이터\n",
        "nodes = [\n",
        "    \"서울\", \"대한민국\", \"동아시아\",\n",
        "    \"뉴욕\", \"미국\", \"북아메리카\",\n",
        "    \"파리\", \"프랑스\", \"유럽\",\n",
        "]\n",
        "edges = [\n",
        "    (\"서울\", \"대한민국\", \"is_in\"),\n",
        "    (\"대한민국\", \"동아시아\", \"is_in\"),\n",
        "    (\"뉴욕\", \"미국\", \"is_in\"),\n",
        "    (\"미국\", \"북아메리카\", \"is_in\"),\n",
        "    (\"파리\", \"프랑스\", \"is_in\"),\n",
        "    (\"프랑스\", \"유럽\", \"is_in\"),\n",
        "    (\"대한민국\", \"서울\", \"capital_of\"),\n",
        "    (\"미국\", \"뉴욕\", \"has_city\"),\n",
        "    (\"프랑스\", \"파리\", \"capital_of\"),\n",
        "]\n",
        "\n",
        "# 지식 그래프 생성\n",
        "G = nx.DiGraph()\n",
        "G.add_nodes_from(nodes)\n",
        "G.add_edges_from((u, v, {\"relation\": r}) for u, v, r in edges)\n",
        "\n",
        "# 지식 추론 --> '서울'이 포함된 대륙 추론\n",
        "start_node = \"서울\"\n",
        "target_relation = [\"is_in\", \"is_in\"]  # '서울 -> 대한민국 -> 동아시아'\n",
        "target_relation = [\"is_in\"]           # '서울 -> 대한민국\n",
        "inferred_knowledge = get_infer_knowledge(start_node, target_relation)\n",
        "\n",
        "# 추론 결과\n",
        "print(f\"'{start_node}'(이)가 '{target_relation}' 관계로 추론된 지식: {inferred_knowledge}\")\n",
        "print(f\"'{start_node}'(이)가 포함된 대륙은: {inferred_knowledge}\")\n",
        "\n",
        "# 그래프 시각화\n",
        "plot_graph(G)   # 그래프 그리기"
      ],
      "metadata": {
        "id": "tLOS2k6LKNMy"
      },
      "id": "tLOS2k6LKNMy",
      "execution_count": null,
      "outputs": []
    },
    {
      "cell_type": "markdown",
      "source": [
        "- **지식추론을 위한 트리 탐방**: 탐색 경로상 모든 노드 탐색\n"
      ],
      "metadata": {
        "id": "4HSndgYTd-j5"
      },
      "id": "4HSndgYTd-j5"
    },
    {
      "cell_type": "code",
      "source": [
        "# 그래프(트리) 탐방 (DFS 또는 BFS)로 지식 추론\n",
        "def traverse_and_infer(graph, start_node, target_relations):\n",
        "    \"\"\"\n",
        "    트리 탐방을 사용하여 특정 노드에서 출발해 여러 관계를 기반으로 지식을 추론\n",
        "    - graph: 방향성 있는 지식 그래프\n",
        "    - start_node: 탐색을 시작할 노드\n",
        "    - target_relations: 추론할 관계의 리스트\n",
        "    \"\"\"\n",
        "    visited = set()  # 방문한 노드를 저장\n",
        "    result = []  # 추론된 지식 저장\n",
        "\n",
        "    # 깊이 우선 탐색 (DFS) 스택\n",
        "    stack = [(start_node, None)]  # (노드, 관계)\n",
        "\n",
        "    while stack:\n",
        "        current_node, relation = stack.pop()\n",
        "        if current_node not in visited:\n",
        "            visited.add(current_node)\n",
        "            # 주어진 관계가 타겟 관계 목록에 포함되면 결과에 추가\n",
        "            if relation in target_relations:\n",
        "                result.append(current_node)\n",
        "            # 현재 노드와 연결된 모든 이웃을 스택에 추가\n",
        "            for neighbor in graph.successors(current_node):\n",
        "                stack.append((neighbor, graph[current_node][neighbor][\"relation\"]))\n",
        "\n",
        "    return result\n",
        "\n",
        "\n",
        "# 지식 데이터\n",
        "nodes = [\n",
        "    \"동물\", \"조류\", \"포유류\", \"새\", \"펭귄\", \"박쥐\", \"고래\",\n",
        "    \"고양이\", \"날다\", \"헤엄치다\", \"걷다\"\n",
        "]\n",
        "edges = [\n",
        "    (\"동물\", \"조류\", \"is_a\"),\n",
        "    (\"동물\", \"포유류\", \"is_a\"),\n",
        "    (\"조류\", \"새\", \"is_a\"),\n",
        "    (\"새\", \"펭귄\", \"is_a\"),\n",
        "    (\"포유류\", \"박쥐\", \"is_a\"),\n",
        "    (\"포유류\", \"고래\", \"is_a\"),\n",
        "    (\"포유류\", \"고양이\", \"is_a\"),\n",
        "    (\"새\", \"날다\", \"can\"),\n",
        "    (\"펭귄\", \"헤엄치다\", \"can\"),\n",
        "    (\"박쥐\", \"날다\", \"can\"),\n",
        "    (\"고래\", \"헤엄치다\", \"can\"),\n",
        "    (\"고양이\", \"걷다\", \"can\"),\n",
        "]\n",
        "\n",
        "# 지식 그래프 생성\n",
        "G = nx.DiGraph()\n",
        "G.add_nodes_from(nodes)\n",
        "G.add_edges_from((u, v, {\"relation\": r}) for u, v, r in edges)\n",
        "\n",
        "# 시작 노드와 추론 관계 설정\n",
        "start_node = \"새\"\n",
        "target_relations = [[\"can\"], [\"is_a\",\"can\"]]\n",
        "\n",
        "# 지식 추론 실행\n",
        "for target_relation in target_relations:\n",
        "    inferred_knowledge = traverse_and_infer(G, start_node, target_relation)\n",
        "    print(f\"'{start_node}'가 '{target_relation}' 관계로 추론된 지식: {inferred_knowledge}\")\n",
        "\n",
        "# 그래프 시각화\n",
        "plot_graph(G)"
      ],
      "metadata": {
        "id": "1ZSGUwKCd-xJ"
      },
      "id": "1ZSGUwKCd-xJ",
      "execution_count": null,
      "outputs": []
    },
    {
      "cell_type": "markdown",
      "source": [
        "\n",
        "\n",
        "---\n",
        "\n"
      ],
      "metadata": {
        "id": "I6AHLdzEsuHE"
      },
      "id": "I6AHLdzEsuHE"
    },
    {
      "cell_type": "markdown",
      "id": "ea773fd5",
      "metadata": {
        "id": "ea773fd5"
      },
      "source": [
        "## 9-1.트리의 기본 개념"
      ]
    },
    {
      "cell_type": "markdown",
      "id": "48d928b8",
      "metadata": {
        "id": "48d928b8"
      },
      "source": [
        "### [예제 9-1] 트리 판단하기\n",
        "트리는 **사이클이 없는 연결 그래프(Acyclic Connected Graph)**로 정의됨\n",
        "- (T, v0):  v0 내차수는 0, 나머지 정점의 내차수는 1(유향그래프일경우)\n",
        "- v0 유일한 루트 노드\n",
        "- T에는 어떤 순환도 존재하지 않는다.\n"
      ]
    },
    {
      "cell_type": "code",
      "source": [
        "# pydot 그래프 모듈설치(이미 설치되었으면 skip)\n",
        "!pip install pydot"
      ],
      "metadata": {
        "id": "BmON38UE0bjL"
      },
      "id": "BmON38UE0bjL",
      "execution_count": null,
      "outputs": []
    },
    {
      "cell_type": "code",
      "source": [
        "plt.rc('figure', figsize = (5,3))\n",
        "\n",
        "# 그래프 생성하기\n",
        "def create_directed_graph(edges): # 방향(유향) 그래프\n",
        "    G = nx.DiGraph()\n",
        "    G.add_edges_from(edges)\n",
        "    return G\n",
        "\n",
        "def create_graph(edges):          # 무향 그래프\n",
        "    G = nx.Graph()\n",
        "    G.add_edges_from(edges)\n",
        "    return G\n",
        "\n",
        "def create_weighted_graph(edges): # 가중치 그래프\n",
        "    G = nx.Graph()\n",
        "    G.add_weighted_edges_from(edges)\n",
        "    return G\n",
        "\n",
        "# 그래프 그리기: 트리 구조\n",
        "def draw_graph_tree(G):\n",
        "    # 노드 배치: 계층적으로 표시\n",
        "    pos = nx.nx_pydot.graphviz_layout(G, prog=\"dot\")\n",
        "    nx.draw(G,pos,with_labels=True,\n",
        "        node_size=1000, node_color=\"lightblue\", font_size=8,font_weight=\"bold\")\n",
        "    plt.title(\"Graph: Tree\", fontsize=10)\n",
        "    plt.show()\n",
        "\n",
        "\n",
        "# 트리 판단\n",
        "def is_tree(edges):\n",
        "    \"\"\"\n",
        "    그래프가 주어진 트리의 성질을 만족하는지 판단:\n",
        "    1. 사이클 없음 (비순환)\n",
        "    2. 하나의 고유한 루트 노드 존재\n",
        "    3. 루트 노드의 내차수는 0이고, 나머지 노드의 내차수는 1\n",
        "    \"\"\"\n",
        "    G = create_directed_graph(edges) # 유향 그래프 생성\n",
        "    draw_graph_tree(G) # 그래프 그리기\n",
        "\n",
        "    # 조건 1: 사이클 없음\n",
        "    if not nx.is_directed_acyclic_graph(G):\n",
        "        return False, \"사이클이 존재합니다.\"\n",
        "\n",
        "    # 조건 2: 루트 노드가 유일해야 함\n",
        "    root_nodes = [node for node in G.nodes if G.in_degree(node) == 0]\n",
        "    if len(root_nodes) != 1:\n",
        "        return False, f\"루트 노드가 {len(root_nodes)}개입니다.\"\n",
        "\n",
        "    # 조건 3: 내차수 조건 확인\n",
        "    for node in G.nodes:\n",
        "        if node in root_nodes:  # 루트 노드\n",
        "            if G.in_degree(node) != 0:\n",
        "                return False, f\"루트 노드 {node}의 내차수가 0이 아닙니다.\"\n",
        "        else:  # 나머지 노드\n",
        "            if G.in_degree(node) != 1:\n",
        "                return False, f\"노드 {node}의 내차수가 1이 아닙니다.\"\n",
        "\n",
        "    # 모든 조건을 만족\n",
        "    return True, \"트리의 성질을 만족합니다.\"\n",
        "\n",
        "\n",
        "# 테스트 데이터\n",
        "a = [('a','c'),('b','c'),('c','d'),('c','e')]\n",
        "b = [('a','b'),('a','c'),('b','d'),('b','e'),('c','f')]\n",
        "c = [('a','b'),('a','c'),('b','d'),('b','e'),('c','f'),('c','g'),('g','a')]\n",
        "\n",
        "# 트리 판별 실행\n",
        "print(f\"(a): {is_tree(a)} , {a}\")\n",
        "print(f\"(b): {is_tree(b)} , {b}\")\n",
        "print(f\"(c): {is_tree(c)} , {c}\")"
      ],
      "metadata": {
        "id": "gp8qIHNgueLO"
      },
      "id": "gp8qIHNgueLO",
      "execution_count": null,
      "outputs": []
    },
    {
      "cell_type": "markdown",
      "id": "addfe9bd",
      "metadata": {
        "id": "addfe9bd"
      },
      "source": [
        "### [예제 9-2] 루트 노드 찾기\n",
        "- A={v1, v2, v3, …, v10} 이고\n",
        "- T={(v2, v1), (v2, v3), (v4, v5), (v4, v6), (v5, v8), (v6, v7), (v4, v2), (v7, v9), (v7, v10)} 일 때\n",
        "- T는 트리가 되는데, 그 트리의 루트 노드를 구하라.    "
      ]
    },
    {
      "cell_type": "code",
      "source": [
        "# 트리에서 루트 노드 찾기\n",
        "def find_root_node(G):\n",
        "    if isinstance(G, nx.DiGraph):  # 방향성 있는 그래프\n",
        "        root_nodes = [node for node in G.nodes if G.in_degree(node) == 0]\n",
        "    else:\n",
        "        root_nodes = list(G.nodes)[0]  # 임의의 노드 선택\n",
        "\n",
        "    # 트리의 조건: 루트 노드는 유일해야 함\n",
        "    if len(root_nodes) == 1:\n",
        "        return root_nodes[0]\n",
        "    elif len(root_nodes) > 1:\n",
        "        return f\"루트 노드가 여러 개 존재합니다: {root_nodes}\"\n",
        "    else:\n",
        "        return \"루트 노드가 존재하지 않습니다.\"\n",
        "\n",
        "# 테스트 데이터\n",
        "A = set([f'v{i}' for i in range(1, 11)])\n",
        "T = {('v2','v1'),('v2','v3'),('v4','v5'),('v4','v6'),('v5','v8'),\n",
        "     ('v6','v7'),('v4','v2'),('v7','v9'),('v7','v10')}\n",
        "\n",
        "# 그래프 생성\n",
        "G = create_directed_graph(T) # 유향 그래프 생성\n",
        "draw_graph_tree(G)           # 그래프 그리기\n",
        "\n",
        "# 루트 노드 찾기\n",
        "root_node = find_root_node(G)\n",
        "print(\"루트 노드:\", root_node)"
      ],
      "metadata": {
        "id": "CXc-9t0q8ywR"
      },
      "id": "CXc-9t0q8ywR",
      "execution_count": null,
      "outputs": []
    },
    {
      "cell_type": "markdown",
      "source": [
        "### [예제 9-3] 트리 레벨과 높이(유향 그래프)\n",
        "다음 트리를 보고 노드 v1, v3, v4, v6, v7, v8의 레벨과 높이를 구하라."
      ],
      "metadata": {
        "id": "29ejaf8mEp1u"
      },
      "id": "29ejaf8mEp1u"
    },
    {
      "cell_type": "code",
      "source": [
        "# 잎 노드(리프 노드) 찾기\n",
        "def find_leaf_nodes(G):\n",
        "    if isinstance(G, nx.DiGraph):  # 유향 트리\n",
        "        return [node for node in G.nodes if G.out_degree(node) == 0]\n",
        "    else:\n",
        "        return [node for node in G.nodes if G.degree(node) == 1]\n",
        "\n",
        "\n",
        "# 트리에서 특정 노드의 차수(자식수)\n",
        "def get_node_degree_in_tree(G, node, root=None):\n",
        "    if isinstance(G, nx.DiGraph):  # 유향 트리\n",
        "        return len(list(G.successors(node)))  # 자식 노드 수\n",
        "    else:  # 무향 트리\n",
        "        if root is None:\n",
        "            raise ValueError(\"무향 트리에서는 root를 지정해야 합니다.\")\n",
        "        return len([neighbor for neighbor in G.neighbors(node) if neighbor != root])\n",
        "\n",
        "\n",
        "# 특정 노드의 모든 조상 노드 찾기\n",
        "def find_ancestors(G, node):\n",
        "    return list(nx.ancestors(G, node))\n",
        "\n",
        "\n",
        "# 트리 레벨과 높이 구하기\n",
        "def calculate_level_height(G, root, target_nodes):\n",
        "    \"\"\"\n",
        "    트리에서 노드의 레벨과 높이를 계산\n",
        "    - G: 방향성 있는 트리 그래프 (DiGraph)\n",
        "    - root: 트리의 루트 노드\n",
        "    - target_nodes: 레벨과 높이를 계산할 대상 노드 리스트\n",
        "    \"\"\"\n",
        "    # 레벨 계산 (BFS를 사용)\n",
        "    level = {}\n",
        "    for node in nx.single_source_shortest_path_length(G, root):\n",
        "        level[node] = nx.shortest_path_length(G, root, node)\n",
        "\n",
        "    # 높이 계산 (DFS를 사용)\n",
        "    def compute_height(node, parent=None):\n",
        "        if isinstance(G, nx.DiGraph):    # 유향 트리\n",
        "            if G.out_degree(node) == 0:  # 리프 노드일 경우 높이는 0\n",
        "                return 0\n",
        "        else:\n",
        "            if G.degree(node) == 1 and node != root:\n",
        "                return 0\n",
        "        # 유향 그래프와 무향 그래프에 따라 자식 노드를 탐색\n",
        "        children = G.successors(node) if isinstance(G, nx.DiGraph) else (n for n in G.neighbors(node) if n != parent)\n",
        "        # 재귀적으로 높이를 계산\n",
        "        return 1 + max(compute_height(child, node) for child in children)\n",
        "\n",
        "    # 높이 계산\n",
        "    height = {node: compute_height(node) for node in G.nodes}\n",
        "\n",
        "    # 결과 반환\n",
        "    result = {node: {\"level\": level.get(node, None), \"height\": height.get(node, None)} for node in target_nodes}\n",
        "    return result"
      ],
      "metadata": {
        "id": "ERs-Vvq8KbDf"
      },
      "id": "ERs-Vvq8KbDf",
      "execution_count": null,
      "outputs": []
    },
    {
      "cell_type": "code",
      "source": [
        "# 테스트 데이터: 유향 그래프 데이터\n",
        "T = [(\"v1\", \"v2\"), (\"v1\", \"v3\"), (\"v2\", \"v4\"), (\"v2\", \"v5\"),\n",
        "         (\"v3\", \"v6\"), (\"v3\", \"v7\"), (\"v4\", \"v8\"), (\"v6\", \"v9\")]\n",
        "target_nodes = [\"v1\", \"v3\", \"v4\", \"v6\", \"v7\", \"v8\"]\n",
        "\n",
        "# 그래프 생성\n",
        "G = create_directed_graph(T) # (트리)유향 그래프 생성\n",
        "draw_graph_tree(G)           # 그래프 그리기\n",
        "\n",
        "# 루트 노드 찾기\n",
        "root_node = find_root_node(G)\n",
        "print(\"루트 노드:\", root_node)\n",
        "\n",
        "# 잎 노드 찾기\n",
        "leaf_nodes = find_leaf_nodes(G)\n",
        "print(\"잎 노드(리프 노드):\", leaf_nodes)\n",
        "\n",
        "# 레벨과 높이 계산\n",
        "result = calculate_level_height(G, root_node, target_nodes)\n",
        "for node, values in result.items():\n",
        "    print(f\"노드 {node}: 레벨 = {values['level']}, 높이 = {values['height']}\")\n",
        "\n",
        "# 특정 노드의 차수 (v6)\n",
        "node_degree = get_node_degree_in_tree(G, \"v6\")\n",
        "print(\"노드 v6의 차수:\", node_degree)\n",
        "\n",
        "# 특정 노드의 조상 노드 (v6)\n",
        "ancestors_v6 = find_ancestors(G, \"v6\")\n",
        "print(\"노드 v6의 조상 노드:\", ancestors_v6)\n",
        "\n"
      ],
      "metadata": {
        "id": "Nwn4rQqOGI1K"
      },
      "id": "Nwn4rQqOGI1K",
      "execution_count": null,
      "outputs": []
    },
    {
      "cell_type": "markdown",
      "source": [
        "### [예제] 트리 레벨과 높이(무향 그래프)"
      ],
      "metadata": {
        "id": "LTYMbPPmkAnN"
      },
      "id": "LTYMbPPmkAnN"
    },
    {
      "cell_type": "code",
      "source": [
        "# 테스트 데이터: 무향 그래프\n",
        "T = [(\"A\", \"B\"), (\"A\", \"C\"), (\"B\", \"D\"),\n",
        "     (\"C\", \"E\"), (\"C\", \"F\"), (\"F\", \"G\")]\n",
        "\n",
        "# 그래프 생성\n",
        "G = create_graph(T) # 그래프(트리)  생성\n",
        "draw_graph_tree(G)  # 그래프 그리기\n",
        "\n",
        "# 루트 노드 찾기\n",
        "root_node = find_root_node(G)\n",
        "print(\"루트 노드:\", root_node)\n",
        "\n",
        "# 1.잎 노드 찾기\n",
        "leaf_nodes = find_leaf_nodes(G)\n",
        "print(\"잎 노드(리프 노드):\", leaf_nodes)\n",
        "\n",
        "# 2.트리 레벨과 높이 계산\n",
        "result = calculate_level_height(G, root_node, root_node)\n",
        "for node, values in result.items():\n",
        "    print(f\"노드 {node}: 레벨 = {values['level']}, 높이 = {values['height']}\")\n",
        "\n",
        "# 3.특정 노드의 차수\n",
        "node_degree = get_node_degree_in_tree(G, \"C\", root_node)\n",
        "print(\"노드 C의 차수:\", node_degree)\n",
        "\n",
        "# 4.특정 노드의 조상 노드\n",
        "ancestors = find_ancestors(G, \"G\")\n",
        "print(\"노드 G의 조상 노드:\", ancestors)"
      ],
      "metadata": {
        "id": "ooqfaqNQkAwP"
      },
      "id": "ooqfaqNQkAwP",
      "execution_count": null,
      "outputs": []
    },
    {
      "cell_type": "markdown",
      "id": "dd2b0c4c",
      "metadata": {
        "id": "dd2b0c4c"
      },
      "source": [
        "### [예제 9-4] 트리 활용 : 8-코인 문제\n",
        "- 방법1: 완전 탐색(Brute force)\n",
        "- 방법2: 분할 정복(Divide and Conquer)\n",
        "- [참고] https://iq.opengenus.org/fake-coin-problem/\n",
        "\n",
        "알고리즘 설명"
      ]
    },
    {
      "cell_type": "markdown",
      "id": "6ac6ebf1",
      "metadata": {
        "id": "6ac6ebf1"
      },
      "source": [
        "- [방법1] 완전 탐색(Brute force) : 탐색 데이터의 위치에 따라 시행 횟수(시간복잡도)가 달라질 수 있다.\n"
      ]
    },
    {
      "cell_type": "code",
      "execution_count": null,
      "id": "a60ebede",
      "metadata": {
        "id": "a60ebede"
      },
      "outputs": [],
      "source": [
        "import random\n",
        "real_coin = 1\n",
        "fake_coin = 0\n",
        "\n",
        "# 임의의 코인 조건 만들기\n",
        "def randomize_coins(n):\n",
        "    global coins\n",
        "\n",
        "    coins = [real_coin] * (n - 1) + [fake_coin] * (1) # 코인 리스트 만들기\n",
        "    random.shuffle(coins)  # coins 리스트 무작위 섞기\n",
        "    print(f'- coins={coins}')\n",
        "    return coins\n",
        "\n",
        "# fake코인 찾기\n",
        "def findFakeCoin(n):\n",
        "    trycnt = 1\n",
        "    for i in range(1,n):\n",
        "        if coins[0]==coins[i]:\n",
        "            pass\n",
        "        elif coins[0]<coins[i]:\n",
        "            return print(f'- try[{trycnt}]: 1th is the fake one')\n",
        "        else:\n",
        "            return print(f'- try[{trycnt}]: {i+1}th coin is the fake one')\n",
        "        trycnt+=1\n",
        "\n",
        "n = 8  # 코인의 갯수\n",
        "for i in range(5):\n",
        "    print(f'[{i+1}회]-------------------')\n",
        "    randomize_coins(n)  # 코인 리스트 만들기\n",
        "    findFakeCoin(n)     # find fake coin"
      ]
    },
    {
      "cell_type": "markdown",
      "source": [
        "- 방법2: 분할 정복(Divide and Conquer): DecisionTree Methon(결정트리 방식), </br>특정 고정 크기 입력의 경우 시행 횟수는 일정할 수 있다."
      ],
      "metadata": {
        "id": "lre-EmSdbhmE"
      },
      "id": "lre-EmSdbhmE"
    },
    {
      "cell_type": "code",
      "source": [
        "import random\n",
        "from graphviz import Digraph\n",
        "from IPython.display import Image, display\n",
        "\n",
        "def build_decision_tree_graphviz():\n",
        "    \"\"\"\n",
        "    8-coins 문제의 결정 트리를 생성하고 Graphviz로 시각화합니다.\n",
        "    \"\"\"\n",
        "    # Graphviz를 사용한 트리 생성\n",
        "    tree = Digraph(format=\"png\", engine=\"dot\")\n",
        "    tree.attr(dpi=\"300\")\n",
        "    tree.attr(rankdir=\"TB\")  # 트리를 수직 방향으로 정렬\n",
        "\n",
        "    # 첫 번째 비교\n",
        "    tree.node(\"A\", \"비교 1: 3 vs 3\\n(ABC?DEF)\")\n",
        "    tree.node(\"B\", \"왼쪽 무거움\\n(ABC)\")\n",
        "    tree.node(\"C\", \"오른쪽 무거움\\n(DEF)\")\n",
        "    tree.node(\"D\", \"무게 동일\\n(GH)\")\n",
        "    tree.edge(\"A\", \"B\", label=\"왼쪽\\n(ABC>DEF)\")\n",
        "    tree.edge(\"A\", \"C\", label=\"오른쪽\\n(ABC<DEF)\")\n",
        "    tree.edge(\"A\", \"D\", label=\"같음\\n(ABC==DEF)\")\n",
        "\n",
        "    # 두 번째 비교 (왼쪽이 무거운 경우)\n",
        "    tree.node(\"E\", \"비교 2: 1 vs 1 (왼쪽 그룹)\\n(A?B)\")\n",
        "    tree.edge(\"B\", \"E\")\n",
        "\n",
        "    tree.node(\"F\", \"왼쪽 무거움\\n(A)\")\n",
        "    tree.node(\"G\", \"오른쪽 무거움\\n(B)\")\n",
        "    tree.node(\"H\", \"무게 동일\\n(C)\")\n",
        "    tree.edge(\"E\", \"F\", label=\"왼쪽\\n(A>B)\")\n",
        "    tree.edge(\"E\", \"G\", label=\"오른쪽\\n(A<B)\")\n",
        "    tree.edge(\"E\", \"H\", label=\"같음\\n(A==B)\")\n",
        "\n",
        "    # 두 번째 비교 (오른쪽이 무거운 경우)\n",
        "    tree.node(\"I\", \"비교 2: 1 vs 1 (오른쪽 그룹)\\n(D?E)\")\n",
        "    tree.edge(\"C\", \"I\")\n",
        "\n",
        "    tree.node(\"J\", \"왼쪽 무거움\\n(D)\")\n",
        "    tree.node(\"K\", \"오른쪽 무거움\\n(E)\")\n",
        "    tree.node(\"L\", \"무게 동일\\n(F)\")\n",
        "    tree.edge(\"I\", \"J\", label=\"왼쪽\\n(D>E)\")\n",
        "    tree.edge(\"I\", \"K\", label=\"오른쪽\\n(D<E)\")\n",
        "    tree.edge(\"I\", \"L\", label=\"같음\\n(D==E)\")\n",
        "\n",
        "    # 두 번째 비교 (무게가 동일한 경우)\n",
        "    tree.node(\"M\", \"비교 2: 남은 2 코인 비교\\n(G?H)\")\n",
        "    tree.edge(\"D\", \"M\")\n",
        "\n",
        "    tree.node(\"N\", \"왼쪽 무거움\\n(G)\")\n",
        "    tree.node(\"O\", \"오른쪽 무거움\\n(H)\")\n",
        "    tree.edge(\"M\", \"N\", label=\"왼쪽\\n(G>H)\")\n",
        "    tree.edge(\"M\", \"O\", label=\"오른쪽\\n(G<H)\")\n",
        "\n",
        "    return tree\n",
        "\n",
        "\n",
        "def find_different_coin(coins):\n",
        "    \"\"\"\n",
        "    8개의 코인 중 다른 무게를 가진 코인을 찾아내는 결정 트리 방식.\n",
        "    - coins: 8개의 코인의 무게 리스트 (무게가 다른 코인은 무작위로 설정됨)\n",
        "    \"\"\"\n",
        "    print(\"초기 코인 상태:\", coins)\n",
        "\n",
        "    # 첫 번째 비교: 3 vs 3\n",
        "    group1, group2, remaining = coins[:3], coins[3:6], coins[6:]\n",
        "    print(f\"비교 1: {group1} vs {group2}\")\n",
        "    if sum(group1) > sum(group2):\n",
        "        print(\"결과: 왼쪽 그룹이 무거움\")\n",
        "        # 두 번째 비교: 1 vs 1\n",
        "        print(f\"비교 2: {group1[0]} vs {group1[1]}\")\n",
        "        if group1[0] != group1[1]:\n",
        "            print(f\"결과: {'왼쪽' if group1[0] > group1[1] else '오른쪽'} 코인이 다름\")\n",
        "            return group1[0] if group1[0] > group1[1] else group1[1]\n",
        "        else:\n",
        "            print(\"결과: 마지막 코인이 다름\")\n",
        "            return group1[2]\n",
        "    elif sum(group1) < sum(group2):\n",
        "        print(\"결과: 오른쪽 그룹이 무거움\")\n",
        "        # 두 번째 비교: 1 vs 1\n",
        "        print(f\"비교 2: {group2[0]} vs {group2[1]}\")\n",
        "        if group2[0] != group2[1]:\n",
        "            print(f\"결과: {'왼쪽' if group2[0] > group2[1] else '오른쪽'} 코인이 다름\")\n",
        "            return group2[0] if group2[0] > group2[1] else group2[1]\n",
        "        else:\n",
        "            print(\"결과: 마지막 코인이 다름\")\n",
        "            return group2[2]\n",
        "    else:\n",
        "        print(\"결과: 무게 동일, 나머지 코인 비교\")\n",
        "        # 세 번째 비교: 나머지 2개 비교\n",
        "        print(f\"비교 3: {remaining[0]} vs {remaining[1]}\")\n",
        "        return remaining[0] if remaining[0] != remaining[1] else None\n",
        "\n",
        "# 트리 생성\n",
        "decision_tree = build_decision_tree_graphviz()\n",
        "\n",
        "# 이미지를 파일로 저장하고 화면에 표시\n",
        "decision_tree.render(\"8-coins-problem\", format=\"png\", cleanup=True)\n",
        "display(Image(filename=\"8-coins-problem.png\"))\n",
        "\n",
        "# 랜덤 무게 코인 생성\n",
        "coins = [10] * 7  # 정상 코인 무게 10\n",
        "different_coin_index = random.randint(0, 7)\n",
        "coins[different_coin_index] = 12  # 무게가 다른 코인 추가\n",
        "\n",
        "# 결정 트리로 코인 찾기\n",
        "result = find_different_coin(coins)\n",
        "print(f\"무게가 다른 코인은: {result}\")\n"
      ],
      "metadata": {
        "id": "pveukCtKd64n"
      },
      "id": "pveukCtKd64n",
      "execution_count": null,
      "outputs": []
    },
    {
      "cell_type": "markdown",
      "id": "55df14dd",
      "metadata": {
        "id": "55df14dd"
      },
      "source": [
        "-------------------------------"
      ]
    },
    {
      "cell_type": "markdown",
      "id": "7e0732a8",
      "metadata": {
        "id": "7e0732a8"
      },
      "source": [
        "## 9-2. 레이블을 갖는 트리와 최소 스패닝 트리"
      ]
    },
    {
      "cell_type": "markdown",
      "source": [
        "### @레이블을 갖는 트리(labeled tree)\n",
        "- 각 정점을 점으로 표시하고 그 점 옆에 우리가 필요한 레이블을 붙인 트리\n",
        "- 트리의 노드(혹은 엣지)에 고유한 **식별자(label)**가 부여된 트리\n",
        "- 레이블:e.g. 이름, 번호, 또는 기타 데이터를 포함할 수 있음\n",
        "- 응용\n",
        "    - 파일 시스템(폴더 이름이 노드 레이블로 표현됨)\n",
        "    - 표현 언어(구문 트리의 노드 레이블)\n",
        "    - 의사 결정 트리(조건이나 결과가 노드 레이블)\n"
      ],
      "metadata": {
        "id": "H0ogFqbvbwK_"
      },
      "id": "H0ogFqbvbwK_"
    },
    {
      "cell_type": "code",
      "source": [
        "# 레이블을 갖는 트리 생성\n",
        "def create_labeled_tree():\n",
        "    \"\"\"\n",
        "    레이블을 갖는 트리 생성\n",
        "    \"\"\"\n",
        "    tree = nx.DiGraph()  # 방향성 있는 트리 생성\n",
        "\n",
        "    # 노드 추가 (노드와 레이블 부여)\n",
        "    tree.add_node(\"A\", label=\"Root Node\")\n",
        "    tree.add_node(\"B\", label=\"Child 1\")\n",
        "    tree.add_node(\"C\", label=\"Child 2\")\n",
        "    tree.add_node(\"D\", label=\"Child 1.1\")\n",
        "    tree.add_node(\"E\", label=\"Child 1.2\")\n",
        "    tree.add_node(\"F\", label=\"Child 2.1\")\n",
        "    tree.add_node(\"G\", label=\"Child 2.2\")\n",
        "\n",
        "    # 엣지 추가 (엣지와 레이블 부여)\n",
        "    tree.add_edge(\"A\", \"B\", label=\"Edge A-B\")\n",
        "    tree.add_edge(\"A\", \"C\", label=\"Edge A-C\")\n",
        "    tree.add_edge(\"B\", \"D\", label=\"Edge B-D\")\n",
        "    tree.add_edge(\"B\", \"E\", label=\"Edge B-E\")\n",
        "    tree.add_edge(\"C\", \"F\", label=\"Edge C-F\")\n",
        "    tree.add_edge(\"C\", \"G\", label=\"Edge C-G\")\n",
        "\n",
        "    return tree\n",
        "\n",
        "# 레이블을 갖는 트리 시각화\n",
        "def draw_labeled_tree(tree):\n",
        "    pos = nx.nx_pydot.graphviz_layout(tree, prog=\"dot\") # 노드 배치: 계층적으로 표시\n",
        "    node_labels = nx.get_node_attributes(tree, \"label\") # 노드 레이블\n",
        "    edge_labels = nx.get_edge_attributes(tree, \"label\") # 엣지 레이블\n",
        "\n",
        "    nx.draw(tree, pos, with_labels=True, labels=node_labels, node_color=\"lightblue\", node_size=1000, font_size=10)\n",
        "    nx.draw_networkx_edge_labels(tree, pos, edge_labels=edge_labels, font_color=\"red\")\n",
        "    plt.title(\"Labeled Tree\")\n",
        "    plt.show()\n",
        "\n",
        "# 실행\n",
        "if __name__ == \"__main__\":\n",
        "    tree = create_labeled_tree()\n",
        "    draw_labeled_tree(tree)\n"
      ],
      "metadata": {
        "id": "USPAN20_bwVj"
      },
      "id": "USPAN20_bwVj",
      "execution_count": null,
      "outputs": []
    },
    {
      "cell_type": "markdown",
      "source": [
        "#### [알고리즘 9-1] $M^N$ 레이블을 갖는 트리로 구성"
      ],
      "metadata": {
        "id": "bBvnfdTxhWrh"
      },
      "id": "bBvnfdTxhWrh"
    },
    {
      "cell_type": "code",
      "source": [
        "import networkx as nx\n",
        "import matplotlib.pyplot as plt\n",
        "\n",
        "def create_power_tree_with_labels(M, N, MAX=1e6):\n",
        "    \"\"\"\n",
        "    M^N을 구하는 알고리즘을 트리 형태로 시각화\n",
        "    - M: 밑(base)\n",
        "    - N: 지수(exponent)\n",
        "    - MAX: 결과값 상한\n",
        "    \"\"\"\n",
        "    tree = nx.DiGraph()  # 방향성 있는 그래프 생성\n",
        "    root_label = f\"Start: M={M}, N={N}\"\n",
        "    tree.add_node(root_label, value=1)  # 루트 노드\n",
        "\n",
        "    def build_tree(node, M, N):\n",
        "        \"\"\"\n",
        "        Pseudo 코드의 논리를 따라 트리를 구성\n",
        "        \"\"\"\n",
        "        if N > 0:\n",
        "            # Positive exponent\n",
        "            value = 1\n",
        "            for i in range(1, N + 1):\n",
        "                value *= M\n",
        "                current_label = f\"Step {i}: S = {value}\"\n",
        "                tree.add_node(current_label, value=value)\n",
        "                tree.add_edge(node, current_label)\n",
        "                node = current_label\n",
        "                # Check for MAX\n",
        "                if value > MAX:\n",
        "                    error_label = f\"ERROR: Result > MAX ({MAX})\"\n",
        "                    tree.add_node(error_label, value=None)\n",
        "                    tree.add_edge(node, error_label)\n",
        "                    return\n",
        "        elif N == 0:\n",
        "            # Zero exponent\n",
        "            zero_label = \"Result: S = 1 (M^0 = 1)\"\n",
        "            tree.add_node(zero_label, value=1)\n",
        "            tree.add_edge(node, zero_label)\n",
        "        else:\n",
        "            # Negative exponent\n",
        "            if M == 0:\n",
        "                undefined_label = \"ERROR: M=0 and N<0 (Undefined)\"\n",
        "                tree.add_node(undefined_label, value=None)\n",
        "                tree.add_edge(node, undefined_label)\n",
        "                return\n",
        "            else:\n",
        "                recip_value = 1 / M\n",
        "                value = 1\n",
        "                for i in range(1, abs(N) + 1):\n",
        "                    value *= recip_value\n",
        "                    current_label = f\"Step {i}: S = {value:.5f}\"\n",
        "                    tree.add_node(current_label, value=value)\n",
        "                    tree.add_edge(node, current_label)\n",
        "                    node = current_label\n",
        "\n",
        "    # 트리 빌드 시작\n",
        "    build_tree(root_label, M, N)\n",
        "    return tree\n",
        "\n",
        "# 레이블을 갖는 트리를 시각화\n",
        "def draw_power_tree(tree):\n",
        "    # pos = nx.nx_pydot.graphviz_layout(tree, prog=\"dot\")  # 노드 배치: 계층적으로 표시\n",
        "    pos = nx.spring_layout(tree)\n",
        "    node_labels = nx.get_node_attributes(tree, \"value\")  # 노드 레이블\n",
        "    formatted_labels = {key: f\"{key}\\nValue={val}\" for key, val in node_labels.items()}\n",
        "\n",
        "    nx.draw(tree, pos, with_labels=True, labels=formatted_labels, node_size=2000, node_color=\"lightblue\", font_size=8)\n",
        "    nx.draw_networkx_edges(tree, pos, arrows=True)\n",
        "    plt.title(\"Power Calculation Tree with Labels\")\n",
        "    plt.show()\n",
        "\n",
        "# 실행\n",
        "if __name__ == \"__main__\":\n",
        "    M = 2  # 밑\n",
        "    N = -3  # 지수\n",
        "    M, N = 2, 5\n",
        "    MAX = 1000  # 최대 값 제한\n",
        "    power_tree = create_power_tree_with_labels(M, N, MAX)\n",
        "    draw_power_tree(power_tree)\n"
      ],
      "metadata": {
        "id": "U14UNPDZi1TR"
      },
      "id": "U14UNPDZi1TR",
      "execution_count": null,
      "outputs": []
    },
    {
      "cell_type": "markdown",
      "source": [
        "#### [알고리즘 9-2] 산술식 계산 레이블을 갖는 트리로 구성\n",
        "(3 - (2 * x)) + ((x - 2) - (3 + x))\n",
        "\n",
        "- Step1: 산술식 트리 노드 구성"
      ],
      "metadata": {
        "id": "Jhz0oj7fk0ch"
      },
      "id": "Jhz0oj7fk0ch"
    },
    {
      "cell_type": "code",
      "source": [
        "def build_expression_tree():\n",
        "    \"\"\"\n",
        "    산술식을 트리 형태로 생성\n",
        "    (3 - (2 * x)) + ((x - 2) - (3 + x))\n",
        "    \"\"\"\n",
        "    tree = nx.DiGraph()\n",
        "\n",
        "    # 노드 추가: 중심 연산자\n",
        "    tree.add_node(\"root\", label=\"+\")  # 최상위 연산자 '+'\n",
        "\n",
        "    # 첫 번째 부분식: 3 - (2 * x)\n",
        "    tree.add_node(\"node1\", label=\"-\")\n",
        "    tree.add_node(\"3\", label=\"3\")\n",
        "    tree.add_node(\"node2\", label=\"*\")\n",
        "    tree.add_node(\"2\", label=\"2\")\n",
        "    tree.add_node(\"x\", label=\"x\")\n",
        "\n",
        "    # 두 번째 부분식: (x - 2) - (3 + x)\n",
        "    tree.add_node(\"node3\", label=\"-\")\n",
        "    tree.add_node(\"node4\", label=\"-\")\n",
        "    tree.add_node(\"x1\", label=\"x\")\n",
        "    tree.add_node(\"2_1\", label=\"2\")\n",
        "    tree.add_node(\"node5\", label=\"+\")\n",
        "    tree.add_node(\"3_1\", label=\"3\")\n",
        "    tree.add_node(\"x2\", label=\"x\")\n",
        "\n",
        "    # 엣지 추가 (연결 관계 정의)\n",
        "    # 첫 번째 부분식: 3 - (2 * x)\n",
        "    tree.add_edge(\"root\", \"node1\")\n",
        "    tree.add_edge(\"node1\", \"3\")\n",
        "    tree.add_edge(\"node1\", \"node2\")\n",
        "    tree.add_edge(\"node2\", \"2\")\n",
        "    tree.add_edge(\"node2\", \"x\")\n",
        "\n",
        "    # 두 번째 부분식: (x - 2) - (3 + x)\n",
        "    tree.add_edge(\"root\", \"node3\")\n",
        "    tree.add_edge(\"node3\", \"node4\")\n",
        "    tree.add_edge(\"node3\", \"node5\")\n",
        "    tree.add_edge(\"node4\", \"x1\")\n",
        "    tree.add_edge(\"node4\", \"2_1\")\n",
        "    tree.add_edge(\"node5\", \"3_1\")\n",
        "    tree.add_edge(\"node5\", \"x2\")\n",
        "\n",
        "    return tree\n",
        "\n",
        "\n",
        "def draw_expression_tree(tree):\n",
        "    \"\"\"\n",
        "    레이블을 갖는 산술식 트리를 시각화\n",
        "    \"\"\"\n",
        "    pos = nx.nx_pydot.graphviz_layout(tree, prog=\"dot\")  # 노드 배치: 계층적으로 표시\n",
        "    labels = nx.get_node_attributes(tree, \"label\")  # 노드 레이블 가져오기\n",
        "\n",
        "    nx.draw(tree, pos, with_labels=True, labels=labels, node_color=\"lightblue\", node_size=1000, font_size=8)\n",
        "    nx.draw_networkx_edges(tree, pos, arrows=True)\n",
        "    plt.title(\"Arithmetic Expression Tree\")\n",
        "    plt.show()\n",
        "\n",
        "\n",
        "# 실행\n",
        "if __name__ == \"__main__\":\n",
        "    tree = build_expression_tree()\n",
        "    draw_expression_tree(tree)\n"
      ],
      "metadata": {
        "id": "BAcI6RcNmCux"
      },
      "id": "BAcI6RcNmCux",
      "execution_count": null,
      "outputs": []
    },
    {
      "cell_type": "markdown",
      "source": [
        "- Step2: 산술식 계산"
      ],
      "metadata": {
        "id": "_avuI21GsfWe"
      },
      "id": "_avuI21GsfWe"
    },
    {
      "cell_type": "code",
      "source": [
        "# 산술식 계산\n",
        "def evaluate_expression_tree(tree, node, variable_values):\n",
        "    \"\"\"\n",
        "    산술식 트리를 순회하여 값을 계산\n",
        "    - tree: 트리 그래프\n",
        "    - node: 현재 노드\n",
        "    - variable_values: 변수 값 딕셔너리 (예: {\"x\": 5})\n",
        "    \"\"\"\n",
        "    label = tree.nodes[node][\"label\"]\n",
        "    print(f'label: {label}')\n",
        "\n",
        "    # 리프 노드 처리 (숫자나 변수)\n",
        "    if label.isdigit():\n",
        "        return int(label)\n",
        "    elif label.isalpha():  # 변수 처리\n",
        "        return variable_values[label]\n",
        "\n",
        "    # 내부 노드 처리 (연산자)\n",
        "    children = list(tree.successors(node))\n",
        "    print(f'children: {children}')\n",
        "    left_value = evaluate_expression_tree(tree, children[0], variable_values)\n",
        "    right_value = evaluate_expression_tree(tree, children[1], variable_values)\n",
        "\n",
        "    # 연산 수행\n",
        "    if label == \"+\":\n",
        "        return left_value + right_value\n",
        "    elif label == \"-\":\n",
        "        return left_value - right_value\n",
        "    elif label == \"*\":\n",
        "        return left_value * right_value\n",
        "    elif label == \"/\":\n",
        "        return left_value / right_value\n",
        "\n",
        "\n",
        "# 산술식 계산\n",
        "variable_values = {\"x\": 5}  # 변수 값 설정\n",
        "result = evaluate_expression_tree(tree, \"root\", variable_values)\n",
        "print(f\"산술식 결과: {result}\")\n"
      ],
      "metadata": {
        "id": "RoFy7Pu-kyWP"
      },
      "id": "RoFy7Pu-kyWP",
      "execution_count": null,
      "outputs": []
    },
    {
      "cell_type": "markdown",
      "source": [
        "- anytree로 구현"
      ],
      "metadata": {
        "id": "BjlKHARMaH0u"
      },
      "id": "BjlKHARMaH0u"
    },
    {
      "cell_type": "code",
      "source": [
        "from anytree import Node, RenderTree\n",
        "from anytree.exporter import DotExporter\n",
        "from IPython.display import Image\n",
        "import operator\n",
        "\n",
        "def build_expression_tree():\n",
        "    \"\"\"\n",
        "    주어진 산술식 (3 - (2 * x)) + ((x - 2) - (3 + x)) 를 트리 형태로 생성.\n",
        "    \"\"\"\n",
        "    # 트리 노드 생성\n",
        "    root = Node(\"+\")  # 루트 노드\n",
        "\n",
        "    # 왼쪽 서브트리\n",
        "    minus1  = Node(\"-\", parent=root)\n",
        "    node_3_1= Node(\"3\", parent=minus1)\n",
        "    mul1    = Node(\"*\", parent=minus1)\n",
        "    node_2_1= Node(\"2\", parent=mul1)\n",
        "    node_x_1= Node(\"x\", parent=mul1)\n",
        "\n",
        "    # 오른쪽 서브트리\n",
        "    minus2  = Node(\"-\", parent=root)\n",
        "    sub_minus = Node(\"-\", parent=minus2)\n",
        "    node_x_2= Node(\"x\", parent=sub_minus)\n",
        "    node_2_2= Node(\"2\", parent=sub_minus)\n",
        "    sub_plus= Node(\"+\", parent=minus2)\n",
        "    node_3_2= Node(\"3\", parent=sub_plus)\n",
        "    node_x_2= Node(\"x\", parent=sub_plus)\n",
        "\n",
        "    return root\n",
        "\n",
        "\n",
        "def visualize_tree(tree, output_file=\"expression_tree.png\"):\n",
        "    \"\"\"\n",
        "    트리를 이미지로 시각화.\n",
        "    - tree: 루트 노드\n",
        "    - output_file: 저장할 파일 이름\n",
        "    \"\"\"\n",
        "    DotExporter(tree).to_picture(output_file)\n",
        "    display(Image(filename=output_file))\n",
        "\n",
        "\n",
        "def evaluate_expression_tree(node, variable_values=None):\n",
        "    \"\"\"\n",
        "    산술식 트리를 계산.\n",
        "    - node: 트리의 루트 노드\n",
        "    - variable_values: 변수 값 (예: {\"x\": 5})\n",
        "    \"\"\"\n",
        "    if variable_values is None:\n",
        "        variable_values = {}\n",
        "\n",
        "    # 연산자 함수 매핑\n",
        "    operators = {\n",
        "        \"+\": operator.add,\n",
        "        \"-\": operator.sub,\n",
        "        \"*\": operator.mul,\n",
        "        \"/\": operator.truediv,\n",
        "    }\n",
        "\n",
        "    # 리프 노드: 숫자 또는 변수 처리\n",
        "    if not node.children:\n",
        "        if node.name.isdigit():  # 숫자인 경우\n",
        "            return int(node.name)\n",
        "        elif node.name in variable_values:  # 변수인 경우\n",
        "            return variable_values[node.name]\n",
        "        else:\n",
        "            raise ValueError(f\"변수 {node.name}의 값이 제공되지 않았습니다.\")\n",
        "\n",
        "    # 내부 노드: 연산자 처리\n",
        "    left_value = evaluate_expression_tree(node.children[0], variable_values)\n",
        "    right_value = evaluate_expression_tree(node.children[1], variable_values)\n",
        "\n",
        "    if node.name in operators:\n",
        "        return operators[node.name](left_value, right_value)\n",
        "    else:\n",
        "        raise ValueError(f\"알 수 없는 연산자: {node.name}\")\n",
        "\n",
        "\n",
        "def print_tree(tree):\n",
        "    \"\"\"\n",
        "    트리를 텍스트로 출력.\n",
        "    - tree: 루트 노드\n",
        "    \"\"\"\n",
        "    for pre, fill, node in RenderTree(tree):\n",
        "        print(f\"{pre}{node.name}\")\n",
        "\n",
        "\n",
        "# 실행\n",
        "if __name__ == \"__main__\":\n",
        "    # 1. 트리 생성\n",
        "    root = build_expression_tree()\n",
        "\n",
        "    # 2. 트리 출력 (텍스트 형태)\n",
        "    print(\"트리 출력 (텍스트 형태):\")\n",
        "    print_tree(root)\n",
        "\n",
        "    # 3. 트리 시각화 (이미지로 저장)\n",
        "    visualize_tree(root)\n",
        "\n",
        "    # 4. 트리 계산\n",
        "    variable_values = {\"x\": 5}  # 변수 x에 대한 값 설정\n",
        "    result = evaluate_expression_tree(root, variable_values)\n",
        "    print(f\"\\n산술식 결과 (x={variable_values['x']}): {result}\")\n"
      ],
      "metadata": {
        "id": "hkcFFuKnaKJH"
      },
      "id": "hkcFFuKnaKJH",
      "execution_count": null,
      "outputs": []
    },
    {
      "cell_type": "markdown",
      "source": [
        "### @스패닝 트리(Spanning tree)\n",
        "- **모든 정점들이 연결 되어 있어야 하고 사이클을 포함해서는 안된다.**\n",
        "- Spanning Tree = 스패닝 트리= 신장 트리\n",
        "- 정점 n은 n-1개의 간선을 갖는다.\n",
        "- **그래프G에서 스패닝 트리를 구성하는 대표적인 방법**\n",
        "    - 너비 우선 스패닝 트리(breadth first spanning tree)\n",
        "    - 깊이 우선 스패닝 트리(depth first spanning tree\n",
        "- 프로그래밍할 때 노드의 입력 순서에 때라 스패닝 트리 탐색 순서 결과는 달라질 수 있다."
      ],
      "metadata": {
        "id": "fow45eOIzCYY"
      },
      "id": "fow45eOIzCYY"
    },
    {
      "cell_type": "markdown",
      "source": [
        "### [예제] 인접행렬을 이용하여 DFS 깊이 우선 스패닝 트리 탐색"
      ],
      "metadata": {
        "id": "Wp519HrhlR7G"
      },
      "id": "Wp519HrhlR7G"
    },
    {
      "cell_type": "code",
      "source": [
        "# DFS를 이용한 spanning tree(인접행렬 방식)\n",
        "def st_dfs(vtx, adj, s, visited) :\n",
        "    visited[s] = True               # 현재 정점 s를 visited에 추가함\n",
        "    for v in range(len(vtx)) :      # 인접행렬\n",
        "        if adj[s][v] != 0 :         # 모든 간선 (s,v)에 대해\n",
        "            if visited[v]==False:   # v를 아직 방문하지 않았으면\n",
        "                print(\"(\", vtx[s], vtx[v], \")\", end=' ')  # 간선 출력\n",
        "                st_dfs(vtx, adj, v, visited)\n",
        "\n",
        "\n",
        "vtx = ['U','V','W','X','Y']\n",
        "edge= [[0,  1,  1,  0,  0],\n",
        "       [1,  0,  1,  1,  0],\n",
        "       [1,  1,  0,  0,  1],\n",
        "       [0,  1,  0,  0,  0],\n",
        "       [0,  0,  1,  0,  0]]\n",
        "\n",
        "print('spanning tree(인접행렬 방식): ', end=\"\")\n",
        "st_dfs(vtx, edge, 0, [False]*len(vtx))\n",
        "print()"
      ],
      "metadata": {
        "id": "E5_I_tmolPmQ"
      },
      "id": "E5_I_tmolPmQ",
      "execution_count": null,
      "outputs": []
    },
    {
      "cell_type": "markdown",
      "source": [
        "### [예제 9-5] 깊이 우선 스패닝 트리 & 너비 우선 스패닝 트리\n",
        "그래프를 깊이 우선 스패닝 트리와 너비 우선 스패닝 트리로 표현하라."
      ],
      "metadata": {
        "id": "S8f5gM-bzcd2"
      },
      "id": "S8f5gM-bzcd2"
    },
    {
      "cell_type": "code",
      "source": [
        "def create_spanning_trees(G):\n",
        "    \"\"\"\n",
        "    깊이 우선 및 너비 우선 스패닝 트리를 생성\n",
        "    - G: 원본 그래프\n",
        "    \"\"\"\n",
        "    # DFS 스패닝 트리\n",
        "    dfs_edges = list(nx.dfs_edges(G, source=\"v1\"))\n",
        "    dfs_tree = nx.Graph()\n",
        "    dfs_tree.add_edges_from(dfs_edges)\n",
        "\n",
        "    # BFS 스패닝 트리\n",
        "    bfs_edges = list(nx.bfs_edges(G, source=\"v1\"))\n",
        "    bfs_tree = nx.Graph()\n",
        "    bfs_tree.add_edges_from(bfs_edges)\n",
        "\n",
        "    return dfs_tree, bfs_tree\n",
        "\n",
        "\n",
        "def draw_spanning_trees(G, title, spanning_tree, edge_color):\n",
        "    \"\"\"\n",
        "    원본 그래프와 깊이 우선 및 너비 우선 스패닝 트리를 시각화\n",
        "    - G: 원본 그래프\n",
        "    - spanning_tree: 깊이 우선 스패닝 트리/너비 우선 스패닝 트리\n",
        "    \"\"\"\n",
        "    # pos = nx.spring_layout(G)  # 노드 위치 고정\n",
        "    pos = nx.nx_pydot.graphviz_layout(G, prog=\"dot\")  # 노드 배치: 계층적으로 표시\n",
        "\n",
        "    # 원본 그래프 그리기\n",
        "    nx.draw(G, pos, with_labels=True,\n",
        "            node_color=\"lightblue\", node_size=1000, font_size=8)\n",
        "\n",
        "    # 스패닝 트리 그리기\n",
        "    nx.draw_networkx_edges(G, pos, edgelist=list(spanning_tree.edges), edge_color=edge_color, width=2)\n",
        "\n",
        "    plt.title(f\"Graph with {title}\")\n",
        "    plt.legend([f\"{title}\"], loc=\"upper right\", fontsize=8 )\n",
        "    plt.show()\n",
        "\n",
        "\n",
        "\n",
        "# 실행\n",
        "if __name__ == \"__main__\":\n",
        "\n",
        "    edges = [\n",
        "        (\"v1\", \"v2\"), (\"v1\", \"v3\"),\n",
        "        (\"v2\", \"v4\"), (\"v2\", \"v5\"),\n",
        "        (\"v3\", \"v6\"), (\"v3\", \"v7\"),\n",
        "        (\"v4\", \"v8\"), (\"v5\", \"v8\"),\n",
        "        (\"v6\", \"v8\"), (\"v7\", \"v8\")\n",
        "    ]\n",
        "\n",
        "    # 그래프 생성\n",
        "    G = create_graph(edges)\n",
        "\n",
        "    # DFS 및 BFS 스패닝 트리 생성\n",
        "    dfs_tree, bfs_tree = create_spanning_trees(G)\n",
        "\n",
        "    # 스패닝 트리 시각화\n",
        "    draw_spanning_trees(G, 'DFS Spanning Tree', dfs_tree, 'red')\n",
        "    draw_spanning_trees(G, 'BFS Spanning Tree', bfs_tree, 'blue')\n"
      ],
      "metadata": {
        "id": "SJkoZm_vzY9D"
      },
      "id": "SJkoZm_vzY9D",
      "execution_count": null,
      "outputs": []
    },
    {
      "cell_type": "markdown",
      "id": "dac0f815",
      "metadata": {
        "id": "dac0f815"
      },
      "source": [
        "### @최소 스패닝 트리(Minimal Spanning Tree)\n",
        "- 모든 정점들이 연결 되어 있어야 하고 사이클을 포함해서는 안된다.\n",
        "- **그래프의 최소 연결 부분을 갖는 트리(가중치 합이 최소)**\n",
        "- 알고리즘:\n",
        "    - **프림 알고리즘(Prim's Algorithm)**: 시작 노드에서 가장 비용이 적은 간선(최소 가중치값)을 추가하며 스패닝 트리를 확장.\n",
        "    - **크루스칼 알고리즘(Kruskal's Algorithm)**: 간선을 가중치 기준으로 정렬 후 신장 트리를 구성.\n",
        "    "
      ]
    },
    {
      "cell_type": "markdown",
      "source": [
        "### [예제] 프림 알고리즘을 사용한 최소 스패닝 트리\n",
        "- 강의자료 참고"
      ],
      "metadata": {
        "id": "1VRhPNqt92l1"
      },
      "id": "1VRhPNqt92l1"
    },
    {
      "cell_type": "code",
      "source": [
        "import networkx as nx\n",
        "import matplotlib.pyplot as plt\n",
        "from heapq import heappop, heappush\n",
        "\n",
        "\n",
        "# 프림 알고리즘 직접 구현\n",
        "def prim_algorithm(graph, start_node):\n",
        "    \"\"\"\n",
        "    프림 알고리즘을 직접 구현하여 최소 스패닝 트리(MST)를 생성\n",
        "    - graph: 네트워크 그래프(NetworkX)\n",
        "    - start_node: MST의 시작 노드\n",
        "    \"\"\"\n",
        "    mst_edges = []  # MST를 구성하는 간선\n",
        "    visited = set() # 방문한 노드 집합\n",
        "    min_heap = []   # 최소 힙\n",
        "\n",
        "    # 시작 노드에서 연결된 모든 간선을 힙에 추가\n",
        "    visited.add(start_node)\n",
        "    for neighbor, weight in graph[start_node].items():\n",
        "        heappush(min_heap, (weight['weight'], start_node, neighbor))\n",
        "\n",
        "    while min_heap:\n",
        "        # print(f'min_heap: {min_heap}')\n",
        "        weight, from_node, to_node = heappop(min_heap)  # 가장 작은 가중치 간선 꺼내기\n",
        "        # print(f'pop_heap: {weight, from_node, to_node}')\n",
        "\n",
        "        # 이미 방문한 노드라면 스킵\n",
        "        if to_node in visited:\n",
        "            continue\n",
        "\n",
        "        # MST에 간선 추가\n",
        "        mst_edges.append((from_node, to_node, weight))\n",
        "        visited.add(to_node)\n",
        "\n",
        "        # 새로운 노드에서 연결된 간선을 힙에 추가\n",
        "        for neighbor, edge_data in graph[to_node].items():\n",
        "            if neighbor not in visited:\n",
        "                heappush(min_heap, (edge_data['weight'], to_node, neighbor))\n",
        "\n",
        "    return mst_edges\n",
        "\n",
        "\n",
        "def calculate_mst_properties(mst_edges):\n",
        "    \"\"\"\n",
        "    MST의 경로와 가중치 합을 계산\n",
        "    - mst_edges: MST를 구성하는 간선 리스트\n",
        "    \"\"\"\n",
        "    mst_path = [(from_node, to_node) for from_node, to_node, weight in mst_edges]\n",
        "    mst_weight_sum = sum(weight for _, _, weight in mst_edges)\n",
        "    return mst_path, mst_weight_sum\n",
        "\n",
        "\n",
        "def draw_graph_and_mst(G, mst_edges):\n",
        "    \"\"\"\n",
        "    원본 그래프와 최소 스패닝 트리(MST)를 시각화\n",
        "    \"\"\"\n",
        "    # pos = nx.spring_layout(G, seed=42)  # 노드 배치 고정\n",
        "    pos = nx.nx_pydot.graphviz_layout(G, prog=\"dot\")  # 노드 배치: 계층적으로 표시\n",
        "\n",
        "    # 원본 그래프 그리기\n",
        "    nx.draw(G, pos, with_labels=True,\n",
        "            node_color=\"lightblue\", node_size=1000, font_size=8)\n",
        "    nx.draw_networkx_edge_labels(G, pos, edge_labels=nx.get_edge_attributes(G, \"weight\"))\n",
        "\n",
        "    # MST 강조하여 그리기\n",
        "    nx.draw_networkx_edges(G, pos, edgelist=mst_edges, edge_color=\"red\", width=2)\n",
        "\n",
        "    plt.title(\"Prim's Algorithm - Minimum Spanning Tree (Red)\")\n",
        "    plt.show()\n",
        "\n",
        "\n",
        "# 실행\n",
        "if __name__ == \"__main__\":\n",
        "\n",
        "    edges = [\n",
        "        ('A','B',25), ('A','D',12), ('B','C',10), ('B','E',15),\n",
        "        ('C','G',16), ('D','E',17), ('D','F',37), ('E','F',14),\n",
        "        ('E','G',19), ('F','G',42)\n",
        "    ]\n",
        "\n",
        "    # 가중치 그래프 생성\n",
        "    G = create_weighted_graph(edges)\n",
        "\n",
        "    # 프림 알고리즘으로 MST 생성\n",
        "    mst = prim_algorithm(G, start_node=\"A\")\n",
        "    print('------')\n",
        "\n",
        "    # MST 경로와 가중치 합 계산\n",
        "    mst_path, mst_weight_sum = calculate_mst_properties(mst)\n",
        "    print(\"MST Path:\", mst_path)\n",
        "    print(\"MST Weight Sum:\", mst_weight_sum)\n",
        "\n",
        "    # 그래프와 MST 시각화\n",
        "    draw_graph_and_mst(G, mst)"
      ],
      "metadata": {
        "id": "dB86Xs6n920k"
      },
      "id": "dB86Xs6n920k",
      "execution_count": null,
      "outputs": []
    },
    {
      "cell_type": "markdown",
      "id": "1553ab14",
      "metadata": {
        "id": "1553ab14"
      },
      "source": [
        "### [예제 9-6] 프림 알고리즘을 이용한 MST 찾기\n",
        "프림 알고리즘을 이용해 다음 그래프에서 최소 스패닝 트리를 찾아라"
      ]
    },
    {
      "cell_type": "code",
      "source": [
        "# 실행\n",
        "if __name__ == \"__main__\":\n",
        "    edges = [\n",
        "        (\"A\", \"C\", 15), (\"A\", \"B\", 8),\n",
        "        (\"B\", \"G\", 10), (\"B\", \"D\", 21),\n",
        "        (\"C\", \"F\", 17), (\"F\", \"G\", 25),\n",
        "        (\"F\", \"E\", 29), (\"G\", \"E\", 23),\n",
        "        (\"D\", \"E\", 27)\n",
        "    ]\n",
        "\n",
        "    # 가중치 그래프 생성\n",
        "    G = create_weighted_graph(edges)\n",
        "\n",
        "    # 프림 알고리즘으로 MST 생성\n",
        "    mst = prim_algorithm(G, start_node=\"A\")\n",
        "    print('------')\n",
        "\n",
        "    # MST 경로와 가중치 합 계산\n",
        "    mst_path, mst_weight_sum = calculate_mst_properties(mst)\n",
        "    print(\"MST Path:\", mst_path)\n",
        "    print(\"MST Weight Sum:\", mst_weight_sum)\n",
        "\n",
        "    # 그래프와 MST 시각화\n",
        "    draw_graph_and_mst(G, mst)\n"
      ],
      "metadata": {
        "id": "E1TrTo8v7JJc"
      },
      "id": "E1TrTo8v7JJc",
      "execution_count": null,
      "outputs": []
    },
    {
      "cell_type": "markdown",
      "source": [
        "- networkx.minimum_spanning_tree() 사용한 프림 알고리즘(Prim's Algorithm)"
      ],
      "metadata": {
        "id": "eFLcxVKWNJCz"
      },
      "id": "eFLcxVKWNJCz"
    },
    {
      "cell_type": "code",
      "source": [
        "def prim_minimum_spanning_tree(G, start_node):\n",
        "    \"\"\"\n",
        "    프림 알고리즘을 사용하여 최소 스패닝 트리(MST) 생성\n",
        "    - G: 가중치 그래프\n",
        "    - start_node: 시작 노드\n",
        "    \"\"\"\n",
        "    # MST 생성\n",
        "    mst = nx.minimum_spanning_tree(G, algorithm=\"prim\")\n",
        "    return mst\n",
        "\n",
        "\n",
        "def calculate_mst_properties_nx(mst):\n",
        "    \"\"\"\n",
        "    MST의 경로와 가중치 합계 계산\n",
        "    - mst: 프림 알고리즘으로 생성된 MST (NetworkX Graph)\n",
        "    \"\"\"\n",
        "    # MST 경로 (간선 리스트)\n",
        "    mst_edges = list(mst.edges(data=True))\n",
        "\n",
        "    # MST 가중치 합계\n",
        "    total_weight = sum(data[\"weight\"] for _, _, data in mst_edges)\n",
        "\n",
        "    # 경로 추출\n",
        "    path = [(u, v) for u, v, data in mst_edges]\n",
        "\n",
        "    return path, total_weight\n",
        "\n",
        "\n",
        "# 실행\n",
        "if __name__ == \"__main__\":\n",
        "\n",
        "    # 프림 알고리즘으로 MST 생성\n",
        "    prim_mst = prim_minimum_spanning_tree(G, start_node=\"A\")\n",
        "    prim_mst_edges = list(prim_mst.edges)\n",
        "    prim_path, prim_total_weight = calculate_mst_properties_nx(prim_mst)\n",
        "    print(\"Prim's MST Path:\", prim_path)\n",
        "    print(\"Prim's MST Total Weight:\", prim_total_weight)\n",
        "\n",
        "    # 그래프와 MST 시각화 (프림 알고리즘)\n",
        "    print(\"\\nVisualizing Prim's MST...\")\n",
        "    draw_graph_and_mst(G, prim_mst_edges)\n"
      ],
      "metadata": {
        "id": "z3U1gEz6J2io"
      },
      "id": "z3U1gEz6J2io",
      "execution_count": null,
      "outputs": []
    },
    {
      "cell_type": "markdown",
      "id": "1993373f",
      "metadata": {
        "id": "1993373f"
      },
      "source": [
        "- 크루스칼 알고리즘(Kruskal Algorithm): networkx.minimum_spanning_tree() 사용"
      ]
    },
    {
      "cell_type": "code",
      "source": [
        "def kruskal_minimum_spanning_tree(G):\n",
        "    \"\"\"\n",
        "    크루스칼 알고리즘을 사용하여 최소 스패닝 트리(MST) 생성\n",
        "    - G: 가중치 그래프\n",
        "    \"\"\"\n",
        "    # MST 생성\n",
        "    mst = nx.minimum_spanning_tree(G, algorithm=\"kruskal\")\n",
        "    return mst\n",
        "\n",
        " # 실행\n",
        "if __name__ == \"__main__\":\n",
        "\n",
        "    # 크루스칼 알고리즘으로 MST 생성\n",
        "    kruskal_mst = kruskal_minimum_spanning_tree(G)\n",
        "    kruskal_mst_edges = list(kruskal_mst.edges)\n",
        "    kruskal_path, kruskal_total_weight = calculate_mst_properties_nx(kruskal_mst)\n",
        "    print(\"\\nKruskal's MST Path:\", kruskal_path)\n",
        "    print(\"Kruskal's MST Total Weight:\", kruskal_total_weight)\n",
        "\n",
        "    # 그래프와 MST 시각화 (크루스칼 알고리즘)\n",
        "    print(\"\\nVisualizing Kruskal's MST...\")\n",
        "    draw_graph_and_mst(G, kruskal_mst_edges)"
      ],
      "metadata": {
        "id": "epg1AK5SPfa4"
      },
      "id": "epg1AK5SPfa4",
      "execution_count": null,
      "outputs": []
    },
    {
      "cell_type": "markdown",
      "source": [
        "### [예제 9-7] 최소 스패닝 트리\n",
        "프림 알고리즘을 이용해 다음 가중치 그래프에서 노드 A로부터의 최소 스패닝 트리와 노드 E로부터의 최소 스패닝 트리를 찾아라."
      ],
      "metadata": {
        "id": "pVb8esi9VWMc"
      },
      "id": "pVb8esi9VWMc"
    },
    {
      "cell_type": "code",
      "source": [
        "if __name__ == \"__main__\":\n",
        "    edges = [\n",
        "        (\"A\", \"C\", 2), (\"C\", \"E\", 5), (\"E\", \"G\", 3),\n",
        "        (\"A\", \"B\", 3), (\"B\", \"D\", 6), (\"D\", \"H\", 2),\n",
        "        (\"B\", \"C\", 3), (\"C\", \"F\", 5),\n",
        "        (\"D\", \"E\", 2), (\"E\", \"F\", 4),\n",
        "        (\"H\", \"G\", 6), (\"G\", \"F\", 4)\n",
        "    ]\n",
        "\n",
        "    for start in [\"A\", \"E\"]:\n",
        "        # 가중치 그래프 생성\n",
        "        G = create_weighted_graph(edges)\n",
        "\n",
        "        # [방법1] : heapq사용 프림 알고리즘으로 MST 생성\n",
        "        mst = prim_algorithm(G, start_node=\"A\")\n",
        "        mst_path, mst_weight_sum = calculate_mst_properties(mst)\n",
        "        print(\"MST Path:\", mst_path)\n",
        "        print(\"MST Weight Sum:\", mst_weight_sum)\n",
        "        print(\"\\nVisualizing Prim's MST...\")\n",
        "        draw_graph_and_mst(G, mst)\n",
        "\n",
        "        # # [방법2] : nx사용 프림 알고리즘으로 MST 생성\n",
        "        # prim_mst = prim_minimum_spanning_tree(G, start_node=start)\n",
        "        # prim_mst_edges = list(prim_mst.edges)\n",
        "        # prim_path, prim_total_weight = calculate_mst_properties_nx(prim_mst)\n",
        "        # print(\"Prim's MST Path:\", prim_path)\n",
        "        # print(\"Prim's MST Total Weight:\", prim_total_weight)\n",
        "        # print(\"\\nVisualizing Prim's MST...\")\n",
        "        # draw_graph_and_mst(G, prim_mst_edges)\n",
        "\n",
        "        # # [방법3] : nx사용 크루스칼 알고리즘으로 MST 생성\n",
        "        # kruskal_mst = kruskal_minimum_spanning_tree(G)\n",
        "        # kruskal_mst_edges = list(kruskal_mst.edges)\n",
        "        # kruskal_path, kruskal_total_weight = calculate_mst_properties_nx(kruskal_mst)\n",
        "        # print(\"\\nKruskal's MST Path:\", kruskal_path)\n",
        "        # print(\"Kruskal's MST Total Weight:\", kruskal_total_weight)\n",
        "        # print(\"\\nVisualizing Kruskal's MST...\")\n",
        "        # draw_graph_and_mst(G, kruskal_mst_edges)"
      ],
      "metadata": {
        "id": "ZI6EcgNoVfyJ"
      },
      "id": "ZI6EcgNoVfyJ",
      "execution_count": null,
      "outputs": []
    },
    {
      "cell_type": "markdown",
      "id": "ba2f887c",
      "metadata": {
        "id": "ba2f887c"
      },
      "source": [
        "-------------------------"
      ]
    },
    {
      "cell_type": "markdown",
      "id": "fcc798f1",
      "metadata": {
        "id": "fcc798f1"
      },
      "source": [
        "## 9-3. 이진 트리와 트리 탐방 알고리즘\n"
      ]
    },
    {
      "cell_type": "markdown",
      "source": [
        "### @이진 트리(binary Tree)\n",
        "- 각 노드의 최대 차수가 2인 트리"
      ],
      "metadata": {
        "id": "-0MYNDIYElFp"
      },
      "id": "-0MYNDIYElFp"
    },
    {
      "cell_type": "markdown",
      "source": [
        "### [예제 9-8] 이진 트리 탐색"
      ],
      "metadata": {
        "id": "JWTFQjAlEwjo"
      },
      "id": "JWTFQjAlEwjo"
    },
    {
      "cell_type": "code",
      "source": [
        "# 테스트 데이터: 무향 그래프\n",
        "T = [(\"A\", \"B\"), (\"B\", \"D\"), (\"B\", \"E\"),(\"D\", \"H\"),\n",
        "     (\"A\", \"C\"), (\"C\", \"F\"), (\"C\", \"G\")\n",
        "    ]\n",
        "\n",
        "# 그래프 생성\n",
        "G = create_graph(T) # 그래프(트리) 생성\n",
        "draw_graph_tree(G)  # 그래프 그리기\n",
        "\n",
        "# 루트 노드 찾기\n",
        "root_node = find_root_node(G)\n",
        "print(\"루트 노드:\", root_node)\n",
        "\n",
        "# 1.잎 노드 찾기\n",
        "leaf_nodes = find_leaf_nodes(G)\n",
        "print(\"잎 노드(리프 노드):\", leaf_nodes)\n",
        "\n",
        "# 2.트리 레벨과 높이 계산\n",
        "result = calculate_level_height(G, root_node, root_node)\n",
        "for node, values in result.items():\n",
        "    print(f\"노드 {node}: 레벨 = {values['level']}, 높이 = {values['height']}\")\n",
        "\n",
        "# 3.특정 노드의 차수\n",
        "for node in G.nodes:\n",
        "    node_degree = get_node_degree_in_tree(G, node, root_node)\n",
        "    print(f\"노드 {node}의 차수:\", node_degree)\n",
        "\n",
        "# 4.특정 노드의 조상 노드\n",
        "ancestors = find_ancestors(G, \"G\")\n",
        "print(\"노드 G의 조상 노드:\", ancestors)"
      ],
      "metadata": {
        "id": "INcEsHJLElOu"
      },
      "id": "INcEsHJLElOu",
      "execution_count": null,
      "outputs": []
    },
    {
      "cell_type": "markdown",
      "source": [
        "- 이진 트리 판별하기"
      ],
      "metadata": {
        "id": "EIrjRdEHJQiq"
      },
      "id": "EIrjRdEHJQiq"
    },
    {
      "cell_type": "code",
      "source": [
        "# 주어진 그래프가 이진 트리인지 판별하기\n",
        "def is_binary_tree(graph):\n",
        "\n",
        "    # 무향 그래프 처리\n",
        "    if isinstance(G, nx.Graph):\n",
        "        # 조건 1: 연결 그래프인지 확인\n",
        "        if not nx.is_connected(G):\n",
        "            return False\n",
        "\n",
        "        # 조건 2: 사이클이 없어야 함\n",
        "        try:\n",
        "            nx.find_cycle(G)\n",
        "            return False  # 사이클이 있으면 트리가 아님\n",
        "        except nx.NetworkXNoCycle:\n",
        "            pass\n",
        "\n",
        "        # 조건 3: 각 노드의 자식 수가 2 이하인지 확인 (DFS 사용)\n",
        "        # - 앞에서 사용한 함수 사용 가능: get_node_degree_in_tree(G, node, root=None)\n",
        "        def dfs(node, parent):\n",
        "            child_count = 0\n",
        "            for neighbor in G.neighbors(node):\n",
        "                if neighbor != parent:  # 부모 노드는 제외\n",
        "                    if not dfs(neighbor, node):\n",
        "                        return False\n",
        "                    child_count += 1\n",
        "                    if child_count > 2:  # 자식 노드가 2개 초과\n",
        "                        return False\n",
        "            return True\n",
        "\n",
        "        # DFS를 시작할 루트 노드 (아무 노드나 선택 가능)\n",
        "        root = list(G.nodes)[0]\n",
        "        if not dfs(root, None):\n",
        "            return False\n",
        "\n",
        "        return True\n",
        "\n",
        "    # 유향 그래프 처리\n",
        "    elif isinstance(G, nx.DiGraph):\n",
        "        # 조건 1: 모든 노드의 자식 수가 2 이하인지 확인\n",
        "        for node in G.nodes:\n",
        "            if G.out_degree(node) > 2:  # 자식 노드 수가 2 초과\n",
        "                return False\n",
        "\n",
        "        # 조건 2: 사이클이 없어야 함\n",
        "        try:\n",
        "            nx.find_cycle(G)\n",
        "            return False  # 사이클이 있으면 트리가 아님\n",
        "        except nx.NetworkXNoCycle:\n",
        "            pass\n",
        "\n",
        "        # 조건 3: 루트 노드가 하나여야 함\n",
        "        root_nodes = [node for node in G.nodes if G.in_degree(node) == 0]\n",
        "        if len(root_nodes) != 1:\n",
        "            return False\n",
        "\n",
        "        return True\n",
        "\n",
        "# 이진 트리 판별\n",
        "if is_binary_tree(G):\n",
        "    print(\"이 그래프는 이진 트리입니다.\")\n",
        "else:\n",
        "    print(\"이 그래프는 이진 트리가 아닙니다.\")"
      ],
      "metadata": {
        "id": "bSVL5qTfH0wx"
      },
      "id": "bSVL5qTfH0wx",
      "execution_count": null,
      "outputs": []
    },
    {
      "cell_type": "markdown",
      "source": [
        "### @완전 이진 트리(complete binary tree)\n",
        "- 트리의 마지막 레벨을 제외한 모든 레벨의 노드의 차수가 2\n",
        "- 마지막 레벨은 노드의 차수가 2가 아니어도 되지만 왼쪽에서 오른쪽으로 차례대로 채워진 트리\n",
        "\n"
      ],
      "metadata": {
        "id": "WmD9xdeqIih2"
      },
      "id": "WmD9xdeqIih2"
    },
    {
      "cell_type": "markdown",
      "source": [
        "### @포화 이진 트리(perfect binary tree)"
      ],
      "metadata": {
        "id": "ndx9cdwcIixZ"
      },
      "id": "ndx9cdwcIixZ"
    },
    {
      "cell_type": "markdown",
      "source": [
        "- 터미널 노드를 제외한 모든 노드가 2개의 자식 노드를 가진 트리\n",
        "- 터미널 노드가 동일한 깊이 or 레벨을 갖는 트리"
      ],
      "metadata": {
        "id": "t4QSxnQnJqK_"
      },
      "id": "t4QSxnQnJqK_"
    },
    {
      "cell_type": "markdown",
      "source": [
        "### @트리 탐방(Tree Traversal) 알고리즘\n"
      ],
      "metadata": {
        "id": "CKVUNMB4SeXr"
      },
      "id": "CKVUNMB4SeXr"
    },
    {
      "cell_type": "markdown",
      "source": [
        "- **트리로 표현된 자료를 선형 순서로 표현하는 방법**\n",
        "    - E.g. : **(A + B) * (C - D)**\n",
        "    - **전위 표기법(prefix)**: 트리로 표현된 자료를 전위 탐방하여 찾은 자료들을 선형으로 나열\n",
        "        - 일반 전위 표기법ordinary prefix : ＊(＋(A, B), －(C, D))\n",
        "        - 케임브리지 폴란드식 표기법Cambridge polish: ＊(＋AB)(－CD))\n",
        "        - 폴란드식 표기법polish : ＊＋AB－CD\n",
        "        \n",
        "    - **후위 표기법(postfix)**: 후위 탐방하여 찾은 자료들을 선형으로 나열\n",
        "        - 역 폴란드식 표기법(reverse polish)이라고 하며, 피연산자를 먼저 쓰고 다음에 연산자를 쓰는 방법\n",
        "        - A B＋ C D－＊\n",
        "    - **중위 표기법(infix)**: 중위 탐방하여 찾은 자료들을 선형으로 나열\n",
        "        - 이진 연산에서만 적당한 표현 방법으로 피연산자와 피연산자 사이에 연산자를 표현하는 방법\n",
        "        - A＋B＊C－D\n"
      ],
      "metadata": {
        "id": "0K8_R8HWEidq"
      },
      "id": "0K8_R8HWEidq"
    },
    {
      "cell_type": "markdown",
      "source": [
        "- **트리 탐방 알고리즘**: 트리에서 필요한 자료를 찾고자 할 때 사용되는 알고리즘\n",
        "    - **전위 탐방(preorder)**: preorder traversal\n",
        "    - **후위 탐방(postorder)**: postorder traversal\n",
        "    - **중위 탐방(inorder)**: inorder traversal"
      ],
      "metadata": {
        "id": "loNhbnt6UARS"
      },
      "id": "loNhbnt6UARS"
    },
    {
      "cell_type": "markdown",
      "source": [
        "### [예제 9-9] 트리 탐방\n",
        "- [그림 9-9]에 있는 트리를 전위 탐방, 중위 탐방, 후위 탐방 방법으로 탐방해서 결과를 전위 표기법, 중위 표기법, 후위 표기법으로 표현하라.\n",
        "- (A + B) * (C - D)"
      ],
      "metadata": {
        "id": "C7hQ7j7fUmJ-"
      },
      "id": "C7hQ7j7fUmJ-"
    },
    {
      "cell_type": "code",
      "source": [
        "from anytree import Node as AnyNode, RenderTree\n",
        "from anytree.exporter import DotExporter\n",
        "from IPython.display import Image, display\n",
        "\n",
        "\n",
        "# 노드 클래스 (탐방용 트리)\n",
        "class Node:\n",
        "    def __init__(self, item):\n",
        "        self.item = item\n",
        "        self.left = None\n",
        "        self.right = None\n",
        "\n",
        "\n",
        "# 이진 트리 클래스\n",
        "class BinaryTree:\n",
        "    def __init__(self):\n",
        "        self.root = None\n",
        "        self.anytree_root = None  # 시각화를 위한 anytree 루트 노드\n",
        "\n",
        "    # 전위 순회: VLR (Root -> Left -> Right)\n",
        "    def preorder(self, node):\n",
        "        if node is not None:\n",
        "            print(node.item, '', end='') # 루트 방문\n",
        "            self.preorder(node.left)     # 왼쪽 서브트리\n",
        "            self.preorder(node.right)    # 오른쪽 서브트리\n",
        "\n",
        "    # 중위 순회: LVR (Left -> Root -> Right)\n",
        "    def inorder(self, node):\n",
        "        if node is not None:\n",
        "            if node.left:\n",
        "                print('(', end='')  # 왼쪽 서브트리 괄호 시작\n",
        "                self.inorder(node.left)\n",
        "            print(node.item, '', end='') # 루트 방문\n",
        "            if node.right:\n",
        "                self.inorder(node.right)\n",
        "                print(')', end='')  # 오른쪽 서브트리 괄호 닫기\n",
        "\n",
        "    # 후위 순회: LRV (Left -> Right -> Root)\n",
        "    def postorder(self, node):\n",
        "        if node is not None:\n",
        "            self.postorder(node.left)    # 왼쪽 서브트리\n",
        "            self.postorder(node.right)   # 오른쪽 서브트리\n",
        "            print(node.item, '', end='') # 루트 방문\n",
        "\n",
        "\n",
        "    # 트리를 시각화 (anytree 활용)\n",
        "    def visualize(self):\n",
        "        if self.anytree_root is None:\n",
        "            raise ValueError(\"시각화를 위해 먼저 AnyTree 트리를 생성해야 합니다.\")\n",
        "        DotExporter(self.anytree_root).to_picture(\"tree.png\")\n",
        "        display(Image(filename=\"tree.png\"))\n",
        "\n",
        "    # anytree 트리 생성\n",
        "    def build_anytree(self, node, parent=None):\n",
        "        anytree_node = AnyNode(node.item, parent=parent)  # anytree 노드 생성\n",
        "        if parent is None:\n",
        "            self.anytree_root = anytree_node  # 루트 노드 설정\n",
        "        if node.left:\n",
        "            self.build_anytree(node.left, anytree_node)  # 왼쪽 서브트리\n",
        "        if node.right:\n",
        "            self.build_anytree(node.right, anytree_node)  # 오른쪽 서브트리\n",
        "        return anytree_node\n",
        "\n",
        "\n",
        "# 산술식을 트리 형태로 구성\n",
        "n1 = Node('*')  # 루트 연산자\n",
        "n2 = Node('+')  # 왼쪽 서브트리 연산자\n",
        "n3 = Node('-')  # 오른쪽 서브트리 연산자\n",
        "n4 = Node('A')  # 왼쪽 서브트리 피연산자\n",
        "n5 = Node('B')  # 왼쪽 서브트리 피연산자\n",
        "n6 = Node('C')  # 오른쪽 서브트리 피연산자\n",
        "n7 = Node('D')  # 오른쪽 서브트리 피연산자\n",
        "\n",
        "# 순서에 맞게 노드 연결\n",
        "tree = BinaryTree()\n",
        "tree.root= n1\n",
        "n1.left  = n2\n",
        "n1.right = n3\n",
        "n2.left  = n4\n",
        "n2.right = n5\n",
        "n3.left  = n6\n",
        "n3.right = n7\n",
        "\n",
        "# 탐방 결과 출력\n",
        "print(\"전위 표기법 (Preorder): \", end='')\n",
        "tree.preorder(tree.root)\n",
        "print()\n",
        "\n",
        "print(\"중위 표기법 (Inorder): \", end='')\n",
        "tree.inorder(tree.root)\n",
        "print()\n",
        "\n",
        "print(\"후위 표기법 (Postorder): \", end='')\n",
        "tree.postorder(tree.root)\n",
        "print()\n",
        "\n",
        "# anytree 트리 생성 및 시각화\n",
        "tree.build_anytree(tree.root)  # anytree 트리 빌드\n",
        "tree.visualize()  # 트리 시각화\n"
      ],
      "metadata": {
        "id": "KAP176ttb5gb"
      },
      "id": "KAP176ttb5gb",
      "execution_count": null,
      "outputs": []
    },
    {
      "cell_type": "markdown",
      "id": "48921d6a",
      "metadata": {
        "id": "48921d6a"
      },
      "source": [
        "### [예제9-10] 트리 탐방 알고리즘\n",
        "- 대수식 ((a - b) * c - (d / e)) * f  를 트리로 표현하고, 트리에서 전위 탐방, 중위 탐방, 후위 탐방을 해서 전위 표기법, 중위 표기법, 후위 표기법으로 표현하라."
      ]
    },
    {
      "cell_type": "code",
      "source": [
        "# 트리 구성\n",
        "# ((a - b) * c - (d / e)) * f\n",
        "n1 = Node('*')  # 루트: 최종 곱셈\n",
        "n2 = Node('-')  # 왼쪽 서브트리\n",
        "n3 = Node('f')  # 오른쪽 서브트리 피연산자\n",
        "n4 = Node('*')  # 왼쪽 서브트리의 첫 번째 곱셈\n",
        "n5 = Node('-')  # a - b\n",
        "n6 = Node('c')  # c\n",
        "n7 = Node('/')  # d / e\n",
        "n8 = Node('a')  # a\n",
        "n9 = Node('b')  # b\n",
        "n10 = Node('d') # d\n",
        "n11 = Node('e') # e\n",
        "\n",
        "# 트리 연결\n",
        "tree = BinaryTree()\n",
        "tree.root = n1\n",
        "n1.left = n2\n",
        "n1.right = n3\n",
        "n2.left = n4\n",
        "n2.right = n7\n",
        "n4.left = n5\n",
        "n4.right = n6\n",
        "n5.left = n8\n",
        "n5.right = n9\n",
        "n7.left = n10\n",
        "n7.right = n11\n",
        "\n",
        "# 탐방 결과 출력\n",
        "print(\"전위 표기법 (Preorder): \", end='')\n",
        "tree.preorder(tree.root)\n",
        "print()\n",
        "\n",
        "print(\"중위 표기법 (Inorder): \", end='')\n",
        "tree.inorder(tree.root)\n",
        "print()\n",
        "\n",
        "print(\"후위 표기법 (Postorder): \", end='')\n",
        "tree.postorder(tree.root)\n",
        "print()\n",
        "\n",
        "# anytree 트리 생성 및 시각화\n",
        "tree.build_anytree(tree.root)  # anytree 트리 빌드\n",
        "tree.visualize()  # 트리 시각화"
      ],
      "metadata": {
        "id": "OlqscvnDEkNk"
      },
      "id": "OlqscvnDEkNk",
      "execution_count": null,
      "outputs": []
    },
    {
      "cell_type": "markdown",
      "source": [
        "### [예제] 산술수식 계산 트리\n",
        "- 트리 기반의 산술 계산에서는 **후위 탐방(Postorder Traversal) 방식이 가장 효과적**입니다.\n",
        "- 이유는 후위 순회가 계산에 필요한 연산자와 피연산자의 처리를 자연스럽게 지원하기 때문\n",
        "- ((10 - 5) * 2 - (3 / 2)) * 4"
      ],
      "metadata": {
        "id": "rCXyRtdQkL0o"
      },
      "id": "rCXyRtdQkL0o"
    },
    {
      "cell_type": "code",
      "source": [
        "class Node:\n",
        "    def __init__(self, item):\n",
        "        self.item = item\n",
        "        self.left = None\n",
        "        self.right = None\n",
        "\n",
        "\n",
        "class ExpressionTree:\n",
        "    def __init__(self):\n",
        "        self.root = None\n",
        "\n",
        "    # 전위 순회: VLR (Root -> Left -> Right)\n",
        "    def preorder(self, node):\n",
        "        if node is not None:\n",
        "            print(node.item, '', end='')  # 루트 방문\n",
        "            self.preorder(node.left)    # 왼쪽 서브트리\n",
        "            self.preorder(node.right)   # 오른쪽 서브트리\n",
        "\n",
        "    # 중위 순회: LVR (Left -> Root -> Right)\n",
        "    def inorder(self, node):\n",
        "        if node is not None:\n",
        "            if node.left:\n",
        "                print('(', end='')  # 괄호 시작\n",
        "                self.inorder(node.left)\n",
        "            print(node.item, '', end='')  # 루트 방문\n",
        "            if node.right:\n",
        "                self.inorder(node.right)\n",
        "                print(')', end='')  # 괄호 닫기\n",
        "\n",
        "    # 후위 순회: LRV (Left -> Right -> Root)\n",
        "    def postorder(self, node):\n",
        "        if node is not None:\n",
        "            self.postorder(node.left)   # 왼쪽 서브트리\n",
        "            self.postorder(node.right)  # 오른쪽 서브트리\n",
        "            print(node.item, '', end='')  # 루트 방문\n",
        "\n",
        "    # 후위 순회 기반 계산\n",
        "    def calculate(self, node):\n",
        "        if node is not None:\n",
        "            if node.item.isdigit():  # 피연산자일 경우\n",
        "                return int(node.item)\n",
        "            else:  # 연산자일 경우\n",
        "                left_value = self.calculate(node.left)  # 왼쪽 서브트리 값\n",
        "                right_value = self.calculate(node.right)  # 오른쪽 서브트리 값\n",
        "\n",
        "                # 연산자에 따른 계산\n",
        "                if node.item == '+':\n",
        "                    return left_value + right_value\n",
        "                elif node.item == '-':\n",
        "                    return left_value - right_value\n",
        "                elif node.item == '*':\n",
        "                    return left_value * right_value\n",
        "                elif node.item == '/':\n",
        "                    return left_value / right_value\n",
        "\n",
        "\n",
        "# 트리 구성\n",
        "# ((10 - 5) * 2 - (3 / 2)) * 4\n",
        "n1 = Node('*')  # 루트: 최종 곱셈\n",
        "n2 = Node('-')  # 왼쪽 서브트리\n",
        "n3 = Node('4')  # 오른쪽 서브트리 피연산자\n",
        "n4 = Node('*')  # 왼쪽 서브트리의 첫 번째 곱셈\n",
        "n5 = Node('-')  # 10 - 5\n",
        "n6 = Node('2')  # 곱할 값\n",
        "n7 = Node('/')  # 3 / 2\n",
        "n8 = Node('10') # 10\n",
        "n9 = Node('5')  # 5\n",
        "n10 = Node('3') # 3\n",
        "n11 = Node('2') # 2\n",
        "\n",
        "# 트리 연결\n",
        "tree = ExpressionTree()\n",
        "tree.root = n1\n",
        "n1.left = n2\n",
        "n1.right = n3\n",
        "n2.left = n4\n",
        "n2.right = n7\n",
        "n4.left = n5\n",
        "n4.right = n6\n",
        "n5.left = n8\n",
        "n5.right = n9\n",
        "n7.left = n10\n",
        "n7.right = n11\n",
        "\n",
        "# 탐방 결과 출력\n",
        "print(\"전위 순회 (Preorder): \", end='')\n",
        "tree.preorder(tree.root)\n",
        "print()\n",
        "\n",
        "print(\"중위 순회 (Inorder): \", end='')\n",
        "tree.inorder(tree.root)\n",
        "print()\n",
        "\n",
        "print(\"후위 순회 (Postorder): \", end='')\n",
        "tree.postorder(tree.root)\n",
        "print()\n",
        "\n",
        "# 계산 결과\n",
        "result = tree.calculate(tree.root)\n",
        "print(\"\\n산술식의 계산 결과: \", result)\n"
      ],
      "metadata": {
        "id": "S8N97oARkMCo"
      },
      "id": "S8N97oARkMCo",
      "execution_count": null,
      "outputs": []
    },
    {
      "cell_type": "markdown",
      "id": "bbed5cc4",
      "metadata": {
        "id": "bbed5cc4"
      },
      "source": [
        "---------------------------"
      ]
    },
    {
      "cell_type": "markdown",
      "id": "b7caf5e7",
      "metadata": {
        "id": "b7caf5e7"
      },
      "source": [
        "THE END"
      ]
    }
  ],
  "metadata": {
    "kernelspec": {
      "display_name": "Python 3 (ipykernel)",
      "language": "python",
      "name": "python3"
    },
    "language_info": {
      "codemirror_mode": {
        "name": "ipython",
        "version": 3
      },
      "file_extension": ".py",
      "mimetype": "text/x-python",
      "name": "python",
      "nbconvert_exporter": "python",
      "pygments_lexer": "ipython3",
      "version": "3.12.1"
    },
    "colab": {
      "provenance": [],
      "toc_visible": true,
      "include_colab_link": true
    }
  },
  "nbformat": 4,
  "nbformat_minor": 5
}